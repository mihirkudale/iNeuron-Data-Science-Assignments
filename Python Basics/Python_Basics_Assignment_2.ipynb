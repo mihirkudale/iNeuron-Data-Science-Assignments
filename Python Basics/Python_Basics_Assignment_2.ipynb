{
 "cells": [
  {
   "cell_type": "markdown",
   "metadata": {
    "id": "kEkGc8D7wood"
   },
   "source": [
    "# Assignment 2 Solutions"
   ]
  },
  {
   "cell_type": "markdown",
   "metadata": {
    "id": "TCGPC_bZxK5z"
   },
   "source": [
    "**SUBMITTED BY: MIHIR KUDALE**"
   ]
  },
  {
   "cell_type": "markdown",
   "metadata": {
    "id": "SnI4GXMnwoog"
   },
   "source": [
    "#### 1.What are the two values of the boolean data types? how do you write them ?\n",
    "**Ans**: Two values of the boolen data types are `True` and `False`. We have to use capital T and F and with the rest of the word in lowercase. The type() of both False and True is bool. The type bool is built in, meaning it’s always available in Python and doesn’t need to be imported. However, the name itself isn’t a keyword in the language. "
   ]
  },
  {
   "cell_type": "code",
   "execution_count": 1,
   "metadata": {
    "id": "UllQ0iEewooh",
    "outputId": "ebca6815-8793-4f9b-f042-e35e7c08b64c"
   },
   "outputs": [
    {
     "name": "stdout",
     "output_type": "stream",
     "text": [
      "True <class 'bool'>\n",
      "False <class 'bool'>\n"
     ]
    }
   ],
   "source": [
    "a=True\n",
    "b=False\n",
    "print(a,type(a))\n",
    "print(b,type(b))"
   ]
  },
  {
   "cell_type": "markdown",
   "metadata": {
    "id": "jNFLWoVzwooj"
   },
   "source": [
    "#### 2. What are the three different types of Boolean operators?\n",
    "**Ans**: Boolean operators form the basis of mathematical sets and database logic. They connect our search words together to either narrow or broaden our set of results.The three differnt types of Boolean operators in python are:  `are`, `and`, `not`\n",
    "Example: a>40 and b>40"
   ]
  },
  {
   "cell_type": "code",
   "execution_count": 2,
   "metadata": {
    "colab": {
     "base_uri": "https://localhost:8080/"
    },
    "id": "LWn40gOBwook",
    "outputId": "12370a72-2faf-470b-c808-ecada6d7be32"
   },
   "outputs": [
    {
     "name": "stdout",
     "output_type": "stream",
     "text": [
      "True\n",
      "True\n",
      "False\n"
     ]
    }
   ],
   "source": [
    "a=1000\n",
    "b=2000\n",
    "print(a>500 and b>1000) # Example of boolean and\n",
    "print(a>200 or b>1000) # Example of boolean or\n",
    "print(not(a>11)) # Example of boolean not"
   ]
  },
  {
   "cell_type": "markdown",
   "metadata": {
    "id": "WdAY2Kffwool"
   },
   "source": [
    "#### 3. Make a list of each Boolean operator's truth tables (i.e. every possible combination of Boolean values for the operator and what it evaluate)\n",
    "**Ans:** The Truth tables for the boolean tables are as follows:  \n",
    "* **Truth Table for `and` operator**  \n",
    "    True and True --> True   \n",
    "    True and False --> False  \n",
    "    False and True --> False  \n",
    "    False and False --> False\n",
    "    \n",
    "    \n",
    "* **Truth Table for `or` operator**  \n",
    "    True or True --> True   \n",
    "    True or False --> True  \n",
    "    False or True --> True  \n",
    "    False or False --> False\n",
    "    \n",
    "    \n",
    "* **Truth Table for `not` operator**        \n",
    "    True not --> False\n",
    "    False not --> True"
   ]
  },
  {
   "cell_type": "markdown",
   "metadata": {
    "id": "8B0mmuAzwool"
   },
   "source": [
    "#### 4. What are the values of the following expressions ?\n",
    "* (5 &gt; 4) and (3 == 5)  \n",
    "* not (5 &gt; 4)  \n",
    "* (5 &gt; 4) or (3 == 5)  \n",
    "* not ((5 &gt; 4) or (3 == 5))  \n",
    "* (True and True) and (True == False)  \n",
    "* (not False) or (not True)  \n",
    "\n",
    "**Ans:**"
   ]
  },
  {
   "cell_type": "code",
   "execution_count": 3,
   "metadata": {
    "colab": {
     "base_uri": "https://localhost:8080/"
    },
    "id": "9_QgdOXFwool",
    "outputId": "ca4934ca-5080-4c0e-8c96-6445853d71c4"
   },
   "outputs": [
    {
     "name": "stdout",
     "output_type": "stream",
     "text": [
      "False\n",
      "False\n",
      "True\n",
      "False\n",
      "False\n",
      "True\n"
     ]
    }
   ],
   "source": [
    "print((5>4)and(3==5)) # False\n",
    "print(not(5>4)) # False\n",
    "print((5>4)or(3==5)) # True\n",
    "print(not((5>4)or(3==5))) # False\n",
    "print((True and True)and(True==False)) # False\n",
    "print((not False)or(not True)) # True"
   ]
  },
  {
   "cell_type": "markdown",
   "metadata": {
    "id": "4mHJXeinwoom"
   },
   "source": [
    "#### 5. What are the six comparison operators?\n",
    "**Ans:**  The Six Comparision Operators available in python are:  \n",
    "`==` , `!=` , `<` , `>` , `<=` , `=>`"
   ]
  },
  {
   "cell_type": "markdown",
   "metadata": {
    "id": "m_un-hfmwoon"
   },
   "source": [
    "#### 6. How do you tell the difference between the equal to and assignment operators? Describe a condition and when you would use one? \n",
    "**Ans:** `==` is the equal to operator that compares two values and evaluates to a Boolean, while `=` is that assignment operator that stores a value in a variable.\n"
   ]
  },
  {
   "cell_type": "code",
   "execution_count": 4,
   "metadata": {
    "colab": {
     "base_uri": "https://localhost:8080/"
    },
    "id": "b8hwjHynwooo",
    "outputId": "ce9ff082-3138-4de0-c303-a307eaab4ca3"
   },
   "outputs": [
    {
     "name": "stdout",
     "output_type": "stream",
     "text": [
      "False\n"
     ]
    }
   ],
   "source": [
    "b=10 # Assigning operator that stores 3 value in a variable a\n",
    "if b==10:#comparing values of a varible value and 3\n",
    "    print(b==3)  "
   ]
  },
  {
   "cell_type": "markdown",
   "metadata": {
    "id": "pCX6yZ40woop"
   },
   "source": [
    "#### 7. Identify the three blocks in this code:\n",
    "spam = 0  \n",
    "if spam == 10:  \n",
    "print('eggs')  \n",
    "if spam > 5:  \n",
    "print('bacon')  \n",
    "else:  \n",
    "print('ham')  \n",
    "print('spam')  \n",
    "print('spam')\n",
    "\n",
    "**Ans**: In Python, code block refers to a collection of code that is in the same block or indent. This is most commonly found in classes, functions, and loops.\n",
    "Answer for the question is:\n",
    "\n",
    "ham\n",
    "\n",
    "spam\n",
    "\n",
    "spam"
   ]
  },
  {
   "cell_type": "code",
   "execution_count": 5,
   "metadata": {
    "colab": {
     "base_uri": "https://localhost:8080/"
    },
    "id": "gRyvCknhwoop",
    "outputId": "5f1360bc-2351-472a-f2b9-c6b5387fdf27"
   },
   "outputs": [
    {
     "name": "stdout",
     "output_type": "stream",
     "text": [
      "ham\n",
      "spam\n",
      "spam\n"
     ]
    }
   ],
   "source": [
    "spam = 0  \n",
    "if spam == 10:  \n",
    "    print('eggs')  # block #1\n",
    "if spam > 5:  \n",
    "    print('bacon')  # block #2\n",
    "else:  \n",
    "    print('ham')  # block #3\n",
    "print('spam')  \n",
    "print('spam')"
   ]
  },
  {
   "cell_type": "markdown",
   "metadata": {
    "id": "jD9jsttZwoop"
   },
   "source": [
    "#### 8. Write code that prints Hello if 1 is stored in spam, prints Howdy if 2 is stored in spam, and prints Greetings! if anything else is stored in spam.\n",
    "\n",
    "**Ans:**"
   ]
  },
  {
   "cell_type": "code",
   "execution_count": 6,
   "metadata": {
    "colab": {
     "base_uri": "https://localhost:8080/"
    },
    "id": "u98RtAqSwoop",
    "outputId": "f032333c-e51e-4970-f648-79c68f437bf5"
   },
   "outputs": [
    {
     "name": "stdout",
     "output_type": "stream",
     "text": [
      "Howdy\n",
      "Greetings\n",
      "Hello\n"
     ]
    }
   ],
   "source": [
    "def spamCode(spam):\n",
    "    if spam==1:\n",
    "        print('Hello')\n",
    "    elif spam==2:\n",
    "        print('Howdy')\n",
    "    else:\n",
    "        print('Greetings')\n",
    "        \n",
    "spamCode(2) \n",
    "spamCode(3)\n",
    "spamCode(1)"
   ]
  },
  {
   "cell_type": "markdown",
   "metadata": {
    "id": "vlJRJr35wooq"
   },
   "source": [
    "#### 9.If your programme is stuck in an endless loop, what keys you’ll press?\n",
    "**Ans:**  To stop a program stuck in an infinite loop, we press `Ctrl-c`."
   ]
  },
  {
   "cell_type": "markdown",
   "metadata": {
    "id": "k4ZVzID_wooq"
   },
   "source": [
    "#### 10. How can you tell the difference between break and continue?\n",
    "**Ans:** The `break` statement will move the execution outside the loop if break condtion is satisfied whereas the `continue` statement will move the execution to the start of the loop. Example of break and continue is mentioned below:"
   ]
  },
  {
   "cell_type": "code",
   "execution_count": 7,
   "metadata": {
    "colab": {
     "base_uri": "https://localhost:8080/"
    },
    "id": "LkvU_Hmw0kOC",
    "outputId": "616df1ed-1146-49d3-981a-639bdee4645a"
   },
   "outputs": [
    {
     "name": "stdout",
     "output_type": "stream",
     "text": [
      "s\n",
      "t\n",
      "r\n",
      "The end\n"
     ]
    }
   ],
   "source": [
    "# Use of break statement inside the loop\n",
    "\n",
    "for val in \"string\":\n",
    "    if val == \"i\":\n",
    "        break\n",
    "    print(val)\n",
    "\n",
    "print(\"The end\")"
   ]
  },
  {
   "cell_type": "code",
   "execution_count": 8,
   "metadata": {
    "colab": {
     "base_uri": "https://localhost:8080/"
    },
    "id": "0oafA0Az0wys",
    "outputId": "af7721dc-c32d-451c-c358-ce3713f65cd9"
   },
   "outputs": [
    {
     "name": "stdout",
     "output_type": "stream",
     "text": [
      "s\n",
      "t\n",
      "r\n",
      "n\n",
      "g\n",
      "The end\n"
     ]
    }
   ],
   "source": [
    "# Program to show the use of continue statement inside loops\n",
    "\n",
    "for val in \"string\":\n",
    "    if val == \"i\":\n",
    "        continue\n",
    "    print(val)\n",
    "\n",
    "print(\"The end\")"
   ]
  },
  {
   "cell_type": "markdown",
   "metadata": {
    "id": "fuh_pNv1woor"
   },
   "source": [
    "#### 11. In a for loop, what is the difference between range(10), range(0, 10), and range(0, 10, 1)?\n",
    "**Ans:** The Differences are as follows:  \n",
    "1. The _**range(10)**_ call range from 0 to 9 (but not include 10)  \n",
    "2. The _**range (0,10)**_ explicitly tells the loop to start at 0  \n",
    "3. The _**range(0,10,1)**_ explicitly tells the loop to increase the variable by 1 on each iteration   "
   ]
  },
  {
   "cell_type": "code",
   "execution_count": 9,
   "metadata": {
    "colab": {
     "base_uri": "https://localhost:8080/"
    },
    "id": "TkDOB6e81v2T",
    "outputId": "229ee69e-2610-408e-da70-076bcbf8e9f7"
   },
   "outputs": [
    {
     "name": "stdout",
     "output_type": "stream",
     "text": [
      "0 1 2 3 4 5 6 7 8 9 \n"
     ]
    }
   ],
   "source": [
    "# printing a number\n",
    "for i in range(10):\n",
    "    print(i, end=\" \")\n",
    "print()"
   ]
  },
  {
   "cell_type": "code",
   "execution_count": 10,
   "metadata": {
    "colab": {
     "base_uri": "https://localhost:8080/"
    },
    "id": "eRkoV3wn1ziQ",
    "outputId": "7bf4d0ae-f08d-48e4-bf55-e5acb5f4aa9f"
   },
   "outputs": [
    {
     "name": "stdout",
     "output_type": "stream",
     "text": [
      "Sum of numbers : 45\n"
     ]
    }
   ],
   "source": [
    "# performing sum of numbers\n",
    "sum = 0\n",
    "for i in range(0, 10):\n",
    "    sum = sum + i\n",
    "print(\"Sum of numbers :\", sum)"
   ]
  },
  {
   "cell_type": "code",
   "execution_count": 11,
   "metadata": {
    "colab": {
     "base_uri": "https://localhost:8080/"
    },
    "id": "BgeNa-DV197A",
    "outputId": "da1422aa-ca3d-4a81-de5b-f18646c2eeea"
   },
   "outputs": [
    {
     "name": "stdout",
     "output_type": "stream",
     "text": [
      "Sum of numbers : 45\n"
     ]
    }
   ],
   "source": [
    "# performing sum of numbers\n",
    "sum = 0\n",
    "for i in range(0, 10, 1):\n",
    "    sum = sum + i\n",
    "print(\"Sum of numbers :\", sum)"
   ]
  },
  {
   "cell_type": "markdown",
   "metadata": {
    "id": "-jqAGZSkwoor"
   },
   "source": [
    "#### 12. Write a short program that prints the numbers 1 to 10 using a for loop. Then write an equivalent program that prints the numbers 1 to 10 using a while loop? \n",
    "\n",
    "**Ans:**"
   ]
  },
  {
   "cell_type": "code",
   "execution_count": 12,
   "metadata": {
    "colab": {
     "base_uri": "https://localhost:8080/"
    },
    "id": "tJiuqYwcwoor",
    "outputId": "8d69dfcb-ca3b-48ef-fa2f-61b7adb8d38f"
   },
   "outputs": [
    {
     "name": "stdout",
     "output_type": "stream",
     "text": [
      "---------- Using For Loop ----------\n",
      "1 2 3 4 5 6 7 8 9 10 \n",
      "\n",
      "---------- Using While Loop ----------\n",
      "1 2 3 4 5 6 7 8 9 10 "
     ]
    }
   ],
   "source": [
    "print('-'*10,'Using For Loop','-'*10)\n",
    "for i in range(1,11):\n",
    "    print(i, end=\" \")\n",
    "print('\\n')\n",
    "print('-'*10,'Using While Loop','-'*10) \n",
    "i=1\n",
    "while i<=10:\n",
    "    print(i, end=\" \")\n",
    "    i+=1"
   ]
  },
  {
   "cell_type": "markdown",
   "metadata": {
    "id": "WashWw-pwoos"
   },
   "source": [
    "#### 13. If you had a function named bacon() inside a module named spam, how would you call it after importing spam?\n",
    "**Ans:** This function can be called with `spam.bacon()`"
   ]
  }
 ],
 "metadata": {
  "colab": {
   "collapsed_sections": [],
   "name": "Python Basics Assignment_2.ipynb",
   "provenance": []
  },
  "kernelspec": {
   "display_name": "Python 3 (ipykernel)",
   "language": "python",
   "name": "python3"
  },
  "language_info": {
   "codemirror_mode": {
    "name": "ipython",
    "version": 3
   },
   "file_extension": ".py",
   "mimetype": "text/x-python",
   "name": "python",
   "nbconvert_exporter": "python",
   "pygments_lexer": "ipython3",
   "version": "3.9.12"
  }
 },
 "nbformat": 4,
 "nbformat_minor": 1
}
