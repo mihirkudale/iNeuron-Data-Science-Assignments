{
 "cells": [
  {
   "cell_type": "markdown",
   "id": "0ee32ac3",
   "metadata": {},
   "source": [
    "**1. What are the two values of the Boolean data type? How do you write them?**"
   ]
  },
  {
   "cell_type": "markdown",
   "id": "970f0f7a",
   "metadata": {},
   "source": [
    "**Ans:** True and False are two values of the boolen data types. We have to use capital T and F with the rest of the word in lowercase."
   ]
  },
  {
   "cell_type": "code",
   "execution_count": 1,
   "id": "7121254f",
   "metadata": {},
   "outputs": [
    {
     "name": "stdout",
     "output_type": "stream",
     "text": [
      "True <class 'bool'>\n",
      "False <class 'bool'>\n"
     ]
    }
   ],
   "source": [
    "x=True\n",
    "y=False\n",
    "print(x,type(x))\n",
    "print(y,type(y))"
   ]
  },
  {
   "cell_type": "markdown",
   "id": "aedf0cd2",
   "metadata": {},
   "source": [
    "**2. What are the three different types of Boolean operators?**"
   ]
  },
  {
   "cell_type": "markdown",
   "id": "9deae955",
   "metadata": {},
   "source": [
    "**Ans:** The are three different types of boolean operators in python,they are: \n",
    "         \n",
    "         or and not\n",
    "         \n",
    "   **Example:**"
   ]
  },
  {
   "cell_type": "code",
   "execution_count": 2,
   "id": "737609a8",
   "metadata": {},
   "outputs": [
    {
     "name": "stdout",
     "output_type": "stream",
     "text": [
      "True\n",
      "True\n",
      "False\n"
     ]
    }
   ],
   "source": [
    "l=400\n",
    "m=500\n",
    "print(l>300 and m>400) # Example of boolean and\n",
    "print(l>500 or m>400) # Example of boolean or\n",
    "print(not(l>10)) # Example of boolean not"
   ]
  },
  {
   "cell_type": "markdown",
   "id": "987190f2",
   "metadata": {},
   "source": [
    "**3. Make a list of each Boolean operator's truth tables (i.e. every possible combination of Boolean values for the operator and what it evaluate).?**"
   ]
  },
  {
   "cell_type": "markdown",
   "id": "ec45af2c",
   "metadata": {},
   "source": [
    "**Ans:** The Truth tables for the boolean tables are as follows:\n",
    "\n",
    "* **Truth Table for and operator**\n",
    "\n",
    "True and True is True\n",
    "\n",
    "True and False is False\n",
    "\n",
    "False and True is False\n",
    "\n",
    "False and False is False\n",
    "\n",
    "* **Truth Table for or operator**\n",
    "\n",
    "True or True is True\n",
    "\n",
    "True or False is True\n",
    "\n",
    "False or True is True\n",
    "\n",
    "False or False is False\n",
    "\n",
    "* **Truth Table for not operator**\n",
    "\n",
    "True not is False \n",
    "\n",
    "False not is True"
   ]
  },
  {
   "cell_type": "markdown",
   "id": "a206b014",
   "metadata": {},
   "source": [
    "**4. What are the values of the following expressions?**\n",
    "\n",
    "* **(5 > 4) and (3 == 5)**\n",
    "\n",
    "* **not (5 > 4)**\n",
    "\n",
    "* **(5 > 4) or (3 == 5)**\n",
    "\n",
    "* **not ((5 > 4) or (3 == 5))**\n",
    "\n",
    "* **(True and True) and (True == False)**\n",
    "\n",
    "* **(not False) or (not True)**"
   ]
  },
  {
   "cell_type": "markdown",
   "id": "93cc52a0",
   "metadata": {},
   "source": [
    "**Ans:** "
   ]
  },
  {
   "cell_type": "code",
   "execution_count": 3,
   "id": "8faeb4f0",
   "metadata": {},
   "outputs": [
    {
     "name": "stdout",
     "output_type": "stream",
     "text": [
      "False\n",
      "False\n",
      "True\n",
      "False\n",
      "False\n",
      "True\n"
     ]
    }
   ],
   "source": [
    "print((5 > 4)and(3 == 5)) # False\n",
    "print(not(5 > 4)) # False\n",
    "print((5 > 4)or(3 == 5)) # True\n",
    "print(not((5 > 4)or(3 == 5))) # False\n",
    "print((True and True)and(True == False)) # False\n",
    "print((not False)or(not True)) # True"
   ]
  },
  {
   "cell_type": "markdown",
   "id": "aa8957d6",
   "metadata": {},
   "source": [
    "**5. What are the six comparison operators?**"
   ]
  },
  {
   "cell_type": "markdown",
   "id": "480520fa",
   "metadata": {},
   "source": [
    "**Ans:**The Six comparision operators available in python are:\n",
    "\n",
    "== , != , < , > , <= , >="
   ]
  },
  {
   "cell_type": "markdown",
   "id": "2c14a576",
   "metadata": {},
   "source": [
    "**==** (Equal)\n",
    "\n",
    "**Example**\n",
    "\n",
    "a == b\n",
    "\n",
    "**!=** (Not equal)\n",
    "\n",
    "**Example**\n",
    "\n",
    "a != b\n",
    "\n",
    "**>** (Greater than)\n",
    "\n",
    "**Example**\n",
    "\n",
    "a > b\n",
    "\n",
    "**<** (Less than)\n",
    "\n",
    "**Example**\n",
    "\n",
    "a < b\n",
    "\n",
    "**>=** (Greater than or equal to)\n",
    "\n",
    "**Example**\n",
    "\n",
    "a >= b\n",
    "\n",
    "**<=** (Less than or equal to)\n",
    "\n",
    "**Example**\n",
    "\n",
    "a <= b"
   ]
  },
  {
   "cell_type": "markdown",
   "id": "97cc4dd5",
   "metadata": {},
   "source": [
    "**6. How do you tell the difference between the equal to and assignment operators ? Describe a condition and when you would use one.**"
   ]
  },
  {
   "cell_type": "markdown",
   "id": "627da125",
   "metadata": {},
   "source": [
    "**Ans:** == is the equal to operator that compares two values and evaluates to a Boolean, while = is that assignment operator that stores a value in a variable.\n",
    "\n",
    "**Example**"
   ]
  },
  {
   "cell_type": "code",
   "execution_count": 4,
   "id": "f7c91b74",
   "metadata": {},
   "outputs": [
    {
     "name": "stdout",
     "output_type": "stream",
     "text": [
      "True\n"
     ]
    }
   ],
   "source": [
    "#Assigning operator that stores 8 value in a variable x\n",
    "x=8\n",
    "#comparing values of a varible value and 8\n",
    "if x==8:\n",
    "    print(x==8)  "
   ]
  },
  {
   "cell_type": "markdown",
   "id": "caa56ea7",
   "metadata": {},
   "source": [
    "**7. Identify the three blocks in this code:**\n",
    "\n",
    "**spam = 0**\n",
    "\n",
    "**if spam == 10:**\n",
    "\n",
    "**print('eggs')**\n",
    "\n",
    "**if spam > 5:**\n",
    "\n",
    "**print('bacon')**\n",
    "\n",
    "**else:**\n",
    "\n",
    "**print('ham')**\n",
    "\n",
    "**print('spam')**\n",
    "\n",
    "**print('spam')**"
   ]
  },
  {
   "cell_type": "markdown",
   "id": "9fbe64c5",
   "metadata": {},
   "source": [
    "**Ans:** In Python, code block refers to a collection of code that is in the same block or indent. This is most commonly found in classes, functions, and loops."
   ]
  },
  {
   "cell_type": "code",
   "execution_count": 5,
   "id": "3525dd32",
   "metadata": {},
   "outputs": [
    {
     "name": "stdout",
     "output_type": "stream",
     "text": [
      "ham\n",
      "spam\n",
      "spam\n"
     ]
    }
   ],
   "source": [
    "spam = 0  \n",
    "if spam == 10:  \n",
    "    print('eggs')  # block #1\n",
    "if spam > 5:  \n",
    "    print('bacon')  # block #2\n",
    "else:  \n",
    "    print('ham')  # block #3\n",
    "    print('spam')  \n",
    "    print('spam')"
   ]
  },
  {
   "cell_type": "markdown",
   "id": "4ac1c448",
   "metadata": {},
   "source": [
    "**8. Write code that prints Hello if 1 is stored in spam, prints Howdy if 2 is stored in spam, and prints Greetings! if anything else is stored in spam.**"
   ]
  },
  {
   "cell_type": "markdown",
   "id": "8d4b6d86",
   "metadata": {},
   "source": [
    "**Ans:** "
   ]
  },
  {
   "cell_type": "code",
   "execution_count": 6,
   "id": "0fbfcf1e",
   "metadata": {},
   "outputs": [
    {
     "name": "stdout",
     "output_type": "stream",
     "text": [
      "Hello\n",
      "Howdy\n",
      "Greetings\n"
     ]
    }
   ],
   "source": [
    "def Code(spam):\n",
    "    if spam==1:\n",
    "        print('Hello')\n",
    "    elif spam==2:\n",
    "        print('Howdy')\n",
    "    else:\n",
    "        print('Greetings')\n",
    "        \n",
    "Code(1) \n",
    "Code(2)\n",
    "Code(3)"
   ]
  },
  {
   "cell_type": "markdown",
   "id": "67125034",
   "metadata": {},
   "source": [
    "**9. If your programme is stuck in an endless loop, what keys you’ll press?**"
   ]
  },
  {
   "cell_type": "markdown",
   "id": "523ce28c",
   "metadata": {},
   "source": [
    "**Ans:** Press Ctrl+C to stop a program stuck in an infinite loop>"
   ]
  },
  {
   "cell_type": "markdown",
   "id": "c5c6ae9c",
   "metadata": {},
   "source": [
    "**10. How can you tell the difference between break and continue?**\n",
    "\n",
    "**Ans:** The break statement will move the execution outside the loop if break condtion is satisfied. Whereas the continue statement will move the execution to the start of the loop."
   ]
  },
  {
   "cell_type": "code",
   "execution_count": 7,
   "id": "5d9bcd83",
   "metadata": {},
   "outputs": [
    {
     "name": "stdout",
     "output_type": "stream",
     "text": [
      "Sam\n",
      "Counter is 0\n",
      "Program Complete\n",
      "Shreyan\n",
      "Counter is 1\n",
      "Program Complete\n"
     ]
    }
   ],
   "source": [
    "students = [\"Sam\", \"Shreyan\", \"Ekta\", \"Mihir\"]\n",
    "\n",
    "for student in range(0, len(students)):\n",
    "    if student == 2:\n",
    "        break\n",
    "    else:\n",
    "        print(students[student])\n",
    "        \n",
    "        print(\"Counter is \" + str(student))\n",
    "        \n",
    "        print(\"Program Complete\")"
   ]
  },
  {
   "cell_type": "code",
   "execution_count": 8,
   "id": "8abfc40c",
   "metadata": {},
   "outputs": [
    {
     "name": "stdout",
     "output_type": "stream",
     "text": [
      "Sam\n",
      "Counter is 0\n",
      "Program Complete\n",
      "Shreyan\n",
      "Counter is 1\n",
      "Program Complete\n",
      "Mihir\n",
      "Counter is 3\n",
      "Program Complete\n"
     ]
    }
   ],
   "source": [
    "students = [\"Sam\", \"Shreyan\", \"Ekta\", \"Mihir\"]\n",
    "\n",
    "for student in range(0, len(students)):\n",
    "    if student == 2:\n",
    "        continue\n",
    "    else:\n",
    "        print(students[student])\n",
    "\n",
    "        print(\"Counter is \" + str(student))\n",
    "        \n",
    "        print(\"Program Complete\")"
   ]
  },
  {
   "cell_type": "markdown",
   "id": "7fd664ec",
   "metadata": {},
   "source": [
    "**11. In a for loop, what is the difference between range(10), range(0, 10), and range(0, 10, 1)?**\n",
    "\n",
    "**Ans:** The Differences are as follows:\n",
    "\n",
    "The range(10) call range from 0 to 9 (but not include 10)\n",
    "\n",
    "The range (0,10) explicitly tells the loop to start at 0\n",
    "\n",
    "The range(0,10,1) explicitly tells the loop to increase the variable by 1 on each iteration"
   ]
  },
  {
   "cell_type": "markdown",
   "id": "edc2a397",
   "metadata": {},
   "source": [
    "**12. Write a short program that prints the numbers 1 to 10 using a for loop. Then write an equivalent program that prints the numbers 1 to 10 using a while loop ?**"
   ]
  },
  {
   "cell_type": "code",
   "execution_count": 9,
   "id": "2e1e4910",
   "metadata": {},
   "outputs": [
    {
     "name": "stdout",
     "output_type": "stream",
     "text": [
      "----- Using For Loop -----\n",
      "1 2 3 4 5 6 7 8 9 10 \n",
      "\n",
      "----- Using While Loop -----\n",
      "1 2 3 4 5 6 7 8 9 10 "
     ]
    }
   ],
   "source": [
    "print('-'*5,'Using For Loop','-'*5)\n",
    "for x in range(1,11):\n",
    "    print(x, end=\" \")\n",
    "print('\\n')\n",
    "print('-'*5,'Using While Loop','-'*5) \n",
    "x=1\n",
    "while x<=10:\n",
    "    print(x, end=\" \")\n",
    "    x+=1"
   ]
  },
  {
   "cell_type": "markdown",
   "id": "9406ffb1",
   "metadata": {},
   "source": [
    "**13. If you had a function named bacon() inside a module named spam, how would you call it after importing spam ?**"
   ]
  },
  {
   "cell_type": "markdown",
   "id": "0f854030",
   "metadata": {},
   "source": [
    "**Ans:**This function can be called with spam.bacon()"
   ]
  }
 ],
 "metadata": {
  "kernelspec": {
   "display_name": "Python 3 (ipykernel)",
   "language": "python",
   "name": "python3"
  },
  "language_info": {
   "codemirror_mode": {
    "name": "ipython",
    "version": 3
   },
   "file_extension": ".py",
   "mimetype": "text/x-python",
   "name": "python",
   "nbconvert_exporter": "python",
   "pygments_lexer": "ipython3",
   "version": "3.9.12"
  }
 },
 "nbformat": 4,
 "nbformat_minor": 5
}
