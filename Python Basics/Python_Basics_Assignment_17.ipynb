{
 "cells": [
  {
   "cell_type": "markdown",
   "id": "13b7e725",
   "metadata": {
    "id": "13b7e725"
   },
   "source": [
    "# Assignment 17 Solutions"
   ]
  },
  {
   "cell_type": "markdown",
   "id": "Zq_01Bc4HtZm",
   "metadata": {
    "id": "Zq_01Bc4HtZm"
   },
   "source": [
    "**SUBMITTED BY: MIHIR KUDALE**"
   ]
  },
  {
   "cell_type": "markdown",
   "id": "0b1c9422",
   "metadata": {
    "id": "0b1c9422"
   },
   "source": [
    "#### 1. Assign the value 7 to the variable guess_me. Then, write the conditional tests (if, else, and elif) to print the string 'too low' if guess_me is less than 7, 'too high' if greater than 7, and 'just right' if equal to 7."
   ]
  },
  {
   "cell_type": "code",
   "execution_count": 1,
   "id": "9bd36b65",
   "metadata": {
    "colab": {
     "base_uri": "https://localhost:8080/"
    },
    "id": "9bd36b65",
    "outputId": "514c1462-f5ac-47af-90d6-bbffc5e79a47"
   },
   "outputs": [
    {
     "name": "stdout",
     "output_type": "stream",
     "text": [
      "just Right\n",
      "too Low\n",
      "too High\n"
     ]
    }
   ],
   "source": [
    "def guess_me(guess_me):\n",
    "    if guess_me < 7:\n",
    "        print('too Low')\n",
    "    elif guess_me > 7:\n",
    "        print('too High')\n",
    "    else:\n",
    "        print('just Right')\n",
    "\n",
    "guess_me(guess_me=7)\n",
    "guess_me(guess_me=5)\n",
    "guess_me(guess_me=15)"
   ]
  },
  {
   "cell_type": "markdown",
   "id": "4726a300",
   "metadata": {
    "id": "4726a300"
   },
   "source": [
    "#### 2. Assign the value 7 to the variable guess_me and the value 1 to the variable start. Write a while loop that compares start with guess_me. Print too low if start is less than guess me. If start equals guess_me, print 'found it!' and exit the loop. If start is greater than guess_me, print 'oops' and exit the loop. Increment start at the end of the loop"
   ]
  },
  {
   "cell_type": "code",
   "execution_count": null,
   "id": "455c37de",
   "metadata": {
    "colab": {
     "base_uri": "https://localhost:8080/"
    },
    "id": "455c37de",
    "outputId": "5ec8bca4-b976-42fe-966e-13b2a0f909da"
   },
   "outputs": [
    {
     "name": "stdout",
     "output_type": "stream",
     "text": [
      "too low\n",
      "too low\n",
      "too low\n",
      "too low\n",
      "too low\n",
      "too low\n",
      "found it\n"
     ]
    }
   ],
   "source": [
    "guess_me = 7\n",
    "start = 1\n",
    "while True:\n",
    "    if start < guess_me:\n",
    "        print('too low')\n",
    "    elif start == guess_me:\n",
    "        print('found it')\n",
    "        break\n",
    "    else:\n",
    "        print('oops')\n",
    "        break\n",
    "    start += 1"
   ]
  },
  {
   "cell_type": "markdown",
   "id": "22fe6aee",
   "metadata": {
    "id": "22fe6aee"
   },
   "source": [
    "#### 3. Print the following values of the list [3, 2, 1, 0] using a for loop."
   ]
  },
  {
   "cell_type": "code",
   "execution_count": null,
   "id": "c1b70fcb",
   "metadata": {
    "colab": {
     "base_uri": "https://localhost:8080/"
    },
    "id": "c1b70fcb",
    "outputId": "03081384-fd7c-425b-9af9-7eec8046f1e1"
   },
   "outputs": [],
   "source": [
    "in_list = [3,2,1,0]\n",
    "for ele in in_list:\n",
    "    print(ele)"
   ]
  },
  {
   "cell_type": "markdown",
   "id": "b3e4fe5e",
   "metadata": {
    "id": "b3e4fe5e"
   },
   "source": [
    "#### 4. Use a list comprehension to make a list of the even numbers in range(10)"
   ]
  },
  {
   "cell_type": "code",
   "execution_count": null,
   "id": "c8fa10ff",
   "metadata": {
    "colab": {
     "base_uri": "https://localhost:8080/"
    },
    "id": "c8fa10ff",
    "outputId": "61312dc2-6b28-47a3-cf85-695e19924e42"
   },
   "outputs": [],
   "source": [
    "print([x for x in range(10+1) if x%2==0 ])"
   ]
  },
  {
   "cell_type": "markdown",
   "id": "692f5e50",
   "metadata": {
    "id": "692f5e50"
   },
   "source": [
    "#### 5. Use a dictionary comprehension to create the dictionary squares. Use range(10) to return the keys, and use the square of each key as its value."
   ]
  },
  {
   "cell_type": "code",
   "execution_count": null,
   "id": "98e03632",
   "metadata": {
    "colab": {
     "base_uri": "https://localhost:8080/"
    },
    "id": "98e03632",
    "outputId": "2f6d7bb5-077c-4271-8c43-3616fd967d8c"
   },
   "outputs": [],
   "source": [
    "# Method 1\n",
    "print(dict([(x,pow(x,2)) for x in range(10)]))\n",
    "# Method 2\n",
    "print({x:x**2 for x in range(10)})"
   ]
  },
  {
   "cell_type": "markdown",
   "id": "898769b5",
   "metadata": {
    "id": "898769b5"
   },
   "source": [
    "#### 6. Construct the set odd from the odd numbers in the range using a set comprehension (10)."
   ]
  },
  {
   "cell_type": "code",
   "execution_count": null,
   "id": "844a0f4b",
   "metadata": {
    "colab": {
     "base_uri": "https://localhost:8080/"
    },
    "id": "844a0f4b",
    "outputId": "f2ca3430-66e4-41dd-a2d0-0316af52dd68"
   },
   "outputs": [],
   "source": [
    "print({x for x in range(10) if x%2 !=0})"
   ]
  },
  {
   "cell_type": "markdown",
   "id": "37ac8a77",
   "metadata": {
    "id": "37ac8a77"
   },
   "source": [
    "#### 7. Use a generator comprehension to return the string 'Got ' and a number for the numbers in range(10). Iterate through this by using a for loop"
   ]
  },
  {
   "cell_type": "code",
   "execution_count": null,
   "id": "5158d350",
   "metadata": {
    "colab": {
     "base_uri": "https://localhost:8080/"
    },
    "id": "5158d350",
    "outputId": "5726fa49-15b1-436c-f245-647a52b34a8c"
   },
   "outputs": [],
   "source": [
    "gen_com = ('Got_'+str(x) for x in range(10))\n",
    "for ele in gen_com:\n",
    "    print(ele, end=' ')"
   ]
  },
  {
   "cell_type": "markdown",
   "id": "dffeae83",
   "metadata": {
    "id": "dffeae83"
   },
   "source": [
    "#### 8. Define a function called good that returns the list ['Harry', 'Ron', 'Hermione']."
   ]
  },
  {
   "cell_type": "code",
   "execution_count": null,
   "id": "ee59ee83",
   "metadata": {
    "colab": {
     "base_uri": "https://localhost:8080/"
    },
    "id": "ee59ee83",
    "outputId": "ce611dfe-78a6-4fbd-c348-81729036995a"
   },
   "outputs": [],
   "source": [
    "def good():\n",
    "    x =  ['Harry', 'Ron', 'Hermione']\n",
    "    return x\n",
    "print(good())"
   ]
  },
  {
   "cell_type": "markdown",
   "id": "9c22791a",
   "metadata": {
    "id": "9c22791a"
   },
   "source": [
    "#### 9. Define a generator function called get_odds that returns the odd numbers from range(10). Use a for loop to find and print the third value returned."
   ]
  },
  {
   "cell_type": "code",
   "execution_count": null,
   "id": "d86ab546",
   "metadata": {
    "colab": {
     "base_uri": "https://localhost:8080/"
    },
    "id": "d86ab546",
    "outputId": "072c0963-eb4c-49d3-a431-a34ab1376115"
   },
   "outputs": [],
   "source": [
    "def get_odds():\n",
    "    output = []\n",
    "    for ele in range(10):\n",
    "        if ele%2 != 0:\n",
    "            output.append(ele)\n",
    "    yield output\n",
    "\n",
    "next(get_odds())[2]"
   ]
  },
  {
   "cell_type": "markdown",
   "id": "e5cd8259",
   "metadata": {
    "id": "e5cd8259"
   },
   "source": [
    "#### 10. Define an exception called OopsException. Raise this exception to see what happens. Then write the code to catch this exception and print 'Caught an oops'."
   ]
  },
  {
   "cell_type": "code",
   "execution_count": null,
   "id": "3670b71d",
   "metadata": {
    "colab": {
     "base_uri": "https://localhost:8080/"
    },
    "id": "3670b71d",
    "outputId": "b3a20869-9975-49bc-d789-6544d9bda58f"
   },
   "outputs": [],
   "source": [
    "class OopsException(Exception):\n",
    "    pass\n",
    "\n",
    "def test(input):\n",
    "    if input <0:\n",
    "        raise OopsException(a)\n",
    "try:\n",
    "    test(-100)\n",
    "except Exception as e:\n",
    "    print('Caught in Oops ->',e)"
   ]
  },
  {
   "cell_type": "markdown",
   "id": "6693ea2c",
   "metadata": {
    "id": "6693ea2c"
   },
   "source": [
    "#### 11. Use zip() to make a dictionary called movies that pairs these lists: titles = ['Creature of Habit', 'Crewel Fate'] and plots = ['A nun turns into a monster', 'A haunted yarn shop']."
   ]
  },
  {
   "cell_type": "code",
   "execution_count": null,
   "id": "c7da478c",
   "metadata": {
    "colab": {
     "base_uri": "https://localhost:8080/"
    },
    "id": "c7da478c",
    "outputId": "f634a1df-f39f-4c5e-fef3-fcbe5f30cd72"
   },
   "outputs": [],
   "source": [
    "titles = ['Creature of Habit', 'Crewel Fate']\n",
    "plots = ['A nun turns into a monster', 'A haunted yarn shop']\n",
    "output = dict(zip(titles,plots))\n",
    "print(output)"
   ]
  },
  {
   "cell_type": "code",
   "execution_count": null,
   "id": "fMqTNJHqH4tf",
   "metadata": {
    "id": "fMqTNJHqH4tf"
   },
   "outputs": [],
   "source": []
  }
 ],
 "metadata": {
  "colab": {
   "collapsed_sections": [],
   "name": "Python Basics Assignment_17.ipynb",
   "provenance": []
  },
  "kernelspec": {
   "display_name": "Python 3 (ipykernel)",
   "language": "python",
   "name": "python3"
  },
  "language_info": {
   "codemirror_mode": {
    "name": "ipython",
    "version": 3
   },
   "file_extension": ".py",
   "mimetype": "text/x-python",
   "name": "python",
   "nbconvert_exporter": "python",
   "pygments_lexer": "ipython3",
   "version": "3.9.12"
  }
 },
 "nbformat": 4,
 "nbformat_minor": 5
}
