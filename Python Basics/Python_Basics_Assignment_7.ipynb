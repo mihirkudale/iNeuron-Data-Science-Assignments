{
 "cells": [
  {
   "cell_type": "markdown",
   "metadata": {
    "id": "16GUaTzpUW0r"
   },
   "source": [
    "# Assignment 7 Solutions"
   ]
  },
  {
   "cell_type": "markdown",
   "metadata": {
    "id": "SJtiU51XUhMi"
   },
   "source": [
    "**SUBMITTED BY: MIHIR KUDALE**"
   ]
  },
  {
   "cell_type": "markdown",
   "metadata": {
    "id": "_g5p8YOaUW0u"
   },
   "source": [
    "#### 1. What is the name of the feature responsible for generating Regex objects?\n",
    "**Ans:** **`re.compile()`** is the feature responsible for  generation of Regex objects. In simple terms, We can compile a regular expression into a regex object to look for occurrences of the same pattern inside various target strings without rewriting it."
   ]
  },
  {
   "cell_type": "code",
   "execution_count": 1,
   "metadata": {
    "colab": {
     "base_uri": "https://localhost:8080/"
    },
    "id": "UUcwwa1HUW0w",
    "outputId": "3964e08c-dfd3-44a8-8c7b-981fd7ef5735"
   },
   "outputs": [
    {
     "name": "stdout",
     "output_type": "stream",
     "text": [
      "re.compile('some_random_pattern')\n"
     ]
    }
   ],
   "source": [
    "import re\n",
    "x = re.compile(\"some_random_pattern\")\n",
    "type(x)\n",
    "print(x)"
   ]
  },
  {
   "cell_type": "markdown",
   "metadata": {
    "id": "yqHhkX9oUW0y"
   },
   "source": [
    "#### 2. Why do raw strings often appear in Regex objects?\n",
    "**Ans:** Regular expressions use the backslash character `('\\')` to indicate special forms `(Metacharacters)` or to allow special characters `(speical sequences)` to be used  without invoking their special meaning. This collides with Python’s usage of the same character for the same purpose in string literals. Hence, Raw strings are used (e.g. r\"\\n\") so that backslashes do not have to be escaped."
   ]
  },
  {
   "cell_type": "markdown",
   "metadata": {
    "id": "hjkNMwpFUW0z"
   },
   "source": [
    "#### 3. What is the return value of the search() method?\n",
    "**Ans:** The return value of `re.search(pattern,string)` method is a match object if the pattern is observed in the string else it returns a None"
   ]
  },
  {
   "cell_type": "code",
   "execution_count": 2,
   "metadata": {
    "colab": {
     "base_uri": "https://localhost:8080/"
    },
    "id": "b3GQxyMIUW00",
    "outputId": "3db63de4-9cd1-4042-e4b1-1d54c60b97e3"
   },
   "outputs": [
    {
     "name": "stdout",
     "output_type": "stream",
     "text": [
      "Output: <re.Match object; span=(8, 9), match='I'>\n",
      "Output: None\n"
     ]
    }
   ],
   "source": [
    "import re\n",
    "match = re.search('i','Awesome Ineuron Full Stack Data Science Program', flags=re.IGNORECASE)\n",
    "print('Output:',match)\n",
    "match = re.search('Z','Awesome Ineuron Full Stack Data Science Program', flags=re.IGNORECASE)\n",
    "print('Output:',match)"
   ]
  },
  {
   "cell_type": "markdown",
   "metadata": {
    "id": "XdKrCqZ2UW01"
   },
   "source": [
    "#### 4. From a Match item, how do you get the actual strings that match the pattern?\n",
    "**Ans:** For Matched items `group()` methods returns actual strings that match the pattern"
   ]
  },
  {
   "cell_type": "code",
   "execution_count": 3,
   "metadata": {
    "colab": {
     "base_uri": "https://localhost:8080/"
    },
    "id": "upKyLSONUW02",
    "outputId": "dff10b81-6bfc-4178-da0a-3e053f9a32b8"
   },
   "outputs": [
    {
     "name": "stdout",
     "output_type": "stream",
     "text": [
      "Output: Awesome\n"
     ]
    }
   ],
   "source": [
    "import re\n",
    "match = re.search('Awesome','Awesome Ineuron Full Stack Data Science Program', flags=re.IGNORECASE)\n",
    "print('Output:',match.group())"
   ]
  },
  {
   "cell_type": "markdown",
   "metadata": {
    "id": "4Zhwhk9NUW03"
   },
   "source": [
    "#### 5. In the regex which created from the r'(\\d\\d\\d)-(\\d\\d\\d-\\d\\d\\d\\d)', what does group zero cover? Group 2? Group 1?\n",
    "**Ans:** In the Regex **`r'(\\d\\d\\d)-(\\d\\d\\d-\\d\\d\\d\\d)'`** the zero group covers the entire pattern match where as the first group cover **`(\\d\\d\\d)`** and the second group cover **`(\\d\\d\\d-\\d\\d\\d\\d)`**"
   ]
  },
  {
   "cell_type": "code",
   "execution_count": 4,
   "metadata": {
    "colab": {
     "base_uri": "https://localhost:8080/"
    },
    "id": "jqLuT62uUW05",
    "outputId": "a50870de-e0e1-4391-f8f7-6b5f9d05f463"
   },
   "outputs": [
    {
     "name": "stdout",
     "output_type": "stream",
     "text": [
      "('123', '456-7891')\n",
      "123-456-7891\n",
      "123\n",
      "456-7891\n"
     ]
    }
   ],
   "source": [
    "# Example Program\n",
    "import re\n",
    "phoneNumRegex = re.compile(r'(\\d\\d\\d)-(\\d\\d\\d-\\d\\d\\d\\d)')\n",
    "mo = phoneNumRegex.search('My number is 123-456-7891.')\n",
    "print(mo.groups()) # Prints all groups in a tuple format\n",
    "print(mo.group()) # Always returns the fully matched string \n",
    "print(mo.group(1)) # Returns the first group\n",
    "print(mo.group(2)) # Returns the second group"
   ]
  },
  {
   "cell_type": "markdown",
   "metadata": {
    "id": "PaBzkqfFUW07"
   },
   "source": [
    "#### 6. In standard expression syntax, parentheses and intervals have distinct meanings. How can you tell a regex that you want it to fit real parentheses and periods?\n",
    "**Ans:** The **`\\.`** **`\\(`** and **`\\)`** escape characters in the raw string passed to re.compile() will match actual parenthesis characters."
   ]
  },
  {
   "cell_type": "code",
   "execution_count": 5,
   "metadata": {
    "colab": {
     "base_uri": "https://localhost:8080/"
    },
    "id": "yT5bHfxwUW08",
    "outputId": "83277733-4874-4229-c5b9-25c6ff8677d0"
   },
   "outputs": [
    {
     "name": "stdout",
     "output_type": "stream",
     "text": [
      "(123) 456-7891\n"
     ]
    }
   ],
   "source": [
    "# Example Program\n",
    "import re\n",
    "phoneNumRegex = re.compile(r'(\\(\\d\\d\\d\\)) (\\d\\d\\d-\\d\\d\\d\\d)')\n",
    "mo = phoneNumRegex.search('My phone number is (123) 456-7891.')\n",
    "print(mo.group())"
   ]
  },
  {
   "cell_type": "markdown",
   "metadata": {
    "id": "Jr0QIyiLUW08"
   },
   "source": [
    "#### 7. The findall() method returns a string list or a list of string tuples. What causes it to return one of the two options?\n",
    "**Ans:** If the regex pattern has no groups, a list of strings matched is returned. if the regex pattern has groups, a list of tuple of strings is returned."
   ]
  },
  {
   "cell_type": "code",
   "execution_count": 6,
   "metadata": {
    "colab": {
     "base_uri": "https://localhost:8080/"
    },
    "id": "8-FBShI2UW0-",
    "outputId": "c80b107c-872c-4f41-d107-e9ea7dc1b9d9"
   },
   "outputs": [
    {
     "name": "stdout",
     "output_type": "stream",
     "text": [
      "[('(123)', '456-7891')]\n",
      "['123-456-7891']\n"
     ]
    }
   ],
   "source": [
    "# Example Program\n",
    "import re\n",
    "phoneNumRegex = re.compile(r'(\\(\\d\\d\\d\\)) (\\d\\d\\d-\\d\\d\\d\\d)')\n",
    "mo = phoneNumRegex.findall('My phone number is (123) 456-7891')\n",
    "print(mo)\n",
    "\n",
    "# Example Program\n",
    "import re\n",
    "phoneNumRegex = re.compile(r'\\d{3}-\\d{3}-\\d{4}')\n",
    "mo = phoneNumRegex.findall('My number is 123-456-7891.')\n",
    "print(mo) # Prints all groups in a tuple format"
   ]
  },
  {
   "cell_type": "markdown",
   "metadata": {
    "id": "1OypN7b7UW0_"
   },
   "source": [
    "#### 8. In standard expressions, what does the | character mean?\n",
    "**Ans:** In Standard Expressions `|` means `OR` operator."
   ]
  },
  {
   "cell_type": "markdown",
   "metadata": {
    "id": "yGPXmg7CUW1C"
   },
   "source": [
    "#### 9. In regular expressions, what does the `?` character stand for?\n",
    "**Ans:** In regular Expressions, `?` characters represents zero or one match of the preceeding group."
   ]
  },
  {
   "cell_type": "code",
   "execution_count": 7,
   "metadata": {
    "colab": {
     "base_uri": "https://localhost:8080/"
    },
    "id": "nIqi7rZuUW1E",
    "outputId": "b01142f0-c6ea-41f3-e35c-e25813f03b83"
   },
   "outputs": [
    {
     "name": "stdout",
     "output_type": "stream",
     "text": [
      "<re.Match object; span=(0, 9), match='Spiderman'>\n",
      "<re.Match object; span=(0, 11), match='Spiderwoman'>\n"
     ]
    }
   ],
   "source": [
    "# Example Program\n",
    "import re\n",
    "match_1 = re.search(\"Spider(wo)?man\",\"Spiderman returns\")\n",
    "print(match_1)\n",
    "match_2 = re.search(\"Spider(wo)?man\",\"Spiderwoman returns\")\n",
    "print(match_2)"
   ]
  },
  {
   "cell_type": "markdown",
   "metadata": {
    "id": "zk1s_miIUW1G"
   },
   "source": [
    "#### 10.In regular expressions, what is the difference between the + and * characters?\n",
    "**Ans:** In Regular Expressions, `*` Represents Zero ore more occurances of the preceeding group, whereas `+` represents one or more occurances of the preceeding group."
   ]
  },
  {
   "cell_type": "code",
   "execution_count": 8,
   "metadata": {
    "colab": {
     "base_uri": "https://localhost:8080/"
    },
    "id": "oBPHZx_TUW1H",
    "outputId": "b572c2e3-ed12-44a2-f7f9-0375db8f08cf"
   },
   "outputs": [
    {
     "name": "stdout",
     "output_type": "stream",
     "text": [
      "<re.Match object; span=(0, 9), match='Spiderman'>\n",
      "None\n"
     ]
    }
   ],
   "source": [
    "import re\n",
    "match_1 = re.search(\"Spider(wo)*man\",\"Spiderman returns\")\n",
    "print(match_1)\n",
    "match_2 = re.search(\"Spider(wo)+man\",\"Spiderman returns\")\n",
    "print(match_2)"
   ]
  },
  {
   "cell_type": "markdown",
   "metadata": {
    "id": "jH_yBm9AUW1I"
   },
   "source": [
    "#### 11. What is the difference between {4} and {4,5} in regular expression?\n",
    "**Ans:** `{4}` means that its preceeding group should repeat 4 times. where as `{4,5}` means that its preceeding group should repeat mininum 4 times and maximum 5 times inclusively"
   ]
  },
  {
   "cell_type": "code",
   "execution_count": 9,
   "metadata": {
    "colab": {
     "base_uri": "https://localhost:8080/"
    },
    "id": "4gam3mNPUW1J",
    "outputId": "ad9a2684-ea28-4baf-8e53-6e7c11f45ce2"
   },
   "outputs": [
    {
     "name": "stdout",
     "output_type": "stream",
     "text": [
      "iNeuroniNeuroniNeuron\n",
      "None\n"
     ]
    }
   ],
   "source": [
    "import re\n",
    "haRegex = re.compile(r'(iNeuron){3}')\n",
    "mo1 = haRegex.search('iNeuroniNeuroniNeuron')\n",
    "mo2 = haRegex.search('iNeuron')\n",
    "print(mo1.group())\n",
    "print(mo2)"
   ]
  },
  {
   "cell_type": "markdown",
   "metadata": {
    "id": "E41VThM_UW1K"
   },
   "source": [
    "#### 12. What do you mean by the \\d, \\w, and \\s shorthand character classes signify in regular expressions?\n",
    "**Ans:** \\d, \\w and \\s are special sequences in regular expresssions in python:\n",
    "1. **`\\w`** – Matches a word character equivalent to [a-zA-Z0-9_]\n",
    "2. **`\\d`** – Matches digit character equivalent to [0-9]\n",
    "3. **`\\s`** – Matches whitespace character (space, tab, newline, etc.)"
   ]
  },
  {
   "cell_type": "markdown",
   "metadata": {
    "id": "rRXTnDMCUW1M"
   },
   "source": [
    "#### 13. What do means by \\D, \\W, and \\S shorthand character classes signify in regular expressions?\n",
    "**Ans:** \\D, \\W and \\S are special sequences in regular expresssions in python:\n",
    "1. **`\\W`** – Matches any non-alphanumeric character equivalent to [^a-zA-Z0-9_]\n",
    "2. **`\\D`** – Matches any non-digit character, this is equivalent to the set class [^0-9]\n",
    "3. **`\\S`** – Matches any non-whitespace character"
   ]
  },
  {
   "cell_type": "markdown",
   "metadata": {
    "id": "Do0uf2tEUW1M"
   },
   "source": [
    "#### 14. What is the difference between `.*?` and `.*`?\n",
    "**Ans:** **`.*`** is a Greedy mode, which returns the longest string that meets the condition. Whereas **`.*?`** is a non greedy mode which returns the shortest string that meets the condition."
   ]
  },
  {
   "cell_type": "markdown",
   "metadata": {
    "id": "hWArocJ-UW1M"
   },
   "source": [
    "#### 15. What is the syntax for matching both numbers and lowercase letters with a character class?\n",
    "**Ans:** The Synatax is Either **`[a-z0-9]`** or **`[0-9a-z]`**"
   ]
  },
  {
   "cell_type": "markdown",
   "metadata": {
    "id": "rhgk5AC2UW1N"
   },
   "source": [
    "#### 16. What is the procedure for making a normal expression in regax case insensitive?\n",
    "**Ans:** We can pass **`re.IGNORECASE`** as a flag to make a normal expression case insensitive"
   ]
  },
  {
   "cell_type": "markdown",
   "metadata": {
    "id": "9JmeBThbUW1P"
   },
   "source": [
    "#### 17. What does the . character normally match? What does it match if re.DOTALL is passed as 2nd argument in re.compile()?\n",
    "**Ans:** \n",
    "Dot **`.`** character matches everything in input except newline character **`.`**. By passing **`re.DOTALL`** as a flag to **`re.compile()`**, you can make the dot character match all characters, including the newline character."
   ]
  },
  {
   "cell_type": "markdown",
   "metadata": {
    "id": "EaOshdbSUW1R"
   },
   "source": [
    "#### 18. If numReg = re.compile(r'\\d+'), what will numRegex.sub('X', '11 drummers, 10 pipers, five rings, 4 hen') return?\n",
    "**Ans:** The Ouput will be **`'X drummers, X pipers, five rings, X hen'`**"
   ]
  },
  {
   "cell_type": "code",
   "execution_count": 10,
   "metadata": {
    "id": "GVpfLu9sUW1S",
    "outputId": "28d9f118-7cde-483a-f9e4-d3e3f611f535"
   },
   "outputs": [
    {
     "data": {
      "text/plain": [
       "'X drummers, X pipers, five rings, X hen'"
      ]
     },
     "execution_count": 10,
     "metadata": {},
     "output_type": "execute_result"
    }
   ],
   "source": [
    "import re\n",
    "numReg = re.compile(r'\\d+')\n",
    "numReg.sub('X', '11 drummers, 10 pipers, five rings, 4 hen')"
   ]
  },
  {
   "cell_type": "markdown",
   "metadata": {
    "id": "AERS8v23UW1T"
   },
   "source": [
    "#### 19. What does passing re.VERBOSE as the 2nd argument to re.compile() allow to do?\n",
    "**Ans:** **`re.VERBOSE`** will allow to add whitespace and comments to string passed to **`re.compile()`**."
   ]
  },
  {
   "cell_type": "code",
   "execution_count": 11,
   "metadata": {
    "id": "24hl4GvFUW1U"
   },
   "outputs": [],
   "source": [
    "# Without Using VERBOSE\n",
    "regex_email = re.compile(r'^([a-z0-9_\\.-]+)@([0-9a-z\\.-]+)\\.([a-z\\.]{2, 6})$', re.IGNORECASE)\n",
    " \n",
    "# Using VERBOSE\n",
    "regex_email = re.compile(r\"\"\"\n",
    "                            ^([a-z0-9_\\.-]+)              # local Part like username\n",
    "                            @                             # single @ sign \n",
    "                            ([0-9a-z\\.-]+)                # Domain name like google\n",
    "                            \\.                            # single Dot .\n",
    "                            ([a-z]{2,6})$                 # Top level Domain  like com/in/org\n",
    "                         \"\"\",re.VERBOSE | re.IGNORECASE)   "
   ]
  },
  {
   "cell_type": "markdown",
   "metadata": {
    "id": "ndFY37wyUW1V"
   },
   "source": [
    "#### 20. How would you write a regex that match a number with comma for every three digits? It must match the given following:\n",
    "`'42','1,234', '6,368,745'`but not the following: `'12,34,567'` (which has only two digits between the commas) `'1234'` (which lacks commas)"
   ]
  },
  {
   "cell_type": "code",
   "execution_count": 12,
   "metadata": {
    "id": "KRlDbzvwUW1W",
    "outputId": "57b81d73-bb0b-41f1-80d0-6f6c5b692681"
   },
   "outputs": [
    {
     "name": "stdout",
     "output_type": "stream",
     "text": [
      "Output: 42 -> <re.Match object; span=(0, 2), match='42'>\n",
      "Output: 1,234 -> <re.Match object; span=(0, 5), match='1,234'>\n",
      "Output: 6,368,745 -> <re.Match object; span=(0, 9), match='6,368,745'>\n",
      "Output: 12,34,567 -> None\n",
      "Output: 1234 -> None\n"
     ]
    }
   ],
   "source": [
    "import re\n",
    "pattern = r'^\\d{1,3}(,\\d{3})*$'\n",
    "pagex = re.compile(pattern)\n",
    "for ele in ['42','1,234', '6,368,745','12,34,567','1234']:\n",
    "    print('Output:',ele, '->', pagex.search(ele))"
   ]
  },
  {
   "cell_type": "markdown",
   "metadata": {
    "id": "GIV61pjFUW1X"
   },
   "source": [
    "#### 21. How would you write a regex that matches the full name of someone whose last name is Watanabe? You can assume that the first name that comes before it will always be one word that begins with a capital letter. The regex must match the following:\n",
    "`'Haruto Watanabe'`  \n",
    "`'Alice Watanabe'`  \n",
    "`'RoboCop Watanabe'`  \n",
    "\n",
    "but not the following:\n",
    "\n",
    "`'haruto Watanabe'` (where the first name is not capitalized)  \n",
    "`'Mr. Watanabe'` (where the preceding word has a nonletter character)  \n",
    "`'Watanabe'` (which has no first name)  \n",
    "`'Haruto watanabe'` (where Watanabe is not capitalized)  \n",
    "\n",
    "**Ans:** **`pattern = r'[A-Z]{1}[a-z]*\\sWatanabe'`**"
   ]
  },
  {
   "cell_type": "code",
   "execution_count": 13,
   "metadata": {
    "id": "h4WyLqlwUW1Y",
    "outputId": "0a14f02f-1272-4c12-c94e-58affd2e4990"
   },
   "outputs": [
    {
     "name": "stdout",
     "output_type": "stream",
     "text": [
      "Output:  Haruto Watanabe -> <re.Match object; span=(0, 15), match='Haruto Watanabe'>\n",
      "Output:  Alice Watanabe -> <re.Match object; span=(0, 14), match='Alice Watanabe'>\n",
      "Output:  RoboCop Watanabe -> <re.Match object; span=(4, 16), match='Cop Watanabe'>\n",
      "Output:  haruto Watanabe -> None\n",
      "Output:  Mr. Watanabe -> None\n",
      "Output:  Watanabe -> None\n",
      "Output:  Haruto watanabe -> None\n"
     ]
    }
   ],
   "source": [
    "import re\n",
    "pattern = r'[A-Z]{1}[a-z]*\\sWatanabe'\n",
    "namex = re.compile(pattern)\n",
    "for name in ['Haruto Watanabe','Alice Watanabe','RoboCop Watanabe','haruto Watanabe','Mr. Watanabe','Watanabe','Haruto watanabe']:\n",
    "    print('Output: ',name,'->',namex.search(name))"
   ]
  },
  {
   "cell_type": "markdown",
   "metadata": {
    "id": "vYp-u4NDUW1Y"
   },
   "source": [
    "#### 22. How would you write a regex that matches a sentence where the first word is either Alice, Bob,or Carol; the second word is either eats, pets, or throws; the third word is apples, cats, or baseballs; and the sentence ends with a period? This regex should be case-insensitive. It must match the following:\n",
    "`'Alice eats apples.'`  \n",
    "`'Bob pets cats.'`  \n",
    "`'Carol throws baseballs.'`  \n",
    "`'Alice throws Apples.'`  \n",
    "`'BOB EATS CATS.'`  \n",
    "\n",
    "but not the following:  \n",
    "\n",
    "`'RoboCop eats apples.'`  \n",
    "`'ALICE THROWS FOOTBALLS.'`   \n",
    "`'Carol eats 7 cats.'`  \n",
    "\n",
    "**Ans:** pattern = **`r'(Alice|Bob|Carol)\\s(eats|pets|throws)\\s(apples|cats|baseballs)\\.'`**"
   ]
  },
  {
   "cell_type": "code",
   "execution_count": 14,
   "metadata": {
    "id": "tUgNW78dUW1Y",
    "outputId": "88c2ecf6-8d82-4f6d-9454-507364920b39"
   },
   "outputs": [
    {
     "name": "stdout",
     "output_type": "stream",
     "text": [
      "Output:  Alice eats apples. -> <re.Match object; span=(0, 18), match='Alice eats apples.'>\n",
      "Output:  Bob pets cats. -> <re.Match object; span=(0, 14), match='Bob pets cats.'>\n",
      "Output:  Carol throws baseballs. -> <re.Match object; span=(0, 23), match='Carol throws baseballs.'>\n",
      "Output:  Alice throws Apples. -> <re.Match object; span=(0, 20), match='Alice throws Apples.'>\n",
      "Output:  BOB EATS CATS. -> <re.Match object; span=(0, 14), match='BOB EATS CATS.'>\n",
      "Output:  RoboCop eats apples. -> None\n",
      "Output:  ALICE THROWS FOOTBALLS. -> None\n",
      "Output:  Carol eats 7 cats. -> None\n"
     ]
    }
   ],
   "source": [
    "import re\n",
    "pattern = r'(Alice|Bob|Carol)\\s(eats|pets|throws)\\s(apples|cats|baseballs)\\.'\n",
    "casex = re.compile(pattern,re.IGNORECASE)\n",
    "for ele in ['Alice eats apples.','Bob pets cats.','Carol throws baseballs.','Alice throws Apples.','BOB EATS CATS.','RoboCop eats apples.'\n",
    ",'ALICE THROWS FOOTBALLS.','Carol eats 7 cats.']:\n",
    "    print('Output: ',ele,'->',casex.search(ele))"
   ]
  }
 ],
 "metadata": {
  "colab": {
   "collapsed_sections": [],
   "name": "Python Basics Assignment_7.ipynb",
   "provenance": []
  },
  "kernelspec": {
   "display_name": "Python 3 (ipykernel)",
   "language": "python",
   "name": "python3"
  },
  "language_info": {
   "codemirror_mode": {
    "name": "ipython",
    "version": 3
   },
   "file_extension": ".py",
   "mimetype": "text/x-python",
   "name": "python",
   "nbconvert_exporter": "python",
   "pygments_lexer": "ipython3",
   "version": "3.9.12"
  }
 },
 "nbformat": 4,
 "nbformat_minor": 1
}
