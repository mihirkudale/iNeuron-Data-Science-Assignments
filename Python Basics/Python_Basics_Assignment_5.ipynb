{
 "cells": [
  {
   "cell_type": "markdown",
   "metadata": {
    "id": "-2OWyUaIHJQm"
   },
   "source": [
    "# Assignment 5 Solutions"
   ]
  },
  {
   "cell_type": "markdown",
   "metadata": {
    "id": "vXEWsd25HmDC"
   },
   "source": [
    "**SUBMITTED BY: MIHIR KUDALE**"
   ]
  },
  {
   "cell_type": "markdown",
   "metadata": {
    "id": "CO-AvYdTHJQr"
   },
   "source": [
    "#### 1.What does an empty dictionary's code look like?\n",
    "**Ans:** An empty dictionary is often represented by two empty curly brackets  \n",
    "`d = {}` or `d = dict()`"
   ]
  },
  {
   "cell_type": "code",
   "execution_count": 1,
   "metadata": {
    "colab": {
     "base_uri": "https://localhost:8080/"
    },
    "id": "rreE5pB4Hfr7",
    "outputId": "b5a40f41-cd6e-4c16-a365-60a27039da26"
   },
   "outputs": [
    {
     "name": "stdout",
     "output_type": "stream",
     "text": [
      "{}\n",
      "Length: 0\n",
      "<class 'dict'>\n"
     ]
    }
   ],
   "source": [
    "# Python3 code to demonstrate use of\n",
    "# {} symbol to initialize dictionary\n",
    "emptyDict = {}\n",
    " \n",
    "# print dictionary\n",
    "print(emptyDict)\n",
    " \n",
    "# print length of dictionary\n",
    "print(\"Length:\", len(emptyDict))\n",
    " \n",
    "# print type\n",
    "print(type(emptyDict))"
   ]
  },
  {
   "cell_type": "markdown",
   "metadata": {
    "id": "XKVZTe_4HJQu"
   },
   "source": [
    "#### 2.what is the value of dictionary value with key 'foo' and the value 42 ?\n",
    "**Ans:** `{'foo':42}`"
   ]
  },
  {
   "cell_type": "markdown",
   "metadata": {
    "id": "tVkI0BwMHJQw"
   },
   "source": [
    "#### 3.What is the most significant distinction between a dictionary and a list?\n",
    "**Ans:** Dictionaries are represented by `{}` where as listed are represented by `[]`. The Items stored in a dictionary are Unordered , while the items in a list are ordered. \n",
    "\n",
    "Lists are just like the arrays, declared in other languages. Lists need not be homogeneous always which makes it a most powerful tool in Python. A single list may contain DataTypes like Integers, Strings, as well as Objects. Lists are mutable, and hence, they can be altered even after their creation.\n",
    "\n",
    "Dictionary in Python on the other hand is an unordered collection of data values, used to store data values like a map, which unlike other Data Types that hold only single value as an element, Dictionary holds key:value pair. Key-value is provided in the dictionary to make it more optimized. Each key-value pair in a Dictionary is separated by a colon :, whereas each key is separated by a ‘comma’."
   ]
  },
  {
   "cell_type": "code",
   "execution_count": 2,
   "metadata": {
    "colab": {
     "base_uri": "https://localhost:8080/"
    },
    "id": "yPpGnyhHISj3",
    "outputId": "ad02f5e3-a4e8-45ca-9703-d7b20ab479ad"
   },
   "outputs": [
    {
     "name": "stdout",
     "output_type": "stream",
     "text": [
      "Dictionary with the use of Integer Keys: \n",
      "{1: 'Sharva', 2: 'Arra', 3: 'Mihir'}\n",
      "List containing multiple values: \n",
      "Sharva\n",
      "ABC\n"
     ]
    }
   ],
   "source": [
    "#Dictionary\n",
    "Dict = {1: 'Sharva', 2: 'Arra', 3: 'Mihir'}\n",
    "print(\"Dictionary with the use of Integer Keys: \")\n",
    "print(Dict)\n",
    "\n",
    "#List\n",
    "List = [\"Sharva\", \"Nikki\", \"ABC\"]\n",
    "print(\"List containing multiple values: \")\n",
    "print(List[0]) \n",
    "print(List[2])"
   ]
  },
  {
   "cell_type": "markdown",
   "metadata": {
    "id": "NQRdo-ivHJQy"
   },
   "source": [
    "#### 4.What happens if you try to access spam ['foo'] if spam is {'bar':100} ?\n",
    "**Ans:** we will get a keyError `KeyError: 'foo'`"
   ]
  },
  {
   "cell_type": "code",
   "execution_count": 3,
   "metadata": {
    "colab": {
     "base_uri": "https://localhost:8080/",
     "height": 186
    },
    "id": "o9lmks3IIsZW",
    "outputId": "0f5b42d6-fc0a-4074-b3c3-f75265659b7c"
   },
   "outputs": [
    {
     "ename": "KeyError",
     "evalue": "'foo'",
     "output_type": "error",
     "traceback": [
      "\u001b[1;31m---------------------------------------------------------------------------\u001b[0m",
      "\u001b[1;31mKeyError\u001b[0m                                  Traceback (most recent call last)",
      "Input \u001b[1;32mIn [3]\u001b[0m, in \u001b[0;36m<cell line: 2>\u001b[1;34m()\u001b[0m\n\u001b[0;32m      1\u001b[0m spam \u001b[38;5;241m=\u001b[39m {\u001b[38;5;124m'\u001b[39m\u001b[38;5;124mbar\u001b[39m\u001b[38;5;124m'\u001b[39m: \u001b[38;5;241m100\u001b[39m}\n\u001b[1;32m----> 2\u001b[0m \u001b[43mspam\u001b[49m\u001b[43m \u001b[49m\u001b[43m[\u001b[49m\u001b[38;5;124;43m'\u001b[39;49m\u001b[38;5;124;43mfoo\u001b[39;49m\u001b[38;5;124;43m'\u001b[39;49m\u001b[43m]\u001b[49m\n",
      "\u001b[1;31mKeyError\u001b[0m: 'foo'"
     ]
    }
   ],
   "source": [
    "spam = {'bar': 100}\n",
    "spam ['foo']"
   ]
  },
  {
   "cell_type": "markdown",
   "metadata": {
    "id": "wYQAnq2FHJQz"
   },
   "source": [
    "#### 5.if a dictionary is stored in spam,what is the difference between the expressions 'cat' in spam and 'cat' in spam.keys() ?\n",
    "**Ans:** There is no difference . The operator checks whether a value exits as a key in the dictionary or not."
   ]
  },
  {
   "cell_type": "markdown",
   "metadata": {
    "id": "D1Lk3rHSHJQ0"
   },
   "source": [
    "#### 6.if a dictionary is stored in spam,what is the difference between the expressions 'cat' in spam and 'cat' in spam.values() ?\n",
    "**Ans:**'cat' in spam checks whether there is a 'cat' key in the dictionary, while 'cat' in spam.values() checks whether there is a value 'cat' for one of the keys in spam."
   ]
  },
  {
   "cell_type": "markdown",
   "metadata": {
    "id": "Eb6i33coHJQ1"
   },
   "source": [
    "#### 7.what is a shortcut for the following code ?\n",
    "`if 'color' not in spam:\n",
    "    spam['color'] ='black'`\n",
    "    \n",
    "**Ans:** `spam.setdefault('color','black')`"
   ]
  },
  {
   "cell_type": "code",
   "execution_count": 4,
   "metadata": {
    "colab": {
     "base_uri": "https://localhost:8080/",
     "height": 35
    },
    "id": "_jsGQOHoJy4Z",
    "outputId": "0ab8a73e-5ae9-4e22-b6f7-f8721c27b1ba"
   },
   "outputs": [
    {
     "data": {
      "text/plain": [
       "'black'"
      ]
     },
     "execution_count": 4,
     "metadata": {},
     "output_type": "execute_result"
    }
   ],
   "source": [
    "if 'color' not in spam: spam['color'] ='black'\n",
    "\n",
    "spam.setdefault('color','black')"
   ]
  },
  {
   "cell_type": "markdown",
   "metadata": {
    "id": "Oe5d6C84HJQ3"
   },
   "source": [
    "#### 8.How do you 'pretty print' dictionary values using which modules and function ?\n",
    "**Ans:** we can pretty print a dictionary using three functions\n",
    "1. by using pprint() function of pprint module\n",
    "    * **Note:** pprint() function doesnot prettify nested dictionaries\n",
    "2. by using dumps() method of json module\n",
    "3. by using dumps() method of yaml module\n"
   ]
  },
  {
   "cell_type": "code",
   "execution_count": 5,
   "metadata": {
    "colab": {
     "base_uri": "https://localhost:8080/"
    },
    "id": "4CLVjZ9IHJQ4",
    "outputId": "51321f7b-45f5-4bd3-e1c3-dc108bab53ba"
   },
   "outputs": [
    {
     "name": "stdout",
     "output_type": "stream",
     "text": [
      "Printing using print() function\n",
      " [{'Name': 'Sharva', 'Age': '54', 'Residence': {'Country': 'Bangladesh', 'City': 'Dhaka'}}, {'Name': 'Krish', 'Age': '23', 'Residence': {'Country': 'Spain', 'City': 'Madrid'}}, {'Name': 'Ara', 'Age': '26', 'Residence': {'Country': 'UK', 'City': 'England'}}, {'Name': 'Papa', 'Age': '64', 'Residence': {'Country': 'Japan', 'City': 'Osaka'}}]\n",
      "----------------------------------------------------------------------\n",
      "Printing using pprint() funciton\n",
      "[{'Age': '54',\n",
      "  'Name': 'Sharva',\n",
      "  'Residence': {'City': 'Dhaka', 'Country': 'Bangladesh'}},\n",
      " {'Age': '23',\n",
      "  'Name': 'Krish',\n",
      "  'Residence': {'City': 'Madrid', 'Country': 'Spain'}},\n",
      " {'Age': '26',\n",
      "  'Name': 'Ara',\n",
      "  'Residence': {'City': 'England', 'Country': 'UK'}},\n",
      " {'Age': '64',\n",
      "  'Name': 'Papa',\n",
      "  'Residence': {'City': 'Osaka', 'Country': 'Japan'}}]\n",
      "----------------------------------------------------------------------\n",
      "Printing using dumps() method\n",
      " [\n",
      "    {\n",
      "        \"Name\": \"Sharva\",\n",
      "        \"Age\": \"54\",\n",
      "        \"Residence\": {\n",
      "            \"Country\": \"Bangladesh\",\n",
      "            \"City\": \"Dhaka\"\n",
      "        }\n",
      "    },\n",
      "    {\n",
      "        \"Name\": \"Krish\",\n",
      "        \"Age\": \"23\",\n",
      "        \"Residence\": {\n",
      "            \"Country\": \"Spain\",\n",
      "            \"City\": \"Madrid\"\n",
      "        }\n",
      "    },\n",
      "    {\n",
      "        \"Name\": \"Ara\",\n",
      "        \"Age\": \"26\",\n",
      "        \"Residence\": {\n",
      "            \"Country\": \"UK\",\n",
      "            \"City\": \"England\"\n",
      "        }\n",
      "    },\n",
      "    {\n",
      "        \"Name\": \"Papa\",\n",
      "        \"Age\": \"64\",\n",
      "        \"Residence\": {\n",
      "            \"Country\": \"Japan\",\n",
      "            \"City\": \"Osaka\"\n",
      "        }\n",
      "    }\n",
      "]\n",
      "----------------------------------------------------------------------\n",
      "Printing using dump() method\n",
      " - Age: '54'\n",
      "  Name: Sharva\n",
      "  Residence:\n",
      "    City: Dhaka\n",
      "    Country: Bangladesh\n",
      "- Age: '23'\n",
      "  Name: Krish\n",
      "  Residence:\n",
      "    City: Madrid\n",
      "    Country: Spain\n",
      "- Age: '26'\n",
      "  Name: Ara\n",
      "  Residence:\n",
      "    City: England\n",
      "    Country: UK\n",
      "- Age: '64'\n",
      "  Name: Papa\n",
      "  Residence:\n",
      "    City: Osaka\n",
      "    Country: Japan\n",
      "\n"
     ]
    }
   ],
   "source": [
    "ndict = [\n",
    "  {'Name': 'Sharva', 'Age': '54', 'Residence': {'Country':'Bangladesh', 'City': 'Dhaka'}},\n",
    "  {'Name': 'Krish', 'Age': '23', 'Residence': {'Country':'Spain', 'City': 'Madrid'}},\n",
    "  {'Name': 'Ara', 'Age': '26', 'Residence': {'Country':'UK', 'City': 'England'}},\n",
    "  {'Name': 'Papa', 'Age': '64', 'Residence': {'Country':'Japan', 'City': 'Osaka'}}\n",
    "]\n",
    "\n",
    "print('Printing using print() function\\n',ndict)\n",
    "print('-'*70)\n",
    "import pprint\n",
    "print('Printing using pprint() funciton')\n",
    "pprint.pprint(ndict)\n",
    "print('-'*70)\n",
    "import json\n",
    "dump = json.dumps(ndict, indent=4)\n",
    "print('Printing using dumps() method\\n', dump)\n",
    "print('-'*70)\n",
    "import yaml\n",
    "dump = yaml.dump(ndict)\n",
    "print('Printing using dump() method\\n', dump)\n"
   ]
  },
  {
   "cell_type": "code",
   "execution_count": null,
   "metadata": {
    "id": "CLIA2XwwKTX-"
   },
   "outputs": [],
   "source": []
  }
 ],
 "metadata": {
  "colab": {
   "collapsed_sections": [],
   "name": "Python Basics Assignment_5.ipynb",
   "provenance": []
  },
  "kernelspec": {
   "display_name": "Python 3 (ipykernel)",
   "language": "python",
   "name": "python3"
  },
  "language_info": {
   "codemirror_mode": {
    "name": "ipython",
    "version": 3
   },
   "file_extension": ".py",
   "mimetype": "text/x-python",
   "name": "python",
   "nbconvert_exporter": "python",
   "pygments_lexer": "ipython3",
   "version": "3.9.12"
  }
 },
 "nbformat": 4,
 "nbformat_minor": 1
}
