{
 "cells": [
  {
   "cell_type": "markdown",
   "id": "925a970b",
   "metadata": {
    "id": "925a970b"
   },
   "source": [
    "# Assignment 24 Soluitons"
   ]
  },
  {
   "cell_type": "markdown",
   "id": "Cdjq54f80j7B",
   "metadata": {
    "id": "Cdjq54f80j7B"
   },
   "source": [
    "**SUBMITTED BY: MIHIR KUDALE**"
   ]
  },
  {
   "cell_type": "markdown",
   "id": "3267a0e0",
   "metadata": {
    "id": "3267a0e0"
   },
   "source": [
    "#### 1. What is the relationship between def statements and lambda expressions ?\n",
    "**Ans:** `def` statement is used to create a normal function whereas `lambda` expressions are used to create `Anonymous functions`which can be assigned to a variable and can be called using the variable later in function.\n",
    "\n",
    "Lambda's body is a single expression and not a block of statements like def statement. The lambda expression's body is similar to what we wouldd put in a def body's return statement. We simply type the result as an expression instead of explicitly returning it. Because it is limited to an expression, a lambda is less general than a def statement. \n",
    "\n",
    "Example of Lambda Function is shown below:\n",
    "\n"
   ]
  },
  {
   "cell_type": "code",
   "execution_count": 1,
   "id": "NgH-ZBOH035k",
   "metadata": {
    "colab": {
     "base_uri": "https://localhost:8080/"
    },
    "id": "NgH-ZBOH035k",
    "outputId": "caf5b7da-13f7-4fff-8f10-1e9a56cdff05"
   },
   "outputs": [
    {
     "name": "stdout",
     "output_type": "stream",
     "text": [
      "13\n"
     ]
    }
   ],
   "source": [
    "x = lambda a, b, c : a + b + c\n",
    "print(x(5, 6, 2)) "
   ]
  },
  {
   "cell_type": "markdown",
   "id": "e23f6be0",
   "metadata": {
    "id": "e23f6be0"
   },
   "source": [
    "#### 2. What is the benefit of lambda?\n",
    "**Ans:** The following are some of the benefits of lambda expressions: \n",
    "1. It can be used to create Nameless/Anonymous functions inside some complex functions if we are planning to use it only once.\n",
    "2. Moderate to small functions can be created in a single line\n",
    "3. Fuctions created using lambda expressions can be assigned to a variable and can be used by simply calling the variable"
   ]
  },
  {
   "cell_type": "markdown",
   "id": "c0abb1a0",
   "metadata": {
    "id": "c0abb1a0"
   },
   "source": [
    "#### 3. Compare and contrast map, filter, and reduce.\n",
    "**Ans:** The differences between map, filter and reduce are: \n",
    "1. `map()`: The map() function is a type of higher-order. This function takes another function as a parameter\n",
    "along with a sequence of iterables and returns an output after applying the function to each iterable present in the\n",
    "sequence. \n",
    "2. `filter()`: The filter() function is used to create an output list consisting of values for which the function returns true.\n",
    "3. `reduce()`: The reduce() function, as the name describes, applies a given function to the iterables and returns a single value"
   ]
  },
  {
   "cell_type": "code",
   "execution_count": 2,
   "id": "a96df72c",
   "metadata": {
    "colab": {
     "base_uri": "https://localhost:8080/"
    },
    "id": "a96df72c",
    "outputId": "1e0ef0eb-3882-43da-c9bd-272f58da8231"
   },
   "outputs": [
    {
     "name": "stdout",
     "output_type": "stream",
     "text": [
      "Map -> [2, 4, 6, 16]\n",
      "Filter -> [1, 3, 9]\n",
      "Reduce -> 22\n"
     ]
    }
   ],
   "source": [
    "from functools import reduce\n",
    "# map function\n",
    "print('Map ->',list(map(lambda x:x+x, [1,2,3,8])))\n",
    "# fitler function\n",
    "print('Filter ->',list(filter(lambda x:x%2 !=0, [1,2,3,9])))\n",
    "# reduce function\n",
    "print('Reduce ->',reduce(lambda x,y:x+y, [1,2,3,4,5,7]))"
   ]
  },
  {
   "cell_type": "markdown",
   "id": "ed66668e",
   "metadata": {
    "id": "ed66668e"
   },
   "source": [
    "#### 4. What are function annotations, and how are they used?\n",
    "**Ans:** Function annotations provide a way of associating various parts of a function with arbitrary python expressions at compile time.   \n",
    "Annotations of simple parameters `def func(x: expression, y: expression = 20):`  \n",
    "Whereas the annotations for excess parameters are as − `def func (**args: expression, **kwargs: expression):`\n",
    "\n",
    "Purpose of Function Annotations:\n",
    "1. Python supports dynamic typing and hence no module is provided for type checking. \n",
    "2. String based annotations can be used by the libraries to provide better help messages at compile time regarding the functionalities of various methods, classes and modules.\n",
    "\n",
    "Example of Annotations:\n",
    "1. Annotations for simple parameters : def foo(a: expression, b: expression = 5):\n",
    "2. Annotations for excess parameters : def foo(*args: expression, *kwargs: expression):\n",
    "3. Annotations for nested parameters : def foo((a: expression, b: expression), (c: expression, d: expression)):"
   ]
  },
  {
   "cell_type": "markdown",
   "id": "e91c02f9",
   "metadata": {
    "id": "e91c02f9"
   },
   "source": [
    "#### 5. What are recursive functions, and how are they used?\n",
    "**Ans:** A recursive function is a function that calls itself during its execution. The process may repeat several times, \n",
    "outputting the result and the end of each iteration. An example is mentioned below:"
   ]
  },
  {
   "cell_type": "code",
   "execution_count": 3,
   "id": "3YKNRb6h19WP",
   "metadata": {
    "colab": {
     "base_uri": "https://localhost:8080/"
    },
    "id": "3YKNRb6h19WP",
    "outputId": "50837fd8-d426-4e9a-a719-8df35e53eadc"
   },
   "outputs": [
    {
     "name": "stdout",
     "output_type": "stream",
     "text": [
      "\n",
      "\n",
      "Recursion Example Results\n",
      "1\n",
      "3\n",
      "6\n",
      "10\n",
      "15\n",
      "21\n",
      "28\n",
      "36\n",
      "45\n"
     ]
    },
    {
     "data": {
      "text/plain": [
       "45"
      ]
     },
     "execution_count": 3,
     "metadata": {},
     "output_type": "execute_result"
    }
   ],
   "source": [
    "def tri_recursion(k):\n",
    "  if(k>0):\n",
    "    result = k+tri_recursion(k-1)\n",
    "    print(result)\n",
    "  else:\n",
    "    result = 0\n",
    "  return result\n",
    "\n",
    "print(\"\\n\\nRecursion Example Results\")\n",
    "tri_recursion(9)"
   ]
  },
  {
   "cell_type": "markdown",
   "id": "0616de68",
   "metadata": {
    "id": "0616de68"
   },
   "source": [
    "#### 6. What are some general design guidelines for coding functions?\n",
    "**Ans:** Some of the general design guidelines for coding functions are:\n",
    "1. Always use a docstring to explain the functionality of the function\n",
    "2. Avoid using or limit use of global variables\n",
    "3. Proper Indentation to increase the code readability\n",
    "4. Try to follow a proper naming convention for function names (pascalCase or camelCase) and stick with the same convention throughout the application.\n",
    "5. Avoid using digits while choosing a variable name\n",
    "6. Try to use a name for the function which conveys the purpose of the function\n",
    "7. Local variables should be named using camelCase format `(ex: localVariable)` whereas Global variables names should be using PascalCase `(ex:GlobalVariable)`. \n",
    "8. Constant should be represented in allcaps `(ex:CONSTANT)`."
   ]
  },
  {
   "cell_type": "markdown",
   "id": "50555ec6",
   "metadata": {
    "id": "50555ec6"
   },
   "source": [
    "#### 7. Name three or more ways that functions can communicate results to a caller.\n",
    "**Ans:** Some of the ways in which a function can communicate with the calling function is:\n",
    "1. print\n",
    "2. return\n",
    "3. yield"
   ]
  }
 ],
 "metadata": {
  "colab": {
   "collapsed_sections": [],
   "name": "Python Basics Assignment_24.ipynb",
   "provenance": []
  },
  "kernelspec": {
   "display_name": "Python 3 (ipykernel)",
   "language": "python",
   "name": "python3"
  },
  "language_info": {
   "codemirror_mode": {
    "name": "ipython",
    "version": 3
   },
   "file_extension": ".py",
   "mimetype": "text/x-python",
   "name": "python",
   "nbconvert_exporter": "python",
   "pygments_lexer": "ipython3",
   "version": "3.9.12"
  }
 },
 "nbformat": 4,
 "nbformat_minor": 5
}
