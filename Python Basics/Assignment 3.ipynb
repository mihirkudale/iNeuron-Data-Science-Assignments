{
 "cells": [
  {
   "cell_type": "markdown",
   "metadata": {
    "id": "9m6bwBTM37x5"
   },
   "source": [
    "**1. Why are functions advantageous to have in your programs?**\n",
    "\n",
    "**Ans:**The advantages of functions in programming are:\n",
    "- The main advantage of functions is code Reusability.\n",
    "- Functions reduce the need for duplicate code.This makes programs shorter, easier to read, and easier to update.\n",
    "- Increases program readability.\n",
    "- Divide a complex problem into simpler ones and reduces chances of error.\n",
    "- Modifying a program becomes easier by using function"
   ]
  },
  {
   "cell_type": "markdown",
   "metadata": {
    "id": "8oqqwRL-37x7"
   },
   "source": [
    "**2. When does the code in a function run: when it's specified or when it's called?**\n",
    "\n",
    "**Ans:** The code in a function executes when the function is called, not when the function is specified. When a function is \"called\" the program \"leaves\" the current section of code and begins to execute the first line inside the function."
   ]
  },
  {
   "cell_type": "markdown",
   "metadata": {
    "id": "l4lutMG337x8"
   },
   "source": [
    "**3. What statement creates a function?**\n",
    "\n",
    "**Ans:** The def statement defines a function "
   ]
  },
  {
   "cell_type": "markdown",
   "metadata": {},
   "source": [
    "**Syntax of Function:**  "
   ]
  },
  {
   "cell_type": "raw",
   "metadata": {},
   "source": [
    "def function_name(parameters):\n",
    " \"\"\"doc string\"\"\"          \n",
    "---function body---\n",
    "---function body---\n",
    "   return value"
   ]
  },
  {
   "cell_type": "markdown",
   "metadata": {},
   "source": [
    "**Example**"
   ]
  },
  {
   "cell_type": "code",
   "execution_count": 1,
   "metadata": {},
   "outputs": [],
   "source": [
    "def family(wethree): \n",
    "    print(wethree + \" Kudale\")\n",
    "    \n",
    "    family(\"Mihir\")\n",
    "    family(\"Shashank\")\n",
    "    family(\"Ssngita\") "
   ]
  },
  {
   "cell_type": "markdown",
   "metadata": {
    "id": "9xu9mJKp37x9"
   },
   "source": [
    "**4. What is the difference between a function and a function call?**\n",
    "\n",
    "**Ans:** A function is a piece of code which enhanced the reusability and modularity of your program. It means that piece of code need not be written again. A function call means invoking or calling that function. Unless a function is called there is no use of that function.\n",
    "\n",
    "**Example**"
   ]
  },
  {
   "cell_type": "code",
   "execution_count": 2,
   "metadata": {
    "colab": {
     "base_uri": "https://localhost:8080/"
    },
    "id": "HVtgO1zg5_Rl",
    "outputId": "36bd3a98-1faf-4426-aa3a-b8629a39ced2"
   },
   "outputs": [
    {
     "data": {
      "text/plain": [
       "16"
      ]
     },
     "execution_count": 2,
     "metadata": {},
     "output_type": "execute_result"
    }
   ],
   "source": [
    "#Function\n",
    "def numberofapples(x):\n",
    "    return x*x\n",
    "#Function Call\n",
    "(numberofapples(4))"
   ]
  },
  {
   "cell_type": "markdown",
   "metadata": {
    "id": "Sw35uRon37x-"
   },
   "source": [
    "**5. How many global scopes are there in a Python program? How many local scopes?**\n",
    "\n",
    "**Ans:** There is one global scope, and a local scope is created whenever a function is called. A variable created inside a function belongs to the local scope of that function, and can only be used inside that function whereas a variable created in the main body of the Python code is a global variable and belongs to the global scope.\n",
    "\n",
    "**Example of Local Scope**"
   ]
  },
  {
   "cell_type": "code",
   "execution_count": 3,
   "metadata": {
    "colab": {
     "base_uri": "https://localhost:8080/"
    },
    "id": "3D0eobeC6dH2",
    "outputId": "093930e5-fe41-4dd2-c003-f91749416e2e"
   },
   "outputs": [],
   "source": [
    "def hostel(): #function\n",
    "    x = 28\n",
    "    def rooms(): # innerfunction\n",
    "        print(x)\n",
    "        rooms()\n",
    "        hostel() "
   ]
  },
  {
   "cell_type": "markdown",
   "metadata": {},
   "source": [
    "**Example of Global Scope**"
   ]
  },
  {
   "cell_type": "code",
   "execution_count": 4,
   "metadata": {
    "colab": {
     "base_uri": "https://localhost:8080/"
    },
    "id": "4qqGyInn6h2x",
    "outputId": "731b5319-763e-4f80-940b-78c9eb9997b1"
   },
   "outputs": [],
   "source": [
    "x = 28\n",
    "\n",
    "def hostel():\n",
    "    print(x)\n",
    "    hostel()\n",
    "    print(x) "
   ]
  },
  {
   "cell_type": "markdown",
   "metadata": {
    "id": "FwZrQ1u-37x_"
   },
   "source": [
    "**6. What happens to variables in a local scope when the function call returns?**\n",
    "\n",
    "**Ans:** When a function returns, the local scope is destroyed, and all the variables in it are forgotten.A local variable becomes undefined after the function call completes."
   ]
  },
  {
   "cell_type": "markdown",
   "metadata": {
    "id": "p_2e2-pE37yA"
   },
   "source": [
    "**7. What is the concept of a return value? Is it possible to have a return value in an expression?**\n",
    "\n",
    "**Ans**: The Python return statement is a key component of functions and methods. We can use the return statement to make functions send python objects back to the caller code. These objects are known as the function’s return value. A return value is the value that a function call evaluates to. Like any value, a return value can be used as part of an expression."
   ]
  },
  {
   "cell_type": "markdown",
   "metadata": {
    "id": "Zf4rJ4fK37yA"
   },
   "source": [
    "**8. If a function does not have a return statement, what is the return value of a call to that function?**\n",
    "\n",
    "**Ans:** If there is no return statement for a function, its return value is None. The function always returns None if explicit return is not written."
   ]
  },
  {
   "cell_type": "markdown",
   "metadata": {
    "id": "c7krLzAW37yB"
   },
   "source": [
    "**9. How do you make a function variable refer to the global variable?**\n",
    "\n",
    "**Ans:** A global statement will force a variable in a function to refer to the global variable.\n",
    "If you want to refer to a global variable in a function, you can use the global keyword to declare which variables are global."
   ]
  },
  {
   "cell_type": "markdown",
   "metadata": {
    "id": "yUF3izGh37yC"
   },
   "source": [
    "**10. What is the data type of None?**\n",
    "\n",
    "**Ans:** The data type of None is NoneType."
   ]
  },
  {
   "cell_type": "code",
   "execution_count": 5,
   "metadata": {},
   "outputs": [
    {
     "name": "stdout",
     "output_type": "stream",
     "text": [
      "None\n"
     ]
    },
    {
     "data": {
      "text/plain": [
       "NoneType"
      ]
     },
     "execution_count": 5,
     "metadata": {},
     "output_type": "execute_result"
    }
   ],
   "source": [
    "x = None\n",
    "\n",
    "print(x)\n",
    "type(x)"
   ]
  },
  {
   "cell_type": "markdown",
   "metadata": {
    "id": "6WIDLprw37yD"
   },
   "source": [
    "**11. What does the sentence import areallyourpetsnamederic do?**\n",
    "\n",
    "**Ans:** That import statement imports a module named areallyourpetsnamederic."
   ]
  },
  {
   "cell_type": "markdown",
   "metadata": {
    "id": "3JapEmq_37yD"
   },
   "source": [
    "**12. If you had a bacon() feature in a spam module, what would you call it after importing spam?**\n",
    "\n",
    "**Ans:** This function can be called with spam.bacon()."
   ]
  },
  {
   "cell_type": "markdown",
   "metadata": {
    "id": "RWfBgqa637yD"
   },
   "source": [
    "**13. What can you do to save a programme from crashing if it encounters an error?**\n",
    "\n",
    "**Ans:** We can place the line of code that might cause an error in a try clause and use except block to handle the error.\n",
    "\n",
    "**Example**"
   ]
  },
  {
   "cell_type": "code",
   "execution_count": 6,
   "metadata": {
    "colab": {
     "base_uri": "https://localhost:8080/"
    },
    "id": "ZfL51dDb79kK",
    "outputId": "4b6d122b-107c-4cab-d5f2-3502df8c8b74"
   },
   "outputs": [
    {
     "name": "stdout",
     "output_type": "stream",
     "text": [
      "An exception occurred\n"
     ]
    }
   ],
   "source": [
    "try:\n",
    "  print(a)\n",
    "except:\n",
    "  print(\"An exception occurred\") "
   ]
  },
  {
   "cell_type": "markdown",
   "metadata": {
    "id": "5fUyyU-Y37yD"
   },
   "source": [
    "**14. What is the purpose of the try clause? What is the purpose of the except clause?**\n",
    "\n",
    "**Ans:** The code that could potentially cause an error goes in the try clause. The code that executes if an error happens goes in the except clause.\n",
    "\n",
    "**Example**"
   ]
  },
  {
   "cell_type": "code",
   "execution_count": 7,
   "metadata": {
    "colab": {
     "base_uri": "https://localhost:8080/"
    },
    "id": "NSF4bugN8TU-",
    "outputId": "1bdab12e-514d-467d-f2a8-ccdb89466010"
   },
   "outputs": [
    {
     "name": "stdout",
     "output_type": "stream",
     "text": [
      "250\n"
     ]
    }
   ],
   "source": [
    "a = 250\n",
    "try:\n",
    "  print(a)\n",
    "except NameError:\n",
    "  print(\"Variable a is not defined\")\n",
    "except:\n",
    "  print(\"Something else went wrong\") "
   ]
  }
 ],
 "metadata": {
  "colab": {
   "collapsed_sections": [],
   "name": "Python Basics Assignment_3.ipynb",
   "provenance": []
  },
  "kernelspec": {
   "display_name": "Python 3 (ipykernel)",
   "language": "python",
   "name": "python3"
  },
  "language_info": {
   "codemirror_mode": {
    "name": "ipython",
    "version": 3
   },
   "file_extension": ".py",
   "mimetype": "text/x-python",
   "name": "python",
   "nbconvert_exporter": "python",
   "pygments_lexer": "ipython3",
   "version": "3.9.12"
  }
 },
 "nbformat": 4,
 "nbformat_minor": 1
}
