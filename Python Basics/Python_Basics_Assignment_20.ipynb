{
 "cells": [
  {
   "cell_type": "markdown",
   "id": "d09f5fba",
   "metadata": {
    "id": "d09f5fba"
   },
   "source": [
    "# Assignment 20 Solutions"
   ]
  },
  {
   "cell_type": "markdown",
   "id": "_JkWS2EWLz9O",
   "metadata": {
    "id": "_JkWS2EWLz9O"
   },
   "source": [
    "**SUBMITTED BY: MIHIR KUDALE**"
   ]
  },
  {
   "cell_type": "markdown",
   "id": "94c15b38",
   "metadata": {
    "id": "94c15b38"
   },
   "source": [
    "#### 1. Set the variable test1 to the string 'This is a test of the emergency text system,' and save test1 to a file named test.txt."
   ]
  },
  {
   "cell_type": "code",
   "execution_count": 1,
   "id": "25e840b0",
   "metadata": {
    "id": "25e840b0",
    "outputId": "0f76f54d-157e-4f12-930f-f8a8dd389418"
   },
   "outputs": [],
   "source": [
    "test1 ='This is a test of the emergency text system'\n",
    "with open('test.txt','w') as f:\n",
    "    f.write(test1)"
   ]
  },
  {
   "cell_type": "markdown",
   "id": "5661169a",
   "metadata": {
    "id": "5661169a"
   },
   "source": [
    "#### 2. Read the contents of the file test.txt into the variable test2. Is there a difference between test 1 and test 2?"
   ]
  },
  {
   "cell_type": "code",
   "execution_count": 2,
   "id": "8b923630",
   "metadata": {
    "id": "8b923630",
    "outputId": "c7a21cf7-d208-4be9-c541-e89d1b81d85a"
   },
   "outputs": [
    {
     "name": "stdout",
     "output_type": "stream",
     "text": [
      "This is a test of the emergency text system\n",
      "\n",
      "\n",
      "test1 and test2 is same : True\n"
     ]
    }
   ],
   "source": [
    "with open('test.txt','r') as f:\n",
    "    test2 = f.read()\n",
    "    \n",
    "print(test2)\n",
    "\n",
    "print(\"\\n\\ntest1 and test2 is same :\", test1==test2)"
   ]
  },
  {
   "cell_type": "markdown",
   "id": "baec82d2",
   "metadata": {
    "id": "baec82d2"
   },
   "source": [
    "#### 3. Create a CSV file called books.csv by using these lines:\n",
    "`title,author,year`  \n",
    "`The Weirdstone of Brisingamen,Alan Garner,1960`  \n",
    "`Perdido Street Station,China Miéville,2000`  \n",
    "`Thud!,Terry Pratchett,2005`  \n",
    "`The Spellman Files,Lisa Lutz,2007`  \n",
    "`Small Gods,Terry Pratchett,1992`"
   ]
  },
  {
   "cell_type": "code",
   "execution_count": 3,
   "id": "5a8b0840",
   "metadata": {
    "id": "5a8b0840"
   },
   "outputs": [],
   "source": [
    "text_file=\"\"\"title,author,year\n",
    "The Weirdstone of Brisingamen,Alan Garner,1960\n",
    "Perdido Street Station,China Miéville,2000\n",
    "Thud!,Terry Pratchett,2005\n",
    "The Spellman Files,Lisa Lutz,2007\n",
    "Small Gods,Terry Pratchett,1992\"\"\"\n",
    "\n",
    "with open('books.csv',mode='w',encoding='UTF-8') as f:\n",
    "    f.write(text_file)"
   ]
  },
  {
   "cell_type": "markdown",
   "id": "2182eeba",
   "metadata": {
    "id": "2182eeba"
   },
   "source": [
    "#### 4. Use the sqlite3 module to create a SQLite database called books.db, and a table called books with these fields: title (text), author (text), and year (integer)."
   ]
  },
  {
   "cell_type": "code",
   "execution_count": 4,
   "id": "a184138e",
   "metadata": {
    "id": "a184138e"
   },
   "outputs": [
    {
     "name": "stdout",
     "output_type": "stream",
     "text": [
      "Connection Established !! \n",
      "table books already exists\n"
     ]
    }
   ],
   "source": [
    "import sqlite3\n",
    "con = sqlite3.connect(\"books.db\")  # connection has been created\n",
    "print(\"Connection Established !! \")\n",
    "try:\n",
    "    cur =con.cursor()\n",
    "    \n",
    "    query=\"\"\" CREATE TABLE books(\n",
    "    name text, author text, year integer\n",
    "    )\n",
    "    \"\"\"  # Table create\n",
    "    cur.execute(query)\n",
    "    con.commit()\n",
    "    con.close()\n",
    "\n",
    "\n",
    "except Exception as e:\n",
    "    print(e)"
   ]
  },
  {
   "cell_type": "markdown",
   "id": "eb7f88c5",
   "metadata": {
    "id": "eb7f88c5"
   },
   "source": [
    "#### 5. Read books.csv and insert its data into the books table."
   ]
  },
  {
   "cell_type": "code",
   "execution_count": 5,
   "id": "59e71d93",
   "metadata": {
    "id": "59e71d93"
   },
   "outputs": [
    {
     "name": "stdout",
     "output_type": "stream",
     "text": [
      "Connection Established !! \n",
      "Sucessfully insert \n"
     ]
    }
   ],
   "source": [
    "import csv\n",
    "import sqlite3\n",
    "con = sqlite3.connect(\"books.db\")  # connection has been created\n",
    "print(\"Connection Established !! \")\n",
    "try:\n",
    "    with open('books.csv', 'rt') as f:\n",
    "        books = csv.DictReader(f)\n",
    "        \n",
    "        for book in books:\n",
    "            query = f\"INSERT INTO books VALUES ('{book['title']}','{book['author']}',{book['year']})\"\n",
    "            cur = con.cursor()\n",
    "            cur.execute(query)\n",
    "            con.commit()    \n",
    "    con.close()\n",
    "    print(\"Sucessfully insert \")\n",
    "except Exception as e:\n",
    "    print(e)"
   ]
  },
  {
   "cell_type": "markdown",
   "id": "023dce44",
   "metadata": {
    "id": "023dce44"
   },
   "source": [
    "#### 6. Select and print the title column from the books table in alphabetical order."
   ]
  },
  {
   "cell_type": "code",
   "execution_count": 6,
   "id": "a2be54a2",
   "metadata": {
    "id": "a2be54a2",
    "outputId": "fe32750d-18e7-484c-a90b-2e08db727497"
   },
   "outputs": [
    {
     "name": "stdout",
     "output_type": "stream",
     "text": [
      "Connection Established !! \n",
      "Perdido Street Station\n",
      "Perdido Street Station\n",
      "Perdido Street Station\n",
      "Small Gods\n",
      "Small Gods\n",
      "Small Gods\n",
      "The Spellman Files\n",
      "The Spellman Files\n",
      "The Spellman Files\n",
      "The Weirdstone of Brisingamen\n",
      "The Weirdstone of Brisingamen\n",
      "The Weirdstone of Brisingamen\n",
      "Thud!\n",
      "Thud!\n",
      "Thud!\n"
     ]
    }
   ],
   "source": [
    "con = sqlite3.connect(\"books.db\")  # connection has been created\n",
    "print(\"Connection Established !! \")\n",
    "try:\n",
    "    query = 'SELECT name FROM books order by name asc;'\n",
    "    cur = con.cursor()\n",
    "    cur.execute(query)\n",
    "    for i in cur.fetchall():\n",
    "        print(i[0])\n",
    "    \n",
    "                \n",
    "    con.close()\n",
    "    \n",
    "except Exception as e:\n",
    "    print(e)"
   ]
  },
  {
   "cell_type": "markdown",
   "id": "d9c960c1",
   "metadata": {
    "id": "d9c960c1"
   },
   "source": [
    "#### 7. From the books table, select and print all columns in the order of publication."
   ]
  },
  {
   "cell_type": "code",
   "execution_count": 7,
   "id": "dc95077c",
   "metadata": {
    "id": "dc95077c",
    "outputId": "528f3cf9-4980-488d-e74d-39aaebd878a6"
   },
   "outputs": [
    {
     "name": "stdout",
     "output_type": "stream",
     "text": [
      "Connection Established !! \n",
      "The Weirdstone of Brisingamen , Alan Garner , 1960\n",
      "The Weirdstone of Brisingamen , Alan Garner , 1960\n",
      "The Weirdstone of Brisingamen , Alan Garner , 1960\n",
      "Small Gods , Terry Pratchett , 1992\n",
      "Small Gods , Terry Pratchett , 1992\n",
      "Small Gods , Terry Pratchett , 1992\n",
      "Perdido Street Station , China MiÃ©ville , 2000\n",
      "Perdido Street Station , China MiÃ©ville , 2000\n",
      "Perdido Street Station , China MiÃ©ville , 2000\n",
      "Thud! , Terry Pratchett , 2005\n",
      "Thud! , Terry Pratchett , 2005\n",
      "Thud! , Terry Pratchett , 2005\n",
      "The Spellman Files , Lisa Lutz , 2007\n",
      "The Spellman Files , Lisa Lutz , 2007\n",
      "The Spellman Files , Lisa Lutz , 2007\n"
     ]
    }
   ],
   "source": [
    "con = sqlite3.connect(\"books.db\")  # connection has been created\n",
    "print(\"Connection Established !! \")\n",
    "try:\n",
    "    query = 'SELECT * FROM books order by year ;'\n",
    "    cur = con.cursor()\n",
    "    cur.execute(query)\n",
    "    for i in cur.fetchall():\n",
    "        print(*i,sep=' , ')\n",
    "                \n",
    "    con.close()\n",
    "    \n",
    "except Exception as e:\n",
    "    print(e)"
   ]
  },
  {
   "cell_type": "markdown",
   "id": "f3ec47e1",
   "metadata": {
    "id": "f3ec47e1"
   },
   "source": [
    "#### 8. Use the sqlalchemy module to connect to the sqlite3 database books.db that you just made in exercise 6."
   ]
  },
  {
   "cell_type": "code",
   "execution_count": 8,
   "id": "63a761be",
   "metadata": {
    "id": "63a761be",
    "outputId": "cabf9182-17cc-4fe5-c28d-04c4a7044b59"
   },
   "outputs": [
    {
     "name": "stdout",
     "output_type": "stream",
     "text": [
      "Perdido Street Station\n",
      "Perdido Street Station\n",
      "Perdido Street Station\n",
      "Small Gods\n",
      "Small Gods\n",
      "Small Gods\n",
      "The Spellman Files\n",
      "The Spellman Files\n",
      "The Spellman Files\n",
      "The Weirdstone of Brisingamen\n",
      "The Weirdstone of Brisingamen\n",
      "The Weirdstone of Brisingamen\n",
      "Thud!\n",
      "Thud!\n",
      "Thud!\n"
     ]
    }
   ],
   "source": [
    "import sqlalchemy\n",
    "conn = sqlalchemy.create_engine('sqlite:///books.db')\n",
    "query = 'select name from books order by name asc' \n",
    "for row in conn.execute(query):\n",
    "    print(row[0])"
   ]
  },
  {
   "cell_type": "markdown",
   "id": "405ddc1f",
   "metadata": {
    "id": "405ddc1f"
   },
   "source": [
    "#### 9. Install the Redis server and the Python redis library (pip install redis) on your computer. Create a Redis hash called test with the fields count (1) and name ('Fester Bestertester'). Print all the fields for test."
   ]
  },
  {
   "cell_type": "code",
   "execution_count": 9,
   "id": "4650d673",
   "metadata": {
    "id": "4650d673",
    "outputId": "a83d0373-d3aa-4e7e-d153-925cdd535992"
   },
   "outputs": [
    {
     "name": "stdout",
     "output_type": "stream",
     "text": [
      "Requirement already satisfied: redis in c:\\users\\mihir\\anaconda3\\lib\\site-packages (4.3.4)\n",
      "Requirement already satisfied: packaging>=20.4 in c:\\users\\mihir\\anaconda3\\lib\\site-packages (from redis) (21.3)\n",
      "Requirement already satisfied: deprecated>=1.2.3 in c:\\users\\mihir\\anaconda3\\lib\\site-packages (from redis) (1.2.13)\n",
      "Requirement already satisfied: async-timeout>=4.0.2 in c:\\users\\mihir\\anaconda3\\lib\\site-packages (from redis) (4.0.2)\n",
      "Requirement already satisfied: wrapt<2,>=1.10 in c:\\users\\mihir\\anaconda3\\lib\\site-packages (from deprecated>=1.2.3->redis) (1.12.1)\n",
      "Requirement already satisfied: pyparsing!=3.0.5,>=2.0.2 in c:\\users\\mihir\\anaconda3\\lib\\site-packages (from packaging>=20.4->redis) (3.0.4)\n"
     ]
    }
   ],
   "source": [
    "!pip install redis"
   ]
  },
  {
   "cell_type": "code",
   "execution_count": 10,
   "id": "4e5ccdf0",
   "metadata": {
    "id": "4e5ccdf0"
   },
   "outputs": [
    {
     "name": "stderr",
     "output_type": "stream",
     "text": [
      "C:\\Users\\mihir\\AppData\\Local\\Temp\\ipykernel_27876\\19521559.py:4: DeprecationWarning: Redis.hmset() is deprecated. Use Redis.hset() instead.\n",
      "  conn.hmset('test', {'count': 1, 'name': 'Fester Bestertester'})\n"
     ]
    },
    {
     "data": {
      "text/plain": [
       "{b'count': b'1', b'name': b'Fester Bestertester'}"
      ]
     },
     "execution_count": 10,
     "metadata": {},
     "output_type": "execute_result"
    }
   ],
   "source": [
    "import redis\n",
    "conn = redis.Redis()\n",
    "conn.delete('test')\n",
    "conn.hmset('test', {'count': 1, 'name': 'Fester Bestertester'})\n",
    "conn.hgetall('test')"
   ]
  },
  {
   "cell_type": "markdown",
   "id": "2c69b326",
   "metadata": {
    "id": "2c69b326"
   },
   "source": [
    "#### 10. Increment the count field of test and print it."
   ]
  },
  {
   "cell_type": "code",
   "execution_count": 11,
   "id": "07a3b052",
   "metadata": {
    "id": "07a3b052",
    "outputId": "0a9bf8c1-1085-4c79-af75-14a1b2d9e443"
   },
   "outputs": [
    {
     "data": {
      "text/plain": [
       "b'4'"
      ]
     },
     "execution_count": 11,
     "metadata": {},
     "output_type": "execute_result"
    }
   ],
   "source": [
    "conn.hincrby('test', 'count', 3)\n",
    "conn.hget('test', 'count')"
   ]
  },
  {
   "cell_type": "code",
   "execution_count": null,
   "id": "c6602936",
   "metadata": {},
   "outputs": [],
   "source": []
  }
 ],
 "metadata": {
  "colab": {
   "collapsed_sections": [],
   "name": "Python Basics Assignment_20.ipynb",
   "provenance": []
  },
  "kernelspec": {
   "display_name": "Python 3 (ipykernel)",
   "language": "python",
   "name": "python3"
  },
  "language_info": {
   "codemirror_mode": {
    "name": "ipython",
    "version": 3
   },
   "file_extension": ".py",
   "mimetype": "text/x-python",
   "name": "python",
   "nbconvert_exporter": "python",
   "pygments_lexer": "ipython3",
   "version": "3.9.12"
  }
 },
 "nbformat": 4,
 "nbformat_minor": 5
}
