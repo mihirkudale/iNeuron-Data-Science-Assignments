{
 "cells": [
  {
   "cell_type": "markdown",
   "id": "984b4513",
   "metadata": {
    "id": "984b4513"
   },
   "source": [
    "# Assignment 21 Solutions"
   ]
  },
  {
   "cell_type": "markdown",
   "id": "rLBMjuD5KKR5",
   "metadata": {
    "id": "rLBMjuD5KKR5"
   },
   "source": [
    "**SUBMITTED BY: MIHIR KUDALE**"
   ]
  },
  {
   "cell_type": "markdown",
   "id": "4fe8b19e",
   "metadata": {
    "id": "4fe8b19e"
   },
   "source": [
    "#### 1. Add the current date to the text file today.txt as a string."
   ]
  },
  {
   "cell_type": "code",
   "execution_count": 1,
   "id": "4c5ad5ac",
   "metadata": {
    "colab": {
     "base_uri": "https://localhost:8080/"
    },
    "id": "4c5ad5ac",
    "outputId": "704851de-1356-47c9-f8ef-0bee1fa87d0e"
   },
   "outputs": [
    {
     "name": "stdout",
     "output_type": "stream",
     "text": [
      "10-09-2022\n"
     ]
    }
   ],
   "source": [
    "import datetime\n",
    "# Code to Add current date to the today.txt file\n",
    "file = open('today.txt','w')\n",
    "file.write(datetime.datetime.now().strftime(\"%d-%m-%Y\"))\n",
    "file.close()\n",
    "# Code to Read current date from today.txt file\n",
    "file = open('today.txt','r')\n",
    "print(file.read())\n",
    "file.close()"
   ]
  },
  {
   "cell_type": "markdown",
   "id": "6cf23762",
   "metadata": {
    "id": "6cf23762"
   },
   "source": [
    "#### 2. Read the text file today.txt into the string today_string"
   ]
  },
  {
   "cell_type": "code",
   "execution_count": 2,
   "id": "107143ea",
   "metadata": {
    "colab": {
     "base_uri": "https://localhost:8080/"
    },
    "id": "107143ea",
    "outputId": "c1561296-ae7e-4f29-8de0-cbda08e9cc86"
   },
   "outputs": [
    {
     "name": "stdout",
     "output_type": "stream",
     "text": [
      "10-09-2022\n"
     ]
    }
   ],
   "source": [
    "file = open('today.txt','r')\n",
    "today_string = file.read()\n",
    "print(today_string)"
   ]
  },
  {
   "cell_type": "markdown",
   "id": "165addb6",
   "metadata": {
    "id": "165addb6"
   },
   "source": [
    "#### 3. Parse the date from today_string."
   ]
  },
  {
   "cell_type": "code",
   "execution_count": 3,
   "id": "c622da5b",
   "metadata": {
    "colab": {
     "base_uri": "https://localhost:8080/"
    },
    "id": "c622da5b",
    "outputId": "4c4c2602-00e8-4401-f2f1-9fa918905dd2"
   },
   "outputs": [
    {
     "name": "stdout",
     "output_type": "stream",
     "text": [
      "2022-09-10 00:00:00\n"
     ]
    }
   ],
   "source": [
    "from datetime import datetime\n",
    "parsed_data = datetime.strptime(today_string, '%d-%m-%Y')\n",
    "print(parsed_data)"
   ]
  },
  {
   "cell_type": "markdown",
   "id": "664d3278",
   "metadata": {
    "id": "664d3278"
   },
   "source": [
    "#### 4. List the files in your current directory"
   ]
  },
  {
   "cell_type": "code",
   "execution_count": 4,
   "id": "cbacd0e4",
   "metadata": {
    "colab": {
     "base_uri": "https://localhost:8080/"
    },
    "id": "cbacd0e4",
    "outputId": "a331ecf3-65a7-4073-f797-3bbeadc61340"
   },
   "outputs": [
    {
     "name": "stdout",
     "output_type": "stream",
     "text": [
      "Assignment_1.docx\n",
      "Assignment_10.docx\n",
      "Assignment_11.docx\n",
      "Assignment_12.docx\n",
      "Assignment_13.docx\n",
      "Assignment_14.docx\n",
      "Assignment_15.docx\n",
      "Assignment_17.docx\n",
      "Assignment_18.docx\n",
      "Assignment_19.docx\n",
      "Assignment_2.docx\n",
      "Assignment_20.docx\n",
      "Assignment_21.docx\n",
      "Assignment_3.docx\n",
      "Assignment_4.docx\n",
      "Assignment_5.docx\n",
      "Assignment_6.docx\n",
      "Assignment_7.docx\n",
      "Assignment_8.docx\n",
      "Assignment_9.docx\n",
      "books.csv\n",
      "books.db\n",
      "Python Basics_Assignment_1.ipynb\n",
      "Python_Basics_Assignment_10.ipynb\n",
      "Python_Basics_Assignment_11.ipynb\n",
      "Python_Basics_Assignment_12.ipynb\n",
      "Python_Basics_Assignment_13.ipynb\n",
      "Python_Basics_Assignment_14.ipynb\n",
      "Python_Basics_Assignment_15.ipynb\n",
      "Python_Basics_Assignment_16.ipynb\n",
      "Python_Basics_Assignment_17.ipynb\n",
      "Python_Basics_Assignment_19.ipynb\n",
      "Python_Basics_Assignment_2.ipynb\n",
      "Python_Basics_Assignment_20.ipynb\n",
      "Python_Basics_Assignment_21.ipynb\n",
      "Python_Basics_Assignment_22.ipynb\n",
      "Python_Basics_Assignment_23.ipynb\n",
      "Python_Basics_Assignment_24.ipynb\n",
      "Python_Basics_Assignment_25.ipynb\n",
      "Python_Basics_Assignment_3.ipynb\n",
      "Python_Basics_Assignment_4.ipynb\n",
      "Python_Basics_Assignment_5.ipynb\n",
      "Python_Basics_Assignment_6.ipynb\n",
      "Python_Basics_Assignment_7.ipynb\n",
      "Python_Basics_Assignment_8.ipynb\n",
      "Python_Basics_Assignment_9.ipynb\n",
      "test.txt\n",
      "today.txt\n",
      "Python Basics_Assignment_1-checkpoint.ipynb\n",
      "Python_Basics_Assignment_10-checkpoint.ipynb\n",
      "Python_Basics_Assignment_11-checkpoint.ipynb\n",
      "Python_Basics_Assignment_12-checkpoint.ipynb\n",
      "Python_Basics_Assignment_13-checkpoint.ipynb\n",
      "Python_Basics_Assignment_14-checkpoint.ipynb\n",
      "Python_Basics_Assignment_15-checkpoint.ipynb\n",
      "Python_Basics_Assignment_16-checkpoint.ipynb\n",
      "Python_Basics_Assignment_17-checkpoint.ipynb\n",
      "Python_Basics_Assignment_18-checkpoint.ipynb\n",
      "Python_Basics_Assignment_19-checkpoint.ipynb\n",
      "Python_Basics_Assignment_2-checkpoint.ipynb\n",
      "Python_Basics_Assignment_20-checkpoint.ipynb\n",
      "Python_Basics_Assignment_3-checkpoint.ipynb\n",
      "Python_Basics_Assignment_4-checkpoint.ipynb\n",
      "Python_Basics_Assignment_5-checkpoint.ipynb\n",
      "Python_Basics_Assignment_6-checkpoint.ipynb\n",
      "Python_Basics_Assignment_7-checkpoint.ipynb\n",
      "Python_Basics_Assignment_8-checkpoint.ipynb\n",
      "Python_Basics_Assignment_9-checkpoint.ipynb\n",
      "Python_Basics_Assignment_18.ipynb\n",
      "Q1.py\n",
      "Q2.py\n",
      "Q3.py\n",
      "Q4.py\n",
      "Q5.py\n",
      "Q6.py\n",
      "Q7.py\n",
      "zoo.py\n",
      "Python_Basics_Assignment_18-checkpoint.ipynb\n",
      "Python_Basic_Assignments_18-checkpoint.ipynb\n",
      "zoo.cpython-310.pyc\n",
      "zoo.cpython-39.pyc\n"
     ]
    }
   ],
   "source": [
    "import os\n",
    "for folders, subfolders, files in os.walk(os.getcwd()):\n",
    "    for file in files:\n",
    "        print(file)"
   ]
  },
  {
   "cell_type": "markdown",
   "id": "291a203b",
   "metadata": {
    "id": "291a203b"
   },
   "source": [
    "#### 5. Create a list of all of the files in your parent directory (minimum five files should be available)."
   ]
  },
  {
   "cell_type": "code",
   "execution_count": 5,
   "id": "efe9618b",
   "metadata": {
    "colab": {
     "base_uri": "https://localhost:8080/"
    },
    "id": "efe9618b",
    "outputId": "5f7bc177-df02-43e1-e21c-8c7112c8caf8"
   },
   "outputs": [
    {
     "data": {
      "text/plain": [
       "['.ipynb_checkpoints',\n",
       " 'Assignment_1.docx',\n",
       " 'Assignment_10.docx',\n",
       " 'Assignment_11.docx',\n",
       " 'Assignment_12.docx',\n",
       " 'Assignment_13.docx',\n",
       " 'Assignment_14.docx',\n",
       " 'Assignment_15.docx',\n",
       " 'Assignment_17.docx',\n",
       " 'Assignment_18.docx',\n",
       " 'Assignment_19.docx',\n",
       " 'Assignment_2.docx',\n",
       " 'Assignment_20.docx',\n",
       " 'Assignment_21.docx',\n",
       " 'Assignment_3.docx',\n",
       " 'Assignment_4.docx',\n",
       " 'Assignment_5.docx',\n",
       " 'Assignment_6.docx',\n",
       " 'Assignment_7.docx',\n",
       " 'Assignment_8.docx',\n",
       " 'Assignment_9.docx',\n",
       " 'books.csv',\n",
       " 'books.db',\n",
       " 'Python Basics_Assignment_1.ipynb',\n",
       " 'Python_Basics_Assignment_10.ipynb',\n",
       " 'Python_Basics_Assignment_11.ipynb',\n",
       " 'Python_Basics_Assignment_12.ipynb',\n",
       " 'Python_Basics_Assignment_13.ipynb',\n",
       " 'Python_Basics_Assignment_14.ipynb',\n",
       " 'Python_Basics_Assignment_15.ipynb',\n",
       " 'Python_Basics_Assignment_16.ipynb',\n",
       " 'Python_Basics_Assignment_17.ipynb',\n",
       " 'Python_Basics_Assignment_18',\n",
       " 'Python_Basics_Assignment_19.ipynb',\n",
       " 'Python_Basics_Assignment_2.ipynb',\n",
       " 'Python_Basics_Assignment_20.ipynb',\n",
       " 'Python_Basics_Assignment_21.ipynb',\n",
       " 'Python_Basics_Assignment_22.ipynb',\n",
       " 'Python_Basics_Assignment_23.ipynb',\n",
       " 'Python_Basics_Assignment_24.ipynb',\n",
       " 'Python_Basics_Assignment_25.ipynb',\n",
       " 'Python_Basics_Assignment_3.ipynb',\n",
       " 'Python_Basics_Assignment_4.ipynb',\n",
       " 'Python_Basics_Assignment_5.ipynb',\n",
       " 'Python_Basics_Assignment_6.ipynb',\n",
       " 'Python_Basics_Assignment_7.ipynb',\n",
       " 'Python_Basics_Assignment_8.ipynb',\n",
       " 'Python_Basics_Assignment_9.ipynb',\n",
       " 'test.txt',\n",
       " 'today.txt']"
      ]
     },
     "execution_count": 5,
     "metadata": {},
     "output_type": "execute_result"
    }
   ],
   "source": [
    "import os \n",
    "os.listdir()"
   ]
  },
  {
   "cell_type": "markdown",
   "id": "203dd9fe",
   "metadata": {
    "id": "203dd9fe"
   },
   "source": [
    "#### 6. Use multiprocessing to create three separate processes. Make each one wait a random number of seconds between one and five, print the current time, and then exit."
   ]
  },
  {
   "cell_type": "code",
   "execution_count": 6,
   "id": "bcb2799b",
   "metadata": {
    "colab": {
     "base_uri": "https://localhost:8080/"
    },
    "id": "bcb2799b",
    "outputId": "1df88bf1-4cb2-4348-8ce3-2323c4d0d6da"
   },
   "outputs": [],
   "source": [
    "import multiprocessing\n",
    "import time \n",
    "import random\n",
    "import datetime\n",
    "\n",
    "def procOne():\n",
    "    print(f'Proc_one_Starttime -> {datetime.datetime.now()}')\n",
    "    time.sleep(random.randint(1,5))\n",
    "    print(f'Proc_one_Endtime -> {datetime.datetime.now()}')\n",
    "    \n",
    "def procTwo():\n",
    "    print(f'Proc_two_Starttime -> {datetime.datetime.now()}')\n",
    "    time.sleep(random.randint(1,5))\n",
    "    print(f'Proc_two_Endtime -> {datetime.datetime.now()}')\n",
    "\n",
    "def procThree():\n",
    "    print(f'Proc_two_Starttime -> {datetime.datetime.now()}')\n",
    "    time.sleep(random.randint(1,5))\n",
    "    print(f'Proc_two_Endtime -> {datetime.datetime.now()}')\n",
    "    \n",
    "if __name__ == \"__main__\":    \n",
    "    p1 = multiprocessing.Process(target=procOne)\n",
    "    p2 = multiprocessing.Process(target=procTwo)\n",
    "    p3 = multiprocessing.Process(target=procThree)\n",
    "\n",
    "    p1.start()\n",
    "    p2.start()\n",
    "    p3.start()\n",
    "\n",
    "    p1.join()\n",
    "    p2.join()\n",
    "    p3.join()"
   ]
  },
  {
   "cell_type": "markdown",
   "id": "71d07e78",
   "metadata": {
    "id": "71d07e78"
   },
   "source": [
    "#### 7. Create a date object of your day of birth."
   ]
  },
  {
   "cell_type": "code",
   "execution_count": 7,
   "id": "b3e67c1c",
   "metadata": {
    "colab": {
     "base_uri": "https://localhost:8080/"
    },
    "id": "b3e67c1c",
    "outputId": "6c6edbfd-5300-4117-87da-e3f814879aeb"
   },
   "outputs": [
    {
     "name": "stdout",
     "output_type": "stream",
     "text": [
      "1994-01-12 00:00:00 <class 'datetime.datetime'>\n"
     ]
    }
   ],
   "source": [
    "from datetime import datetime\n",
    "my_dob = datetime.strptime('12/01/1994','%d/%m/%Y')\n",
    "print(my_dob, type(my_dob))"
   ]
  },
  {
   "cell_type": "markdown",
   "id": "e5775db9",
   "metadata": {
    "id": "e5775db9"
   },
   "source": [
    "#### 8. What day of the week was your day of birth?"
   ]
  },
  {
   "cell_type": "code",
   "execution_count": 8,
   "id": "65b6ae43",
   "metadata": {
    "colab": {
     "base_uri": "https://localhost:8080/",
     "height": 35
    },
    "id": "65b6ae43",
    "outputId": "8d99f81b-c341-4afb-ed4a-8f5a5935066d"
   },
   "outputs": [
    {
     "data": {
      "text/plain": [
       "'Wednesday'"
      ]
     },
     "execution_count": 8,
     "metadata": {},
     "output_type": "execute_result"
    }
   ],
   "source": [
    "from datetime import datetime\n",
    "my_dob = datetime(1994,1,12)\n",
    "my_dob.strftime(\"%A\")"
   ]
  },
  {
   "cell_type": "markdown",
   "id": "abe779de",
   "metadata": {
    "id": "abe779de"
   },
   "source": [
    "#### 9. When will you be (or when were you) 10,000 days old?"
   ]
  },
  {
   "cell_type": "code",
   "execution_count": 9,
   "id": "db7e28a0",
   "metadata": {
    "colab": {
     "base_uri": "https://localhost:8080/"
    },
    "id": "db7e28a0",
    "outputId": "97a1c375-6d8b-455f-9fd0-bf34bde9ac2f"
   },
   "outputs": [
    {
     "data": {
      "text/plain": [
       "datetime.datetime(1966, 8, 27, 0, 0)"
      ]
     },
     "execution_count": 9,
     "metadata": {},
     "output_type": "execute_result"
    }
   ],
   "source": [
    "from datetime import datetime, timedelta\n",
    "my_dob = datetime.strptime(\"12/01/1994\",'%d/%m/%Y')\n",
    "future_date = my_dob-timedelta(10000)\n",
    "future_date"
   ]
  }
 ],
 "metadata": {
  "colab": {
   "name": "Python Basics Assignment_21.ipynb",
   "provenance": []
  },
  "kernelspec": {
   "display_name": "Python 3 (ipykernel)",
   "language": "python",
   "name": "python3"
  },
  "language_info": {
   "codemirror_mode": {
    "name": "ipython",
    "version": 3
   },
   "file_extension": ".py",
   "mimetype": "text/x-python",
   "name": "python",
   "nbconvert_exporter": "python",
   "pygments_lexer": "ipython3",
   "version": "3.9.12"
  }
 },
 "nbformat": 4,
 "nbformat_minor": 5
}
