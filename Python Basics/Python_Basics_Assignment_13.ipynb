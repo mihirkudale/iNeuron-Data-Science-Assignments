{
 "cells": [
  {
   "cell_type": "markdown",
   "id": "e3bb5f2d",
   "metadata": {
    "id": "e3bb5f2d"
   },
   "source": [
    "# Assignment 13 Solutions"
   ]
  },
  {
   "cell_type": "markdown",
   "id": "f7pDskKu-yli",
   "metadata": {
    "id": "f7pDskKu-yli"
   },
   "source": [
    "**SUBMITTED BY: MIHIR KUDALE**"
   ]
  },
  {
   "cell_type": "markdown",
   "id": "d8aab80a",
   "metadata": {
    "id": "d8aab80a"
   },
   "source": [
    "#### 1. What advantages do Excel spreadsheets have over CSV spreadsheets?\n",
    "**Ans:** The Advantages of Excel over CSV are:\n",
    "1. Do have types for their values—everything is a string\n",
    "2. Do have settings for font size or color\n",
    "3. Do have multiple worksheets\n",
    "4. Can specify cell widths and heights\n",
    "5. Can have merged cells\n",
    "6. Can have images or charts embedded in them"
   ]
  },
  {
   "cell_type": "markdown",
   "id": "b66e958d",
   "metadata": {
    "id": "b66e958d"
   },
   "source": [
    "#### 2.What do you pass to csv.reader() and csv.writer() to create reader and writer objects?\n",
    "\n",
    "**Ans:** To write a CSV file with the `csv` module, First, call `open()` and pass it `'w'` to open a file in write mode, and it create a object .That object pass in `csv.writer()`\n",
    "\n",
    "`write_file = open('filename.csv','w')`\n",
    "\n",
    "`Writer = csv.writer(write_file)`\n",
    "\n",
    "To read a CSV file with the `csv` module, first open it using the `open()` function and it create a object .That object pass in `csv.reader()`\n",
    "\n",
    "`read_file = open('filename.csv')`\n",
    "\n",
    "`Reader = csv.reader(read_file)`"
   ]
  },
  {
   "cell_type": "markdown",
   "id": "c3478f56",
   "metadata": {
    "id": "c3478f56"
   },
   "source": [
    "#### 3. What modes do File objects for reader and writer objects need to be opened in?\n",
    "**Ans:** For `csv.reader(iterable_file_object)`, the file objects needed to be opened in `read` mode `mode='r'` Whereas for `csv.writer(iterable_file_object)` the file objects needed to be opened in `write` mode `mode='w'`\n"
   ]
  },
  {
   "cell_type": "markdown",
   "id": "c2f017ec",
   "metadata": {
    "id": "c2f017ec"
   },
   "source": [
    "#### 4. What method takes a list argument and writes it to a CSV file?\n",
    "**Ans:** The `writerow()` method\n",
    "\n",
    "`write_file = open('filename.csv','w')`\n",
    "\n",
    "`Writer = csv.writer(write_file)`\n",
    "\n",
    "`Writer.writerow(['mihir','kudale','hello'])`"
   ]
  },
  {
   "cell_type": "markdown",
   "id": "68179164",
   "metadata": {
    "id": "68179164"
   },
   "source": [
    "#### 5. What do the keyword arguments delimiter and line terminator do?\n",
    "**Ans:** Lets take the example of a csv file:  \n",
    "`First Name, Last Name, Age`  \n",
    "`Mihir, Kudale, 28`  \n",
    "`Krish, Naik, 30`  \n",
    "Here `','` is Delimiter. We can use any Character as per our needs if required. Similarly Line Terminator comes at end of line by default it is newline and can be changed accourding to Requirement."
   ]
  },
  {
   "cell_type": "markdown",
   "id": "94752f89",
   "metadata": {
    "id": "94752f89"
   },
   "source": [
    "#### 6. What function takes a string of JSON data and returns a Python data structure?\n",
    "**Ans:** `json.loads()` method takes a string of JSON data and returns a Python data structure"
   ]
  },
  {
   "cell_type": "markdown",
   "id": "bc39716d",
   "metadata": {
    "id": "bc39716d"
   },
   "source": [
    "#### 7. What function takes a Python data structure and returns a string of JSON data?\n",
    "**Ans:** `json.dumps()` method takes a python data structure and returns a string of JSON data"
   ]
  },
  {
   "cell_type": "code",
   "execution_count": null,
   "id": "Fm077qc0-wyO",
   "metadata": {
    "id": "Fm077qc0-wyO"
   },
   "outputs": [],
   "source": []
  }
 ],
 "metadata": {
  "colab": {
   "collapsed_sections": [],
   "name": "Python Basics Assignment_13.ipynb",
   "provenance": []
  },
  "kernelspec": {
   "display_name": "Python 3 (ipykernel)",
   "language": "python",
   "name": "python3"
  },
  "language_info": {
   "codemirror_mode": {
    "name": "ipython",
    "version": 3
   },
   "file_extension": ".py",
   "mimetype": "text/x-python",
   "name": "python",
   "nbconvert_exporter": "python",
   "pygments_lexer": "ipython3",
   "version": "3.9.12"
  }
 },
 "nbformat": 4,
 "nbformat_minor": 5
}
