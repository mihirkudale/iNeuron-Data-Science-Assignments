{
  "cells": [
    {
      "cell_type": "markdown",
      "id": "73b3a980",
      "metadata": {
        "id": "73b3a980"
      },
      "source": [
        "# Assignment 15 Solutions"
      ]
    },
    {
      "cell_type": "markdown",
      "id": "wil2KGecDmZa",
      "metadata": {
        "id": "wil2KGecDmZa"
      },
      "source": [
        "**SUBMITTED BY: MIHIR KUDALE**"
      ]
    },
    {
      "cell_type": "markdown",
      "id": "02d9ed9f",
      "metadata": {
        "id": "02d9ed9f",
        "tags": []
      },
      "source": [
        "#### 1.\tWhat are the new features added in Python 3.8 version?\n",
        "**Ans:** Some New Features Added in Python 3.8 Version are:\n",
        "\n",
        "**Walrus Operator:** This operator is used to assign and return a value in the same expression. This removes the need for initializing the variable upfront. The major benefit of this is it\n",
        "saves some lines of code. It is also known as **`The Walrus Operator`** due to its similarity to the eyes and tusks of a walrus.\n",
        "\n",
        "**`yield`** and **`return`** statements do not require parentheses to return multiple values. \n",
        "\n",
        "Reversed works with a dictionary. The built-in method **`reversed()`** can be used for accessing the elements in the reverse order of insertion\n",
        "\n",
        "**Dict comprehensions** have been modified so that the key is computed first and the value second. \n",
        "\n",
        "\n",
        "**`importlib_metadata`** is a new library added in the Python’s standard utility modules, that provides an API for accessing an installed package’s metadata, such as its entry points or its top-level name.\n",
        "\n",
        "f-strings now support **`=`** , to make string interpolation easy. Python 3.8 allows the use of the above-discussed assignment operator and equal sign **`(=)`** inside the f-strings. \n",
        "\n",
        "In the three-argument form of **`pow()`**, when the exponent is -1, it calculates the modular multiplicative inverse of the given value\n",
        "\n",
        "The **`csv.DictReader`** now returns instances of dictionary instead of a **`collections.OrderedDict`**. \n",
        "\n",
        "If you miss a comma in your code such as a = **`[(1, 2) (3, 4)]`**, instead of throwing **`TypeError`**, it displays an informative Syntax warning. "
      ]
    },
    {
      "cell_type": "code",
      "execution_count": 1,
      "id": "d7b07f47",
      "metadata": {
        "colab": {
          "base_uri": "https://localhost:8080/",
          "height": 133
        },
        "id": "d7b07f47",
        "outputId": "6fde200b-86ba-4725-facc-7960e8a81c22"
      },
      "outputs": [
        {
          "output_type": "error",
          "ename": "SyntaxError",
          "evalue": "ignored",
          "traceback": [
            "\u001b[0;36m  File \u001b[0;32m\"<ipython-input-1-8f41d753a6f2>\"\u001b[0;36m, line \u001b[0;32m2\u001b[0m\n\u001b[0;31m    if (sum := 10 + 5) > 10: # its always recommended to use paranthesis with walrus operator\u001b[0m\n\u001b[0m            ^\u001b[0m\n\u001b[0;31mSyntaxError\u001b[0m\u001b[0;31m:\u001b[0m invalid syntax\n"
          ]
        }
      ],
      "source": [
        "# Example of Walrus Operator\n",
        "if (sum := 10 + 5) > 10: # its always recommended to use paranthesis with walrus operator\n",
        "    print(sum) #return 15 \n",
        "\n",
        "# Example of yield and return\n",
        "def hello():\n",
        "    return 'Hello','Good Morning'\n",
        "print(hello())\n",
        "def count():\n",
        "    for i in range(5):\n",
        "        yield i,i**2\n",
        "for ele in count():\n",
        "    print(ele, end=\" \")\n",
        "print()\n",
        "    \n",
        "# Example of Reversed Support for dict\n",
        "t_dict = {\"Name\":\"Mihir Kudale\",\"Role\":\"Manager\"}\n",
        "for ele in reversed(t_dict):\n",
        "    print(f'{ele}:\"{t_dict[ele]}\"')\n",
        "    \n",
        "# Example of using = in F-strings\n",
        "len_string = len(\"Ineuron Full Stack Data Science\")\n",
        "print(f'The length of string is {len_string = }')\n",
        "\n",
        "# Example of Informative syntax instead of synatx error while missing comma.\n",
        "r_list = [(1,2) (3,4)]"
      ]
    },
    {
      "cell_type": "markdown",
      "id": "9b49a548",
      "metadata": {
        "id": "9b49a548"
      },
      "source": [
        "#### 2.\tWhat is monkey patching in Python?\n",
        "**Ans:** In Python, the term monkey patch refers to making dynamic (or run-time) modifications to a class or module. In Python, we can actually change the behavior of code at run-time."
      ]
    },
    {
      "cell_type": "code",
      "execution_count": 2,
      "id": "ee6fa7d3",
      "metadata": {
        "id": "ee6fa7d3",
        "colab": {
          "base_uri": "https://localhost:8080/"
        },
        "outputId": "6d22750f-98bd-403a-b15b-bd442a755876"
      },
      "outputs": [
        {
          "output_type": "stream",
          "name": "stdout",
          "text": [
            "monkey_f() is being called\n"
          ]
        }
      ],
      "source": [
        "class A:\n",
        "    def func(self):\n",
        "        print(\"func() is being called\")\n",
        "\n",
        "def monkey_f(self):\n",
        "    print(\"monkey_f() is being called\")\n",
        "\n",
        "A.func = monkey_f\n",
        "some_object = A()\n",
        "some_object.func()"
      ]
    },
    {
      "cell_type": "markdown",
      "id": "430104b8",
      "metadata": {
        "id": "430104b8"
      },
      "source": [
        "#### 3.\tWhat is the difference between a shallow copy and deep copy?\n",
        "**Ans:** The Differences between a Shallow Copy and deep copy are as follows: \n",
        "\n",
        "When an object is copied using **`copy()`**, it is called **shallow copy** as changes made in copied object will also make corresponding changes in original object, because both the objects\n",
        "will be referencing same address location. \n",
        "\n",
        "When an object is copied using **`deepcopy()`**, it is called **deep copy** as changes made in copied object will not make corresponding changes in original object, because both the objects will not be referencing same address location. "
      ]
    },
    {
      "cell_type": "code",
      "execution_count": 3,
      "id": "c0f56936",
      "metadata": {
        "id": "c0f56936",
        "colab": {
          "base_uri": "https://localhost:8080/"
        },
        "outputId": "6ab7208c-d164-4a69-c382-f67a0c9de7a9"
      },
      "outputs": [
        {
          "output_type": "stream",
          "name": "stdout",
          "text": [
            "Original Elements of each List\n",
            "[1, 2, [3, 4], 5, 6]\n",
            "[1, 2, [3, 4], 5, 6]\n",
            "[1, 2, [3, 4], 5, 6]\n",
            "New Elements of each List\n",
            "[1, 2, [3, 4], 5, 20]\n",
            "[10, 2, [3, 4], 5, 6]\n",
            "[1, 2, [3, 4], 5, 20]\n"
          ]
        }
      ],
      "source": [
        "from copy import deepcopy, copy\n",
        "l_one = [1,2,[3,4],5,6]\n",
        "l_two = deepcopy(l_one)\n",
        "l_three = l_one\n",
        "print(f'Original Elements of each List\\n{l_one}\\n{l_two}\\n{l_three}')\n",
        "l_two[0] = 10\n",
        "l_three[-1] = 20\n",
        "print(f'New Elements of each List\\n{l_one}\\n{l_two}\\n{l_three}')"
      ]
    },
    {
      "cell_type": "markdown",
      "id": "b6b51b48",
      "metadata": {
        "id": "b6b51b48"
      },
      "source": [
        "#### 4.\tWhat is the maximum possible length of an identifier?\n",
        "**Ans:** In Python, the highest possible length of an identifier is 79 characters. Python is a high level programming language. It’s also a complex form and a collector of waste.\n",
        "\n",
        "- Python, particularly when combined with identifiers, is case-sensitive.\n",
        "- When writing or using identifiers in Python, it has a maximum of 79 characters.\n",
        "- Unlikely, Python gives the identifiers unlimited length.\n",
        "- However, the layout of PEP-8 prevents the user from breaking the rules and includes a 79-character limit."
      ]
    },
    {
      "cell_type": "markdown",
      "id": "726679fd",
      "metadata": {
        "id": "726679fd"
      },
      "source": [
        "#### 5.\tWhat is generator comprehension?\n",
        "**Ans:** A generator comprehension is a single-line specification for defining a generator in Python. \n",
        "\n",
        "- It is absolutely essential to learn this syntax in order to write simple and readable code.\n",
        "- Generator comprehension uses round bracket unlike square bracket in list comprehension.\n",
        "- The generator yields one item at a time and generates item only when in demand. Whereas, in a list comprehension, Python reserves memory for the whole list. Thus we can say that the generator expressions are memory efficient than the lists."
      ]
    },
    {
      "cell_type": "code",
      "execution_count": 4,
      "id": "bf6781e1",
      "metadata": {
        "id": "bf6781e1",
        "colab": {
          "base_uri": "https://localhost:8080/"
        },
        "outputId": "c2f7a6b8-078d-4d55-a5ea-910be5a1e65d"
      },
      "outputs": [
        {
          "output_type": "stream",
          "name": "stdout",
          "text": [
            "[0, 1, 2, 3, 4, 5, 6, 7, 8, 9]\n",
            "<generator object <genexpr> at 0x7fbdaf40f750>\n",
            "0 2 4 6 8 "
          ]
        }
      ],
      "source": [
        "in_list = [x for x in range(10)] # List Comprehension\n",
        "print(in_list)\n",
        "out_gen = (x for x in in_list if x%2 == 0) # Generator Comprehension\n",
        "print(out_gen) # Returns a Generator Object\n",
        "for ele in out_gen:\n",
        "    print(ele, end=\" \")"
      ]
    },
    {
      "cell_type": "code",
      "execution_count": null,
      "id": "eaf2fdaf-902d-4d3e-a1b9-0c81859f5cc2",
      "metadata": {
        "id": "eaf2fdaf-902d-4d3e-a1b9-0c81859f5cc2"
      },
      "outputs": [],
      "source": []
    }
  ],
  "metadata": {
    "colab": {
      "collapsed_sections": [],
      "provenance": []
    },
    "kernelspec": {
      "display_name": "Python 3 (ipykernel)",
      "language": "python",
      "name": "python3"
    },
    "language_info": {
      "codemirror_mode": {
        "name": "ipython",
        "version": 3
      },
      "file_extension": ".py",
      "mimetype": "text/x-python",
      "name": "python",
      "nbconvert_exporter": "python",
      "pygments_lexer": "ipython3",
      "version": "3.9.12"
    }
  },
  "nbformat": 4,
  "nbformat_minor": 5
}