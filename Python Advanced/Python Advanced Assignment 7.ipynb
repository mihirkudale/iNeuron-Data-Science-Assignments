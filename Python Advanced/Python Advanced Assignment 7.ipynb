{
 "cells": [
  {
   "cell_type": "markdown",
   "id": "56306a9b",
   "metadata": {
    "id": "56306a9b"
   },
   "source": [
    "# Assignment 7 Solutions"
   ]
  },
  {
   "cell_type": "markdown",
   "id": "6qGlTFvUvW9s",
   "metadata": {
    "id": "6qGlTFvUvW9s"
   },
   "source": [
    "**SUBMITTED BY: MIHIR KUDALE**"
   ]
  },
  {
   "cell_type": "markdown",
   "id": "890ac6ef",
   "metadata": {
    "id": "890ac6ef"
   },
   "source": [
    "#### Q1. What is the purpose of the try statement?\n",
    "**Ans:** **`try`** statement is used for exception handling in python. It consists of a block of risky statements which might cause an exception during runtime. If code within try block raises exception, then the exception will be reverted to the corresponding except block when multiple except blocks are present, else it will be reverted to the default except block. In short, try and except in union avoid programs from crashing during runtime due to exceptions."
   ]
  },
  {
   "cell_type": "code",
   "execution_count": 1,
   "id": "72d89888",
   "metadata": {
    "colab": {
     "base_uri": "https://localhost:8080/"
    },
    "id": "72d89888",
    "outputId": "5a9e235e-21b5-46bf-9e5d-b6d837473bdc"
   },
   "outputs": [
    {
     "name": "stdout",
     "output_type": "stream",
     "text": [
      "Division by Zero is Not Possible\n"
     ]
    }
   ],
   "source": [
    "try:\n",
    "    print(30/0)\n",
    "except ZeroDivisionError:\n",
    "    print('Division by Zero is Not Possible')"
   ]
  },
  {
   "cell_type": "markdown",
   "id": "4edfb2b6",
   "metadata": {
    "id": "4edfb2b6"
   },
   "source": [
    "#### Q2. What are the two most popular try statement variations?\n",
    "**Ans:** The Popular try statement variations are:\n",
    "1. **`try`,`except`**\n",
    "2. **`try`,`except`,`finally`**\n",
    "3. **`try`,`except`,`finally`,`else`**\n",
    "\n",
    "The **`try`** block is used to check code for exceptions during runtime. i.e. code inside `try` block will execute completely when there is no error in the program where as the code inside `except` block will execute whenever the program encounters some error in the preceeding **`try`** block.\n",
    "\n",
    "Where as the code enters the **`else`** block if and only if the try clause does not raise an exception. The code in the **`finally`** block will execute irrespective of exception."
   ]
  },
  {
   "cell_type": "markdown",
   "id": "c39b56b0",
   "metadata": {
    "id": "c39b56b0"
   },
   "source": [
    "#### Q3. What is the purpose of the raise statement?\n",
    "**Ans:** **`raise`** statement is used to trigger an exception explicitly, if a certain condition is not as per requirement of programmer. **`raise`** statement helps in triggering exception as per programming logic."
   ]
  },
  {
   "cell_type": "markdown",
   "id": "2ea68550",
   "metadata": {
    "id": "2ea68550"
   },
   "source": [
    "#### Q4. What does the assert statement do, and what other statement is it like?\n",
    "**Ans:** There are few assertions that programmer always want to be true to avoid code failure. This type of requirement is fulfilled by **`assert`** statement. This statement takes a boolean condition output of which is True which in turn helps Further Program Execute. If output of assert statement is False, it raises an Assertion Error."
   ]
  },
  {
   "cell_type": "code",
   "execution_count": 2,
   "id": "6df3fe6c",
   "metadata": {
    "colab": {
     "base_uri": "https://localhost:8080/",
     "height": 168
    },
    "id": "6df3fe6c",
    "outputId": "a14d7e58-f242-4500-ae7e-d1bad17d5cbc"
   },
   "outputs": [
    {
     "ename": "AssertionError",
     "evalue": "ignored",
     "output_type": "error",
     "traceback": [
      "\u001b[0;31m---------------------------------------------------------------------------\u001b[0m",
      "\u001b[0;31mAssertionError\u001b[0m                            Traceback (most recent call last)",
      "\u001b[0;32m<ipython-input-2-32a4b0eccebf>\u001b[0m in \u001b[0;36m<module>\u001b[0;34m()\u001b[0m\n\u001b[0;32m----> 1\u001b[0;31m \u001b[0;32massert\u001b[0m\u001b[0;34m(\u001b[0m\u001b[0;36m2\u001b[0m \u001b[0;34m==\u001b[0m \u001b[0;36m10\u001b[0m\u001b[0;34m)\u001b[0m\u001b[0;34m,\u001b[0m \u001b[0;34mf'this is not a valid statement'\u001b[0m\u001b[0;34m\u001b[0m\u001b[0;34m\u001b[0m\u001b[0m\n\u001b[0m",
      "\u001b[0;31mAssertionError\u001b[0m: this is not a valid statement"
     ]
    }
   ],
   "source": [
    "assert(2 == 10), f'this is not a valid statement'"
   ]
  },
  {
   "cell_type": "markdown",
   "id": "1cc50d65",
   "metadata": {
    "id": "1cc50d65"
   },
   "source": [
    "#### Q5. What is the purpose of the with/as argument, and what other statement is it like?\n",
    "**Ans:** **`with/as`** statement simplifies use of file handling in python. When we use a **`with`** statement for file reading, there is no need for programmer to explicitly take care of activities like resource deallocation and file closing by using file.close() method. **`with`** statement itself ensures proper acquisition and release of resources. This avoids triggering of exceptions if the file closing is unknowingly forgotten in the code execution.\n",
    "\n",
    "`with open('sample_file.txt','w') as file:\n",
    "    file.write('Hello World')`"
   ]
  },
  {
   "cell_type": "code",
   "execution_count": null,
   "id": "pN-hE0Inu2sA",
   "metadata": {
    "id": "pN-hE0Inu2sA"
   },
   "outputs": [],
   "source": []
  }
 ],
 "metadata": {
  "colab": {
   "collapsed_sections": [],
   "name": "Advance_Assignment_07.ipynb",
   "provenance": []
  },
  "kernelspec": {
   "display_name": "Python 3 (ipykernel)",
   "language": "python",
   "name": "python3"
  },
  "language_info": {
   "codemirror_mode": {
    "name": "ipython",
    "version": 3
   },
   "file_extension": ".py",
   "mimetype": "text/x-python",
   "name": "python",
   "nbconvert_exporter": "python",
   "pygments_lexer": "ipython3",
   "version": "3.9.12"
  }
 },
 "nbformat": 4,
 "nbformat_minor": 5
}
