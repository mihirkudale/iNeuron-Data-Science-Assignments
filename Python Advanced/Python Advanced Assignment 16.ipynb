{
 "cells": [
  {
   "cell_type": "markdown",
   "id": "1b34bd2a",
   "metadata": {
    "id": "1b34bd2a"
   },
   "source": [
    "# Assignment 16 Solutions"
   ]
  },
  {
   "cell_type": "markdown",
   "id": "xjTkVvoDWMIw",
   "metadata": {
    "id": "xjTkVvoDWMIw"
   },
   "source": [
    "**SUBMITTED BY: MIHIR KUDALE**"
   ]
  },
  {
   "cell_type": "markdown",
   "id": "f8313cc0",
   "metadata": {
    "id": "f8313cc0"
   },
   "source": [
    "#### Q1. What is the benefit of regular expressions?\n",
    "**Ans:** Regular Expressions, also known as **`regex`** or **`regexp`**, are used to match strings of text such as particular characters, words, or patterns of characters. It means that we can match and extract any string pattern from the text with the help of regular expressions. it helps the programmers to Write less and cleaner code. it also avoids multiple use of **`if/else`** statements. Regular expressions are a powerful feature of any language and solve a particular class of problems extraordinarily well. They can be used to validate user input, extract relevant data from a string, or even modify a string based on its contents.\n",
    "\n",
    "Python's regular expression library is called \"re\" and is based on Perl's regular expression engine, which is pretty much an industry standard now."
   ]
  },
  {
   "cell_type": "markdown",
   "id": "3ec69ca0",
   "metadata": {
    "id": "3ec69ca0"
   },
   "source": [
    "#### Q2. Describe the difference between the effects of \"(ab)c+\" and \"a(bc)+\" Which of these, if any, is the unqualified pattern \"abc+\"?\n",
    "**Ans:** Both **`(ab)c+`** and **`a(bc)+`** are valid patterns. The difference between both these patterns is that in **`(ab)c+`** **`ab`** is a group whereas in **`a(bc)+`** **`bc`** is a group. Capturing groups are a way to treat multiple characters as a single unit. They are created by placing the characters to be grouped inside a set of parentheses."
   ]
  },
  {
   "cell_type": "markdown",
   "id": "2b4c8728",
   "metadata": {
    "id": "2b4c8728"
   },
   "source": [
    "#### Q3. How much do you need to use the following sentence while using regular expressions?\n",
    "**`import re`**  \n",
    "\n",
    "**Ans:** **`import re`** statement always has to be imported before using regular expressions. In a program, we need to import this once so that we can use Regular Expressions subsequently."
   ]
  },
  {
   "cell_type": "markdown",
   "id": "2338be46",
   "metadata": {
    "id": "2338be46"
   },
   "source": [
    "#### Q4. Which characters have special significance in square brackets when expressing a range, and under what circumstances?\n",
    "**Ans:** The Characters **`.`,`*`,`?`,`^`**,or,**`()`**, have a special signiface when used with square brackets. They need not be be explicitly escaped by **`\\`** as in case of pattern texts in a raw string. Range in Regular Expressions Ranges of characters can be indicated by giving two characters and separating them by a ‘-‘, for example [a-z] will match any lowercase ASCII letter, [0-5][0-9] will match all the two-digits numbers from 00 to 59."
   ]
  },
  {
   "cell_type": "markdown",
   "id": "bc0c3bef",
   "metadata": {
    "id": "bc0c3bef"
   },
   "source": [
    "#### Q5. How does compiling a regular-expression object benefit you?\n",
    "**Ans:** We can Combine a regular expression pattern into pattern Objects which can be used for pattern matching. It also helps to search a pattern again without rewriting it."
   ]
  },
  {
   "cell_type": "markdown",
   "id": "c2885976",
   "metadata": {
    "id": "c2885976"
   },
   "source": [
    "#### Q6. What are some examples of how to use the match object returned by re.match and re.search?\n",
    "**Ans:** The **`re.search()`** and **`re.match()`** both are functions of re module in python. These functions are very efficient and fast for searching in strings. The function searches for some substring in a string and returns a match object if found, else it returns none.\n",
    "\n",
    "There is a difference between the use of both functions. Both return the first match of a substring found in the string, but **`re.match()`** searches only from the beginning of the string and return match object if found. But if a match of substring is found somewhere in the middle of the string, it returns none. \n",
    "\n",
    "Where as **`re.search()`** searches for the whole string even if the string contains multi-lines and tries to find a match of the substring in all the lines of string"
   ]
  },
  {
   "cell_type": "code",
   "execution_count": 1,
   "id": "358eb508",
   "metadata": {
    "colab": {
     "base_uri": "https://localhost:8080/"
    },
    "id": "358eb508",
    "outputId": "dcedc7c5-36a0-4146-e330-c79983ca564e"
   },
   "outputs": [
    {
     "name": "stdout",
     "output_type": "stream",
     "text": [
      "<re.Match object; span=(61, 67), match='string'>\n",
      "None\n",
      "<re.Match object; span=(0, 6), match='string'>\n",
      "<re.Match object; span=(0, 6), match='string'>\n"
     ]
    }
   ],
   "source": [
    "import re\n",
    "Substring ='string' \n",
    "String1 ='We are learning regex with iNeuron. Regex is very useful for string matching. It is fast too.' \n",
    "String2 ='string We are learning regex with iNeuron. Regex is very useful for string matching. It is fast too.'\n",
    "print(re.search(Substring, String1, re.IGNORECASE))\n",
    "print(re.match(Substring, String1, re.IGNORECASE))\n",
    "print(re.search(Substring, String2, re.IGNORECASE))\n",
    "print(re.match(Substring, String2, re.IGNORECASE))"
   ]
  },
  {
   "cell_type": "markdown",
   "id": "babed21c",
   "metadata": {
    "id": "babed21c"
   },
   "source": [
    "#### Q7. What is the difference between using a vertical bar (|) as an alteration and using square brackets as a character set?\n",
    "**Ans:** When **`|`** us used then patterns searches for **`or`** option. i.e **`<pattern_1>|<pattern_2>`** means it searches as **`<pattern_1>or<<pattern_2>`** in the searched string. The first occurance of matched string will be returned as the Match Object.\n",
    "Using Character set in square Brackets searches for all the character set in the square bracket and if match is found, it returns it.\n",
    "\n",
    "\n",
    "\n",
    "            "
   ]
  },
  {
   "cell_type": "code",
   "execution_count": 2,
   "id": "cQquj1zMYZsB",
   "metadata": {
    "id": "cQquj1zMYZsB"
   },
   "outputs": [],
   "source": [
    "#For example\n",
    "#[p – t] = [ pqrst ]\n",
    "#For example, (x|y|z)ab match by any string-like, x, y, z, a, b."
   ]
  },
  {
   "cell_type": "markdown",
   "id": "aad2feb4",
   "metadata": {
    "id": "aad2feb4"
   },
   "source": [
    "#### Q8. In regular-expression search patterns, why is it necessary to use the raw-string indicator (r)? In   replacement strings?\n",
    "**Ans:** Raw Strings are used in the regular-expression search patterns, so that backslash do not have to be escaped. When one wants to match a literal backslash, it must be escaped in the regular expression. With raw string notation, this means r\"\\\\\". Without raw string notation, one must use 4 times back slashes"
   ]
  }
 ],
 "metadata": {
  "colab": {
   "collapsed_sections": [],
   "name": "Advance_Assignment_16.ipynb",
   "provenance": []
  },
  "kernelspec": {
   "display_name": "Python 3 (ipykernel)",
   "language": "python",
   "name": "python3"
  },
  "language_info": {
   "codemirror_mode": {
    "name": "ipython",
    "version": 3
   },
   "file_extension": ".py",
   "mimetype": "text/x-python",
   "name": "python",
   "nbconvert_exporter": "python",
   "pygments_lexer": "ipython3",
   "version": "3.9.12"
  }
 },
 "nbformat": 4,
 "nbformat_minor": 5
}
