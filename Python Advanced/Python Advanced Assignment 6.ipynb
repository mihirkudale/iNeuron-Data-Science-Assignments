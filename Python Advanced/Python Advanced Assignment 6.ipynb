{
 "cells": [
  {
   "cell_type": "markdown",
   "id": "cdb59e56",
   "metadata": {
    "id": "cdb59e56"
   },
   "source": [
    "# Assignment 6 Solutions"
   ]
  },
  {
   "cell_type": "markdown",
   "id": "hPXM50eas3rV",
   "metadata": {
    "id": "hPXM50eas3rV"
   },
   "source": [
    "**SUBMITTED BY: MIHIR KUDALE**"
   ]
  },
  {
   "cell_type": "markdown",
   "id": "9dce2ceb",
   "metadata": {
    "id": "9dce2ceb"
   },
   "source": [
    "#### Q1. Describe three applications for exception processing.\n",
    "**Ans:** Exception Processing is important to find exceptions that causes the runtime error as runtime errors halt the program execution when exception occurs.\n",
    "\n",
    "Exception Processing is used in Various Applications. Few examples are:\n",
    "1. Checking Appropriate use of input in an application\n",
    "2. Checking for Arithmetic exceptions in mathematical executions\n",
    "3. Checking File I/O exceptions during File handling"
   ]
  },
  {
   "cell_type": "markdown",
   "id": "c82ae389",
   "metadata": {
    "id": "c82ae389"
   },
   "source": [
    "#### Q2. What happens if you don't do something extra to treat an exception?\n",
    "**Ans:** If Exceptions are not handled, flow of program will be broken during the run time which might lead to an abnormal termination of the program. Inshort inability of program to handle exceptions will result in crashing of program and we will not be able to get the desired result."
   ]
  },
  {
   "cell_type": "markdown",
   "id": "5adab9bd",
   "metadata": {
    "id": "5adab9bd"
   },
   "source": [
    "#### Q3. What are your options for recovering from an exception in your script?\n",
    "**Ans:** Python provides **`try`** and **`except`** statements for recovering from an exception in our script."
   ]
  },
  {
   "cell_type": "code",
   "execution_count": 1,
   "id": "jPcq5_YZtSD0",
   "metadata": {
    "colab": {
     "base_uri": "https://localhost:8080/"
    },
    "id": "jPcq5_YZtSD0",
    "outputId": "d7c3e83c-c901-4326-a098-0ef101b55f8c"
   },
   "outputs": [
    {
     "name": "stdout",
     "output_type": "stream",
     "text": [
      "An exception occurred\n"
     ]
    }
   ],
   "source": [
    "try:\n",
    "  print(x)\n",
    "except:\n",
    "  print(\"An exception occurred\") "
   ]
  },
  {
   "cell_type": "markdown",
   "id": "d7379d80",
   "metadata": {
    "id": "d7379d80"
   },
   "source": [
    "#### Q4. Describe two methods for triggering exceptions in your script ?\n",
    "**Ans:** **`raise`** and **`assert`** are two methods that can be used to trigger manual exceptions in our script.\n",
    "- **`raise`** method triggers an exception if condition provided to it turns out to be True.\n",
    "- **`assert`** will let the program to continue execution if condition provided to it turns out to be True else exception will be raised"
   ]
  },
  {
   "cell_type": "code",
   "execution_count": 2,
   "id": "55ca2b5b",
   "metadata": {
    "colab": {
     "base_uri": "https://localhost:8080/",
     "height": 203
    },
    "id": "55ca2b5b",
    "outputId": "46b5513a-afe8-48b9-c58b-ae00f49aebd2"
   },
   "outputs": [
    {
     "ename": "Exception",
     "evalue": "X Value Should not exceed 5 The Provided Value of X is 101",
     "output_type": "error",
     "traceback": [
      "\u001b[1;31m---------------------------------------------------------------------------\u001b[0m",
      "\u001b[1;31mException\u001b[0m                                 Traceback (most recent call last)",
      "Input \u001b[1;32mIn [2]\u001b[0m, in \u001b[0;36m<cell line: 3>\u001b[1;34m()\u001b[0m\n\u001b[0;32m      1\u001b[0m \u001b[38;5;66;03m# Example of raise\u001b[39;00m\n\u001b[0;32m      2\u001b[0m x \u001b[38;5;241m=\u001b[39m \u001b[38;5;241m101\u001b[39m\n\u001b[1;32m----> 3\u001b[0m \u001b[38;5;28;01mraise\u001b[39;00m \u001b[38;5;167;01mException\u001b[39;00m(\u001b[38;5;124mf\u001b[39m\u001b[38;5;124m'\u001b[39m\u001b[38;5;124mX Value Should not exceed 5 The Provided Value of X is \u001b[39m\u001b[38;5;132;01m{\u001b[39;00mx\u001b[38;5;132;01m}\u001b[39;00m\u001b[38;5;124m'\u001b[39m)\n",
      "\u001b[1;31mException\u001b[0m: X Value Should not exceed 5 The Provided Value of X is 101"
     ]
    }
   ],
   "source": [
    "# Example of raise\n",
    "x = 101\n",
    "raise Exception(f'X Value Should not exceed 5 The Provided Value of X is {x}')"
   ]
  },
  {
   "cell_type": "code",
   "execution_count": 3,
   "id": "b9bfe958",
   "metadata": {
    "colab": {
     "base_uri": "https://localhost:8080/",
     "height": 186
    },
    "id": "b9bfe958",
    "outputId": "9b49489d-6785-4d88-ac5c-b8eaf40fb60d"
   },
   "outputs": [
    {
     "ename": "AssertionError",
     "evalue": "2 is not equal to 4",
     "output_type": "error",
     "traceback": [
      "\u001b[1;31m---------------------------------------------------------------------------\u001b[0m",
      "\u001b[1;31mAssertionError\u001b[0m                            Traceback (most recent call last)",
      "Input \u001b[1;32mIn [3]\u001b[0m, in \u001b[0;36m<cell line: 2>\u001b[1;34m()\u001b[0m\n\u001b[0;32m      1\u001b[0m \u001b[38;5;66;03m# Example of assert\u001b[39;00m\n\u001b[1;32m----> 2\u001b[0m \u001b[38;5;28;01massert\u001b[39;00m(\u001b[38;5;241m2\u001b[39m\u001b[38;5;241m==\u001b[39m\u001b[38;5;241m10\u001b[39m), \u001b[38;5;124m\"\u001b[39m\u001b[38;5;124m2 is not equal to 4\u001b[39m\u001b[38;5;124m\"\u001b[39m\n",
      "\u001b[1;31mAssertionError\u001b[0m: 2 is not equal to 4"
     ]
    }
   ],
   "source": [
    "# Example of assert\n",
    "assert(2==10), \"2 is not equal to 4\""
   ]
  },
  {
   "cell_type": "markdown",
   "id": "6335bd5c",
   "metadata": {
    "id": "6335bd5c"
   },
   "source": [
    "#### Q5. Identify two methods for specifying actions to be executed at termination time, regardless of whether or not an exception exists.\n",
    "**Ans:** Python Provides **`else`** and **`finally`** blocks for specifying actions to be executed at termination time, regardless of whether an exceptions exists or not."
   ]
  }
 ],
 "metadata": {
  "colab": {
   "collapsed_sections": [],
   "name": "Advance_Assignment_06.ipynb",
   "provenance": []
  },
  "kernelspec": {
   "display_name": "Python 3 (ipykernel)",
   "language": "python",
   "name": "python3"
  },
  "language_info": {
   "codemirror_mode": {
    "name": "ipython",
    "version": 3
   },
   "file_extension": ".py",
   "mimetype": "text/x-python",
   "name": "python",
   "nbconvert_exporter": "python",
   "pygments_lexer": "ipython3",
   "version": "3.9.12"
  }
 },
 "nbformat": 4,
 "nbformat_minor": 5
}
