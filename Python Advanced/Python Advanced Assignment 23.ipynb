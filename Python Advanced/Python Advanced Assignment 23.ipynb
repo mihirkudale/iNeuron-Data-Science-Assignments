{
 "cells": [
  {
   "cell_type": "markdown",
   "id": "d3e4d46e",
   "metadata": {
    "id": "d3e4d46e"
   },
   "source": [
    "# Assignment 23 Solutions"
   ]
  },
  {
   "cell_type": "markdown",
   "id": "GxJRo5GjZTOr",
   "metadata": {
    "id": "GxJRo5GjZTOr"
   },
   "source": [
    "**SUBMITTED BY: MIHIR KUDALE**"
   ]
  },
  {
   "cell_type": "markdown",
   "id": "1f60b1e6",
   "metadata": {
    "id": "1f60b1e6"
   },
   "source": [
    "#### Q1. If you have any, what are your choices for increasing the comparison between different figures on the same graph?\n",
    "**Ans:** Matplotlib provides a convenient method called subplots for increasing the comparison between different figures on the same graph. Subplots mean a group of smaller axes (where each axis is a plot) that can exist together within a single figure."
   ]
  },
  {
   "cell_type": "code",
   "execution_count": 1,
   "id": "KY-qmTt1ZkXR",
   "metadata": {
    "colab": {
     "base_uri": "https://localhost:8080/",
     "height": 265
    },
    "id": "KY-qmTt1ZkXR",
    "outputId": "0eadcad3-7059-4e4e-9f32-46e085d6de0b"
   },
   "outputs": [
    {
     "data": {
      "image/png": "[encoded data removed]",
      "text/plain": [
       "<Figure size 432x288 with 2 Axes>"
      ]
     },
     "metadata": {
      "needs_background": "light"
     },
     "output_type": "display_data"
    }
   ],
   "source": [
    "import matplotlib.pyplot as plt\n",
    "import numpy as np\n",
    "\n",
    "#plot 1:\n",
    "x = np.array([0, 1, 2, 3])\n",
    "y = np.array([3, 8, 1, 10])\n",
    "\n",
    "plt.subplot(1, 2, 1)\n",
    "plt.plot(x,y)\n",
    "\n",
    "#plot 2:\n",
    "x = np.array([0, 1, 2, 3])\n",
    "y = np.array([10, 20, 30, 40])\n",
    "\n",
    "plt.subplot(1, 2, 2)\n",
    "plt.plot(x,y)\n",
    "\n",
    "plt.show()"
   ]
  },
  {
   "cell_type": "markdown",
   "id": "db28f249",
   "metadata": {
    "id": "db28f249"
   },
   "source": [
    "#### Q2. Can you explain the benefit of compound interest over a higher rate of interest that does not compound after reading this chapter?\n",
    "**Ans:** Compound interest makes a sum of money grow at a faster rate than simple interest,because in addition to earning returns on the money you invest, you also earn returns on those returns at the end of every compounding period, which could be daily, monthly, quarterly or annually."
   ]
  },
  {
   "cell_type": "markdown",
   "id": "41155b92",
   "metadata": {
    "id": "41155b92"
   },
   "source": [
    "#### Q3. What is a histogram, exactly? Name a numpy method for creating such a graph ?\n",
    "**Ans:** Histogram shows total values of X wrt Y. Which means at any particular position of X, Y value shows the total number of counts or data below that value of X. `numpy.histogram()` is the built in function used. "
   ]
  },
  {
   "cell_type": "markdown",
   "id": "c290f68f",
   "metadata": {
    "id": "c290f68f"
   },
   "source": [
    "#### Q4. If necessary, how do you change the aspect ratios between the X and Y axes ?\n",
    "**Ans:** We can use `figure(figsize=(10,8))` function inside the `matplot.pyplot` library which we scale down or up the graph."
   ]
  },
  {
   "cell_type": "markdown",
   "id": "08349ded",
   "metadata": {
    "id": "08349ded"
   },
   "source": [
    "#### Q5. Compare and contrast the three types of array multiplication between two numpy arrays: dot product, outer product, and regular multiplication of two numpy arrays ?\n",
    "**Ans:** : \n",
    "- In regular multiplication values of same index get multiplied.\n",
    "- In dot product there is row wise multiplication, row of one array with column of second array and so on.\n",
    "- In outer multiplication every element of first array a1 will be multiply by every element of other array a2 such such the number of columns will be equal to the number of element in another array a2."
   ]
  },
  {
   "cell_type": "markdown",
   "id": "633bb299",
   "metadata": {
    "id": "633bb299"
   },
   "source": [
    "#### Q6. Before you buy a home, which numpy function will you use to measure your monthly mortgage payment ?\n",
    "**Ans:** `np.pmt(rate, nper, pv)` function we will be using in order to calculate monthly mortgage payment before you purchase a house.\n",
    "- `rate` = The periodic interest rate\n",
    "- `nper` = The number of payment periods\n",
    "- `pv` = The total value of the mortgage loan"
   ]
  },
  {
   "cell_type": "markdown",
   "id": "17cffb18",
   "metadata": {
    "id": "17cffb18"
   },
   "source": [
    "#### Q7. Can string data be stored in numpy arrays? If so, list at least one restriction that applies to this data ?\n",
    "**Ans:** Yes, an array can store the string. The limitation which imposed on the string data is, whenever we store the data of string dtype then we should keep in mind that the string which is having the maximum length will become the limit. Below example demonstrates that when New Zealand is added then it takes only 'New Z' because limit is set as 5 before."
   ]
  },
  {
   "cell_type": "code",
   "execution_count": 2,
   "id": "Kw-vNomQaJIA",
   "metadata": {
    "colab": {
     "base_uri": "https://localhost:8080/"
    },
    "id": "Kw-vNomQaJIA",
    "outputId": "3ea7e5ac-50a7-4289-b6e7-93a12f4b88a5"
   },
   "outputs": [
    {
     "name": "stdout",
     "output_type": "stream",
     "text": [
      "['USA' 'Japan' 'UK' '' 'India' 'China']\n",
      "['USA' 'Japan' 'UK' 'New Z' 'India' 'China']\n"
     ]
    }
   ],
   "source": [
    "# importing numpy as np\n",
    "import numpy as np\n",
    "  \n",
    "# Create the numpy array\n",
    "country = np.array(['USA', 'Japan', 'UK', '', 'India', 'China'])\n",
    "  \n",
    "# Print the array\n",
    "print(country)\n",
    "\n",
    "# Assign 'New Zealand' at the place of missing value\n",
    "country[country == ''] = 'New Zealand'\n",
    "  \n",
    "# Print the modified array\n",
    "print(country)"
   ]
  }
 ],
 "metadata": {
  "colab": {
   "collapsed_sections": [],
   "name": "Advance_Assignment_23.ipynb",
   "provenance": []
  },
  "kernelspec": {
   "display_name": "Python 3 (ipykernel)",
   "language": "python",
   "name": "python3"
  },
  "language_info": {
   "codemirror_mode": {
    "name": "ipython",
    "version": 3
   },
   "file_extension": ".py",
   "mimetype": "text/x-python",
   "name": "python",
   "nbconvert_exporter": "python",
   "pygments_lexer": "ipython3",
   "version": "3.9.12"
  }
 },
 "nbformat": 4,
 "nbformat_minor": 5
}
