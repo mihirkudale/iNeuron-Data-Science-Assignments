{
 "cells": [
  {
   "cell_type": "markdown",
   "id": "48f25c62",
   "metadata": {
    "id": "48f25c62"
   },
   "source": [
    "# Assignment 17 Solutions"
   ]
  },
  {
   "cell_type": "markdown",
   "id": "aOrdSiAnlxZS",
   "metadata": {
    "id": "aOrdSiAnlxZS"
   },
   "source": [
    "**SUBMITTED BY: MIHIR KUDALE**"
   ]
  },
  {
   "cell_type": "markdown",
   "id": "fdba87a8",
   "metadata": {
    "id": "fdba87a8"
   },
   "source": [
    "#### Q1. Explain the difference between greedy and non-greedy syntax with visual terms in as few words as possible. What is the bare minimum effort required to transform a greedy pattern into a non-greedy one? What characters or characters can you introduce or change?\n",
    "**Ans:** The Main difference between Greedy and Non Greedy Match Syntax is that the Greedy Match will try to match as many repetitions of the quantified pattern as possible Whereas the Non Greedy Match will try to match as few repetitions of the quantified pattern as possible so that it still can match the pattern in the given string"
   ]
  },
  {
   "cell_type": "code",
   "execution_count": 1,
   "id": "04d4bbc1",
   "metadata": {
    "colab": {
     "base_uri": "https://localhost:8080/"
    },
    "id": "04d4bbc1",
    "outputId": "4e2fc355-b47b-4729-abb9-a210c00099f4"
   },
   "outputs": [
    {
     "name": "stdout",
     "output_type": "stream",
     "text": [
      "['aaaaaa', '']\n",
      "['', 'a', '', 'a', '', 'a', '', 'a', '', 'a', '', 'a', '']\n"
     ]
    }
   ],
   "source": [
    "import re\n",
    "print(re.findall(\"a*\", \"aaaaaa\")) # Greedy Match Synatx\n",
    "print(re.findall(\"a*?\", \"aaaaaa\")) # Non Greddy Syntax"
   ]
  },
  {
   "cell_type": "markdown",
   "id": "c91d4a1f",
   "metadata": {
    "id": "c91d4a1f"
   },
   "source": [
    "#### Q2. When exactly does greedy versus non-greedy make a difference?  What if you're looking for a non-greedy match but the only one available is greedy?\n",
    "**Ans:** The Greedy Match will try to match as many repetitions of the quantified pattern as possible. The Non Greedy Match will try to match as few repetitions of the quantified pattern as possible. If only Non Greedy Match is available, we can use other filtering or pattern matching methods of regex and further identify the required pattern."
   ]
  },
  {
   "cell_type": "markdown",
   "id": "ab858979",
   "metadata": {
    "id": "ab858979"
   },
   "source": [
    "#### Q3. In a simple match of a string, which looks only for one match and does not do any replacement, is the use of a nontagged group likely to make any practical difference?\n",
    "**Ans:** In this Case, the Non-Tagged Group will not make any difference. This is shown below:"
   ]
  },
  {
   "cell_type": "code",
   "execution_count": 2,
   "id": "66390111",
   "metadata": {
    "colab": {
     "base_uri": "https://localhost:8080/"
    },
    "id": "66390111",
    "outputId": "0e7cdb9f-85f5-40d4-d0f2-9da5d046fcad"
   },
   "outputs": [
    {
     "name": "stdout",
     "output_type": "stream",
     "text": [
      "Phone number found -> 123\n",
      "Phone number found -> 123\n"
     ]
    }
   ],
   "source": [
    "import re\n",
    "phoneNumRegex = re.compile(r'\\d\\d\\d')\n",
    "num = phoneNumRegex.search('My number is 123-456-7891.')\n",
    "print(f'Phone number found -> {num.group()}') # Non Tagged group\n",
    "print(f'Phone number found -> {num.group(0)}') # Tagged Group"
   ]
  },
  {
   "cell_type": "markdown",
   "id": "124d3ed0",
   "metadata": {
    "id": "124d3ed0"
   },
   "source": [
    "#### Q4. Describe a scenario in which using a nontagged category would have a significant impact on the program's outcomes ?\n",
    "**Ans:** Here in the below Code Snippet **`.`** decimal is not tagged or captured. Hence, it will be useful in scenarios where the separator of value in a string is of no use and we need to capture only the values."
   ]
  },
  {
   "cell_type": "code",
   "execution_count": 3,
   "id": "9f093ed2",
   "metadata": {
    "colab": {
     "base_uri": "https://localhost:8080/"
    },
    "id": "9f093ed2",
    "outputId": "3d716a15-88db-452d-f094-99b861c79277"
   },
   "outputs": [
    {
     "data": {
      "text/plain": [
       "('123', '456')"
      ]
     },
     "execution_count": 3,
     "metadata": {},
     "output_type": "execute_result"
    }
   ],
   "source": [
    "import re\n",
    "text='123.456'\n",
    "pattern=r'(\\d+)(?:.)(\\d+)'\n",
    "regobj=re.compile(pattern)\n",
    "matobj=regobj.search(text)\n",
    "matobj.groups()"
   ]
  },
  {
   "cell_type": "markdown",
   "id": "5a76e42a",
   "metadata": {
    "id": "5a76e42a"
   },
   "source": [
    "#### Q5. Unlike a normal regex pattern, a look-ahead condition does not consume the characters it examines. Describe a situation in which this could make a difference in the results of your programme ?\n",
    "**Ans:**  While counting the number of multiple lines or mutiple sentences in a string, the positive look ahead makes a difference, without which we will not be able to get the correct count of lines or sentences in a string."
   ]
  },
  {
   "cell_type": "markdown",
   "id": "5a6e0d8f",
   "metadata": {
    "id": "5a6e0d8f"
   },
   "source": [
    "#### Q6. In standard expressions, what is the difference between positive look-ahead and negative look-ahead ?\n",
    "**Ans:** Positive Look-ahead allows to add a condition for **what follows**. Negative Lookahead is similar, but it looks behind. That is, it allows to match a pattern only if there’s something before it.\n",
    "\n",
    "Syntax Positive Look-Ahead: X(?=Y)\n",
    "Syntax Negative Look-Ahead: X(?!Y)"
   ]
  },
  {
   "cell_type": "code",
   "execution_count": 4,
   "id": "MVWbDvBTnPAC",
   "metadata": {
    "colab": {
     "base_uri": "https://localhost:8080/"
    },
    "id": "MVWbDvBTnPAC",
    "outputId": "80ff7bc7-4e0a-44fc-db6e-72c197012352"
   },
   "outputs": [
    {
     "name": "stdout",
     "output_type": "stream",
     "text": [
      "4\n"
     ]
    }
   ],
   "source": [
    "#Positive Look Ahead\n",
    "import re\n",
    "\n",
    "s = '1 Python is about 4 feet long'\n",
    "pattern = '\\d+(?=\\s*feet)'\n",
    "\n",
    "matches = re.finditer(pattern,s)\n",
    "for match in matches:\n",
    "    print(match.group())"
   ]
  },
  {
   "cell_type": "code",
   "execution_count": 5,
   "id": "1XstRR87nWqG",
   "metadata": {
    "colab": {
     "base_uri": "https://localhost:8080/"
    },
    "id": "1XstRR87nWqG",
    "outputId": "35f791ab-c3a9-4d61-ce36-aca66a6349a4"
   },
   "outputs": [
    {
     "name": "stdout",
     "output_type": "stream",
     "text": [
      "1\n"
     ]
    }
   ],
   "source": [
    "#Negative Look Ahead\n",
    "import re\n",
    "\n",
    "s = '1 Python is about 4 feet long'\n",
    "pattern = '\\d+(?!\\s*feet)'\n",
    "\n",
    "matches = re.finditer(pattern,s)\n",
    "for match in matches:\n",
    "    print(match.group())"
   ]
  },
  {
   "cell_type": "markdown",
   "id": "954d327f",
   "metadata": {
    "id": "954d327f"
   },
   "source": [
    "#### Q7. What is the benefit of referring to groups by name rather than by number in a standard expression?\n",
    "**Ans:** The advantage to named groups is that it adds readability and understandability to the code, so that you can easily see what part of a regular expression match is being referenced. "
   ]
  },
  {
   "cell_type": "markdown",
   "id": "6f73ee77",
   "metadata": {
    "id": "6f73ee77"
   },
   "source": [
    "#### Q8. Can you identify repeated items within a target string using named groups, as in \"The cow jumped over the moon\"?"
   ]
  },
  {
   "cell_type": "code",
   "execution_count": 6,
   "id": "c68dfa21",
   "metadata": {
    "id": "c68dfa21",
    "outputId": "20d8ef64-9e4e-43de-b255-3036a9a3c3f5"
   },
   "outputs": [
    {
     "data": {
      "text/plain": [
       "['The', 'the']"
      ]
     },
     "execution_count": 6,
     "metadata": {},
     "output_type": "execute_result"
    }
   ],
   "source": [
    "import re\n",
    "text = \"The cow jumped over the moon\"\n",
    "regobj=re.compile(r'(?P<w1>The)',re.I)\n",
    "regobj.findall(text)"
   ]
  },
  {
   "cell_type": "markdown",
   "id": "a2f7c46f",
   "metadata": {
    "id": "a2f7c46f"
   },
   "source": [
    "#### Q9. When parsing a string, what is at least one thing that the Scanner interface does for you that the re.findall feature does not ?\n",
    "**Ans:** **`re.findall()`** module is used to search for **`all`** occurrences that match a given pattern. In contrast, **`re.search()`** will only return the first occurrence that matches the specified pattern. **`re.findall()`** will iterate over all the lines of the file and will return all non-overlapping matches of pattern in a single step."
   ]
  },
  {
   "cell_type": "markdown",
   "id": "0b65593b",
   "metadata": {
    "id": "0b65593b"
   },
   "source": [
    "#### Q10. Does a scanner object have to be named scanner?\n",
    "**Ans:** No, It may have any name. For example instead of naming Scanner object as scanner, we can name as sc"
   ]
  }
 ],
 "metadata": {
  "colab": {
   "name": "Advance_Assignment_17.ipynb",
   "provenance": []
  },
  "kernelspec": {
   "display_name": "Python 3 (ipykernel)",
   "language": "python",
   "name": "python3"
  },
  "language_info": {
   "codemirror_mode": {
    "name": "ipython",
    "version": 3
   },
   "file_extension": ".py",
   "mimetype": "text/x-python",
   "name": "python",
   "nbconvert_exporter": "python",
   "pygments_lexer": "ipython3",
   "version": "3.9.12"
  }
 },
 "nbformat": 4,
 "nbformat_minor": 5
}
