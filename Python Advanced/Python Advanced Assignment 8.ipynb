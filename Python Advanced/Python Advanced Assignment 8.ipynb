{
 "cells": [
  {
   "cell_type": "markdown",
   "id": "ce6590a1",
   "metadata": {
    "id": "ce6590a1"
   },
   "source": [
    "# Assignment 8 Solutions"
   ]
  },
  {
   "cell_type": "markdown",
   "id": "bhHOMHb-ydzh",
   "metadata": {
    "id": "bhHOMHb-ydzh"
   },
   "source": [
    "**SUBMITTED BY: MIHIR KUDALE**"
   ]
  },
  {
   "cell_type": "markdown",
   "id": "efb72245",
   "metadata": {
    "id": "efb72245"
   },
   "source": [
    "#### Q1. What are the two latest user-defined exception constraints in Python 3.X?\n",
    "**Ans:** **`raise`** and **`assert`** are the two latest user-defined exception constraints in Python 3.X"
   ]
  },
  {
   "cell_type": "markdown",
   "id": "f1479448",
   "metadata": {
    "id": "f1479448"
   },
   "source": [
    "#### Q2. How are class-based exceptions that have been raised matched to handlers?\n",
    "**Ans:** In python, Users can define custom exceptions by creating a new class. This exception class has to be derived, either directly or indirectly from built-in **`Exception`** class. This new exception class like other exceptions can be raised using the **`raise`** statement with an optional error message."
   ]
  },
  {
   "cell_type": "code",
   "execution_count": 1,
   "id": "648a981d",
   "metadata": {
    "id": "648a981d",
    "outputId": "4a465c96-6dd1-4904-906e-6603a4085b8c"
   },
   "outputs": [
    {
     "ename": "ToYoungException",
     "evalue": "To Young For Voting",
     "output_type": "error",
     "traceback": [
      "\u001b[1;31m---------------------------------------------------------------------------\u001b[0m",
      "\u001b[1;31mToYoungException\u001b[0m                          Traceback (most recent call last)",
      "Input \u001b[1;32mIn [1]\u001b[0m, in \u001b[0;36m<cell line: 5>\u001b[1;34m()\u001b[0m\n\u001b[0;32m      3\u001b[0m         \u001b[38;5;28mself\u001b[39m\u001b[38;5;241m.\u001b[39mmsg \u001b[38;5;241m=\u001b[39m msg\n\u001b[0;32m      4\u001b[0m age \u001b[38;5;241m=\u001b[39m \u001b[38;5;241m12\u001b[39m\n\u001b[1;32m----> 5\u001b[0m \u001b[38;5;28;01mif\u001b[39;00m age \u001b[38;5;241m<\u001b[39m\u001b[38;5;241m=\u001b[39m \u001b[38;5;241m18\u001b[39m: \u001b[38;5;28;01mraise\u001b[39;00m ToYoungException(\u001b[38;5;124m'\u001b[39m\u001b[38;5;124mTo Young For Voting\u001b[39m\u001b[38;5;124m'\u001b[39m)\n",
      "\u001b[1;31mToYoungException\u001b[0m: To Young For Voting"
     ]
    }
   ],
   "source": [
    "class ToYoungException(Exception):\n",
    "    def __init__(self,msg):\n",
    "        self.msg = msg\n",
    "age = 12\n",
    "if age <= 18: raise ToYoungException('To Young For Voting')"
   ]
  },
  {
   "cell_type": "markdown",
   "id": "15ce7b10",
   "metadata": {
    "id": "15ce7b10"
   },
   "source": [
    "#### Q3. Describe two methods for attaching context information to exception artefacts ?\n",
    "**Ans:** The **`process()`** method of LoggerAdapter is where the contextual information is added to the logging output. its passes the message and keyword arguments of the logging call, and it passes back modified versions of these to use in the call to the underlying logger.\n",
    "\n",
    "Other method that can be used is **`exception()`**, Logs a messgae with level ERROR on this logger. The arguments are interpreted as for **`debug()`**. Exception info is added to the logging message."
   ]
  },
  {
   "cell_type": "markdown",
   "id": "7fbfd775",
   "metadata": {
    "id": "7fbfd775"
   },
   "source": [
    "#### Q4. Describe two methods for specifying the text of an exception object's error message ?\n",
    "**Ans:** **`raise`** and **`assert`** are two methods for specifying the text of an exception object's error message.**`raise`** statement is used to trigger explicit exception, if certain condition is not as per requirement of programmer. it helps in triggering exception as per need of programmer and logic.\n",
    "\n",
    "There are few assertions that programmer always want to be True to avoid code failure. This type of requirment is fullfilled by **`assert`** statement. This statement takes a Boolean Condition output of which if True, further program executes. if output of assert statement is False it raises an **`Assertion Error`**."
   ]
  },
  {
   "cell_type": "markdown",
   "id": "0855de9b",
   "metadata": {
    "id": "0855de9b"
   },
   "source": [
    "#### Q5. Why do you no longer use string-based exceptions?\n",
    "**Ans:** String-based Exceptions doesn't inherit from Exceptions. so plain exceptions catch all exceptions and not only system."
   ]
  }
 ],
 "metadata": {
  "colab": {
   "name": "Advance_Assignment_08.ipynb",
   "provenance": []
  },
  "kernelspec": {
   "display_name": "Python 3 (ipykernel)",
   "language": "python",
   "name": "python3"
  },
  "language_info": {
   "codemirror_mode": {
    "name": "ipython",
    "version": 3
   },
   "file_extension": ".py",
   "mimetype": "text/x-python",
   "name": "python",
   "nbconvert_exporter": "python",
   "pygments_lexer": "ipython3",
   "version": "3.9.12"
  }
 },
 "nbformat": 4,
 "nbformat_minor": 5
}
