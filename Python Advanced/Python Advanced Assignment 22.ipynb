{
 "cells": [
  {
   "cell_type": "markdown",
   "id": "478225ca",
   "metadata": {
    "id": "478225ca"
   },
   "source": [
    "# Assignment 22 Solutions"
   ]
  },
  {
   "cell_type": "markdown",
   "id": "sKwI7rQlSkOW",
   "metadata": {
    "id": "sKwI7rQlSkOW"
   },
   "source": [
    "**SUBMITTED BY: MIHIR KUDALE**"
   ]
  },
  {
   "cell_type": "markdown",
   "id": "81a1c047",
   "metadata": {
    "id": "81a1c047"
   },
   "source": [
    "#### Q1. What are the benefits of the built-in array package, if any?\n",
    "**Ans:** Arrays represent multiple data items of the same type using a single name. In arrays, the elements can be accessed randomly by using the index number. Arrays allocate memory in contiguous memory locations for all its elements. Hence, there is no chance of extra memory being allocated in case of arrays. This avoids memory overflow or shortage of memory in arrays.\n",
    "\n",
    "Lists and NumPy Arrays usually are much better alternatives. That’s also the reason why rarely people knows Python has a built-in Array type.\n",
    "\n",
    "However, when something is restricted, it must bring some benefits. That is the so-call “trade-off”. In this case, Python Array will have a smaller size than Python List. This is demonstrated below."
   ]
  },
  {
   "cell_type": "code",
   "execution_count": 1,
   "id": "vb-MVbylTdGQ",
   "metadata": {
    "colab": {
     "base_uri": "https://localhost:8080/"
    },
    "id": "vb-MVbylTdGQ",
    "outputId": "5e9b705f-64ec-4f14-9b82-62cb2dcac7ef"
   },
   "outputs": [
    {
     "data": {
      "text/plain": [
       "800040"
      ]
     },
     "execution_count": 1,
     "metadata": {},
     "output_type": "execute_result"
    }
   ],
   "source": [
    "from array import array\n",
    "list_large = list(range(0, 100000))\n",
    "arr_large = array('I', list_large)\n",
    "\n",
    "arr_large.__sizeof__()  #Size comes out to be 400064\n",
    "list_large.__sizeof__() #Size comes out to be 900088"
   ]
  },
  {
   "cell_type": "code",
   "execution_count": 2,
   "id": "Vsyyj5DyS2TL",
   "metadata": {
    "colab": {
     "base_uri": "https://localhost:8080/"
    },
    "id": "Vsyyj5DyS2TL",
    "outputId": "ccd1b14e-e0ee-466f-cac3-ce2388624dd4"
   },
   "outputs": [
    {
     "name": "stdout",
     "output_type": "stream",
     "text": [
      "array('i', [1, 2, 3, 4])\n"
     ]
    }
   ],
   "source": [
    "#Using Built in Array\n",
    "import array as built_in\n",
    "array1 = built_in.array('i', [1, 2])\n",
    "array1.append(3)\n",
    "array1.append(4)\n",
    "print(array1)"
   ]
  },
  {
   "cell_type": "markdown",
   "id": "72b97146",
   "metadata": {
    "id": "72b97146"
   },
   "source": [
    "#### Q2. What are some of the array package's limitations ?\n",
    "**Ans:**  \n",
    "1. The number of elements to be stored in an array should be known in advance.An array is a static structure (which means the array is of fixed size). Once declared the size of the array cannot be modified. The memory which is allocated to it cannot be increased or decreased.\n",
    "\n",
    "2. Insertion and deletion are quite difficult in an array as the elements are stored in consecutive memory locations and the shifting operation is costly.\n",
    "\n",
    "3. Allocating more memory than the requirement leads to wastage of memory space and less allocation of memory also leads to a problem"
   ]
  },
  {
   "cell_type": "markdown",
   "id": "fd6c2a9b",
   "metadata": {
    "id": "fd6c2a9b"
   },
   "source": [
    "#### Q3. Describe the main differences between the array and numpy packages ?\n",
    "**Ans:**  The array package doesn't provide any help with numerical calculation with the items insdie it in number form while NumPy give you a wide variety of numerical operations.\n",
    "\n",
    "An array is a single dimensional entity which hold the numerical data, while numpy can have more than 1 dimension.\n",
    "\n",
    "In case of array, item can be accessed by its index position and it is easy task while in numpy item is accessed by its column and row index, which makes it slightly time taking. Same goes with appending operation.\n",
    "\n",
    "In case of array we do not form a tabular structure, while in numpy it forms a tabular structure "
   ]
  },
  {
   "cell_type": "markdown",
   "id": "17049af0",
   "metadata": {
    "id": "17049af0"
   },
   "source": [
    "#### Q4. Explain the distinctions between the empty, ones, and zeros functions ?\n",
    "**Ans:** The distinctions between the `empty`, `ones`, and `zero` functions are as follows :  \n",
    "- `Empty function:` An empty function is a function that does not contain any statement within its body. If you try to write a function definition without any statement in python ,it will return an error. To avoid this, we use pass statement. pass is a special statement in Python that does nothing. It only works as a dummy statement.  \n",
    "- `Ones:` This function returns a new array of given shape and data type, where the element’s value is 1.  \n",
    "- `Zeros:` This function returns a new array of given shape and data type, where the element’s value is 0.  "
   ]
  },
  {
   "cell_type": "markdown",
   "id": "59182103",
   "metadata": {
    "id": "59182103"
   },
   "source": [
    "#### Q5. In the fromfunction function, which is used to construct new arrays, what is the role of the callable argument ?\n",
    "**Ans:**  Its function is to execute the function over each coordinate and the resulting array. The function is called with N parameters, where N is the rank of shape. Each parameter represents the coordinates of the array varying along a specific axis. "
   ]
  },
  {
   "cell_type": "markdown",
   "id": "82a330ed",
   "metadata": {
    "id": "82a330ed"
   },
   "source": [
    "#### Q6. What happens when a numpy array is combined with a single-value operand (a scalar, such as an int or a floating-point value) through addition, as in the expression `A + n` ?\n",
    "**Ans:** If any scaler value such as integer is added to the numpy array then all the elements inside the array will add that value in it. "
   ]
  },
  {
   "cell_type": "markdown",
   "id": "12e37586",
   "metadata": {
    "id": "12e37586"
   },
   "source": [
    "#### Q7. Can array-to-scalar operations use combined operation-assign operators (such as += or *=)? What is the outcome ?\n",
    "**Ans:** It will carry out provided operation on all elements of array. "
   ]
  },
  {
   "cell_type": "markdown",
   "id": "f9687fd2",
   "metadata": {
    "id": "f9687fd2"
   },
   "source": [
    "#### Q8. Does a numpy array contain fixed-length strings? What happens if you allocate a longer string to one of these arrays ?\n",
    "**Ans:** : Yes, it is possible that we can include a string of fixed length in numpy array. The dtype of any numpy array containing string values is the maximum length of any string present in the array.Once set, it will only be able to store new string having length not more than the maximum length at the time of the creation. If we try to reassign some another string value having length greater than the maximum length of the existing elements, it simply discards all the values beyond the maximum length accept upto those values which are under the limit."
   ]
  },
  {
   "cell_type": "markdown",
   "id": "d5da8bbe",
   "metadata": {
    "id": "d5da8bbe"
   },
   "source": [
    "#### Q9. What happens when you combine two numpy arrays using an operation like addition (+) or multiplication (*)? What are the conditions for combining two numpy arrays ?\n",
    "**Ans:** It will simply add or multiply element to element at same position. "
   ]
  },
  {
   "cell_type": "markdown",
   "id": "d350b416",
   "metadata": {
    "id": "d350b416"
   },
   "source": [
    "#### Q10. What is the best way to use a Boolean array to mask another array ?\n",
    "**Ans:** The best way to use a Boolean array to mask another array is by Using `masked_where` of numpy package"
   ]
  },
  {
   "cell_type": "markdown",
   "id": "b5401443",
   "metadata": {
    "id": "b5401443"
   },
   "source": [
    "#### Q11. What are three different ways to get the standard deviation of a wide collection of data using both standard Python and its packages? Sort the three of them by how quickly they execute ?\n",
    "**Ans:** `std()` from Numpy package, `stdev()` from Statistics package and the third way is to write our own code as done with the help of math package below:"
   ]
  },
  {
   "cell_type": "code",
   "execution_count": 3,
   "id": "X5CuiJBoWupI",
   "metadata": {
    "colab": {
     "base_uri": "https://localhost:8080/"
    },
    "id": "X5CuiJBoWupI",
    "outputId": "d45cb644-d680-4348-bc42-de9a93e12636"
   },
   "outputs": [
    {
     "name": "stdout",
     "output_type": "stream",
     "text": [
      "Standard Deviation of the sample is 17.56337730114064 \n"
     ]
    }
   ],
   "source": [
    "import numpy as np #for declaring an array\n",
    " \n",
    "def mean(data):\n",
    "  n = len(data)\n",
    "  mean = sum(data) / n\n",
    "  return mean\n",
    " \n",
    "def variance(data):\n",
    "  n = len(data)\n",
    "  mean = sum(data) / n\n",
    "  deviations = [(x - mean) ** 2 for x in data]\n",
    "  variance = sum(deviations) / n\n",
    "  return variance\n",
    " \n",
    "def stdev(data):\n",
    "  import math\n",
    "  var = variance(data)\n",
    "  std_dev = math.sqrt(var)\n",
    "  return std_dev\n",
    " \n",
    "data = np.array([7,5,4,9,12,54])\n",
    " \n",
    "print(\"Standard Deviation of the sample is % s \"% (stdev(data)))\n"
   ]
  },
  {
   "cell_type": "markdown",
   "id": "2c49864a",
   "metadata": {
    "id": "2c49864a"
   },
   "source": [
    "#### 12. What is the dimensionality of a Boolean mask-generated array ?\n",
    "**Ans:**  It will have same dimensionality as input array. Masking comes up when we want to extract, modify, count, or otherwise manipulate values in an array based on some criterion: for example, we might wish to count all values greater than a certain value, or perhaps remove all outliers that are above some threshold. In NumPy, Boolean masking is often the most efficient way to accomplish these types of tasks."
   ]
  }
 ],
 "metadata": {
  "colab": {
   "collapsed_sections": [],
   "name": "Advance_Assignment_22.ipynb",
   "provenance": []
  },
  "kernelspec": {
   "display_name": "Python 3 (ipykernel)",
   "language": "python",
   "name": "python3"
  },
  "language_info": {
   "codemirror_mode": {
    "name": "ipython",
    "version": 3
   },
   "file_extension": ".py",
   "mimetype": "text/x-python",
   "name": "python",
   "nbconvert_exporter": "python",
   "pygments_lexer": "ipython3",
   "version": "3.9.12"
  }
 },
 "nbformat": 4,
 "nbformat_minor": 5
}
