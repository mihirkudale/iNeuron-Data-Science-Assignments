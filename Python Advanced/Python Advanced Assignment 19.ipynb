{
 "cells": [
  {
   "cell_type": "markdown",
   "id": "cc53963e",
   "metadata": {
    "id": "cc53963e"
   },
   "source": [
    "# Assignment 19 Solutions"
   ]
  },
  {
   "cell_type": "markdown",
   "id": "G5MPLpEo9wBB",
   "metadata": {
    "id": "G5MPLpEo9wBB"
   },
   "source": [
    "**SUBMITTED BY: MIHIR KUDALE**"
   ]
  },
  {
   "cell_type": "markdown",
   "id": "20fe32ca",
   "metadata": {
    "id": "20fe32ca"
   },
   "source": [
    "#### Q1. Define the relationship between a class and its instances. Is it a one-to-one or a one-to-many partnership, for example?\n",
    "**Ans:** Relationship between a class and its instances is a one to many partnership. Object is a physical entity or real word entity. An object occupies space in memory. Example:-banana,chair,pen etc are objects.\n",
    "Class is a logical entity which does not exist in real world.\n",
    "Or we can say that class is a blueprint to create objects of similiar types. A class does not take space in memory. Examples:-fruits,furniture,vehicles etc."
   ]
  },
  {
   "cell_type": "markdown",
   "id": "a3998f76",
   "metadata": {
    "id": "a3998f76"
   },
   "source": [
    "#### Q2. What kind of data is held only in an instance?\n",
    "**Ans:** Instance objects contains the Instance variables which are specific to that specific Instance object."
   ]
  },
  {
   "cell_type": "markdown",
   "id": "3bc4acfe",
   "metadata": {
    "id": "3bc4acfe"
   },
   "source": [
    "#### Q3. What kind of knowledge is stored in a class?\n",
    "**Ans:** Class creates a user-defined data structure, which holds its own data members and member functions, which can be accessed and used by creating an instance of that class. A class is like a blueprint for an object. Class is a logical entity which does not exist in real world Or we can say that class is a blueprint to create objects of similiar types. A class does not take space in memory. Examples:-fruits,furniture,vehicles etc."
   ]
  },
  {
   "cell_type": "markdown",
   "id": "d6c2ef9c",
   "metadata": {
    "id": "d6c2ef9c"
   },
   "source": [
    "#### Q4. What exactly is a method, and how is it different from a regular function?\n",
    "**Ans:** The methods with a class can be used to access the insatnce variables of its instance. So,the object's state can be modified by its method. Function can't access the attributes of an instance of a class or can't modify the state of the object. A function is independent, whereas a method is a function linked with an object. Explicit data is passed on to a function, whereas a method completely passes the object on which it was called in the program. A method is Object-oriented programming while a function has standalone functionality"
   ]
  },
  {
   "cell_type": "markdown",
   "id": "471e1689",
   "metadata": {
    "id": "471e1689"
   },
   "source": [
    "#### Q5. Is inheritance supported in Python, and if so, what is the syntax?\n",
    "**Ans:** Yes,Python supports inheritance. The Types of Inheritence Supported by Python are:\n",
    "1. Simple Inheritence\n",
    "2. Multiple Inheritence\n",
    "3. Multilevel lInheritence\n",
    "4. Hybrid Inheritence\n",
    "5. Hierracial Inheritence"
   ]
  },
  {
   "cell_type": "code",
   "execution_count": 1,
   "id": "63b31180",
   "metadata": {
    "id": "63b31180"
   },
   "outputs": [],
   "source": [
    "class Person:\n",
    "    def __init__(self, fname, lname):\n",
    "        self.first_name = fname\n",
    "        self.last_name = lname\n",
    "class Student(Person):\n",
    "    pass"
   ]
  },
  {
   "cell_type": "markdown",
   "id": "1f2a9517",
   "metadata": {
    "id": "1f2a9517"
   },
   "source": [
    "#### Q6. How much encapsulation (making instance or class variables private) does Python support?\n",
    "**Ans:** Encapsulation describes the idea of wrapping data and the methods that work on data within one unit. This puts restrictions on accessing variables and methods directly and can prevent the accidental modification of data. To prevent accidental change, an objects variable can only be changed by an objects method."
   ]
  },
  {
   "cell_type": "markdown",
   "id": "c0de33d4",
   "metadata": {
    "id": "c0de33d4"
   },
   "source": [
    "#### Q7. How do you distinguish between a class variable and an instance variable?\n",
    "**Ans:** The **`Class Attribute`** is available to all the instance objects of that class whereas **`Instance Attributes`** are accessible only to the object or Instance of that class. \n",
    "\n",
    "A single copy of Class attributes is maintained by pvm at the class level Whereas different copies of instance attributes are maintained by pvm at objects/instance level."
   ]
  },
  {
   "cell_type": "markdown",
   "id": "65768276",
   "metadata": {
    "id": "65768276"
   },
   "source": [
    "#### Q8. When, if ever, can self be included in a class's method definitions?\n",
    "**Ans:** Yes, self can be included in class method definitions to access the instance variables inside class methods."
   ]
  },
  {
   "cell_type": "markdown",
   "id": "ae7c6bbf",
   "metadata": {
    "id": "ae7c6bbf"
   },
   "source": [
    "#### Q9. What is the difference between the **`__add__`** and the **`__radd__`** methods ?\n",
    "**Ans:** Entering **`__radd__`** Python will first try **`__add__()`**, and if that returns Not Implemented Python will check if the right-hand operand implements **`__radd__`**, and if it does, it will call **`__radd__()`** rather than raising a **`TypeError`**. \n",
    "\n",
    "The expression a+b is internally translated to the method call a.__add__(b). But if a and b are of different types, it is possible that a's implementation of addition cannot deal with objects of b's type (or maybe a does not have a __add__ method, at all). So, if a.__add__(b) fails, Python tries b.__radd__(a) instead, to see if b's implementation can deal with objects of a's type."
   ]
  },
  {
   "cell_type": "markdown",
   "id": "5eae7542",
   "metadata": {
    "id": "5eae7542"
   },
   "source": [
    "#### Q10. When is it necessary to use a reflection method? When do you not need it, even though you support the operation in question?\n",
    "**Ans:** Reflection refers to the ability for code to be able to examine attributes about objects that might be passed as parameters to a function. For example, if we write type(obj) then Python will return an object which represents the type of obj. Using reflection, we can write one recursive reverse function that will work for strings, lists, and any other sequence that supports slicing and concatenation. If an obj is a reference to a string, then Python will return the str type object. Further, if we write str() we get a string which is the empty string. In other words, writing str() is the same thing as writing “”. Likewise, writing list() is the same thing as writing []."
   ]
  },
  {
   "cell_type": "code",
   "execution_count": 2,
   "id": "70cVnqn5_1Ta",
   "metadata": {
    "colab": {
     "base_uri": "https://localhost:8080/"
    },
    "id": "70cVnqn5_1Ta",
    "outputId": "96977418-f6ac-4613-a955-275020790718"
   },
   "outputs": [
    {
     "name": "stdout",
     "output_type": "stream",
     "text": [
      "x is not callable\n",
      "y is callable\n"
     ]
    }
   ],
   "source": [
    "x = 5\n",
    "\n",
    "def testFunction():\n",
    "  print(\"Test\")\n",
    "   \n",
    "y = testFunction\n",
    "\n",
    "if (callable(x)):\n",
    "    print(\"x is callable\")\n",
    "else:\n",
    "    print(\"x is not callable\")\n",
    "\n",
    "if (callable(y)):\n",
    "    print(\"y is callable\")\n",
    "else:\n",
    "    print(\"y is not callable\")"
   ]
  },
  {
   "cell_type": "markdown",
   "id": "98aac547",
   "metadata": {
    "id": "98aac547"
   },
   "source": [
    "#### Q11. What is the `__iadd__` method called?\n",
    "**Ans:** **`__iadd__`** method is called when we use implementation like a+=b which is **`a.__iadd__(b)`**"
   ]
  },
  {
   "cell_type": "markdown",
   "id": "f6c3908c",
   "metadata": {
    "id": "f6c3908c"
   },
   "source": [
    "#### Q12. Is the `_ _init_ _` method inherited by subclasses? What do you do if you need to customize its behavior within a subclass ?\n",
    "**Ans:** Yes, **`__init__`** method will be inherited by subclasses. If we want to customize its behaviour within a subclass, we can use **`super()`** method."
   ]
  },
  {
   "cell_type": "code",
   "execution_count": null,
   "id": "jEKqxV8W_7eh",
   "metadata": {
    "id": "jEKqxV8W_7eh"
   },
   "outputs": [],
   "source": []
  }
 ],
 "metadata": {
  "colab": {
   "collapsed_sections": [],
   "name": "Advance_Assignment_19.ipynb",
   "provenance": []
  },
  "kernelspec": {
   "display_name": "Python 3 (ipykernel)",
   "language": "python",
   "name": "python3"
  },
  "language_info": {
   "codemirror_mode": {
    "name": "ipython",
    "version": 3
   },
   "file_extension": ".py",
   "mimetype": "text/x-python",
   "name": "python",
   "nbconvert_exporter": "python",
   "pygments_lexer": "ipython3",
   "version": "3.9.12"
  }
 },
 "nbformat": 4,
 "nbformat_minor": 5
}
