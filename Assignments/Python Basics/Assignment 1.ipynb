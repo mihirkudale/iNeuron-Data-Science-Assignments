{
 "cells": [
  {
   "cell_type": "markdown",
   "id": "92a3da3b",
   "metadata": {},
   "source": [
    "**1. In the below elements which of them are values or an expression? eg:- values can be integer or string and expressions will be mathematical operators.**\n",
    "\n",
    "*, 'hello', -87.8, -, /, +, 6"
   ]
  },
  {
   "cell_type": "markdown",
   "id": "712913f5",
   "metadata": {},
   "source": [
    "**Ans: There are total 4 Operators and 3 Expressions:**"
   ]
  },
  {
   "cell_type": "markdown",
   "id": "8a0d8181",
   "metadata": {},
   "source": [
    "**Operators:** *,-,/,+\n",
    "\n",
    "**Expressions:** 'hello',-87.8, 6"
   ]
  },
  {
   "cell_type": "markdown",
   "id": "0c806812",
   "metadata": {},
   "source": [
    "**2. What is the difference between string and variable?**\n",
    "\n",
    "**Ans:**A Variable is used to store information, and a String is a type of information you would store in a Variable. A String is a group of characters or a single character usually enclosed in Double quotes \" \" or single quotes ' '"
   ]
  },
  {
   "cell_type": "markdown",
   "id": "2e30f30e",
   "metadata": {},
   "source": [
    "**3. Describe three different data types.**\n",
    "\n",
    "**Ans:**\n",
    "**Int :** Int datatype is used to repersent the integer values (eg. a = 123, b = -434)\n",
    "\n",
    "**float :** Float datatype is used to repersent the real numbers(floating point) (eg. c = 12.38, d = -3.66)\n",
    "\n",
    "**string:** String is used to repersent the sequence of characters. Also the characters can be numbers, special character, and alphabates. (eg. s1 = \"Hi!\", s2 = \"123<!@12\")"
   ]
  },
  {
   "cell_type": "markdown",
   "id": "9f403946",
   "metadata": {},
   "source": [
    "**4. What is an expression made up of? What do all expressions do?**\n",
    "\n",
    "**Ans:**Expression : Expression is the combinaton.of mathematical operators, variables(or Constants). It consists of one or more operand and zero or more operators to produce a value.\n",
    "\n",
    "Expression is used to produce some result or value."
   ]
  },
  {
   "cell_type": "code",
   "execution_count": 1,
   "id": "8e4f742c",
   "metadata": {},
   "outputs": [
    {
     "data": {
      "text/plain": [
       "0"
      ]
     },
     "execution_count": 1,
     "metadata": {},
     "output_type": "execute_result"
    }
   ],
   "source": [
    "4*5+30-50 # Is an Expression"
   ]
  },
  {
   "cell_type": "markdown",
   "id": "c3936789",
   "metadata": {},
   "source": [
    "**5. This assignment statements, like spam = 10. What is the difference between an expression and a statement?**\n",
    "\n",
    "**Ans:**\n",
    "An expression is a combination of values, variables, and operators.When we type an expression at the prompt, the interpreter evaluates it, which means that it finds the value of the expression.\n",
    "\n",
    "**example:** \n",
    "\n",
    "4*5+30-50 is an example of a statement\n",
    "\n",
    "A statement is a unit of code that has an effect, like creating a variable or displaying a value.When we type a statement, the interpreter executes it, which means that it does whatever the statement says. In general, statements don’t have values.\n",
    "\n",
    "**example:** \n",
    "\n",
    "variable declaration and assignment are statements because they do not return a value"
   ]
  },
  {
   "cell_type": "markdown",
   "id": "5feabda0",
   "metadata": {},
   "source": [
    "**6. After running the following code, what does the variable bacon contain?**\n",
    "\n",
    "**bacon = 22**\n",
    "\n",
    "**bacon + 1**\n",
    "\n",
    "Ans: The variable bacon is set to 22 .The expression bacon + 1 does not reassign the value in bacon (that would the case if the expression is like bacon = bacon + 1 instead of bacon + 1)\n",
    "\n",
    "**Example Case**"
   ]
  },
  {
   "cell_type": "code",
   "execution_count": 2,
   "id": "731c6720",
   "metadata": {},
   "outputs": [
    {
     "name": "stdout",
     "output_type": "stream",
     "text": [
      "22\n"
     ]
    }
   ],
   "source": [
    "bacon=22\n",
    "bacon+1\n",
    "print(bacon)"
   ]
  },
  {
   "cell_type": "markdown",
   "id": "36977c76",
   "metadata": {},
   "source": [
    "**Example Case**"
   ]
  },
  {
   "cell_type": "code",
   "execution_count": 3,
   "id": "05e72139",
   "metadata": {},
   "outputs": [
    {
     "name": "stdout",
     "output_type": "stream",
     "text": [
      "23\n"
     ]
    }
   ],
   "source": [
    "bacon=22\n",
    "bacon=bacon+1 \n",
    "print(bacon)"
   ]
  },
  {
   "cell_type": "markdown",
   "id": "6d8ecfdb",
   "metadata": {},
   "source": [
    "**7. What should the values of the following two terms be?**\n",
    "\n",
    "'spam' + 'spamspam'\n",
    "\n",
    "'spam' * 3\n",
    "\n",
    "**Ans:**Both expressions evaluate to the string 'spamspamspam' Where as the first expression follows String Concatentation and the second expression follows String Multiplication"
   ]
  },
  {
   "cell_type": "code",
   "execution_count": 4,
   "id": "16f48cd9",
   "metadata": {},
   "outputs": [
    {
     "name": "stdout",
     "output_type": "stream",
     "text": [
      "spamspamspam\n",
      "spamspamspam\n"
     ]
    }
   ],
   "source": [
    "print('spam'+'spamspam') # string concatenation\n",
    "print('spam'*3) # string multiplication"
   ]
  },
  {
   "cell_type": "markdown",
   "id": "92888a9b",
   "metadata": {},
   "source": [
    "**8. Why is eggs a valid variable name while 100 is invalid?**"
   ]
  },
  {
   "cell_type": "markdown",
   "id": "f318a601",
   "metadata": {},
   "source": [
    "Variable names cannot begin with a number. The python rules for naming a variable are :-\n",
    "\n",
    "* Variable name must start with a letter or the underscore character.\n",
    "* Variable name cannot start with a number.\n",
    "* Variable name can only contain alpha-numeric characters and underscores (A-z, 0-9, & _ ).\n",
    "* Variable names are case-sensitive (name, MIHIR and mihir are three different variables).\n",
    "* The reserved words(keywords) cannot be used naming the variable."
   ]
  },
  {
   "cell_type": "code",
   "execution_count": 5,
   "id": "e73e9d7e",
   "metadata": {},
   "outputs": [
    {
     "ename": "SyntaxError",
     "evalue": "cannot assign to literal (2408776292.py, line 2)",
     "output_type": "error",
     "traceback": [
      "\u001b[1;36m  Input \u001b[1;32mIn [5]\u001b[1;36m\u001b[0m\n\u001b[1;33m    100 ='hi' # Invalid Variable Initilized\u001b[0m\n\u001b[1;37m    ^\u001b[0m\n\u001b[1;31mSyntaxError\u001b[0m\u001b[1;31m:\u001b[0m cannot assign to literal\n"
     ]
    }
   ],
   "source": [
    "egg ='Mihir' # Valid variable Initilized\n",
    "100 ='hi' # Invalid Variable Initilized\n",
    "print(egg) # prints the value of egg ie Mihir\n",
    "print(100) # Raises a Syntax Error as 100 is not a valid variable name"
   ]
  },
  {
   "cell_type": "markdown",
   "id": "ff54223c",
   "metadata": {},
   "source": [
    "**9. What three functions can be used to get the integer, floating-point number, or string version of a value?**\n",
    "\n",
    "The int(),float(),and str() functions will evaluate to the integer,floating-point number,string version of the value passed to them.\n",
    "\n",
    "**Examples:**"
   ]
  },
  {
   "cell_type": "code",
   "execution_count": 6,
   "id": "d72ec49f",
   "metadata": {},
   "outputs": [
    {
     "name": "stdout",
     "output_type": "stream",
     "text": [
      "int(10) ->  10\n",
      "float(20) ->  20.0\n",
      "str(5) ->  5\n"
     ]
    }
   ],
   "source": [
    "print('int(10) -> ',int(10)) # int() function converts given input to int\n",
    "print('float(20) -> ',float(20)) # float() function converts given input to float\n",
    "print('str(5) -> ',str(5)) # str() function converts given input to string"
   ]
  },
  {
   "cell_type": "markdown",
   "id": "0072df8d",
   "metadata": {},
   "source": [
    "**10. Why does this expression cause an error? How can you fix it?**\n",
    "\n",
    "'I have eaten ' + 99 + ' burritos.'"
   ]
  },
  {
   "cell_type": "markdown",
   "id": "bf9c9095",
   "metadata": {},
   "source": [
    "**Ans:** This cause of error is 99.because 99 is not a string. 99 must be typecasted to a string to fix this error. the correct way is:\n",
    "\n",
    "**Input:** 'I have eaten ' + str(99) + 'burritos.'\n",
    "\n",
    "**Output:** 'I have eaten 99 burritos.'"
   ]
  },
  {
   "cell_type": "code",
   "execution_count": 7,
   "id": "f9bc72a4",
   "metadata": {},
   "outputs": [
    {
     "name": "stdout",
     "output_type": "stream",
     "text": [
      "I have eaten 99 burritos\n"
     ]
    }
   ],
   "source": [
    "print('I have eaten '+str(99)+' burritos')"
   ]
  }
 ],
 "metadata": {
  "kernelspec": {
   "display_name": "Python 3 (ipykernel)",
   "language": "python",
   "name": "python3"
  },
  "language_info": {
   "codemirror_mode": {
    "name": "ipython",
    "version": 3
   },
   "file_extension": ".py",
   "mimetype": "text/x-python",
   "name": "python",
   "nbconvert_exporter": "python",
   "pygments_lexer": "ipython3",
   "version": "3.9.12"
  }
 },
 "nbformat": 4,
 "nbformat_minor": 5
}
