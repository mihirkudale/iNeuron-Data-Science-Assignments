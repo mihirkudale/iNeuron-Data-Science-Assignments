{
 "cells": [
  {
   "cell_type": "markdown",
   "id": "06f10b11-8e8d-4a78-af31-42d3d40bacc8",
   "metadata": {},
   "source": [
    "# Assignment 15 Solution"
   ]
  },
  {
   "cell_type": "markdown",
   "id": "b9ca5ec7-2617-47e1-a3af-73f92fe37038",
   "metadata": {},
   "source": [
    "**SUBMITTED BY: MIHIR KUDALE**"
   ]
  },
  {
   "cell_type": "markdown",
   "id": "73a21c29-a4db-4658-8de9-2c72461044d3",
   "metadata": {},
   "source": [
    "**1. Deep Learning.**\n",
    "\n",
    "**a. Build a DNN with five hidden layers of 100 neurons each, He initialization, and the ELU activation function.**\n",
    "\n",
    "**b. Using Adam optimization and early stopping, try training it on MNIST but only on digits 0 to 4, as we will use transfer learning for digits 5 to 9 in the next exercise. You will need a softmax output layer with five neurons, and as always make sure to save checkpoints at regular intervals and save the final model so you can reuse it later.**\n",
    "\n",
    "**c. Tune the hyperparameters using cross-validation and see what precision you can achieve.**\n",
    "\n",
    "**d. Now try adding Batch Normalization and compare the learning curves: is it converging faster than before? Does it produce a better model?**\n",
    "\n",
    "**e. Is the model overfitting the training set? Try adding dropout to every layer and try\n",
    "again. Does it help?**"
   ]
  },
  {
   "cell_type": "markdown",
   "id": "a1a9a270-ea46-4c60-8d8d-38aa0da2b373",
   "metadata": {},
   "source": [
    "**Ans:** **a. Build a DNN with five hidden layers of 100 neurons each, He initialization, and the ELU activation function.**"
   ]
  }
 ],
 "metadata": {
  "kernelspec": {
   "display_name": "Python 3 (ipykernel)",
   "language": "python",
   "name": "python3"
  },
  "language_info": {
   "codemirror_mode": {
    "name": "ipython",
    "version": 3
   },
   "file_extension": ".py",
   "mimetype": "text/x-python",
   "name": "python",
   "nbconvert_exporter": "python",
   "pygments_lexer": "ipython3",
   "version": "3.8.16"
  }
 },
 "nbformat": 4,
 "nbformat_minor": 5
}
