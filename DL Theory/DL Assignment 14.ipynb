{
 "cells": [
  {
   "cell_type": "markdown",
   "id": "06f10b11-8e8d-4a78-af31-42d3d40bacc8",
   "metadata": {},
   "source": [
    "# Assignment 14 Solution"
   ]
  },
  {
   "cell_type": "markdown",
   "id": "b9ca5ec7-2617-47e1-a3af-73f92fe37038",
   "metadata": {},
   "source": [
    "**SUBMITTED BY: MIHIR KUDALE**"
   ]
  },
  {
   "cell_type": "markdown",
   "id": "d1a9fd95-bd89-424f-b369-308399a0ce0f",
   "metadata": {},
   "source": [
    "**1. Is it okay to initialize all the weights to the same value as long as that value is selected\n",
    "randomly using He initialization?**\n",
    "\n",
    "**Ans:** Yes, it is okay to initialize all the weights to the same value as long as that value is selected randomly using He initialization. He initialization is a specific type of random initialization technique that ensures that the weights are initialized with a good balance of small and large values, which helps to optimize the learning process."
   ]
  },
  {
   "cell_type": "markdown",
   "id": "f2603969-f334-4fed-af3f-ab719051c900",
   "metadata": {},
   "source": [
    "**2. Is it okay to initialize the bias terms to 0?**\n",
    "\n",
    "**Ans:** Yes, it is okay to initialize the bias terms to zero. Initializing the bias terms to zero is a popular approach as it allows the model to learn the bias more quickly during training."
   ]
  },
  {
   "cell_type": "markdown",
   "id": "5c0ab839-764c-4a30-a322-a934f4cc90c0",
   "metadata": {
    "tags": []
   },
   "source": [
    "**3. Name three advantages of the ELU activation function over ReLU.**\n",
    "\n",
    "**Ans:** \n",
    "1. The ELU activation function has a non-zero mean, which helps to reduce the vanishing gradients problem.\n",
    "2. The ELU activation function has a smoother transition from negative to positive values, which can help to improve the training process.\n",
    "3. The ELU activation function has a higher maximum output than ReLU, which can help to improve the model's performance."
   ]
  },
  {
   "cell_type": "markdown",
   "id": "d7f24b3b-8ccb-4878-98eb-a4040decde4f",
   "metadata": {
    "tags": []
   },
   "source": [
    "**4. In which cases would you want to use each of the following activation functions: ELU, leaky\n",
    "ReLU (and its variants), ReLU, tanh, logistic, and softmax?**\n",
    "\n",
    "**Ans:** \n",
    "ELU: ELU is best used in deep learning networks where the vanishing gradient problem is a concern.\n",
    "\n",
    "Leaky ReLU (and its variants): Leaky ReLU and its variants are best used in networks where the vanishing gradient problem is a concern, but where the non-zero mean of ELU is not desired.\n",
    "\n",
    "ReLU: ReLU is best used in networks where the vanishing gradient problem is not a concern and where a non-zero mean is not desired.\n",
    "\n",
    "Tanh: Tanh is best used in networks where a symmetric activation is desired and where the vanishing gradient problem is not a concern.\n",
    "\n",
    "Logistic: Logistic is best used in networks where a sigmoid activation is desired and where the vanishing gradient problem is not a concern.\n",
    "\n",
    "Softmax: Softmax is best used in networks where a probability distribution across multiple classes is desired."
   ]
  },
  {
   "cell_type": "markdown",
   "id": "0c69ac66-6798-4df4-a566-56169a97d005",
   "metadata": {},
   "source": [
    "**5. What may happen if you set the momentum hyperparameter too close to 1 (e.g., 0.99999) when using a MomentumOptimizer?**\n",
    "\n",
    "**Ans:** If the momentum hyperparameter is set too close to 1 (e.g., 0.99999), the model may not be able to make any updates to the weights during the training process as the gradients will be too small. This can lead to poor model performance and longer training times."
   ]
  },
  {
   "cell_type": "markdown",
   "id": "cb9a6acd-5358-49b0-8195-0c940ec7208a",
   "metadata": {},
   "source": [
    "**6. Name three ways you can produce a sparse model.**\n",
    "\n",
    "**Ans:** \n",
    "1. Use a weight regularization technique such as L1 regularization, which encourages the model to set the weights for less important features to zero.\n",
    "\n",
    "2. Use a pruning technique such as magnitude pruning, which removes weights with small magnitudes from the model.\n",
    "\n",
    "3. Use a model architecture that produces sparse models such as a convolutional neural network, which has fewer parameters due to the shared weights across different convolutional layers."
   ]
  },
  {
   "cell_type": "markdown",
   "id": "f178ae6f-a09b-4a87-bd3a-9ebcd398253a",
   "metadata": {},
   "source": [
    "**7. Does dropout slow down training? Does it slow down inference (i.e., making predictions on new instances)?**\n",
    "\n",
    "**Ans:** Yes, dropout can slow down training. This is due to the fact that the model has to recompute the forward and backward passes for each iteration, which takes more time than if dropout was not used.\n",
    "\n",
    "No, dropout does not slow down inference. This is because dropout is only used during the training process and is not used during inference."
   ]
  },
  {
   "cell_type": "code",
   "execution_count": null,
   "id": "e7b6df8b-97a3-4d90-9d21-b2fbd5c11876",
   "metadata": {},
   "outputs": [],
   "source": []
  }
 ],
 "metadata": {
  "kernelspec": {
   "display_name": "Python 3 (ipykernel)",
   "language": "python",
   "name": "python3"
  },
  "language_info": {
   "codemirror_mode": {
    "name": "ipython",
    "version": 3
   },
   "file_extension": ".py",
   "mimetype": "text/x-python",
   "name": "python",
   "nbconvert_exporter": "python",
   "pygments_lexer": "ipython3",
   "version": "3.8.16"
  }
 },
 "nbformat": 4,
 "nbformat_minor": 5
}
