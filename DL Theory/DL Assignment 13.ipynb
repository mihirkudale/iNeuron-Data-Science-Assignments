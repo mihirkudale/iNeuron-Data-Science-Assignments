{
  "cells": [
    {
      "attachments": {},
      "cell_type": "markdown",
      "id": "06f10b11-8e8d-4a78-af31-42d3d40bacc8",
      "metadata": {
        "id": "06f10b11-8e8d-4a78-af31-42d3d40bacc8"
      },
      "source": [
        "# Assignment 13 Solution\n",
        "\n",
        "**SUBMITTED BY: MIHIR KUDALE**"
      ]
    },
    {
      "cell_type": "markdown",
      "id": "im7o4AdqfOox",
      "metadata": {
        "id": "im7o4AdqfOox"
      },
      "source": [
        "**1. Why is it generally preferable to use a Logistic Regression classifier rather than a classical\n",
        "Perceptron (i.e., a single layer of linear threshold units trained using the Perceptron training\n",
        "algorithm)? How can you tweak a Perceptron to make it equivalent to a Logistic Regression\n",
        "classifier?**\n",
        "\n",
        "**Ans:** There are several reasons why logistic regression is generally preferred over a classical perceptron:\n",
        "\n",
        "1. Output: Logistic regression produces a probabilistic output, which is more suitable for classification tasks compared to a perceptron that only produces binary outputs. Probabilistic output allows for easier interpretation of the model's output and provides a measure of uncertainty.\n",
        "\n",
        "2. Linearity: Logistic regression can model non-linear decision boundaries through the use of polynomial features or interaction terms. In contrast, a single-layer perceptron can only model linear decision boundaries.\n",
        "\n",
        "3. Convergence: Logistic regression converges faster and is less sensitive to outliers compared to a perceptron. Perceptron training can diverge if the data is not linearly separable.\n",
        "\n",
        "To tweak a perceptron to make it equivalent to a logistic regression classifier, you can:\n",
        "\n",
        "1. Replace the step function in the perceptron with a logistic function to produce probabilistic outputs.\n",
        "\n",
        "2. Modify the loss function used in the perceptron training algorithm. Instead of using the perceptron loss function, which only considers misclassified examples, you can use a log-loss function, which takes into account the predicted probabilities.\n",
        "\n",
        "3. Use a multilayer perceptron (MLP) architecture, which allows for the modeling of non-linear decision boundaries through the use of hidden layers and activation functions. The MLP can be trained using backpropagation with a log-loss function, making it equivalent to logistic regression.\n",
        "\n",
        "\n",
        "\n"
      ]
    },
    {
      "cell_type": "markdown",
      "id": "w-ek3FYSgKYB",
      "metadata": {
        "id": "w-ek3FYSgKYB"
      },
      "source": [
        "**2. Why was the logistic activation function a key ingredient in training the first MLPs?**\n",
        "\n",
        "**Ans:** The logistic activation function was a key ingredient in training the first Multi-Layer Perceptrons (MLPs) because it allowed for efficient backpropagation learning.\n",
        "\n",
        "Backpropagation is a supervised learning algorithm used to train MLPs by adjusting the weights of the network based on the error between the predicted and actual outputs. During backpropagation, the gradient of the error with respect to the weights is calculated and used to update the weights in the opposite direction of the gradient to minimize the error.\n",
        "\n",
        "The logistic function, also known as the sigmoid function, has a smooth and continuous derivative, which makes it easy to calculate the gradient of the error with respect to the weights during backpropagation. In contrast, the step function used in the classical perceptron does not have a derivative, making it difficult to apply backpropagation to train the network.\n",
        "\n",
        "The logistic function also has a bounded output between 0 and 1, which allows the network to produce probabilistic outputs, making it suitable for classification tasks.\n",
        "\n",
        "Therefore, the logistic activation function was a key ingredient in training the first MLPs because it enabled efficient backpropagation learning and provided probabilistic outputs for classification tasks."
      ]
    },
    {
      "cell_type": "markdown",
      "id": "XXTrDJnYgrz-",
      "metadata": {
        "id": "XXTrDJnYgrz-"
      },
      "source": [
        "**3. Name three popular activation functions. Can you draw them?**\n",
        "\n",
        "**Ans:**  here are three popular activation functions:\n",
        "\n",
        "Sigmoid function: The sigmoid function is a popular activation function used in neural networks. It maps any input value to a value between 0 and 1. The sigmoid function is defined as:\n",
        "\n",
        "![image.png](attachment:ea76600b-7003-4a11-a12b-2569fd5f5282.png)  ![image.png](attachment:8bf97c9d-e4e9-4a9c-8c39-c48c2f69865d.png)\n",
        "\n",
        "ReLU function: The ReLU (Rectified Linear Unit) function is another popular activation function used in neural networks. It maps any input value x to the maximum of 0 and x. The ReLU function is defined as:\n",
        "\n",
        "![image.png](attachment:3c7ec38c-62c0-48bb-967d-13abeeebffdd.png)  ![image.png](attachment:cd53ac6b-f9d4-4e39-bd13-7a9a3ae434cb.png)\n",
        "\n",
        "Tanh function: The tanh (hyperbolic tangent) function is another commonly used activation function that maps any input value to a value between -1 and 1. The tanh function is defined as:\n",
        "\n",
        "![image.png](attachment:ad85af1a-70a2-468d-83f3-8abf71c8918c.png)  ![image.png](attachment:a5c31366-94eb-4de9-9fd0-f9009377a30e.png)\n"
      ]
    },
    {
      "cell_type": "markdown",
      "id": "aa6a3d77-51ac-4a31-8006-bb89111ff79e",
      "metadata": {
        "id": "aa6a3d77-51ac-4a31-8006-bb89111ff79e"
      },
      "source": [
        "**4. Suppose you have an MLP composed of one input layer with 10 passthrough neurons, followed by one hidden layer with 50 artificial neurons, and finally one output layer with 3 artificial neurons. All artificial neurons use the ReLU activation function.**\n",
        "* **What is the shape of the input matrix X?**\n",
        "* **What about the shape of the hidden layer’s weight vector Wh, and the shape of its bias vector bh?**\n",
        "* **What is the shape of the output layer’s weight vector Wo, and its bias vector bo?**\n",
        "* **What is the shape of the network’s output matrix Y?**\n",
        "* **Write the equation that computes the network’s output matrix Y as a function of X, Wh, bh, Wo and bo.**"
      ]
    },
    {
      "cell_type": "markdown",
      "id": "2e6a041d-6933-4cae-a0a3-26a1a7a68658",
      "metadata": {
        "id": "2e6a041d-6933-4cae-a0a3-26a1a7a68658"
      },
      "source": [
        "**Ans:** The MLP has:\n",
        "\n",
        "* Input layer with 10 passthrough neurons\n",
        "* Hidden layer with 50 artificial neurons using the ReLU activation function\n",
        "* Output layer with 3 artificial neurons using the ReLU activation function\n",
        "\n",
        "Based on this architecture, we can answer the following questions:\n",
        "\n",
        "* The shape of the input matrix X would be (m, 10), where m is the number of instances in the input data. Each instance has 10 features corresponding to the 10 passthrough neurons.\n",
        "\n",
        "* The shape of the hidden layer's weight matrix Wh would be (10, 50), where 10 is the number of passthrough neurons in the input layer, and 50 is the number of artificial neurons in the hidden layer. The shape of the bias vector bh would be (50,), which has one bias term for each artificial neuron in the hidden layer.\n",
        "\n",
        "* The shape of the output layer's weight matrix Wo would be (50, 3), where 50 is the number of artificial neurons in the hidden layer, and 3 is the number of artificial neurons in the output layer. The shape of the bias vector bo would be (3,), which has one bias term for each artificial neuron in the output layer.\n",
        "\n",
        "* The shape of the network's output matrix Y would be (m, 3), where m is the number of instances in the input data, and 3 is the number of artificial neurons in the output layer.\n",
        "\n",
        "* The equation that computes the network's output matrix Y as a function of X, Wh, bh, Wo, and bo is:"
      ]
    },
    {
      "cell_type": "raw",
      "id": "72fc8073-b556-45f8-836d-a4281fd04921",
      "metadata": {
        "id": "72fc8073-b556-45f8-836d-a4281fd04921"
      },
      "source": [
        "Z = X.dot(Wh) + bh   # dot product between X and Wh, then add bh\n",
        "H = np.maximum(Z, 0)  # apply ReLU activation function\n",
        "Y = H.dot(Wo) + bo    # dot product between H and Wo, then add bo"
      ]
    },
    {
      "cell_type": "markdown",
      "id": "2f3f7d3a-5946-4fee-9907-0cc87a07718a",
      "metadata": {
        "id": "2f3f7d3a-5946-4fee-9907-0cc87a07718a"
      },
      "source": [
        "where dot() is the dot product operation, np.maximum() is the ReLU activation function, and Y is the output matrix."
      ]
    },
    {
      "cell_type": "markdown",
      "id": "4eaba40c-ef44-4040-8603-c947316836f4",
      "metadata": {
        "id": "4eaba40c-ef44-4040-8603-c947316836f4"
      },
      "source": [
        "**5. How many neurons do you need in the output layer if you want to classify email into spam\n",
        "or ham? What activation function should you use in the output layer? If instead you want to\n",
        "tackle MNIST, how many neurons do you need in the output layer, using what activation\n",
        "function?**\n",
        "\n",
        "**Ans:** To classify email into spam or ham, you only need 1 neuron in the output layer. This neuron's output can be interpreted as the spam probability of the email. To classify the email, you can use a threshold on this probability, for example, if the spam probability is greater than 0.5, classify the email as spam; otherwise, classify it as ham. The activation function used in the output layer for binary classification problems like this one is the sigmoid function, which outputs a value between 0 and 1, representing the probability of belonging to the positive class.\n",
        "\n",
        "For MNIST, the output layer needs to have 10 neurons, one for each digit from 0 to 9. The activation function used in the output layer for multi-class classification problems like this one is the softmax function. The softmax function outputs a probability distribution over the 10 classes, where the output of each neuron represents the probability of the input belonging to a particular class."
      ]
    },
    {
      "cell_type": "markdown",
      "id": "0edb34fc-1f9a-4a72-bf07-63d693fa20aa",
      "metadata": {
        "id": "0edb34fc-1f9a-4a72-bf07-63d693fa20aa"
      },
      "source": [
        "**6. What is backpropagation and how does it work? What is the difference between\n",
        "backpropagation and reverse-mode autodiff?**\n",
        "\n",
        "**Ans:** Backpropagation is a supervised learning algorithm for training neural networks that use gradient descent optimization. The goal of backpropagation is to adjust the weights and biases of the network to minimize the difference between its predicted output and the actual output. Backpropagation works by computing the gradient of the loss function with respect to each weight and bias in the network, and then updating them in the opposite direction of the gradient to minimize the loss. This process is repeated iteratively until the network's performance is satisfactory.\n",
        "\n",
        "The backpropagation algorithm works in two phases:\n",
        "\n",
        "1. Forward pass: During the forward pass, the input is propagated through the neural network, layer by layer, to compute the output. At each layer, the output is computed as the weighted sum of the input, followed by the application of a non-linear activation function. The output of the final layer is compared to the true output to compute the loss.\n",
        "\n",
        "2. Backward pass: During the backward pass, the gradient of the loss function with respect to each weight and bias is computed using the chain rule of differentiation. The gradients are then used to update the weights and biases in the opposite direction of the gradient, with the learning rate controlling the step size of the update.\n",
        "\n",
        "Reverse-mode autodiff, also known as backpropagation through time, is a more general algorithm for computing gradients in computational graphs. It is used not only in neural networks but in a wide variety of machine learning algorithms. The main difference between backpropagation and reverse-mode autodiff is that backpropagation is a specific implementation of reverse-mode autodiff for neural networks. Reverse-mode autodiff works by decomposing the computation graph of a function into a sequence of elementary operations and then computing the gradients of the output with respect to the inputs by recursively applying the chain rule of differentiation from the output to the inputs. This algorithm is very efficient for computing gradients for functions with a large number of inputs and a small number of outputs, which is common in neural networks. In contrast, the standard numerical method of computing the gradients using finite differences becomes computationally infeasible when the number of inputs is large."
      ]
    },
    {
      "cell_type": "markdown",
      "id": "ad203f81-1420-4b18-8b92-eab60fc779fc",
      "metadata": {
        "id": "ad203f81-1420-4b18-8b92-eab60fc779fc"
      },
      "source": [
        "**7. Can you list all the hyperparameters you can tweak in an MLP? If the MLP overfits the training data, how could you tweak these hyperparameters to try to solve the problem?**\n",
        "\n",
        "**Ans:** Here are some of the hyperparameters that can be tweaked in an MLP:\n",
        "\n",
        "1. Number of hidden layers: The number of layers in the MLP can be increased or decreased to adjust the model's capacity.\n",
        "\n",
        "2. Number of neurons in each hidden layer: The number of neurons in each hidden layer can be increased or decreased to adjust the model's capacity.\n",
        "\n",
        "3. Activation function: Different activation functions can be used in the hidden and output layers, such as ReLU, sigmoid, and tanh.\n",
        "\n",
        "4. Learning rate: The learning rate controls the step size of the weight updates during training. It can be adjusted to speed up or slow down the learning process.\n",
        "\n",
        "5. Regularization: Regularization techniques such as L1, L2, and dropout can be used to prevent overfitting.\n",
        "\n",
        "6. Batch size: The batch size determines the number of samples used in each iteration of training. It can be adjusted to control the trade-off between computation time and accuracy.\n",
        "\n",
        "7. Number of epochs: The number of epochs determines the number of times the entire training dataset is passed through the MLP during training.\n",
        "\n",
        "If the MLP overfits the training data, the following hyperparameters can be tweaked to try to solve the problem:\n",
        "\n",
        "1. Regularization: Adding regularization to the MLP can help prevent overfitting by adding a penalty term to the loss function that encourages the model to have smaller weights.\n",
        "\n",
        "2. Dropout: Applying dropout to the hidden layers can help prevent overfitting by randomly dropping out neurons during training.\n",
        "\n",
        "3. Reduce the number of neurons in each hidden layer: This can help reduce the model's capacity and prevent overfitting.\n",
        "\n",
        "4. Early stopping: Training can be stopped early when the model's performance on a validation set starts to degrade, which can help prevent overfitting.\n",
        "\n",
        "5. Increase the batch size: Increasing the batch size can reduce the variance of the gradient estimates and improve generalization.\n",
        "\n",
        "6. Reduce the number of epochs: Reducing the number of epochs can help prevent overfitting by limiting the model's exposure to the training data."
      ]
    },
    {
      "cell_type": "markdown",
      "id": "3c8c1c54-f586-4df1-9984-c1a674ae3e00",
      "metadata": {
        "id": "3c8c1c54-f586-4df1-9984-c1a674ae3e00"
      },
      "source": [
        "**8. Train a deep MLP on the MNIST dataset and see if you can get over 98% precision. Try adding all the bells and whistles (i.e., save checkpoints, restore the last checkpoint in case of\n",
        "an interruption, add summaries, plot learning curves using TensorBoard, and so on).**\n",
        "\n",
        "**Ans:** "
      ]
    },
    {
      "cell_type": "code",
      "execution_count": 1,
      "id": "77FPi7lj1MvJ",
      "metadata": {
        "id": "77FPi7lj1MvJ"
      },
      "outputs": [],
      "source": [
        "import tensorflow as tf\n",
        "from tensorflow import keras"
      ]
    },
    {
      "cell_type": "code",
      "execution_count": 2,
      "id": "mZoYecn61Ots",
      "metadata": {
        "colab": {
          "base_uri": "https://localhost:8080/"
        },
        "id": "mZoYecn61Ots",
        "outputId": "b4e537d2-9bf0-4dde-dd37-fd16d331d9bb"
      },
      "outputs": [
        {
          "name": "stdout",
          "output_type": "stream",
          "text": [
            "Downloading data from https://storage.googleapis.com/tensorflow/tf-keras-datasets/mnist.npz\n",
            "11490434/11490434 [==============================] - 1s 0us/step\n"
          ]
        }
      ],
      "source": [
        "# Load the MNIST dataset\n",
        "mnist = keras.datasets.mnist\n",
        "(train_images, train_labels), (test_images, test_labels) = mnist.load_data()"
      ]
    },
    {
      "cell_type": "code",
      "execution_count": 3,
      "id": "WzhjnWcT1Yjz",
      "metadata": {
        "id": "WzhjnWcT1Yjz"
      },
      "outputs": [],
      "source": [
        "# Preprocess the data\n",
        "train_images = train_images / 255.0\n",
        "test_images = test_images / 255.0\n",
        "train_labels = keras.utils.to_categorical(train_labels)\n",
        "test_labels = keras.utils.to_categorical(test_labels)"
      ]
    },
    {
      "cell_type": "code",
      "execution_count": 4,
      "id": "GUVV8sKo1gvM",
      "metadata": {
        "id": "GUVV8sKo1gvM"
      },
      "outputs": [],
      "source": [
        "# Build the MLP model\n",
        "model = keras.Sequential([\n",
        "    keras.layers.Flatten(input_shape=(28, 28)),\n",
        "    keras.layers.Dense(128, activation='relu'),\n",
        "    keras.layers.Dropout(0.2),\n",
        "    keras.layers.Dense(10, activation='softmax')\n",
        "])"
      ]
    },
    {
      "cell_type": "code",
      "execution_count": 5,
      "id": "NxoKxGH-1iVI",
      "metadata": {
        "id": "NxoKxGH-1iVI"
      },
      "outputs": [],
      "source": [
        "# Compile the model\n",
        "model.compile(optimizer='adam',\n",
        "              loss='categorical_crossentropy',\n",
        "              metrics=['accuracy'])\n"
      ]
    },
    {
      "cell_type": "code",
      "execution_count": 6,
      "id": "Adxyrtrs1oIY",
      "metadata": {
        "colab": {
          "base_uri": "https://localhost:8080/"
        },
        "id": "Adxyrtrs1oIY",
        "outputId": "6336a354-f102-4bf3-b42d-54c6fc414a77"
      },
      "outputs": [
        {
          "name": "stdout",
          "output_type": "stream",
          "text": [
            "Epoch 1/10\n",
            "1875/1875 [==============================] - 13s 4ms/step - loss: 0.2979 - accuracy: 0.9128 - val_loss: 0.1403 - val_accuracy: 0.9572\n",
            "Epoch 2/10\n",
            "1875/1875 [==============================] - 6s 3ms/step - loss: 0.1422 - accuracy: 0.9575 - val_loss: 0.0979 - val_accuracy: 0.9706\n",
            "Epoch 3/10\n",
            "1875/1875 [==============================] - 6s 3ms/step - loss: 0.1081 - accuracy: 0.9673 - val_loss: 0.0875 - val_accuracy: 0.9746\n",
            "Epoch 4/10\n",
            "1875/1875 [==============================] - 5s 3ms/step - loss: 0.0884 - accuracy: 0.9724 - val_loss: 0.0720 - val_accuracy: 0.9781\n",
            "Epoch 5/10\n",
            "1875/1875 [==============================] - 7s 4ms/step - loss: 0.0753 - accuracy: 0.9760 - val_loss: 0.0772 - val_accuracy: 0.9777\n",
            "Epoch 6/10\n",
            "1875/1875 [==============================] - 5s 3ms/step - loss: 0.0669 - accuracy: 0.9784 - val_loss: 0.0715 - val_accuracy: 0.9786\n",
            "Epoch 7/10\n",
            "1875/1875 [==============================] - 7s 4ms/step - loss: 0.0577 - accuracy: 0.9812 - val_loss: 0.0715 - val_accuracy: 0.9799\n",
            "Epoch 8/10\n",
            "1875/1875 [==============================] - 5s 3ms/step - loss: 0.0518 - accuracy: 0.9827 - val_loss: 0.0695 - val_accuracy: 0.9815\n",
            "Epoch 9/10\n",
            "1875/1875 [==============================] - 6s 3ms/step - loss: 0.0477 - accuracy: 0.9836 - val_loss: 0.0708 - val_accuracy: 0.9814\n",
            "Epoch 10/10\n",
            "1875/1875 [==============================] - 5s 3ms/step - loss: 0.0450 - accuracy: 0.9847 - val_loss: 0.0667 - val_accuracy: 0.9803\n"
          ]
        },
        {
          "data": {
            "text/plain": [
              "<keras.callbacks.History at 0x7f6c984382e0>"
            ]
          },
          "execution_count": 6,
          "metadata": {},
          "output_type": "execute_result"
        }
      ],
      "source": [
        "# Train the model\n",
        "model.fit(train_images, train_labels, epochs=10, batch_size=32, validation_data=(test_images, test_labels))"
      ]
    },
    {
      "cell_type": "code",
      "execution_count": 7,
      "id": "2-twiEGh10zq",
      "metadata": {
        "colab": {
          "base_uri": "https://localhost:8080/"
        },
        "id": "2-twiEGh10zq",
        "outputId": "502086b5-6763-4a97-8a43-1363d9ac0e13"
      },
      "outputs": [
        {
          "name": "stdout",
          "output_type": "stream",
          "text": [
            "313/313 - 1s - loss: 0.0667 - accuracy: 0.9803 - 575ms/epoch - 2ms/step\n",
            "Test accuracy: 0.9803000092506409\n"
          ]
        }
      ],
      "source": [
        "# Evaluate the model\n",
        "test_loss, test_acc = model.evaluate(test_images, test_labels, verbose=2)\n",
        "print('Test accuracy:', test_acc)"
      ]
    },
    {
      "cell_type": "code",
      "execution_count": 8,
      "id": "KRZuhcfq15jk",
      "metadata": {
        "id": "KRZuhcfq15jk"
      },
      "outputs": [],
      "source": [
        "# Save checkpoints\n",
        "checkpoint_path = \"model_checkpoint/cp.ckpt\"\n",
        "cp_callback = tf.keras.callbacks.ModelCheckpoint(filepath=checkpoint_path, save_weights_only=True, verbose=1)"
      ]
    },
    {
      "cell_type": "code",
      "execution_count": 9,
      "id": "DgGYxn1A1_JQ",
      "metadata": {
        "colab": {
          "base_uri": "https://localhost:8080/"
        },
        "id": "DgGYxn1A1_JQ",
        "outputId": "7a45b751-79b2-47c7-89e0-54528faa5aeb"
      },
      "outputs": [
        {
          "name": "stdout",
          "output_type": "stream",
          "text": [
            "Epoch 1/10\n",
            "1875/1875 [==============================] - ETA: 0s - loss: 0.0422 - accuracy: 0.9858\n",
            "Epoch 1: saving model to model_checkpoint/cp.ckpt\n",
            "1875/1875 [==============================] - 6s 3ms/step - loss: 0.0422 - accuracy: 0.9858 - val_loss: 0.0712 - val_accuracy: 0.9808\n",
            "Epoch 2/10\n",
            "1866/1875 [============================>.] - ETA: 0s - loss: 0.0412 - accuracy: 0.9862\n",
            "Epoch 2: saving model to model_checkpoint/cp.ckpt\n",
            "1875/1875 [==============================] - 5s 3ms/step - loss: 0.0411 - accuracy: 0.9862 - val_loss: 0.0683 - val_accuracy: 0.9803\n",
            "Epoch 3/10\n",
            "1870/1875 [============================>.] - ETA: 0s - loss: 0.0351 - accuracy: 0.9883\n",
            "Epoch 3: saving model to model_checkpoint/cp.ckpt\n",
            "1875/1875 [==============================] - 6s 3ms/step - loss: 0.0351 - accuracy: 0.9883 - val_loss: 0.0778 - val_accuracy: 0.9789\n",
            "Epoch 4/10\n",
            "1868/1875 [============================>.] - ETA: 0s - loss: 0.0336 - accuracy: 0.9882\n",
            "Epoch 4: saving model to model_checkpoint/cp.ckpt\n",
            "1875/1875 [==============================] - 5s 3ms/step - loss: 0.0336 - accuracy: 0.9882 - val_loss: 0.0796 - val_accuracy: 0.9798\n",
            "Epoch 5/10\n",
            "1867/1875 [============================>.] - ETA: 0s - loss: 0.0339 - accuracy: 0.9880\n",
            "Epoch 5: saving model to model_checkpoint/cp.ckpt\n",
            "1875/1875 [==============================] - 6s 3ms/step - loss: 0.0340 - accuracy: 0.9879 - val_loss: 0.0765 - val_accuracy: 0.9817\n",
            "Epoch 6/10\n",
            "1858/1875 [============================>.] - ETA: 0s - loss: 0.0313 - accuracy: 0.9894\n",
            "Epoch 6: saving model to model_checkpoint/cp.ckpt\n",
            "1875/1875 [==============================] - 6s 3ms/step - loss: 0.0315 - accuracy: 0.9894 - val_loss: 0.0818 - val_accuracy: 0.9794\n",
            "Epoch 7/10\n",
            "1874/1875 [============================>.] - ETA: 0s - loss: 0.0305 - accuracy: 0.9896\n",
            "Epoch 7: saving model to model_checkpoint/cp.ckpt\n",
            "1875/1875 [==============================] - 5s 3ms/step - loss: 0.0306 - accuracy: 0.9896 - val_loss: 0.0776 - val_accuracy: 0.9793\n",
            "Epoch 8/10\n",
            "1864/1875 [============================>.] - ETA: 0s - loss: 0.0286 - accuracy: 0.9901\n",
            "Epoch 8: saving model to model_checkpoint/cp.ckpt\n",
            "1875/1875 [==============================] - 6s 3ms/step - loss: 0.0285 - accuracy: 0.9901 - val_loss: 0.0803 - val_accuracy: 0.9817\n",
            "Epoch 9/10\n",
            "1863/1875 [============================>.] - ETA: 0s - loss: 0.0260 - accuracy: 0.9909\n",
            "Epoch 9: saving model to model_checkpoint/cp.ckpt\n",
            "1875/1875 [==============================] - 5s 3ms/step - loss: 0.0260 - accuracy: 0.9909 - val_loss: 0.0809 - val_accuracy: 0.9816\n",
            "Epoch 10/10\n",
            "1874/1875 [============================>.] - ETA: 0s - loss: 0.0268 - accuracy: 0.9910\n",
            "Epoch 10: saving model to model_checkpoint/cp.ckpt\n",
            "1875/1875 [==============================] - 6s 3ms/step - loss: 0.0268 - accuracy: 0.9910 - val_loss: 0.0814 - val_accuracy: 0.9797\n"
          ]
        },
        {
          "data": {
            "text/plain": [
              "<keras.callbacks.History at 0x7f6c9808e610>"
            ]
          },
          "execution_count": 9,
          "metadata": {},
          "output_type": "execute_result"
        }
      ],
      "source": [
        "# Train the model with checkpointing\n",
        "model.fit(train_images, train_labels, epochs=10, batch_size=32, validation_data=(test_images, test_labels), callbacks=[cp_callback])"
      ]
    },
    {
      "cell_type": "code",
      "execution_count": 10,
      "id": "QWq4R3Bn2CZM",
      "metadata": {
        "colab": {
          "base_uri": "https://localhost:8080/"
        },
        "id": "QWq4R3Bn2CZM",
        "outputId": "6a297e14-6806-48ba-f444-d575918793bd"
      },
      "outputs": [
        {
          "data": {
            "text/plain": [
              "<tensorflow.python.checkpoint.checkpoint.CheckpointLoadStatus at 0x7f6c983c7340>"
            ]
          },
          "execution_count": 10,
          "metadata": {},
          "output_type": "execute_result"
        }
      ],
      "source": [
        "# Restore the last checkpoint\n",
        "latest_checkpoint = tf.train.latest_checkpoint(\"model_checkpoint/\")\n",
        "model.load_weights(latest_checkpoint)"
      ]
    },
    {
      "cell_type": "code",
      "execution_count": 11,
      "id": "ThQwM6u02FZg",
      "metadata": {
        "id": "ThQwM6u02FZg"
      },
      "outputs": [],
      "source": [
        "# Add summaries\n",
        "log_dir = \"logs/fit/\"\n",
        "tensorboard_callback = tf.keras.callbacks.TensorBoard(log_dir=log_dir, histogram_freq=1)"
      ]
    },
    {
      "cell_type": "code",
      "execution_count": 12,
      "id": "eGe_WoHH2H1f",
      "metadata": {
        "colab": {
          "base_uri": "https://localhost:8080/"
        },
        "id": "eGe_WoHH2H1f",
        "outputId": "83c2a67a-f817-4645-f972-961382c48896"
      },
      "outputs": [
        {
          "name": "stdout",
          "output_type": "stream",
          "text": [
            "Epoch 1/10\n",
            "1875/1875 [==============================] - 6s 3ms/step - loss: 0.0266 - accuracy: 0.9905 - val_loss: 0.0864 - val_accuracy: 0.9782\n",
            "Epoch 2/10\n",
            "1875/1875 [==============================] - 6s 3ms/step - loss: 0.0257 - accuracy: 0.9912 - val_loss: 0.0871 - val_accuracy: 0.9795\n",
            "Epoch 3/10\n",
            "1875/1875 [==============================] - 5s 3ms/step - loss: 0.0231 - accuracy: 0.9920 - val_loss: 0.0913 - val_accuracy: 0.9798\n",
            "Epoch 4/10\n",
            "1875/1875 [==============================] - 6s 3ms/step - loss: 0.0234 - accuracy: 0.9918 - val_loss: 0.0806 - val_accuracy: 0.9806\n",
            "Epoch 5/10\n",
            "1875/1875 [==============================] - 5s 3ms/step - loss: 0.0230 - accuracy: 0.9922 - val_loss: 0.0900 - val_accuracy: 0.9805\n",
            "Epoch 6/10\n",
            "1875/1875 [==============================] - 6s 3ms/step - loss: 0.0223 - accuracy: 0.9921 - val_loss: 0.0858 - val_accuracy: 0.9818\n",
            "Epoch 7/10\n",
            "1875/1875 [==============================] - 5s 3ms/step - loss: 0.0229 - accuracy: 0.9918 - val_loss: 0.0926 - val_accuracy: 0.9807\n",
            "Epoch 8/10\n",
            "1875/1875 [==============================] - 6s 3ms/step - loss: 0.0224 - accuracy: 0.9927 - val_loss: 0.0901 - val_accuracy: 0.9822\n",
            "Epoch 9/10\n",
            "1875/1875 [==============================] - 5s 3ms/step - loss: 0.0218 - accuracy: 0.9928 - val_loss: 0.0951 - val_accuracy: 0.9802\n",
            "Epoch 10/10\n",
            "1875/1875 [==============================] - 5s 3ms/step - loss: 0.0195 - accuracy: 0.9934 - val_loss: 0.0904 - val_accuracy: 0.9826\n"
          ]
        },
        {
          "data": {
            "text/plain": [
              "<keras.callbacks.History at 0x7f6c98067a30>"
            ]
          },
          "execution_count": 12,
          "metadata": {},
          "output_type": "execute_result"
        }
      ],
      "source": [
        "# Train the model with summaries\n",
        "model.fit(train_images, train_labels, epochs=10, batch_size=32, validation_data=(test_images, test_labels), callbacks=[tensorboard_callback])"
      ]
    }
  ],
  "metadata": {
    "accelerator": "GPU",
    "colab": {
      "provenance": []
    },
    "gpuClass": "standard",
    "kernelspec": {
      "display_name": "Python 3 (ipykernel)",
      "language": "python",
      "name": "python3"
    },
    "language_info": {
      "codemirror_mode": {
        "name": "ipython",
        "version": 3
      },
      "file_extension": ".py",
      "mimetype": "text/x-python",
      "name": "python",
      "nbconvert_exporter": "python",
      "pygments_lexer": "ipython3",
      "version": "3.10.6"
    }
  },
  "nbformat": 4,
  "nbformat_minor": 5
}
