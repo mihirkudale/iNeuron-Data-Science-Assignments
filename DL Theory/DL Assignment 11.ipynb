{
 "cells": [
  {
   "cell_type": "markdown",
   "id": "06f10b11-8e8d-4a78-af31-42d3d40bacc8",
   "metadata": {},
   "source": [
    "# Assignment 11 Solution"
   ]
  },
  {
   "cell_type": "markdown",
   "id": "b9ca5ec7-2617-47e1-a3af-73f92fe37038",
   "metadata": {},
   "source": [
    "**SUBMITTED BY: MIHIR KUDALE**"
   ]
  },
  {
   "cell_type": "markdown",
   "id": "668c9618",
   "metadata": {},
   "source": [
    "**1. Write the Python code to implement a single neuron.**\n",
    "\n",
    "**Ans:** "
   ]
  },
  {
   "cell_type": "code",
   "execution_count": 1,
   "id": "6bb1af2c-7f1a-49b4-a6e9-b53e13a270d5",
   "metadata": {
    "tags": []
   },
   "outputs": [],
   "source": [
    "import numpy as np"
   ]
  },
  {
   "cell_type": "code",
   "execution_count": 2,
   "id": "a1443523-4288-4663-b7e4-caa5ebd0240a",
   "metadata": {
    "tags": []
   },
   "outputs": [],
   "source": [
    "class Neuron:\n",
    "    def __init__(self, input_size):\n",
    "        self.weights = np.random.rand(input_size)\n",
    "        self.bias = np.random.rand()\n",
    "    \n",
    "    def forward(self, inputs):\n",
    "        z = np.dot(inputs, self.weights) + self.bias\n",
    "        a = self.activation_function(z)\n",
    "        return a\n",
    "    \n",
    "    def activation_function(self, x):\n",
    "        return 1 / (1 + np.exp(-x))"
   ]
  },
  {
   "cell_type": "code",
   "execution_count": 3,
   "id": "c6ef1133-5fe7-41bd-8e10-62a8c3447c91",
   "metadata": {
    "tags": []
   },
   "outputs": [],
   "source": [
    "# create a neuron with 2 inputs\n",
    "neuron = Neuron(2)"
   ]
  },
  {
   "cell_type": "code",
   "execution_count": 4,
   "id": "250dd9fb-2198-4ac3-9692-203dedadd815",
   "metadata": {
    "tags": []
   },
   "outputs": [
    {
     "name": "stdin",
     "output_type": "stream",
     "text": [
      "Enter input 1:  2.2\n",
      "Enter input 2:  4.3\n"
     ]
    }
   ],
   "source": [
    "# get input values from the user\n",
    "input1 = float(input(\"Enter input 1: \"))\n",
    "input2 = float(input(\"Enter input 2: \"))"
   ]
  },
  {
   "cell_type": "code",
   "execution_count": 5,
   "id": "d50c8934-d800-491a-b815-99b2ab223187",
   "metadata": {
    "tags": []
   },
   "outputs": [],
   "source": [
    "# make a prediction based on the inputs\n",
    "inputs = np.array([input1, input2])\n",
    "output = neuron.forward(inputs)"
   ]
  },
  {
   "cell_type": "code",
   "execution_count": 6,
   "id": "47a7d4a1-22a5-4aef-b840-83556b94e139",
   "metadata": {
    "tags": []
   },
   "outputs": [
    {
     "name": "stdout",
     "output_type": "stream",
     "text": [
      "The predicted output is: 0.9978583846876371\n"
     ]
    }
   ],
   "source": [
    "print(\"The predicted output is:\", output)"
   ]
  },
  {
   "cell_type": "markdown",
   "id": "657a48a9-7bdb-4581-afd9-5a864d350b99",
   "metadata": {},
   "source": [
    "**2. Write the Python code to implement ReLU.**\n",
    "\n",
    "**Ans:**"
   ]
  },
  {
   "cell_type": "code",
   "execution_count": 7,
   "id": "dc818db3-165e-462b-913e-f54a0514b2b9",
   "metadata": {
    "tags": []
   },
   "outputs": [],
   "source": [
    "import numpy as np"
   ]
  },
  {
   "cell_type": "code",
   "execution_count": 8,
   "id": "0b4061ab-f86b-4039-8bcd-b9726492cbc3",
   "metadata": {
    "tags": []
   },
   "outputs": [],
   "source": [
    "def relu(x):\n",
    "    return np.maximum(0, x)"
   ]
  },
  {
   "cell_type": "code",
   "execution_count": 9,
   "id": "376f8cdd-1302-46c6-aafc-d73c4017c3d3",
   "metadata": {
    "tags": []
   },
   "outputs": [
    {
     "name": "stdin",
     "output_type": "stream",
     "text": [
      "Enter a value for x:  2.7\n"
     ]
    }
   ],
   "source": [
    "# get input value from the user\n",
    "x = float(input(\"Enter a value for x: \"))"
   ]
  },
  {
   "cell_type": "code",
   "execution_count": 10,
   "id": "7a086360-7d50-44ac-9197-e245bf7d5af4",
   "metadata": {
    "tags": []
   },
   "outputs": [],
   "source": [
    "# apply ReLU to the input value\n",
    "output = relu(x)"
   ]
  },
  {
   "cell_type": "code",
   "execution_count": 11,
   "id": "54f2ef00-059a-4780-b090-3660c1fa5e2d",
   "metadata": {
    "tags": []
   },
   "outputs": [
    {
     "name": "stdout",
     "output_type": "stream",
     "text": [
      "The output of ReLU applied to 2.7 is: 2.7\n"
     ]
    }
   ],
   "source": [
    "print(\"The output of ReLU applied to\", x, \"is:\", output)"
   ]
  },
  {
   "cell_type": "markdown",
   "id": "6db7fee2-9b04-4bee-ae7a-d9c14accf373",
   "metadata": {},
   "source": [
    "**3. Write the Python code for a dense layer in terms of matrix multiplication.**\n",
    "\n",
    "**Ans:**"
   ]
  },
  {
   "cell_type": "code",
   "execution_count": 12,
   "id": "0cf2709e-3fc8-457f-be99-99f145ef6da9",
   "metadata": {
    "tags": []
   },
   "outputs": [],
   "source": [
    "import numpy as np"
   ]
  },
  {
   "cell_type": "code",
   "execution_count": 13,
   "id": "08d5b203-47b1-4582-8508-b391a1d42da0",
   "metadata": {
    "tags": []
   },
   "outputs": [],
   "source": [
    "class DenseLayer:\n",
    "    def __init__(self, input_size, output_size):\n",
    "        self.weights = np.random.rand(input_size, output_size)\n",
    "        self.bias = np.random.rand(output_size)\n",
    "    \n",
    "    def forward(self, inputs):\n",
    "        z = np.dot(inputs, self.weights) + self.bias\n",
    "        return z"
   ]
  },
  {
   "cell_type": "code",
   "execution_count": 14,
   "id": "806d5c67-f0cc-4650-94f2-3a03aa6b9d5a",
   "metadata": {
    "tags": []
   },
   "outputs": [],
   "source": [
    "# create a dense layer with 2 inputs and 3 outputs\n",
    "layer = DenseLayer(2, 3)"
   ]
  },
  {
   "cell_type": "code",
   "execution_count": 15,
   "id": "42312255-12d1-4aff-a9f1-a73735c392a4",
   "metadata": {
    "tags": []
   },
   "outputs": [
    {
     "name": "stdin",
     "output_type": "stream",
     "text": [
      "Enter input 1:  2.3\n",
      "Enter input 2:  4.8\n"
     ]
    }
   ],
   "source": [
    "# get input values from the user\n",
    "input1 = float(input(\"Enter input 1: \"))\n",
    "input2 = float(input(\"Enter input 2: \"))"
   ]
  },
  {
   "cell_type": "code",
   "execution_count": 16,
   "id": "0e6fd880-0253-4954-9b96-863278edd07d",
   "metadata": {
    "tags": []
   },
   "outputs": [],
   "source": [
    "# make a prediction based on the inputs\n",
    "inputs = np.array([input1, input2])\n",
    "output = layer.forward(inputs)"
   ]
  },
  {
   "cell_type": "code",
   "execution_count": 17,
   "id": "5d296027-03b1-4af3-b7ed-ef0fbc899280",
   "metadata": {
    "tags": []
   },
   "outputs": [
    {
     "name": "stdout",
     "output_type": "stream",
     "text": [
      "The predicted output is: [3.73812102 3.10664287 3.99025331]\n"
     ]
    }
   ],
   "source": [
    "print(\"The predicted output is:\", output)"
   ]
  },
  {
   "cell_type": "markdown",
   "id": "c2c86480-0363-4ad1-adfd-5e3fe8340853",
   "metadata": {},
   "source": [
    "**4. Write the Python code for a dense layer in plain Python (that is, with list comprehensions\n",
    "and functionality built into Python).**\n",
    "\n",
    "**Ans:** "
   ]
  },
  {
   "cell_type": "code",
   "execution_count": 18,
   "id": "826f877f-a63f-475f-a8e3-cbd056d1ad3a",
   "metadata": {
    "tags": []
   },
   "outputs": [],
   "source": [
    "import random"
   ]
  },
  {
   "cell_type": "code",
   "execution_count": 19,
   "id": "730d6ac6-b07b-40fb-a88b-8e8aa2d601a0",
   "metadata": {
    "tags": []
   },
   "outputs": [],
   "source": [
    "class DenseLayer:\n",
    "    def __init__(self, input_size, output_size):\n",
    "        self.weights = [[random.random() for _ in range(output_size)] for _ in range(input_size)]\n",
    "        self.bias = [random.random() for _ in range(output_size)]\n",
    "    \n",
    "    def forward(self, inputs):\n",
    "        z = [sum([inputs[i] * self.weights[i][j] for i in range(len(inputs))]) + self.bias[j] for j in range(len(self.bias))]\n",
    "        return z"
   ]
  },
  {
   "cell_type": "code",
   "execution_count": 20,
   "id": "cfad3565-496d-41eb-9995-9d16e75e8d50",
   "metadata": {
    "tags": []
   },
   "outputs": [],
   "source": [
    "# create a dense layer with 2 inputs and 3 outputs\n",
    "layer = DenseLayer(2, 3)"
   ]
  },
  {
   "cell_type": "code",
   "execution_count": 21,
   "id": "2e9e3b0b-0d6d-4623-a5a5-200586a06b01",
   "metadata": {
    "tags": []
   },
   "outputs": [
    {
     "name": "stdin",
     "output_type": "stream",
     "text": [
      "Enter input 1:  2.3\n",
      "Enter input 2:  8.2\n"
     ]
    }
   ],
   "source": [
    "# get input values from the user\n",
    "input1 = float(input(\"Enter input 1: \"))\n",
    "input2 = float(input(\"Enter input 2: \"))"
   ]
  },
  {
   "cell_type": "code",
   "execution_count": 22,
   "id": "2d671fbb-3474-4bba-af0a-8e05a41558e1",
   "metadata": {
    "tags": []
   },
   "outputs": [],
   "source": [
    "# make a prediction based on the inputs\n",
    "inputs = [input1, input2]\n",
    "output = layer.forward(inputs)"
   ]
  },
  {
   "cell_type": "code",
   "execution_count": 23,
   "id": "a2f3ca2a-ec31-4a75-a6c2-11d92d4e239f",
   "metadata": {
    "tags": []
   },
   "outputs": [
    {
     "name": "stdout",
     "output_type": "stream",
     "text": [
      "The predicted output is: [3.3380793902882337, 6.1582139090639725, 4.882667126685612]\n"
     ]
    }
   ],
   "source": [
    "print(\"The predicted output is:\", output)"
   ]
  },
  {
   "cell_type": "markdown",
   "id": "5c367786-12cd-488a-a968-03c8c5e33fcd",
   "metadata": {},
   "source": [
    "**5. What is the “hidden size” of a layer?**\n",
    "\n",
    "**Ans:** The \"hidden size\" of a layer refers to the number of neurons in that layer. In other words, it is the number of nodes in the layer that are not directly connected to the input or output layers.\n",
    "\n",
    "For example, in a neural network with an input layer, an output layer, and a single hidden layer, the hidden size of that layer would refer to the number of neurons in the hidden layer. The input and output layers have a fixed size determined by the input and output of the task being performed, but the number of neurons in the hidden layer can vary and is typically chosen by the user based on the complexity of the task.\n",
    "\n",
    "The hidden size of a layer is an important hyperparameter that can affect the performance of a neural network. A larger hidden size may allow the network to learn more complex features, but may also increase the risk of overfitting. On the other hand, a smaller hidden size may simplify the network and reduce the risk of overfitting, but may not be able to learn as complex of features."
   ]
  },
  {
   "cell_type": "markdown",
   "id": "226ab4ba-89fe-4e0b-9b4a-df4d1c071d15",
   "metadata": {},
   "source": [
    "**6. What does the t method do in PyTorch?**\n",
    "\n",
    "**Ans:**"
   ]
  },
  {
   "cell_type": "markdown",
   "id": "9243642b-0b86-4dd5-888a-d78e89097cf8",
   "metadata": {
    "tags": []
   },
   "source": [
    "In PyTorch, the t() method is used to transpose a tensor.\n",
    "\n",
    "A tensor in PyTorch is a multi-dimensional array, similar to a NumPy array. Transposing a tensor means to swap its rows and columns, effectively rotating the tensor. For example, if we have a 2-dimensional tensor t with shape (3, 4), transposing it would result in a tensor with shape (4, 3).\n",
    "\n",
    "Here's an example of using the t() method in PyTorch:"
   ]
  },
  {
   "cell_type": "code",
   "execution_count": 24,
   "id": "8d734b0a-1635-4fcd-8afa-c1a5c42cd273",
   "metadata": {
    "tags": []
   },
   "outputs": [],
   "source": [
    "import torch"
   ]
  },
  {
   "cell_type": "code",
   "execution_count": 25,
   "id": "89ebc35a-2750-43ed-8ce0-c2b1481072ba",
   "metadata": {
    "tags": []
   },
   "outputs": [],
   "source": [
    "# create a 2-dimensional tensor\n",
    "t = torch.tensor([[1, 2, 3], [4, 5, 6]])"
   ]
  },
  {
   "cell_type": "code",
   "execution_count": 26,
   "id": "4f284f6d-3b99-46e0-86c2-11997cf2dd59",
   "metadata": {
    "tags": []
   },
   "outputs": [
    {
     "name": "stdout",
     "output_type": "stream",
     "text": [
      "Original tensor:\n",
      "tensor([[1, 2, 3],\n",
      "        [4, 5, 6]])\n"
     ]
    }
   ],
   "source": [
    "# print the original tensor\n",
    "print(\"Original tensor:\")\n",
    "print(t)"
   ]
  },
  {
   "cell_type": "code",
   "execution_count": 27,
   "id": "d89a58bb-6b22-47b7-8793-12ab8586a9ea",
   "metadata": {
    "tags": []
   },
   "outputs": [],
   "source": [
    "# transpose the tensor\n",
    "t_transposed = t.t()"
   ]
  },
  {
   "cell_type": "code",
   "execution_count": 28,
   "id": "8c0abe4b-a488-4b58-b5d3-d3e4986d7df3",
   "metadata": {
    "tags": []
   },
   "outputs": [
    {
     "name": "stdout",
     "output_type": "stream",
     "text": [
      "Transposed tensor:\n",
      "tensor([[1, 4],\n",
      "        [2, 5],\n",
      "        [3, 6]])\n"
     ]
    }
   ],
   "source": [
    "# print the transposed tensor\n",
    "print(\"Transposed tensor:\")\n",
    "print(t_transposed)"
   ]
  },
  {
   "cell_type": "markdown",
   "id": "88d97694-e42e-4ef6-bcb3-7d72d9490aaa",
   "metadata": {},
   "source": [
    "**7. Why is matrix multiplication written in plain Python very slow?**\n",
    "\n",
    "**Ans:** Matrix multiplication involves a large number of arithmetic operations, and performing those operations using the basic Python operations can be slow because Python is an interpreted language, which means that it has to interpret and execute each line of code at runtime. This can lead to a significant overhead when working with large matrices.\n",
    "\n",
    "Moreover, the built-in data structures in Python, such as lists or tuples, are not optimized for numerical operations and lack the efficient memory access patterns that are required for efficient matrix multiplication.\n",
    "\n",
    "In contrast, specialized numerical libraries such as NumPy or TensorFlow are written in optimized C or Fortran code, which allows for much faster execution of numerical operations. They also offer various optimizations such as parallelism, vectorization, and caching, which further improve the performance of matrix multiplication.\n",
    "\n",
    "Therefore, if you need to perform matrix multiplication, it's recommended to use a specialized library such as NumPy, which provides optimized functions for matrix operations and can execute them much faster than plain Python."
   ]
  },
  {
   "cell_type": "markdown",
   "id": "f53b8162-e8ee-4d9a-8a0d-d2ee3c93269b",
   "metadata": {},
   "source": [
    "**8. In matmul, why is ac==br?**\n",
    "\n",
    "**Ans:** In matrix multiplication, two matrices A and B can be multiplied only if the number of columns of A (denoted by 'c') is equal to the number of rows of B (denoted by 'r').\n",
    "\n",
    "When we write matmul(A,B), A is assumed to be a matrix of shape (a, c) and B is assumed to be a matrix of shape (c, b). The resulting matrix C from the matrix multiplication of A and B would have the shape (a, b).\n",
    "\n",
    "The element at row 'i' and column 'j' in C can be calculated by taking the dot product of the i-th row of A and the j-th column of B. This requires that the length of the row in A (i.e., 'c') must be equal to the length of the column in B (also 'c'). Therefore, we have the requirement that ac == br in order to perform matrix multiplication using matmul.\n",
    "\n",
    "In summary, the requirement ac == br ensures that the matrices can be multiplied according to the rules of matrix multiplication, and that the resulting matrix has the expected shape."
   ]
  },
  {
   "cell_type": "markdown",
   "id": "14523e55-70b5-4eee-939d-46cd65fa86c3",
   "metadata": {
    "tags": []
   },
   "source": [
    "**9. In Jupyter Notebook, how do you measure the time taken for a single cell to execute?**\n",
    "\n",
    "**Ans:** To measure the time taken for a single cell to execute in a Jupyter Notebook, you can use the %%timeit magic command. This command runs the cell multiple times and provides the average time taken for the cell to execute.\n",
    "\n",
    "To use the %%timeit command, you simply need to add it at the beginning of the cell you want to time. For example:"
   ]
  },
  {
   "cell_type": "markdown",
   "id": "41a9d753-cace-4e8d-98bb-fd0c686e5c28",
   "metadata": {
    "tags": []
   },
   "source": [
    "`%%timeit`\n",
    "\n",
    "`# Your code here`"
   ]
  },
  {
   "cell_type": "markdown",
   "id": "df9156d1-bfa9-4e4e-a349-dc0ecbd4c0b0",
   "metadata": {},
   "source": [
    "Once you run the cell with the %%timeit command, Jupyter Notebook will execute the cell multiple times with different inputs and record the time taken for each execution. It will then calculate the average time taken and display it along with other statistics such as standard deviation and confidence intervals.\n",
    "\n",
    "Alternatively, you can also use the %time command to measure the time taken for a single execution of a cell. This command provides more detailed information than %%timeit, but it only runs the cell once. To use %time, simply add it at the beginning of the cell you want to time, like this:"
   ]
  },
  {
   "cell_type": "markdown",
   "id": "e2fab653-00fa-40ad-8949-edf099b62df1",
   "metadata": {
    "tags": []
   },
   "source": [
    "`%time`\n",
    "\n",
    "`# Your code here`"
   ]
  },
  {
   "cell_type": "markdown",
   "id": "365498f2-35f1-44ad-a077-f7a22a5aee09",
   "metadata": {},
   "source": [
    "After running the cell with %time, Jupyter Notebook will display the time taken for the cell to execute, along with other detailed information about the execution, such as CPU time and memory usage."
   ]
  },
  {
   "cell_type": "markdown",
   "id": "ea6cc8b2-ff94-44ae-b659-50203e2bff26",
   "metadata": {},
   "source": [
    "**10. What is elementwise arithmetic?**\n",
    "\n",
    "**Ans:** Elementwise arithmetic refers to performing arithmetic operations on the corresponding elements of two or more arrays or matrices. In elementwise arithmetic, each element of one array is paired with the corresponding element of another array, and the arithmetic operation is performed on those pairs of elements.\n",
    "\n",
    "For example, given two arrays A and B, elementwise addition would involve adding each element of A to the corresponding element of B, resulting in a new array C where each element is the sum of the corresponding elements in A and B.\n",
    "\n",
    "Elementwise arithmetic is commonly used in numerical computations, particularly in linear algebra and machine learning. In Python, libraries such as NumPy provide efficient support for elementwise arithmetic operations on arrays and matrices.\n",
    "\n",
    "Elementwise arithmetic is different from matrix multiplication, where each element in the resulting matrix is the sum of the products of the corresponding elements of two input matrices. In matrix multiplication, the input matrices must have compatible shapes, whereas in elementwise arithmetic, the input arrays must have the same shape."
   ]
  },
  {
   "cell_type": "markdown",
   "id": "37825ea0-64f3-45b0-aa67-c0cbcf9ce984",
   "metadata": {},
   "source": [
    "**11. Write the PyTorch code to test whether every element of a is greater than the corresponding element of b.**\n",
    "\n",
    "**Ans:** "
   ]
  },
  {
   "cell_type": "code",
   "execution_count": 29,
   "id": "9282c97b-3d87-45e4-b22e-4b7ccfefcbd0",
   "metadata": {
    "tags": []
   },
   "outputs": [],
   "source": [
    "import torch"
   ]
  },
  {
   "cell_type": "code",
   "execution_count": 30,
   "id": "452bb823-4cd8-4251-91e3-d632dcfcd32f",
   "metadata": {
    "tags": []
   },
   "outputs": [],
   "source": [
    "a = torch.tensor([1, 2, 3])\n",
    "b = torch.tensor([0, 2, 2])"
   ]
  },
  {
   "cell_type": "code",
   "execution_count": 31,
   "id": "fa882a9d-c31d-4ec2-b742-59017987bb80",
   "metadata": {
    "tags": []
   },
   "outputs": [],
   "source": [
    "result = torch.gt(a, b)"
   ]
  },
  {
   "cell_type": "code",
   "execution_count": 32,
   "id": "09205f85-4ca7-48e9-a129-9584b45bd869",
   "metadata": {
    "tags": []
   },
   "outputs": [
    {
     "name": "stdout",
     "output_type": "stream",
     "text": [
      "Not all elements of a are greater than b\n",
      "Indices where the condition fails:  (tensor([1]),)\n"
     ]
    }
   ],
   "source": [
    "if torch.all(result):\n",
    "    print(\"All elements of a are greater than b\")\n",
    "else:\n",
    "    print(\"Not all elements of a are greater than b\")\n",
    "    print(\"Indices where the condition fails: \", torch.where(result == False))"
   ]
  },
  {
   "cell_type": "markdown",
   "id": "04a3c5d3-51aa-4856-9af3-9fcfb31e7bcb",
   "metadata": {},
   "source": [
    "**12. What is a rank-0 tensor? How do you convert it to a plain Python data type?**\n",
    "\n",
    "**Ans:** A rank-0 tensor is a tensor with zero dimensions, also known as a scalar or a 0-d tensor. It represents a single numerical value, such as an integer or a floating-point number.\n",
    "\n",
    "In PyTorch, a rank-0 tensor is created using the torch.tensor() function with a single argument, which is the scalar value:"
   ]
  },
  {
   "cell_type": "code",
   "execution_count": 33,
   "id": "56fe45ee-6927-460a-9e54-694c2b377109",
   "metadata": {
    "tags": []
   },
   "outputs": [
    {
     "name": "stdout",
     "output_type": "stream",
     "text": [
      "tensor(42)\n"
     ]
    }
   ],
   "source": [
    "import torch\n",
    "\n",
    "x = torch.tensor(42)\n",
    "print(x)"
   ]
  },
  {
   "cell_type": "markdown",
   "id": "f806f9d5-4da9-4efb-a4c2-14ad25338fa8",
   "metadata": {},
   "source": [
    "This creates a rank-0 tensor x with the value of 42.\n",
    "\n",
    "To convert a rank-0 tensor to a plain Python data type, you can use the .item() method. This method returns the scalar value of the tensor as a Python primitive type, such as an integer or a floating-point number:"
   ]
  },
  {
   "cell_type": "code",
   "execution_count": 34,
   "id": "29d21663-2fde-408c-b4d2-4f72869e4737",
   "metadata": {
    "tags": []
   },
   "outputs": [],
   "source": [
    "import torch"
   ]
  },
  {
   "cell_type": "code",
   "execution_count": 35,
   "id": "f13dd4d9-de6f-4358-b373-8a0acfd8fad3",
   "metadata": {
    "tags": []
   },
   "outputs": [
    {
     "name": "stdout",
     "output_type": "stream",
     "text": [
      "<class 'int'>\n",
      "42\n"
     ]
    }
   ],
   "source": [
    "x = torch.tensor(42)\n",
    "y = x.item()\n",
    "print(type(y))\n",
    "print(y)"
   ]
  },
  {
   "cell_type": "markdown",
   "id": "ec1e051a-43fc-4454-aed6-8cf00b804597",
   "metadata": {},
   "source": [
    "In this example, y is assigned the value of 42 as a plain Python integer. The type(y) call confirms that y is a Python integer. Note that the .item() method only works on rank-0 tensors, and will raise an error if called on tensors with higher rank."
   ]
  },
  {
   "cell_type": "markdown",
   "id": "ac6314e0-2054-441b-8dea-ce822196e2b0",
   "metadata": {},
   "source": [
    "**13. How does elementwise arithmetic help us speed up matmul?**\n",
    "\n",
    "**Ans:** Element-wise arithmetic can help speed up matrix multiplication by reducing the number of operations required to compute the result. Specifically, element-wise arithmetic can be used to implement a faster version of matrix multiplication known as “broadcasting matrix multiplication.”\n",
    "\n",
    "In broadcasting matrix multiplication, the two matrices being multiplied are broadcasted to have the same shape. This allows us to perform element-wise multiplication between the two matrices, followed by a sum along one of the axes to compute the final result.\n",
    "\n",
    "This approach can be much faster than traditional matrix multiplication because it takes advantage of the parallel processing capabilities of modern hardware. By performing many element-wise operations in parallel, we can significantly reduce the time it takes to compute the result of a matrix multiplication.\n",
    "\n",
    "Here’s an example that shows how element-wise arithmetic can be used to implement a faster version of matrix multiplication:"
   ]
  },
  {
   "cell_type": "markdown",
   "id": "df331a69-5871-4411-b798-ee79cc440af0",
   "metadata": {},
   "source": [
    "**14. What are the broadcasting rules?**\n",
    "\n",
    "**Ans:** Broadcasting is a powerful mechanism in NumPy and PyTorch that allows you to perform operations between tensors of different shapes. The broadcasting rules determine how tensors with different shapes are treated during arithmetic operations.\n",
    "\n",
    "Here are the broadcasting rules:\n",
    "\n",
    "If the two tensors have different numbers of dimensions, the shape of the tensor with fewer dimensions is padded with ones on its leading (left) side.\n",
    "\n",
    "If the shape of the two tensors does not match in any dimension, the tensor with shape equal to 1 in that dimension is stretched to match the other shape.\n",
    "\n",
    "If in any dimension the sizes disagree and neither is equal to 1, an error is raised.\n",
    "\n",
    "These rules allow you to perform element-wise operations between tensors of different shapes in a flexible and intuitive manner. "
   ]
  },
  {
   "cell_type": "code",
   "execution_count": 36,
   "id": "c67cd998-b37e-4c93-a4ef-fb6cc0a7d068",
   "metadata": {
    "tags": []
   },
   "outputs": [
    {
     "name": "stdout",
     "output_type": "stream",
     "text": [
      "tensor([[19, 22],\n",
      "        [43, 50]])\n"
     ]
    }
   ],
   "source": [
    "import torch\n",
    "\n",
    "# Create two matrices\n",
    "a = torch.tensor([[1, 2], [3, 4]])\n",
    "b = torch.tensor([[5, 6], [7, 8]])\n",
    "\n",
    "# Compute the result of matrix multiplication using broadcasting and element-wise arithmetic\n",
    "result = (a.unsqueeze(-1) * b.unsqueeze(0)).sum(dim=1)\n",
    "\n",
    "print(result)"
   ]
  },
  {
   "cell_type": "markdown",
   "id": "72fed3bd-8327-463d-bc26-896ffd167f26",
   "metadata": {},
   "source": [
    "In this example, we use unsqueeze to add an extra dimension to a and b, allowing us to broadcast them to have the same shape. We then perform element-wise multiplication between a and b, followed by a sum along dimension 1 to compute the final result. This approach is much faster than traditional matrix multiplication for large matrices."
   ]
  },
  {
   "cell_type": "markdown",
   "id": "57afefb2-e3f6-49ae-b9eb-d2eb6cdd0828",
   "metadata": {
    "tags": []
   },
   "source": [
    "**15. What is expand_as? Show an example of how it can be used to match the results of\n",
    "broadcasting.**\n",
    "\n",
    "**Ans:** expand_as is a PyTorch tensor method that allows you to expand a tensor to the size of another tensor. This can be useful when you want to perform operations between tensors of different sizes that are not broadcastable.\n",
    "\n",
    "Here’s an example that shows how expand_as can be used to match the results of broadcasting:\n"
   ]
  },
  {
   "cell_type": "code",
   "execution_count": 37,
   "id": "ecfbfd81-ffc1-40a3-a4cb-39f7f0723122",
   "metadata": {
    "tags": []
   },
   "outputs": [
    {
     "name": "stdout",
     "output_type": "stream",
     "text": [
      "tensor([[5, 6, 7],\n",
      "        [6, 7, 8],\n",
      "        [7, 8, 9]])\n"
     ]
    }
   ],
   "source": [
    "import torch\n",
    "\n",
    "# Create two tensors of different sizes\n",
    "x = torch.tensor([[1], [2], [3]])\n",
    "y = torch.tensor([4, 5, 6])\n",
    "\n",
    "# Use expand_as to expand x to the size of the result of broadcasting x and y\n",
    "x_expanded = x.expand_as(x + y)\n",
    "\n",
    "# Perform element-wise addition between x_expanded and y\n",
    "result = x_expanded + y\n",
    "\n",
    "print(result)"
   ]
  },
  {
   "cell_type": "markdown",
   "id": "d5e200f6-1738-42c1-8db2-126dd6fbab5a",
   "metadata": {},
   "source": [
    "In this example, x is a 3x1 tensor and y is a 1D tensor of size 3. The expand_as method is used to expand x to the size of the result of broadcasting x and y. This allows us to perform element-wise addition between x_expanded and y, producing the same result as if we had broadcasted x and y."
   ]
  }
 ],
 "metadata": {
  "kernelspec": {
   "display_name": "Python 3 (ipykernel)",
   "language": "python",
   "name": "python3"
  },
  "language_info": {
   "codemirror_mode": {
    "name": "ipython",
    "version": 3
   },
   "file_extension": ".py",
   "mimetype": "text/x-python",
   "name": "python",
   "nbconvert_exporter": "python",
   "pygments_lexer": "ipython3",
   "version": "3.8.16"
  }
 },
 "nbformat": 4,
 "nbformat_minor": 5
}
