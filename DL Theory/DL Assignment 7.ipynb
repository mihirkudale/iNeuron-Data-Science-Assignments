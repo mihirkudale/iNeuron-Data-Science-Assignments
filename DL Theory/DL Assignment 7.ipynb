{
  "cells": [
    {
      "cell_type": "markdown",
      "id": "06f10b11-8e8d-4a78-af31-42d3d40bacc8",
      "metadata": {
        "id": "06f10b11-8e8d-4a78-af31-42d3d40bacc8"
      },
      "source": [
        "# Assignment 7 Solution"
      ]
    },
    {
      "cell_type": "markdown",
      "id": "b9ca5ec7-2617-47e1-a3af-73f92fe37038",
      "metadata": {
        "id": "b9ca5ec7-2617-47e1-a3af-73f92fe37038"
      },
      "source": [
        "**SUBMITTED BY: MIHIR KUDALE**"
      ]
    },
    {
      "cell_type": "markdown",
      "id": "aa14923c-b8ac-47cd-b839-a36cd92889b0",
      "metadata": {
        "id": "aa14923c-b8ac-47cd-b839-a36cd92889b0"
      },
      "source": [
        "**1. Can you think of a few applications for a sequence-to-sequence RNN? What about a sequence-to-vector RNN, and a vector-to-sequence RNN?**"
      ]
    },
    {
      "cell_type": "markdown",
      "id": "f4f46002-63bd-41e7-8a2b-dea586ec93d6",
      "metadata": {
        "id": "f4f46002-63bd-41e7-8a2b-dea586ec93d6"
      },
      "source": [
        "**Ans:** Here are a few examples of applications for each type of RNN:\n",
        "\n",
        "1. `Sequence-to-sequence RNN`:\n",
        "\n",
        "    1. Machine translation: translating a sequence of words from one language to another.\n",
        "\n",
        "    2. Speech recognition: transcribing spoken words into a sequence of written words.\n",
        "\n",
        "    3. Chatbot: generating a sequence of responses to a sequence of inputs from a user.\n",
        "\n",
        "    4. Music generation: generating a sequence of musical notes based on a given style or genre.\n",
        "\n",
        "2. `Sequence-to-vector RNN`:\n",
        "\n",
        "    1. Sentiment analysis: classifying a sequence of words as positive or negative sentiment.\n",
        "\n",
        "    2. Stock prediction: predicting the stock price based on a sequence of historical stock prices.\n",
        "\n",
        "    3. Video classification: classifying a sequence of frames in a video into different categories (e.g., action, comedy, drama).\n",
        "\n",
        "    4. Natural language generation: generating a summary or description of a sequence of events or information.\n",
        "\n",
        "3. `Vector-to-sequence RNN`:\n",
        "\n",
        "    1. Image captioning: generating a sequence of words describing the content of an image.\n",
        "\n",
        "    2. Speech synthesis: generating a sequence of spoken words based on a given text input.\n",
        "\n",
        "    3. Music transcription: transcribing a sequence of musical notes into sheet music.\n",
        "\n",
        "    4. Language translation: translating a single word or sentence into a sequence of words in another language."
      ]
    },
    {
      "cell_type": "markdown",
      "id": "db7d4b67-eb90-48da-8bb0-88276173c8c7",
      "metadata": {
        "id": "db7d4b67-eb90-48da-8bb0-88276173c8c7"
      },
      "source": [
        "**2. How many dimensions must the inputs of an RNN layer have? What does each dimension represent? What about its outputs?**"
      ]
    },
    {
      "cell_type": "markdown",
      "id": "7efbcb6a-f9be-40ee-921e-74c7b0537388",
      "metadata": {
        "id": "7efbcb6a-f9be-40ee-921e-74c7b0537388"
      },
      "source": [
        "**Ans:** The inputs of an RNN layer typically have three dimensions: batch size, time steps, and input features.\n",
        "\n",
        "* Batch size represents the number of samples that are processed in a single batch.\n",
        "* Time steps represent the number of time steps in the sequence. For example, if the input is a sentence with 10 words, and we use one word as a time step, then the time steps would be 10.\n",
        "* Input features represent the number of features in each time step. For example, if each word in the sentence is represented as a one-hot encoded vector of length 10000, then the input features would be 10000.\n",
        "\n",
        "The outputs of an RNN layer also have three dimensions, which are typically batch size, time steps, and hidden size.\n",
        "\n",
        "* Batch size is the same as in the input.\n",
        "* Time steps is also the same as in the input.\n",
        "* Hidden size represents the number of hidden units in the RNN layer.\n",
        "\n",
        "The output of each time step in the RNN layer is a hidden state vector, which is computed based on the input and the previous hidden state. The final output of the RNN layer can be obtained by combining the hidden state vectors from all time steps in the sequence. Depending on the specific architecture of the RNN, there may also be additional output dimensions, such as the number of output classes in a classification task."
      ]
    },
    {
      "cell_type": "markdown",
      "id": "efda6b15-99d6-4b8e-8cf5-b388a38a9c3f",
      "metadata": {
        "id": "efda6b15-99d6-4b8e-8cf5-b388a38a9c3f"
      },
      "source": [
        "**3. If you want to build a deep sequence-to-sequence RNN, which RNN layers should have return_sequences=True? What about a sequence-to-vector RNN?**\n",
        "\n",
        "**Ans:** In a deep sequence-to-sequence RNN, all RNN layers except the last one should have `return_sequences=True`. This allows all hidden states in the sequence to be passed to the next RNN layer in the stack.\n",
        "\n",
        "In a sequence-to-vector RNN, only the last RNN layer should have `return_sequences=False` (which is the default value), since we are only interested in the final hidden state to generate the output."
      ]
    },
    {
      "cell_type": "markdown",
      "id": "89995ac7-2ed0-489c-a79f-45e4f313e828",
      "metadata": {
        "id": "89995ac7-2ed0-489c-a79f-45e4f313e828"
      },
      "source": [
        "**4. Suppose you have a daily univariate time series, and you want to forecast the next seven days. Which RNN architecture should you use?**"
      ]
    },
    {
      "cell_type": "markdown",
      "id": "c247d3a4-40dd-4bad-bcb2-b9e05aed8421",
      "metadata": {
        "id": "c247d3a4-40dd-4bad-bcb2-b9e05aed8421"
      },
      "source": [
        "**Ans:** For forecasting the next seven days in a daily univariate time series, a suitable RNN architecture to use is the Sequence-to-Sequence (Seq2Seq) model with an encoder-decoder architecture.\n",
        "\n",
        "The encoder takes the input sequence (e.g., past 30 days) and outputs a fixed-length vector that summarizes the input information. The decoder then takes this vector and generates the output sequence (e.g., forecast for the next 7 days).\n",
        "\n",
        "To improve the performance of the model, we can use techniques such as teacher forcing, attention mechanism, and residual connections. Additionally, we can add other components to the model, such as a seasonal component, to capture the periodicity of the data."
      ]
    },
    {
      "cell_type": "markdown",
      "id": "978c7ccc-447e-49dd-8b38-303c21878753",
      "metadata": {
        "id": "978c7ccc-447e-49dd-8b38-303c21878753"
      },
      "source": [
        "**5. What are the main difficulties when training RNNs? How can you handle them?**"
      ]
    },
    {
      "cell_type": "markdown",
      "id": "1174f141-d95c-4a81-b040-e1fa55234f00",
      "metadata": {
        "id": "1174f141-d95c-4a81-b040-e1fa55234f00"
      },
      "source": [
        "**Ans:** There are several main difficulties when training RNNs, including:\n",
        "\n",
        "* `Vanishing and exploding gradients`: The gradients in RNNs can become too small or too large, making it difficult to learn long-term dependencies. This can be addressed by using techniques such as gradient clipping, weight initialization, and using gated RNN variants like LSTMs and GRUs.\n",
        "\n",
        "* `Overfitting`: RNNs can easily overfit due to their high capacity and the sequential nature of the data. Regularization techniques such as dropout, early stopping, and weight decay can help address this problem.\n",
        "\n",
        "* `Difficulty in parallelization`: Unlike feedforward neural networks, RNNs are difficult to parallelize due to their sequential nature. This can result in slow training times, especially for large sequences. One way to handle this is to use techniques such as truncated backpropagation through time (BPTT) and bucketing to reduce the length of the sequences.\n",
        "\n",
        "* `Input normalization`: RNNs are sensitive to the scale of the input features, and normalization can help improve their performance. Standard normalization techniques such as min-max scaling and z-score normalization can be used.\n",
        "\n",
        "* `Choosing hyperparameters`: RNNs have several hyperparameters such as the number of layers, hidden units, learning rate, and batch size that need to be tuned carefully. Techniques such as grid search, random search, and Bayesian optimization can be used to find optimal hyperparameters.\n",
        "\n",
        "To handle these difficulties, it is important to experiment with different architectures, regularization techniques, optimization algorithms, and hyperparameters to find the best combination for the given problem. It is also important to monitor the training process carefully, visualize the results, and make adjustments as necessary. Additionally, using pre-trained models or transfer learning can help to overcome some of these difficulties."
      ]
    },
    {
      "cell_type": "markdown",
      "id": "694b97b0-82ba-433d-803a-e01e2b8fdcb6",
      "metadata": {
        "id": "694b97b0-82ba-433d-803a-e01e2b8fdcb6"
      },
      "source": [
        "**6. Can you sketch the LSTM cell’s architecture?**"
      ]
    },
    {
      "cell_type": "markdown",
      "id": "cfd3d7ac-c944-4873-ada8-715d31b02ef6",
      "metadata": {
        "id": "cfd3d7ac-c944-4873-ada8-715d31b02ef6"
      },
      "source": [
        "**Ans:** Yes, I can sketch the LSTM cell's architecture."
      ]
    },
    {
      "cell_type": "raw",
      "id": "6ebae9ac-c5a6-4026-b67e-b103e7e0486f",
      "metadata": {
        "id": "6ebae9ac-c5a6-4026-b67e-b103e7e0486f"
      },
      "source": [
        "                   Output\n",
        "                      ^\n",
        "                      |\n",
        "                      v\n",
        "             +-------------------+\n",
        "             |                   |\n",
        "             |                   |\n",
        "             v                   |\n",
        "         +-----+                |\n",
        "Input-->| LSTM|------------+   |\n",
        "         +-----+            |   |\n",
        "             ^              v   |\n",
        "             |          +------+ |\n",
        "             +----------| tanh | |\n",
        "                        +------+ |\n",
        "                               v\n",
        "                             Gates\n"
      ]
    },
    {
      "cell_type": "markdown",
      "id": "4d53389b-7c48-4e2e-855e-50cab0ceec27",
      "metadata": {
        "id": "4d53389b-7c48-4e2e-855e-50cab0ceec27"
      },
      "source": [
        "The LSTM cell has three gates: the input gate, forget gate, and output gate, which control the flow of information into and out of the cell. It also has a memory cell that stores the previous hidden state and a current hidden state that is passed to the next cell in the sequence. The tanh activation function is applied to the current hidden state to introduce non-linearity into the cell. The input and forget gates are sigmoid layers that control the amount of information to be passed to the memory cell and the amount of information to be forgotten from the previous cell state. The output gate is also a sigmoid layer that controls the amount of information to be output from the current hidden state.\n",
        "\n",
        "The LSTM architecture enables it to learn long-term dependencies by allowing information to flow through the cell without being lost or distorted. The gates provide a way for the model to selectively remember or forget information, which makes it suitable for tasks such as speech recognition, machine translation, and sentiment analysis."
      ]
    },
    {
      "cell_type": "markdown",
      "id": "a2390b50-0108-462e-9673-da389adc3ac9",
      "metadata": {
        "id": "a2390b50-0108-462e-9673-da389adc3ac9"
      },
      "source": [
        "**7. Why would you want to use 1D convolutional layers in an RNN?**"
      ]
    },
    {
      "cell_type": "markdown",
      "id": "44fe98af-a3bc-4cdd-8ed1-f2c6bca9ef3d",
      "metadata": {
        "id": "44fe98af-a3bc-4cdd-8ed1-f2c6bca9ef3d"
      },
      "source": [
        "**Ans:** 1D convolutional layers can be used in an RNN to capture local patterns in sequential data. The convolution operation applies a sliding window over the sequence, performing a dot product between the weights of the filter and the corresponding input elements. This operation can extract local features, such as patterns or motifs, that are relevant to the task.\n",
        "\n",
        "One advantage of using 1D convolutional layers in an RNN is that it can reduce the dimensionality of the input, which can be useful for processing long sequences. This can help to reduce the computational complexity of the model and prevent overfitting.\n",
        "\n",
        "Another advantage is that the use of 1D convolutions can provide the model with a translational invariance property, which means that the model can identify patterns regardless of their position in the sequence. This can be useful for tasks such as speech recognition or music analysis, where the location of relevant features may vary.\n",
        "\n",
        "Overall, using 1D convolutional layers in an RNN can improve the model's ability to extract meaningful features from the input sequence and improve its performance on tasks that require the identification of local patterns or motifs."
      ]
    },
    {
      "cell_type": "markdown",
      "id": "b7a4a348-767b-479a-8cf0-3b691e21d7ab",
      "metadata": {
        "id": "b7a4a348-767b-479a-8cf0-3b691e21d7ab"
      },
      "source": [
        "**8. Which neural network architecture could you use to classify videos?**"
      ]
    },
    {
      "cell_type": "markdown",
      "id": "2f7fcdb4-57c6-49d5-b08b-7d143a80709a",
      "metadata": {
        "id": "2f7fcdb4-57c6-49d5-b08b-7d143a80709a"
      },
      "source": [
        "**Ans:** To classify videos, a suitable neural network architecture is the 3D Convolutional Neural Network (CNN).\n",
        "\n",
        "A 3D CNN operates on a sequence of video frames, treating them as 3D volumes with depth, height, and width. The network applies 3D convolutional filters to the video sequence, which allows the model to capture spatial and temporal features in the data.\n",
        "\n",
        "The 3D CNN architecture typically consists of multiple layers of 3D convolutional filters, followed by pooling and activation layers. The output of the convolutional layers is fed into fully connected layers, which output the final classification labels.\n",
        "\n",
        "One advantage of using a 3D CNN for video classification is that it can capture both spatial and temporal information in the video sequence. This can help the model to identify complex patterns in the video data and improve its classification accuracy.\n",
        "\n",
        "Another advantage is that 3D CNNs can be trained end-to-end, which means that the entire model can be optimized for the task without the need for hand-crafted features or pre-processing steps.\n",
        "\n",
        "Overall, the 3D CNN architecture is a powerful and effective approach for video classification tasks, and it has been successfully applied in areas such as action recognition, facial expression analysis, and object detection in videos."
      ]
    },
    {
      "cell_type": "markdown",
      "id": "0256a26e-3cdc-4fc0-8ca1-9f636cb4aafb",
      "metadata": {
        "id": "0256a26e-3cdc-4fc0-8ca1-9f636cb4aafb"
      },
      "source": [
        "**9. Train a classification model for the SketchRNN dataset, available in TensorFlow Datasets.**"
      ]
    },
    {
      "cell_type": "code",
      "execution_count": null,
      "id": "e4Rh5yMvFgE_",
      "metadata": {
        "colab": {
          "base_uri": "https://localhost:8080/"
        },
        "id": "e4Rh5yMvFgE_",
        "outputId": "43bd7117-680b-4a74-92d3-a32f1e6f8692"
      },
      "outputs": [],
      "source": [
        "!pip install tensorflow_addons"
      ]
    },
    {
      "cell_type": "code",
      "execution_count": null,
      "id": "39GxCdO7E33c",
      "metadata": {
        "id": "39GxCdO7E33c"
      },
      "outputs": [],
      "source": [
        "import tensorflow as tf\n",
        "import tensorflow_datasets as tfds\n",
        "import tensorflow_addons as tfa\n",
        "import numpy as np"
      ]
    },
    {
      "cell_type": "code",
      "execution_count": null,
      "id": "b7c6291e",
      "metadata": {
        "colab": {
          "base_uri": "https://localhost:8080/",
          "height": 182,
          "referenced_widgets": [
            "dceb89bba6774d1b9398c4da611bf9af",
            "4dc422e610854308a4fc1e7979075b22",
            "788c52506d7f4589b28e29e23f23e865",
            "0ded8a6d46ff474c9c45a84262ece999",
            "c80eab288fe04bfcb5f1a9516a6ccdee",
            "9820155cb3524856b101a8adfd0ae891",
            "6a58faccc68a43e0a2a07c2d454571a1",
            "bd6ccd0f729c4a58ae24ee806332e8fb",
            "fb4de547b75e41d3b79a364379e87c03",
            "719d99ca289646df81d5661524046380",
            "0af84c8658c14bbfb865445ac58d6b9e",
            "bf6ab3002f91442da12c198c6dab97d5",
            "5796ff2d2d4b43d99186af7e240dd79d",
            "abd55d03a1cc4a989fa669d232319595",
            "70360c6997db4c3a82f5b325641e70d6",
            "1674307d0ad14178aae6549ec942a688",
            "32ed04ffd2ec473b91c65e6b8ab9fe0d",
            "924bb05a7b304cd1a39b1f316806e4af",
            "b0d5fbdcc82848f8923005acede29590",
            "ccfeb4e0d5ac409fa42f6e4eac1da0a3",
            "1fef579347c841de941e930ad326fdda",
            "cc516830b9964f28906683908d58265f",
            "595a479c0c85408a926dd03ee7cd3dae",
            "6035872716aa475aa75fcb4a6d155ae4",
            "20f8e69d530144059cdb32bb4f17aef0",
            "390bb340880e41bca9b89e8bafa56de9",
            "111a5e4240a44f1099f7b449f446a9a9",
            "5dcc6d98903a4e7e8207b02ba3658103",
            "1801f275af2a4a449a1ba17c66921056",
            "35ee6856cfff4acd869cb64d7ec6cf0e",
            "603240368bea4402b2377fa62f91e58f",
            "366022074ef5462f89fa131fbe1e4c99",
            "4468214d90b74dff909b0661d2d1ee99",
            "7c941b49e3a44304a67160ad22848d0a",
            "dea86e1a12894104ab89ea81893711a6",
            "7c0af87531d74077921d9408f8d06967",
            "115906be5fdc43dbb36fc2ebe87e08ac",
            "53ee628faf264ba4b83ae78eb1d58f43",
            "b7b00fa267e04091a90ce91c0cdd6738",
            "bf2a934fee1b4ad08cae9aef5baae567",
            "ba5d8340b04f458e8b36b5f83f408eb6",
            "a8fd352f5b3d4d4ea17134f76921583e",
            "6c958f1f2b094115a9bdc04518c411b6",
            "42539420182a4d13b090e4c8513f445d"
          ]
        },
        "id": "b7c6291e",
        "outputId": "a6339732-573a-4d84-ca7a-8e69e51a86e9"
      },
      "outputs": [],
      "source": [
        "# Load the quickdraw_bitmap split of the SketchRNN dataset\n",
        "data = tfds.load('quickdraw_bitmap', split='train', as_supervised=True)"
      ]
    },
    {
      "cell_type": "code",
      "execution_count": null,
      "id": "0BJiueJIFANp",
      "metadata": {
        "id": "0BJiueJIFANp"
      },
      "outputs": [],
      "source": [
        "# Convert the dataset to numpy arrays\n",
        "data = tfds.as_numpy(data)"
      ]
    },
    {
      "cell_type": "code",
      "execution_count": null,
      "id": "MuJhywswFFF9",
      "metadata": {
        "id": "MuJhywswFFF9"
      },
      "outputs": [],
      "source": [
        "# Extract the stroke sequences from the bitmap images\n",
        "inputs = []\n",
        "labels = []\n",
        "for image, label in data:\n",
        "    sequence = tfa.image.rotate(image, 90)  # Rotate the image to align with the SketchRNN format\n",
        "    sequence = tfa.image.flip_left_right(sequence)  # Flip the image to mirror the stroke directions\n",
        "    sequence = np.pad(sequence, ((1, 0), (0, 0), (0, 0)), mode='constant')[:-1]  # Add a starting pen-down stroke\n",
        "    inputs.append(sequence)\n",
        "    labels.append(label)\n",
        "\n",
        "inputs = np.array(inputs)\n",
        "labels = np.array(labels)"
      ]
    },
    {
      "cell_type": "code",
      "execution_count": null,
      "id": "arG6vT3HFLA2",
      "metadata": {
        "id": "arG6vT3HFLA2"
      },
      "outputs": [],
      "source": [
        "# Define the model architecture\n",
        "model = tf.keras.Sequential([\n",
        "    tf.keras.layers.Input(shape=(None, 5)),\n",
        "    tf.keras.layers.LSTM(256),\n",
        "    tf.keras.layers.Dense(345, activation='softmax')\n",
        "])"
      ]
    },
    {
      "cell_type": "code",
      "execution_count": null,
      "id": "RxG2WMEaFNQb",
      "metadata": {
        "id": "RxG2WMEaFNQb"
      },
      "outputs": [],
      "source": [
        "# Compile the model\n",
        "model.compile(optimizer='adam', loss='sparse_categorical_crossentropy', metrics=['accuracy'])"
      ]
    },
    {
      "cell_type": "code",
      "execution_count": null,
      "id": "S-epFucKFPps",
      "metadata": {
        "id": "S-epFucKFPps"
      },
      "outputs": [],
      "source": [
        "# Train the model\n",
        "model.fit(inputs, labels, epochs=10, batch_size=32)"
      ]
    },
    {
      "cell_type": "code",
      "execution_count": null,
      "id": "yhMld8PMFToR",
      "metadata": {
        "id": "yhMld8PMFToR"
      },
      "outputs": [],
      "source": [
        "# Evaluate the model on the test data\n",
        "test_data = tfds.load('quickdraw_bitmap', split='test', as_supervised=True)\n",
        "test_data = tfds.as_numpy(test_data)\n",
        "test_inputs = []\n",
        "test_labels = []\n",
        "for image, label in test_data:\n",
        "    sequence = tfa.image.rotate(image, 90)\n",
        "    sequence = tfa.image.flip_left_right(sequence)\n",
        "    sequence = np.pad(sequence, ((1, 0), (0, 0), (0, 0)), mode='constant')[:-1]\n",
        "    test_inputs.append(sequence)\n",
        "    test_labels.append(label)\n",
        "\n",
        "test_inputs = np.array(test_inputs)\n",
        "test_labels = np.array(test_labels)\n",
        "test_loss, test_accuracy = model.evaluate(test_inputs, test_labels, batch_size=32)\n",
        "print('Test loss:', test_loss)\n",
        "print('Test accuracy:', test_accuracy)"
      ]
    }
  ],
  "metadata": {
    "accelerator": "GPU",
    "colab": {
      "provenance": []
    },
    "gpuClass": "standard",
    "kernelspec": {
      "display_name": "Python 3 (ipykernel)",
      "language": "python",
      "name": "python3"
    },
    "language_info": {
      "codemirror_mode": {
        "name": "ipython",
        "version": 3
      },
      "file_extension": ".py",
      "mimetype": "text/x-python",
      "name": "python",
      "nbconvert_exporter": "python",
      "pygments_lexer": "ipython3",
      "version": "3.8.0"
    },
    "widgets": {
      "application/vnd.jupyter.widget-state+json": {
        "0af84c8658c14bbfb865445ac58d6b9e": {
          "model_module": "@jupyter-widgets/controls",
          "model_module_version": "1.5.0",
          "model_name": "DescriptionStyleModel",
          "state": {
            "_model_module": "@jupyter-widgets/controls",
            "_model_module_version": "1.5.0",
            "_model_name": "DescriptionStyleModel",
            "_view_count": null,
            "_view_module": "@jupyter-widgets/base",
            "_view_module_version": "1.2.0",
            "_view_name": "StyleView",
            "description_width": ""
          }
        },
        "0ded8a6d46ff474c9c45a84262ece999": {
          "model_module": "@jupyter-widgets/controls",
          "model_module_version": "1.5.0",
          "model_name": "HTMLModel",
          "state": {
            "_dom_classes": [],
            "_model_module": "@jupyter-widgets/controls",
            "_model_module_version": "1.5.0",
            "_model_name": "HTMLModel",
            "_view_count": null,
            "_view_module": "@jupyter-widgets/controls",
            "_view_module_version": "1.5.0",
            "_view_name": "HTMLView",
            "description": "",
            "description_tooltip": null,
            "layout": "IPY_MODEL_719d99ca289646df81d5661524046380",
            "placeholder": "​",
            "style": "IPY_MODEL_0af84c8658c14bbfb865445ac58d6b9e",
            "value": " 345/345 [13:20&lt;00:00,  1.69 url/s]"
          }
        },
        "111a5e4240a44f1099f7b449f446a9a9": {
          "model_module": "@jupyter-widgets/base",
          "model_module_version": "1.2.0",
          "model_name": "LayoutModel",
          "state": {
            "_model_module": "@jupyter-widgets/base",
            "_model_module_version": "1.2.0",
            "_model_name": "LayoutModel",
            "_view_count": null,
            "_view_module": "@jupyter-widgets/base",
            "_view_module_version": "1.2.0",
            "_view_name": "LayoutView",
            "align_content": null,
            "align_items": null,
            "align_self": null,
            "border": null,
            "bottom": null,
            "display": null,
            "flex": null,
            "flex_flow": null,
            "grid_area": null,
            "grid_auto_columns": null,
            "grid_auto_flow": null,
            "grid_auto_rows": null,
            "grid_column": null,
            "grid_gap": null,
            "grid_row": null,
            "grid_template_areas": null,
            "grid_template_columns": null,
            "grid_template_rows": null,
            "height": null,
            "justify_content": null,
            "justify_items": null,
            "left": null,
            "margin": null,
            "max_height": null,
            "max_width": null,
            "min_height": null,
            "min_width": null,
            "object_fit": null,
            "object_position": null,
            "order": null,
            "overflow": null,
            "overflow_x": null,
            "overflow_y": null,
            "padding": null,
            "right": null,
            "top": null,
            "visibility": null,
            "width": null
          }
        },
        "115906be5fdc43dbb36fc2ebe87e08ac": {
          "model_module": "@jupyter-widgets/controls",
          "model_module_version": "1.5.0",
          "model_name": "HTMLModel",
          "state": {
            "_dom_classes": [],
            "_model_module": "@jupyter-widgets/controls",
            "_model_module_version": "1.5.0",
            "_model_name": "HTMLModel",
            "_view_count": null,
            "_view_module": "@jupyter-widgets/controls",
            "_view_module_version": "1.5.0",
            "_view_name": "HTMLView",
            "description": "",
            "description_tooltip": null,
            "layout": "IPY_MODEL_6c958f1f2b094115a9bdc04518c411b6",
            "placeholder": "​",
            "style": "IPY_MODEL_42539420182a4d13b090e4c8513f445d",
            "value": " 3271352/? [39:03&lt;00:00, 1250.88 examples/s]"
          }
        },
        "1674307d0ad14178aae6549ec942a688": {
          "model_module": "@jupyter-widgets/base",
          "model_module_version": "1.2.0",
          "model_name": "LayoutModel",
          "state": {
            "_model_module": "@jupyter-widgets/base",
            "_model_module_version": "1.2.0",
            "_model_name": "LayoutModel",
            "_view_count": null,
            "_view_module": "@jupyter-widgets/base",
            "_view_module_version": "1.2.0",
            "_view_name": "LayoutView",
            "align_content": null,
            "align_items": null,
            "align_self": null,
            "border": null,
            "bottom": null,
            "display": null,
            "flex": null,
            "flex_flow": null,
            "grid_area": null,
            "grid_auto_columns": null,
            "grid_auto_flow": null,
            "grid_auto_rows": null,
            "grid_column": null,
            "grid_gap": null,
            "grid_row": null,
            "grid_template_areas": null,
            "grid_template_columns": null,
            "grid_template_rows": null,
            "height": null,
            "justify_content": null,
            "justify_items": null,
            "left": null,
            "margin": null,
            "max_height": null,
            "max_width": null,
            "min_height": null,
            "min_width": null,
            "object_fit": null,
            "object_position": null,
            "order": null,
            "overflow": null,
            "overflow_x": null,
            "overflow_y": null,
            "padding": null,
            "right": null,
            "top": null,
            "visibility": null,
            "width": null
          }
        },
        "1801f275af2a4a449a1ba17c66921056": {
          "model_module": "@jupyter-widgets/controls",
          "model_module_version": "1.5.0",
          "model_name": "DescriptionStyleModel",
          "state": {
            "_model_module": "@jupyter-widgets/controls",
            "_model_module_version": "1.5.0",
            "_model_name": "DescriptionStyleModel",
            "_view_count": null,
            "_view_module": "@jupyter-widgets/base",
            "_view_module_version": "1.2.0",
            "_view_name": "StyleView",
            "description_width": ""
          }
        },
        "1fef579347c841de941e930ad326fdda": {
          "model_module": "@jupyter-widgets/base",
          "model_module_version": "1.2.0",
          "model_name": "LayoutModel",
          "state": {
            "_model_module": "@jupyter-widgets/base",
            "_model_module_version": "1.2.0",
            "_model_name": "LayoutModel",
            "_view_count": null,
            "_view_module": "@jupyter-widgets/base",
            "_view_module_version": "1.2.0",
            "_view_name": "LayoutView",
            "align_content": null,
            "align_items": null,
            "align_self": null,
            "border": null,
            "bottom": null,
            "display": null,
            "flex": null,
            "flex_flow": null,
            "grid_area": null,
            "grid_auto_columns": null,
            "grid_auto_flow": null,
            "grid_auto_rows": null,
            "grid_column": null,
            "grid_gap": null,
            "grid_row": null,
            "grid_template_areas": null,
            "grid_template_columns": null,
            "grid_template_rows": null,
            "height": null,
            "justify_content": null,
            "justify_items": null,
            "left": null,
            "margin": null,
            "max_height": null,
            "max_width": null,
            "min_height": null,
            "min_width": null,
            "object_fit": null,
            "object_position": null,
            "order": null,
            "overflow": null,
            "overflow_x": null,
            "overflow_y": null,
            "padding": null,
            "right": null,
            "top": null,
            "visibility": null,
            "width": null
          }
        },
        "20f8e69d530144059cdb32bb4f17aef0": {
          "model_module": "@jupyter-widgets/controls",
          "model_module_version": "1.5.0",
          "model_name": "FloatProgressModel",
          "state": {
            "_dom_classes": [],
            "_model_module": "@jupyter-widgets/controls",
            "_model_module_version": "1.5.0",
            "_model_name": "FloatProgressModel",
            "_view_count": null,
            "_view_module": "@jupyter-widgets/controls",
            "_view_module_version": "1.5.0",
            "_view_name": "ProgressView",
            "bar_style": "",
            "description": "",
            "description_tooltip": null,
            "layout": "IPY_MODEL_35ee6856cfff4acd869cb64d7ec6cf0e",
            "max": 1,
            "min": 0,
            "orientation": "horizontal",
            "style": "IPY_MODEL_603240368bea4402b2377fa62f91e58f",
            "value": 0
          }
        },
        "32ed04ffd2ec473b91c65e6b8ab9fe0d": {
          "model_module": "@jupyter-widgets/base",
          "model_module_version": "1.2.0",
          "model_name": "LayoutModel",
          "state": {
            "_model_module": "@jupyter-widgets/base",
            "_model_module_version": "1.2.0",
            "_model_name": "LayoutModel",
            "_view_count": null,
            "_view_module": "@jupyter-widgets/base",
            "_view_module_version": "1.2.0",
            "_view_name": "LayoutView",
            "align_content": null,
            "align_items": null,
            "align_self": null,
            "border": null,
            "bottom": null,
            "display": null,
            "flex": null,
            "flex_flow": null,
            "grid_area": null,
            "grid_auto_columns": null,
            "grid_auto_flow": null,
            "grid_auto_rows": null,
            "grid_column": null,
            "grid_gap": null,
            "grid_row": null,
            "grid_template_areas": null,
            "grid_template_columns": null,
            "grid_template_rows": null,
            "height": null,
            "justify_content": null,
            "justify_items": null,
            "left": null,
            "margin": null,
            "max_height": null,
            "max_width": null,
            "min_height": null,
            "min_width": null,
            "object_fit": null,
            "object_position": null,
            "order": null,
            "overflow": null,
            "overflow_x": null,
            "overflow_y": null,
            "padding": null,
            "right": null,
            "top": null,
            "visibility": null,
            "width": null
          }
        },
        "35ee6856cfff4acd869cb64d7ec6cf0e": {
          "model_module": "@jupyter-widgets/base",
          "model_module_version": "1.2.0",
          "model_name": "LayoutModel",
          "state": {
            "_model_module": "@jupyter-widgets/base",
            "_model_module_version": "1.2.0",
            "_model_name": "LayoutModel",
            "_view_count": null,
            "_view_module": "@jupyter-widgets/base",
            "_view_module_version": "1.2.0",
            "_view_name": "LayoutView",
            "align_content": null,
            "align_items": null,
            "align_self": null,
            "border": null,
            "bottom": null,
            "display": null,
            "flex": null,
            "flex_flow": null,
            "grid_area": null,
            "grid_auto_columns": null,
            "grid_auto_flow": null,
            "grid_auto_rows": null,
            "grid_column": null,
            "grid_gap": null,
            "grid_row": null,
            "grid_template_areas": null,
            "grid_template_columns": null,
            "grid_template_rows": null,
            "height": null,
            "justify_content": null,
            "justify_items": null,
            "left": null,
            "margin": null,
            "max_height": null,
            "max_width": null,
            "min_height": null,
            "min_width": null,
            "object_fit": null,
            "object_position": null,
            "order": null,
            "overflow": null,
            "overflow_x": null,
            "overflow_y": null,
            "padding": null,
            "right": null,
            "top": null,
            "visibility": null,
            "width": null
          }
        },
        "366022074ef5462f89fa131fbe1e4c99": {
          "model_module": "@jupyter-widgets/base",
          "model_module_version": "1.2.0",
          "model_name": "LayoutModel",
          "state": {
            "_model_module": "@jupyter-widgets/base",
            "_model_module_version": "1.2.0",
            "_model_name": "LayoutModel",
            "_view_count": null,
            "_view_module": "@jupyter-widgets/base",
            "_view_module_version": "1.2.0",
            "_view_name": "LayoutView",
            "align_content": null,
            "align_items": null,
            "align_self": null,
            "border": null,
            "bottom": null,
            "display": null,
            "flex": null,
            "flex_flow": null,
            "grid_area": null,
            "grid_auto_columns": null,
            "grid_auto_flow": null,
            "grid_auto_rows": null,
            "grid_column": null,
            "grid_gap": null,
            "grid_row": null,
            "grid_template_areas": null,
            "grid_template_columns": null,
            "grid_template_rows": null,
            "height": null,
            "justify_content": null,
            "justify_items": null,
            "left": null,
            "margin": null,
            "max_height": null,
            "max_width": null,
            "min_height": null,
            "min_width": null,
            "object_fit": null,
            "object_position": null,
            "order": null,
            "overflow": null,
            "overflow_x": null,
            "overflow_y": null,
            "padding": null,
            "right": null,
            "top": null,
            "visibility": null,
            "width": null
          }
        },
        "390bb340880e41bca9b89e8bafa56de9": {
          "model_module": "@jupyter-widgets/controls",
          "model_module_version": "1.5.0",
          "model_name": "HTMLModel",
          "state": {
            "_dom_classes": [],
            "_model_module": "@jupyter-widgets/controls",
            "_model_module_version": "1.5.0",
            "_model_name": "HTMLModel",
            "_view_count": null,
            "_view_module": "@jupyter-widgets/controls",
            "_view_module_version": "1.5.0",
            "_view_name": "HTMLView",
            "description": "",
            "description_tooltip": null,
            "layout": "IPY_MODEL_366022074ef5462f89fa131fbe1e4c99",
            "placeholder": "​",
            "style": "IPY_MODEL_4468214d90b74dff909b0661d2d1ee99",
            "value": " 0/1 [00:00&lt;?, ? splits/s]"
          }
        },
        "42539420182a4d13b090e4c8513f445d": {
          "model_module": "@jupyter-widgets/controls",
          "model_module_version": "1.5.0",
          "model_name": "DescriptionStyleModel",
          "state": {
            "_model_module": "@jupyter-widgets/controls",
            "_model_module_version": "1.5.0",
            "_model_name": "DescriptionStyleModel",
            "_view_count": null,
            "_view_module": "@jupyter-widgets/base",
            "_view_module_version": "1.2.0",
            "_view_name": "StyleView",
            "description_width": ""
          }
        },
        "4468214d90b74dff909b0661d2d1ee99": {
          "model_module": "@jupyter-widgets/controls",
          "model_module_version": "1.5.0",
          "model_name": "DescriptionStyleModel",
          "state": {
            "_model_module": "@jupyter-widgets/controls",
            "_model_module_version": "1.5.0",
            "_model_name": "DescriptionStyleModel",
            "_view_count": null,
            "_view_module": "@jupyter-widgets/base",
            "_view_module_version": "1.2.0",
            "_view_name": "StyleView",
            "description_width": ""
          }
        },
        "4dc422e610854308a4fc1e7979075b22": {
          "model_module": "@jupyter-widgets/controls",
          "model_module_version": "1.5.0",
          "model_name": "HTMLModel",
          "state": {
            "_dom_classes": [],
            "_model_module": "@jupyter-widgets/controls",
            "_model_module_version": "1.5.0",
            "_model_name": "HTMLModel",
            "_view_count": null,
            "_view_module": "@jupyter-widgets/controls",
            "_view_module_version": "1.5.0",
            "_view_name": "HTMLView",
            "description": "",
            "description_tooltip": null,
            "layout": "IPY_MODEL_9820155cb3524856b101a8adfd0ae891",
            "placeholder": "​",
            "style": "IPY_MODEL_6a58faccc68a43e0a2a07c2d454571a1",
            "value": "Dl Completed...: 100%"
          }
        },
        "53ee628faf264ba4b83ae78eb1d58f43": {
          "model_module": "@jupyter-widgets/base",
          "model_module_version": "1.2.0",
          "model_name": "LayoutModel",
          "state": {
            "_model_module": "@jupyter-widgets/base",
            "_model_module_version": "1.2.0",
            "_model_name": "LayoutModel",
            "_view_count": null,
            "_view_module": "@jupyter-widgets/base",
            "_view_module_version": "1.2.0",
            "_view_name": "LayoutView",
            "align_content": null,
            "align_items": null,
            "align_self": null,
            "border": null,
            "bottom": null,
            "display": null,
            "flex": null,
            "flex_flow": null,
            "grid_area": null,
            "grid_auto_columns": null,
            "grid_auto_flow": null,
            "grid_auto_rows": null,
            "grid_column": null,
            "grid_gap": null,
            "grid_row": null,
            "grid_template_areas": null,
            "grid_template_columns": null,
            "grid_template_rows": null,
            "height": null,
            "justify_content": null,
            "justify_items": null,
            "left": null,
            "margin": null,
            "max_height": null,
            "max_width": null,
            "min_height": null,
            "min_width": null,
            "object_fit": null,
            "object_position": null,
            "order": null,
            "overflow": null,
            "overflow_x": null,
            "overflow_y": null,
            "padding": null,
            "right": null,
            "top": null,
            "visibility": null,
            "width": null
          }
        },
        "5796ff2d2d4b43d99186af7e240dd79d": {
          "model_module": "@jupyter-widgets/controls",
          "model_module_version": "1.5.0",
          "model_name": "HTMLModel",
          "state": {
            "_dom_classes": [],
            "_model_module": "@jupyter-widgets/controls",
            "_model_module_version": "1.5.0",
            "_model_name": "HTMLModel",
            "_view_count": null,
            "_view_module": "@jupyter-widgets/controls",
            "_view_module_version": "1.5.0",
            "_view_name": "HTMLView",
            "description": "",
            "description_tooltip": null,
            "layout": "IPY_MODEL_32ed04ffd2ec473b91c65e6b8ab9fe0d",
            "placeholder": "​",
            "style": "IPY_MODEL_924bb05a7b304cd1a39b1f316806e4af",
            "value": "Dl Size...: 100%"
          }
        },
        "595a479c0c85408a926dd03ee7cd3dae": {
          "model_module": "@jupyter-widgets/controls",
          "model_module_version": "1.5.0",
          "model_name": "HBoxModel",
          "state": {
            "_dom_classes": [],
            "_model_module": "@jupyter-widgets/controls",
            "_model_module_version": "1.5.0",
            "_model_name": "HBoxModel",
            "_view_count": null,
            "_view_module": "@jupyter-widgets/controls",
            "_view_module_version": "1.5.0",
            "_view_name": "HBoxView",
            "box_style": "",
            "children": [
              "IPY_MODEL_6035872716aa475aa75fcb4a6d155ae4",
              "IPY_MODEL_20f8e69d530144059cdb32bb4f17aef0",
              "IPY_MODEL_390bb340880e41bca9b89e8bafa56de9"
            ],
            "layout": "IPY_MODEL_111a5e4240a44f1099f7b449f446a9a9"
          }
        },
        "5dcc6d98903a4e7e8207b02ba3658103": {
          "model_module": "@jupyter-widgets/base",
          "model_module_version": "1.2.0",
          "model_name": "LayoutModel",
          "state": {
            "_model_module": "@jupyter-widgets/base",
            "_model_module_version": "1.2.0",
            "_model_name": "LayoutModel",
            "_view_count": null,
            "_view_module": "@jupyter-widgets/base",
            "_view_module_version": "1.2.0",
            "_view_name": "LayoutView",
            "align_content": null,
            "align_items": null,
            "align_self": null,
            "border": null,
            "bottom": null,
            "display": null,
            "flex": null,
            "flex_flow": null,
            "grid_area": null,
            "grid_auto_columns": null,
            "grid_auto_flow": null,
            "grid_auto_rows": null,
            "grid_column": null,
            "grid_gap": null,
            "grid_row": null,
            "grid_template_areas": null,
            "grid_template_columns": null,
            "grid_template_rows": null,
            "height": null,
            "justify_content": null,
            "justify_items": null,
            "left": null,
            "margin": null,
            "max_height": null,
            "max_width": null,
            "min_height": null,
            "min_width": null,
            "object_fit": null,
            "object_position": null,
            "order": null,
            "overflow": null,
            "overflow_x": null,
            "overflow_y": null,
            "padding": null,
            "right": null,
            "top": null,
            "visibility": null,
            "width": null
          }
        },
        "603240368bea4402b2377fa62f91e58f": {
          "model_module": "@jupyter-widgets/controls",
          "model_module_version": "1.5.0",
          "model_name": "ProgressStyleModel",
          "state": {
            "_model_module": "@jupyter-widgets/controls",
            "_model_module_version": "1.5.0",
            "_model_name": "ProgressStyleModel",
            "_view_count": null,
            "_view_module": "@jupyter-widgets/base",
            "_view_module_version": "1.2.0",
            "_view_name": "StyleView",
            "bar_color": null,
            "description_width": ""
          }
        },
        "6035872716aa475aa75fcb4a6d155ae4": {
          "model_module": "@jupyter-widgets/controls",
          "model_module_version": "1.5.0",
          "model_name": "HTMLModel",
          "state": {
            "_dom_classes": [],
            "_model_module": "@jupyter-widgets/controls",
            "_model_module_version": "1.5.0",
            "_model_name": "HTMLModel",
            "_view_count": null,
            "_view_module": "@jupyter-widgets/controls",
            "_view_module_version": "1.5.0",
            "_view_name": "HTMLView",
            "description": "",
            "description_tooltip": null,
            "layout": "IPY_MODEL_5dcc6d98903a4e7e8207b02ba3658103",
            "placeholder": "​",
            "style": "IPY_MODEL_1801f275af2a4a449a1ba17c66921056",
            "value": "Generating splits...:   0%"
          }
        },
        "6a58faccc68a43e0a2a07c2d454571a1": {
          "model_module": "@jupyter-widgets/controls",
          "model_module_version": "1.5.0",
          "model_name": "DescriptionStyleModel",
          "state": {
            "_model_module": "@jupyter-widgets/controls",
            "_model_module_version": "1.5.0",
            "_model_name": "DescriptionStyleModel",
            "_view_count": null,
            "_view_module": "@jupyter-widgets/base",
            "_view_module_version": "1.2.0",
            "_view_name": "StyleView",
            "description_width": ""
          }
        },
        "6c958f1f2b094115a9bdc04518c411b6": {
          "model_module": "@jupyter-widgets/base",
          "model_module_version": "1.2.0",
          "model_name": "LayoutModel",
          "state": {
            "_model_module": "@jupyter-widgets/base",
            "_model_module_version": "1.2.0",
            "_model_name": "LayoutModel",
            "_view_count": null,
            "_view_module": "@jupyter-widgets/base",
            "_view_module_version": "1.2.0",
            "_view_name": "LayoutView",
            "align_content": null,
            "align_items": null,
            "align_self": null,
            "border": null,
            "bottom": null,
            "display": null,
            "flex": null,
            "flex_flow": null,
            "grid_area": null,
            "grid_auto_columns": null,
            "grid_auto_flow": null,
            "grid_auto_rows": null,
            "grid_column": null,
            "grid_gap": null,
            "grid_row": null,
            "grid_template_areas": null,
            "grid_template_columns": null,
            "grid_template_rows": null,
            "height": null,
            "justify_content": null,
            "justify_items": null,
            "left": null,
            "margin": null,
            "max_height": null,
            "max_width": null,
            "min_height": null,
            "min_width": null,
            "object_fit": null,
            "object_position": null,
            "order": null,
            "overflow": null,
            "overflow_x": null,
            "overflow_y": null,
            "padding": null,
            "right": null,
            "top": null,
            "visibility": null,
            "width": null
          }
        },
        "70360c6997db4c3a82f5b325641e70d6": {
          "model_module": "@jupyter-widgets/controls",
          "model_module_version": "1.5.0",
          "model_name": "HTMLModel",
          "state": {
            "_dom_classes": [],
            "_model_module": "@jupyter-widgets/controls",
            "_model_module_version": "1.5.0",
            "_model_name": "HTMLModel",
            "_view_count": null,
            "_view_module": "@jupyter-widgets/controls",
            "_view_module_version": "1.5.0",
            "_view_name": "HTMLView",
            "description": "",
            "description_tooltip": null,
            "layout": "IPY_MODEL_1fef579347c841de941e930ad326fdda",
            "placeholder": "​",
            "style": "IPY_MODEL_cc516830b9964f28906683908d58265f",
            "value": " 37537/37537 [13:20&lt;00:00, 65.36 MiB/s]"
          }
        },
        "719d99ca289646df81d5661524046380": {
          "model_module": "@jupyter-widgets/base",
          "model_module_version": "1.2.0",
          "model_name": "LayoutModel",
          "state": {
            "_model_module": "@jupyter-widgets/base",
            "_model_module_version": "1.2.0",
            "_model_name": "LayoutModel",
            "_view_count": null,
            "_view_module": "@jupyter-widgets/base",
            "_view_module_version": "1.2.0",
            "_view_name": "LayoutView",
            "align_content": null,
            "align_items": null,
            "align_self": null,
            "border": null,
            "bottom": null,
            "display": null,
            "flex": null,
            "flex_flow": null,
            "grid_area": null,
            "grid_auto_columns": null,
            "grid_auto_flow": null,
            "grid_auto_rows": null,
            "grid_column": null,
            "grid_gap": null,
            "grid_row": null,
            "grid_template_areas": null,
            "grid_template_columns": null,
            "grid_template_rows": null,
            "height": null,
            "justify_content": null,
            "justify_items": null,
            "left": null,
            "margin": null,
            "max_height": null,
            "max_width": null,
            "min_height": null,
            "min_width": null,
            "object_fit": null,
            "object_position": null,
            "order": null,
            "overflow": null,
            "overflow_x": null,
            "overflow_y": null,
            "padding": null,
            "right": null,
            "top": null,
            "visibility": null,
            "width": null
          }
        },
        "788c52506d7f4589b28e29e23f23e865": {
          "model_module": "@jupyter-widgets/controls",
          "model_module_version": "1.5.0",
          "model_name": "FloatProgressModel",
          "state": {
            "_dom_classes": [],
            "_model_module": "@jupyter-widgets/controls",
            "_model_module_version": "1.5.0",
            "_model_name": "FloatProgressModel",
            "_view_count": null,
            "_view_module": "@jupyter-widgets/controls",
            "_view_module_version": "1.5.0",
            "_view_name": "ProgressView",
            "bar_style": "success",
            "description": "",
            "description_tooltip": null,
            "layout": "IPY_MODEL_bd6ccd0f729c4a58ae24ee806332e8fb",
            "max": 1,
            "min": 0,
            "orientation": "horizontal",
            "style": "IPY_MODEL_fb4de547b75e41d3b79a364379e87c03",
            "value": 1
          }
        },
        "7c0af87531d74077921d9408f8d06967": {
          "model_module": "@jupyter-widgets/controls",
          "model_module_version": "1.5.0",
          "model_name": "FloatProgressModel",
          "state": {
            "_dom_classes": [],
            "_model_module": "@jupyter-widgets/controls",
            "_model_module_version": "1.5.0",
            "_model_name": "FloatProgressModel",
            "_view_count": null,
            "_view_module": "@jupyter-widgets/controls",
            "_view_module_version": "1.5.0",
            "_view_name": "ProgressView",
            "bar_style": "info",
            "description": "",
            "description_tooltip": null,
            "layout": "IPY_MODEL_ba5d8340b04f458e8b36b5f83f408eb6",
            "max": 1,
            "min": 0,
            "orientation": "horizontal",
            "style": "IPY_MODEL_a8fd352f5b3d4d4ea17134f76921583e",
            "value": 1
          }
        },
        "7c941b49e3a44304a67160ad22848d0a": {
          "model_module": "@jupyter-widgets/controls",
          "model_module_version": "1.5.0",
          "model_name": "HBoxModel",
          "state": {
            "_dom_classes": [],
            "_model_module": "@jupyter-widgets/controls",
            "_model_module_version": "1.5.0",
            "_model_name": "HBoxModel",
            "_view_count": null,
            "_view_module": "@jupyter-widgets/controls",
            "_view_module_version": "1.5.0",
            "_view_name": "HBoxView",
            "box_style": "",
            "children": [
              "IPY_MODEL_dea86e1a12894104ab89ea81893711a6",
              "IPY_MODEL_7c0af87531d74077921d9408f8d06967",
              "IPY_MODEL_115906be5fdc43dbb36fc2ebe87e08ac"
            ],
            "layout": "IPY_MODEL_53ee628faf264ba4b83ae78eb1d58f43"
          }
        },
        "924bb05a7b304cd1a39b1f316806e4af": {
          "model_module": "@jupyter-widgets/controls",
          "model_module_version": "1.5.0",
          "model_name": "DescriptionStyleModel",
          "state": {
            "_model_module": "@jupyter-widgets/controls",
            "_model_module_version": "1.5.0",
            "_model_name": "DescriptionStyleModel",
            "_view_count": null,
            "_view_module": "@jupyter-widgets/base",
            "_view_module_version": "1.2.0",
            "_view_name": "StyleView",
            "description_width": ""
          }
        },
        "9820155cb3524856b101a8adfd0ae891": {
          "model_module": "@jupyter-widgets/base",
          "model_module_version": "1.2.0",
          "model_name": "LayoutModel",
          "state": {
            "_model_module": "@jupyter-widgets/base",
            "_model_module_version": "1.2.0",
            "_model_name": "LayoutModel",
            "_view_count": null,
            "_view_module": "@jupyter-widgets/base",
            "_view_module_version": "1.2.0",
            "_view_name": "LayoutView",
            "align_content": null,
            "align_items": null,
            "align_self": null,
            "border": null,
            "bottom": null,
            "display": null,
            "flex": null,
            "flex_flow": null,
            "grid_area": null,
            "grid_auto_columns": null,
            "grid_auto_flow": null,
            "grid_auto_rows": null,
            "grid_column": null,
            "grid_gap": null,
            "grid_row": null,
            "grid_template_areas": null,
            "grid_template_columns": null,
            "grid_template_rows": null,
            "height": null,
            "justify_content": null,
            "justify_items": null,
            "left": null,
            "margin": null,
            "max_height": null,
            "max_width": null,
            "min_height": null,
            "min_width": null,
            "object_fit": null,
            "object_position": null,
            "order": null,
            "overflow": null,
            "overflow_x": null,
            "overflow_y": null,
            "padding": null,
            "right": null,
            "top": null,
            "visibility": null,
            "width": null
          }
        },
        "a8fd352f5b3d4d4ea17134f76921583e": {
          "model_module": "@jupyter-widgets/controls",
          "model_module_version": "1.5.0",
          "model_name": "ProgressStyleModel",
          "state": {
            "_model_module": "@jupyter-widgets/controls",
            "_model_module_version": "1.5.0",
            "_model_name": "ProgressStyleModel",
            "_view_count": null,
            "_view_module": "@jupyter-widgets/base",
            "_view_module_version": "1.2.0",
            "_view_name": "StyleView",
            "bar_color": null,
            "description_width": ""
          }
        },
        "abd55d03a1cc4a989fa669d232319595": {
          "model_module": "@jupyter-widgets/controls",
          "model_module_version": "1.5.0",
          "model_name": "FloatProgressModel",
          "state": {
            "_dom_classes": [],
            "_model_module": "@jupyter-widgets/controls",
            "_model_module_version": "1.5.0",
            "_model_name": "FloatProgressModel",
            "_view_count": null,
            "_view_module": "@jupyter-widgets/controls",
            "_view_module_version": "1.5.0",
            "_view_name": "ProgressView",
            "bar_style": "success",
            "description": "",
            "description_tooltip": null,
            "layout": "IPY_MODEL_b0d5fbdcc82848f8923005acede29590",
            "max": 1,
            "min": 0,
            "orientation": "horizontal",
            "style": "IPY_MODEL_ccfeb4e0d5ac409fa42f6e4eac1da0a3",
            "value": 1
          }
        },
        "b0d5fbdcc82848f8923005acede29590": {
          "model_module": "@jupyter-widgets/base",
          "model_module_version": "1.2.0",
          "model_name": "LayoutModel",
          "state": {
            "_model_module": "@jupyter-widgets/base",
            "_model_module_version": "1.2.0",
            "_model_name": "LayoutModel",
            "_view_count": null,
            "_view_module": "@jupyter-widgets/base",
            "_view_module_version": "1.2.0",
            "_view_name": "LayoutView",
            "align_content": null,
            "align_items": null,
            "align_self": null,
            "border": null,
            "bottom": null,
            "display": null,
            "flex": null,
            "flex_flow": null,
            "grid_area": null,
            "grid_auto_columns": null,
            "grid_auto_flow": null,
            "grid_auto_rows": null,
            "grid_column": null,
            "grid_gap": null,
            "grid_row": null,
            "grid_template_areas": null,
            "grid_template_columns": null,
            "grid_template_rows": null,
            "height": null,
            "justify_content": null,
            "justify_items": null,
            "left": null,
            "margin": null,
            "max_height": null,
            "max_width": null,
            "min_height": null,
            "min_width": null,
            "object_fit": null,
            "object_position": null,
            "order": null,
            "overflow": null,
            "overflow_x": null,
            "overflow_y": null,
            "padding": null,
            "right": null,
            "top": null,
            "visibility": null,
            "width": "20px"
          }
        },
        "b7b00fa267e04091a90ce91c0cdd6738": {
          "model_module": "@jupyter-widgets/base",
          "model_module_version": "1.2.0",
          "model_name": "LayoutModel",
          "state": {
            "_model_module": "@jupyter-widgets/base",
            "_model_module_version": "1.2.0",
            "_model_name": "LayoutModel",
            "_view_count": null,
            "_view_module": "@jupyter-widgets/base",
            "_view_module_version": "1.2.0",
            "_view_name": "LayoutView",
            "align_content": null,
            "align_items": null,
            "align_self": null,
            "border": null,
            "bottom": null,
            "display": null,
            "flex": null,
            "flex_flow": null,
            "grid_area": null,
            "grid_auto_columns": null,
            "grid_auto_flow": null,
            "grid_auto_rows": null,
            "grid_column": null,
            "grid_gap": null,
            "grid_row": null,
            "grid_template_areas": null,
            "grid_template_columns": null,
            "grid_template_rows": null,
            "height": null,
            "justify_content": null,
            "justify_items": null,
            "left": null,
            "margin": null,
            "max_height": null,
            "max_width": null,
            "min_height": null,
            "min_width": null,
            "object_fit": null,
            "object_position": null,
            "order": null,
            "overflow": null,
            "overflow_x": null,
            "overflow_y": null,
            "padding": null,
            "right": null,
            "top": null,
            "visibility": null,
            "width": null
          }
        },
        "ba5d8340b04f458e8b36b5f83f408eb6": {
          "model_module": "@jupyter-widgets/base",
          "model_module_version": "1.2.0",
          "model_name": "LayoutModel",
          "state": {
            "_model_module": "@jupyter-widgets/base",
            "_model_module_version": "1.2.0",
            "_model_name": "LayoutModel",
            "_view_count": null,
            "_view_module": "@jupyter-widgets/base",
            "_view_module_version": "1.2.0",
            "_view_name": "LayoutView",
            "align_content": null,
            "align_items": null,
            "align_self": null,
            "border": null,
            "bottom": null,
            "display": null,
            "flex": null,
            "flex_flow": null,
            "grid_area": null,
            "grid_auto_columns": null,
            "grid_auto_flow": null,
            "grid_auto_rows": null,
            "grid_column": null,
            "grid_gap": null,
            "grid_row": null,
            "grid_template_areas": null,
            "grid_template_columns": null,
            "grid_template_rows": null,
            "height": null,
            "justify_content": null,
            "justify_items": null,
            "left": null,
            "margin": null,
            "max_height": null,
            "max_width": null,
            "min_height": null,
            "min_width": null,
            "object_fit": null,
            "object_position": null,
            "order": null,
            "overflow": null,
            "overflow_x": null,
            "overflow_y": null,
            "padding": null,
            "right": null,
            "top": null,
            "visibility": null,
            "width": "20px"
          }
        },
        "bd6ccd0f729c4a58ae24ee806332e8fb": {
          "model_module": "@jupyter-widgets/base",
          "model_module_version": "1.2.0",
          "model_name": "LayoutModel",
          "state": {
            "_model_module": "@jupyter-widgets/base",
            "_model_module_version": "1.2.0",
            "_model_name": "LayoutModel",
            "_view_count": null,
            "_view_module": "@jupyter-widgets/base",
            "_view_module_version": "1.2.0",
            "_view_name": "LayoutView",
            "align_content": null,
            "align_items": null,
            "align_self": null,
            "border": null,
            "bottom": null,
            "display": null,
            "flex": null,
            "flex_flow": null,
            "grid_area": null,
            "grid_auto_columns": null,
            "grid_auto_flow": null,
            "grid_auto_rows": null,
            "grid_column": null,
            "grid_gap": null,
            "grid_row": null,
            "grid_template_areas": null,
            "grid_template_columns": null,
            "grid_template_rows": null,
            "height": null,
            "justify_content": null,
            "justify_items": null,
            "left": null,
            "margin": null,
            "max_height": null,
            "max_width": null,
            "min_height": null,
            "min_width": null,
            "object_fit": null,
            "object_position": null,
            "order": null,
            "overflow": null,
            "overflow_x": null,
            "overflow_y": null,
            "padding": null,
            "right": null,
            "top": null,
            "visibility": null,
            "width": "20px"
          }
        },
        "bf2a934fee1b4ad08cae9aef5baae567": {
          "model_module": "@jupyter-widgets/controls",
          "model_module_version": "1.5.0",
          "model_name": "DescriptionStyleModel",
          "state": {
            "_model_module": "@jupyter-widgets/controls",
            "_model_module_version": "1.5.0",
            "_model_name": "DescriptionStyleModel",
            "_view_count": null,
            "_view_module": "@jupyter-widgets/base",
            "_view_module_version": "1.2.0",
            "_view_name": "StyleView",
            "description_width": ""
          }
        },
        "bf6ab3002f91442da12c198c6dab97d5": {
          "model_module": "@jupyter-widgets/controls",
          "model_module_version": "1.5.0",
          "model_name": "HBoxModel",
          "state": {
            "_dom_classes": [],
            "_model_module": "@jupyter-widgets/controls",
            "_model_module_version": "1.5.0",
            "_model_name": "HBoxModel",
            "_view_count": null,
            "_view_module": "@jupyter-widgets/controls",
            "_view_module_version": "1.5.0",
            "_view_name": "HBoxView",
            "box_style": "",
            "children": [
              "IPY_MODEL_5796ff2d2d4b43d99186af7e240dd79d",
              "IPY_MODEL_abd55d03a1cc4a989fa669d232319595",
              "IPY_MODEL_70360c6997db4c3a82f5b325641e70d6"
            ],
            "layout": "IPY_MODEL_1674307d0ad14178aae6549ec942a688"
          }
        },
        "c80eab288fe04bfcb5f1a9516a6ccdee": {
          "model_module": "@jupyter-widgets/base",
          "model_module_version": "1.2.0",
          "model_name": "LayoutModel",
          "state": {
            "_model_module": "@jupyter-widgets/base",
            "_model_module_version": "1.2.0",
            "_model_name": "LayoutModel",
            "_view_count": null,
            "_view_module": "@jupyter-widgets/base",
            "_view_module_version": "1.2.0",
            "_view_name": "LayoutView",
            "align_content": null,
            "align_items": null,
            "align_self": null,
            "border": null,
            "bottom": null,
            "display": null,
            "flex": null,
            "flex_flow": null,
            "grid_area": null,
            "grid_auto_columns": null,
            "grid_auto_flow": null,
            "grid_auto_rows": null,
            "grid_column": null,
            "grid_gap": null,
            "grid_row": null,
            "grid_template_areas": null,
            "grid_template_columns": null,
            "grid_template_rows": null,
            "height": null,
            "justify_content": null,
            "justify_items": null,
            "left": null,
            "margin": null,
            "max_height": null,
            "max_width": null,
            "min_height": null,
            "min_width": null,
            "object_fit": null,
            "object_position": null,
            "order": null,
            "overflow": null,
            "overflow_x": null,
            "overflow_y": null,
            "padding": null,
            "right": null,
            "top": null,
            "visibility": null,
            "width": null
          }
        },
        "cc516830b9964f28906683908d58265f": {
          "model_module": "@jupyter-widgets/controls",
          "model_module_version": "1.5.0",
          "model_name": "DescriptionStyleModel",
          "state": {
            "_model_module": "@jupyter-widgets/controls",
            "_model_module_version": "1.5.0",
            "_model_name": "DescriptionStyleModel",
            "_view_count": null,
            "_view_module": "@jupyter-widgets/base",
            "_view_module_version": "1.2.0",
            "_view_name": "StyleView",
            "description_width": ""
          }
        },
        "ccfeb4e0d5ac409fa42f6e4eac1da0a3": {
          "model_module": "@jupyter-widgets/controls",
          "model_module_version": "1.5.0",
          "model_name": "ProgressStyleModel",
          "state": {
            "_model_module": "@jupyter-widgets/controls",
            "_model_module_version": "1.5.0",
            "_model_name": "ProgressStyleModel",
            "_view_count": null,
            "_view_module": "@jupyter-widgets/base",
            "_view_module_version": "1.2.0",
            "_view_name": "StyleView",
            "bar_color": null,
            "description_width": ""
          }
        },
        "dceb89bba6774d1b9398c4da611bf9af": {
          "model_module": "@jupyter-widgets/controls",
          "model_module_version": "1.5.0",
          "model_name": "HBoxModel",
          "state": {
            "_dom_classes": [],
            "_model_module": "@jupyter-widgets/controls",
            "_model_module_version": "1.5.0",
            "_model_name": "HBoxModel",
            "_view_count": null,
            "_view_module": "@jupyter-widgets/controls",
            "_view_module_version": "1.5.0",
            "_view_name": "HBoxView",
            "box_style": "",
            "children": [
              "IPY_MODEL_4dc422e610854308a4fc1e7979075b22",
              "IPY_MODEL_788c52506d7f4589b28e29e23f23e865",
              "IPY_MODEL_0ded8a6d46ff474c9c45a84262ece999"
            ],
            "layout": "IPY_MODEL_c80eab288fe04bfcb5f1a9516a6ccdee"
          }
        },
        "dea86e1a12894104ab89ea81893711a6": {
          "model_module": "@jupyter-widgets/controls",
          "model_module_version": "1.5.0",
          "model_name": "HTMLModel",
          "state": {
            "_dom_classes": [],
            "_model_module": "@jupyter-widgets/controls",
            "_model_module_version": "1.5.0",
            "_model_name": "HTMLModel",
            "_view_count": null,
            "_view_module": "@jupyter-widgets/controls",
            "_view_module_version": "1.5.0",
            "_view_name": "HTMLView",
            "description": "",
            "description_tooltip": null,
            "layout": "IPY_MODEL_b7b00fa267e04091a90ce91c0cdd6738",
            "placeholder": "​",
            "style": "IPY_MODEL_bf2a934fee1b4ad08cae9aef5baae567",
            "value": "Generating train examples...: "
          }
        },
        "fb4de547b75e41d3b79a364379e87c03": {
          "model_module": "@jupyter-widgets/controls",
          "model_module_version": "1.5.0",
          "model_name": "ProgressStyleModel",
          "state": {
            "_model_module": "@jupyter-widgets/controls",
            "_model_module_version": "1.5.0",
            "_model_name": "ProgressStyleModel",
            "_view_count": null,
            "_view_module": "@jupyter-widgets/base",
            "_view_module_version": "1.2.0",
            "_view_name": "StyleView",
            "bar_color": null,
            "description_width": ""
          }
        }
      }
    }
  },
  "nbformat": 4,
  "nbformat_minor": 5
}
