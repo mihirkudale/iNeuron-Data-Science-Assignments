{
 "cells": [
  {
   "cell_type": "markdown",
   "id": "06f10b11-8e8d-4a78-af31-42d3d40bacc8",
   "metadata": {},
   "source": [
    "# Assignment 12 Solution"
   ]
  },
  {
   "cell_type": "markdown",
   "id": "b9ca5ec7-2617-47e1-a3af-73f92fe37038",
   "metadata": {},
   "source": [
    "**SUBMITTED BY: MIHIR KUDALE**"
   ]
  },
  {
   "cell_type": "markdown",
   "id": "22498474-3921-4c4d-b2d5-99bbbe58e2d9",
   "metadata": {},
   "source": [
    "**1. Describe the Quick R-CNN architecture.**\n",
    "\n",
    "**Ans:** \n",
    "Quick R-CNN is a variation of the Faster R-CNN architecture for object detection. It is an improved version of the R-CNN architecture which uses a single network to predict both the object's location and its class. Quick R-CNN uses a region proposal network (RPN) to generate candidate bounding boxes of potential objects in an image. These bounding boxes are then fed into a separate network to classify the objects and refine their locations. The RPN works by scanning a predefined set of anchor boxes across the image, and predicting a score for each one indicating how likely it is to contain an object of interest. The network then outputs a set of bounding boxes which are used as input to the second network. This second network is a convolutional neural network (CNN) which is responsible for predicting the class label of the object inside the bounding box, as well as refining the location of the box. The Quick R-CNN architecture is faster than the original R-CNN architecture due to the fact that it uses a single network to both generate and classify the bounding boxes."
   ]
  },
  {
   "cell_type": "markdown",
   "id": "b52d9fd1-ba55-4f08-82a1-b3d288ffb9e4",
   "metadata": {},
   "source": [
    "**2. Describe two Fast R-CNN loss functions.**\n",
    "\n",
    "**Ans:**\n",
    "1. Region Classification Loss: This loss is used to train the Fast R-CNN network to classify the regions in the image. It is a multi-class logistic regression loss that is used to update the weights of the network. This loss is based on the cross-entropy loss and penalizes incorrect classifications.\n",
    "\n",
    "2. Region Proposal Loss: This loss is used to train the Fast R-CNN network to localize the regions in the image. It is a smooth L1 loss that is used to update the weights of the network. This loss is based on the difference between the predicted and ground-truth bounding boxes of the regions."
   ]
  },
  {
   "cell_type": "code",
   "execution_count": null,
   "id": "b408fcce-f1ff-4a83-b427-e6c99c00ad67",
   "metadata": {},
   "outputs": [],
   "source": []
  }
 ],
 "metadata": {
  "kernelspec": {
   "display_name": "Python 3 (ipykernel)",
   "language": "python",
   "name": "python3"
  },
  "language_info": {
   "codemirror_mode": {
    "name": "ipython",
    "version": 3
   },
   "file_extension": ".py",
   "mimetype": "text/x-python",
   "name": "python",
   "nbconvert_exporter": "python",
   "pygments_lexer": "ipython3",
   "version": "3.10.8"
  },
  "vscode": {
   "interpreter": {
    "hash": "94f538a246db0fa2df5e0015ac38ebae58f4075808dc245f921dd0fb55023058"
   }
  }
 },
 "nbformat": 4,
 "nbformat_minor": 5
}
