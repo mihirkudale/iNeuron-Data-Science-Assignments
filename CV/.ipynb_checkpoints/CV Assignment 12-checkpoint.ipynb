{
 "cells": [
  {
   "cell_type": "markdown",
   "id": "06f10b11-8e8d-4a78-af31-42d3d40bacc8",
   "metadata": {},
   "source": [
    "# Assignment 12 Solution"
   ]
  },
  {
   "cell_type": "markdown",
   "id": "b9ca5ec7-2617-47e1-a3af-73f92fe37038",
   "metadata": {},
   "source": [
    "**SUBMITTED BY: MIHIR KUDALE**"
   ]
  },
  {
   "cell_type": "markdown",
   "id": "22498474-3921-4c4d-b2d5-99bbbe58e2d9",
   "metadata": {},
   "source": [
    "**1. Describe the Quick R-CNN architecture.**\n",
    "\n",
    "**Ans:** \n",
    "Quick R-CNN is a variation of the Faster R-CNN architecture for object detection. It is an improved version of the R-CNN architecture which uses a single network to predict both the object's location and its class. Quick R-CNN uses a region proposal network (RPN) to generate candidate bounding boxes of potential objects in an image. These bounding boxes are then fed into a separate network to classify the objects and refine their locations. The RPN works by scanning a predefined set of anchor boxes across the image, and predicting a score for each one indicating how likely it is to contain an object of interest. The network then outputs a set of bounding boxes which are used as input to the second network. This second network is a convolutional neural network (CNN) which is responsible for predicting the class label of the object inside the bounding box, as well as refining the location of the box. The Quick R-CNN architecture is faster than the original R-CNN architecture due to the fact that it uses a single network to both generate and classify the bounding boxes."
   ]
  },
  {
   "cell_type": "markdown",
   "id": "b52d9fd1-ba55-4f08-82a1-b3d288ffb9e4",
   "metadata": {},
   "source": [
    "**2. Describe two Fast R-CNN loss functions.**\n",
    "\n",
    "**Ans:** The Fast R-CNN loss function consists of two parts: the localization loss and the classification loss. \n",
    "\n",
    "1. Localization loss: This loss function is used to measure how well the model localizes the objects in the image, and is usually a form of a regression loss such as Smooth L1 Loss or a variant of the Huber Loss.\n",
    "\n",
    "2. Classification loss: This loss function is used to measure how well the model can classify the objects in the image, and is usually a form of a cross-entropy loss such as softmax or sigmoid cross-entropy.\n",
    "\n",
    "3. Regression Loss: This loss is used to train the model for bounding box regression. It is a smooth L1 loss between the predicted bounding box coordinates and the ground truth coordinates."
   ]
  },
  {
   "cell_type": "markdown",
   "id": "e7009e77-29ff-4da9-a18f-47a3983de489",
   "metadata": {},
   "source": [
    "**3. Describe the DISABILITIES OF FAST R-CNN**\n",
    "\n",
    "**Ans:** • Slow inference speed: Fast R-CNN is relatively slower compared to other detectors like YOLO and SSD, due to its two-stage approach.\n",
    "\n",
    "• Difficulty with overlapping objects: Fast R-CNN is not very good at handling overlapping objects in an image, which can lead to incorrect bounding box predictions.\n",
    "\n",
    "• Sensitive to hyperparameters: Fast R-CNN is very sensitive to the selection of hyperparameters, and if the wrong set of hyperparameters is used, it can lead to sub-optimal performance.\n",
    "\n",
    "• Not suitable for real-time applications: Fast R-CNN is not suitable for real-time applications due to its slower inference speed."
   ]
  },
  {
   "cell_type": "markdown",
   "id": "bced017b-0dd6-403f-b26a-5c19cc87cc82",
   "metadata": {},
   "source": [
    "**4. Describe how the area proposal network works.**\n",
    "\n",
    "**Ans:** The Area Proposal Network (APN) is a convolutional neural network architecture used to detect objects in an image. The APN consists of two major parts: the proposal network and the region classifier. The proposal network is used to generate the object proposals, which are regions of an image that may contain objects. These proposals are then passed to the region classifier, which is used to classify the object in each proposal. The region classifier uses a fully-connected layer to output the object class and a bounding box for the object. The APN is trained using a supervised learning approach which uses labeled images to learn the object classes and their bounding boxes."
   ]
  },
  {
   "cell_type": "markdown",
   "id": "357a8bcc-5635-4391-950a-8d2d2dee411d",
   "metadata": {},
   "source": [
    "**5. Describe how the RoI pooling layer works.**\n",
    "\n",
    "**Ans:** The RoI pooling layer is a type of layer that is used in a convolutional neural network to reduce the spatial dimensions of an input. The RoI pooling layer works by dividing the input into regions of interest (RoIs) and then applying a max pooling operation across each RoI. This allows the network to focus on the most important features in each region while reducing the computational complexity of the overall network. The RoI pooling layer is especially useful for tasks such as object detection and semantic segmentation."
   ]
  },
  {
   "cell_type": "markdown",
   "id": "32627910-b9f5-472d-8afa-9899df0f6aed",
   "metadata": {},
   "source": [
    "**6. What are fully convolutional networks and how do they work? (FCNs)**\n",
    "\n",
    "**Ans:** Fully convolutional networks (FCNs) are a type of convolutional neural network (CNN) that are used for image segmentation, object detection, and image recognition. They are based on a series of convolutional layers that are connected with upsampling layers to enable the network to learn higher-level features of the input data. The convolutional layers extract features from the input data and the upsampling layers are used to increase the resolution of the input data. The upsampling layers are also used to merge features from different layers of the network. The end result is an output that is a segmentation of the input data into the desired classes. FCNs can be used to detect and segment objects in images and videos, as well as identify and classify objects in images and videos."
   ]
  },
  {
   "cell_type": "markdown",
   "id": "c99fbc12-9566-49da-a71b-d1a20bef6574",
   "metadata": {},
   "source": [
    "**7. What are anchor boxes and how do you use them?**\n",
    "\n",
    "**Ans:** Anchor boxes are a type of bounding box used in object detection algorithms. They are fixed boxes of various sizes and aspect ratios placed over an image. The goal is to create anchor boxes that can be used to detect different classes of objects in a given image. Anchor boxes are used in conjunction with a sliding window approach, where an algorithm moves the anchor boxes over the image and makes a prediction at each location. If the predictions meet a certain criteria, the bounding box is accepted and used to detect the target object."
   ]
  },
  {
   "cell_type": "markdown",
   "id": "9fb47943-8808-4811-b107-4e66c45d2bcc",
   "metadata": {},
   "source": [
    "**8. Describe the Single-shot Detectors architecture (SSD)**\n",
    "\n",
    "**Ans:** Single-shot Detectors (SSD) is a type of object detection architecture based on a deep neural network. It is a one-stage object detection architecture that uses a single deep neural network to predict object locations and class probabilities simultaneously. SSD uses anchor boxes of different aspect ratios and scales to detect objects, and applies non-maximum suppression (NMS) to remove multiple predicted boxes for the same object. Unlike two-stage detectors, SSD does not require a region proposal network (RPN) and instead directly predicts object locations and class probabilities for each anchor box. SSD is fast and accurate, making it suitable for real-time applications."
   ]
  },
  {
   "cell_type": "markdown",
   "id": "23bdf5ad-29fe-40c3-8b4f-c5940c3abfbd",
   "metadata": {},
   "source": [
    "**9. HOW DOES THE SSD NETWORK PREDICT?**\n",
    "\n",
    "**Ans:** The SSD Network uses deep learning to predict the most likely outcome of a given situation. Specifically, it utilizes convolutional neural networks to analyze the data and identify patterns. These patterns are then used to make predictions about the future."
   ]
  },
  {
   "cell_type": "markdown",
   "id": "8bbf40c8-a6a9-4173-b0f0-9499fc8bb763",
   "metadata": {},
   "source": [
    "**10. Explain Multi Scale Detections?**\n",
    "\n",
    "**Ans:** Multi-scale detection is a computer vision technique used to detect objects in an image or video at multiple scales. This technique is often used in object detection and recognition systems to improve accuracy and reduce false positives. Multi-scale detections are useful for detecting objects at different scales, such as small objects in the foreground and large objects in the background. This technique can also be used for tracking objects over time, as the object's size may change. Multi-scale detection can also be used to identify objects that are occluded or partially visible."
   ]
  },
  {
   "cell_type": "markdown",
   "id": "f697e7a7-47d9-426f-aff4-74d319ac8713",
   "metadata": {},
   "source": [
    "**11. What are dilated (or atrous) convolutions?**\n",
    "\n",
    "**Ans:** Dilated (or atrous) convolutions are convolutional kernels that have adjustable gaps between the kernel’s elements. This allows the kernel to cover a wider range of input values and makes the network more robust. The gaps between the kernel’s elements can be increased or decreased to control the receptive field size. Dilated convolutions have been shown to improve accuracy and efficiency of deep learning networks."
   ]
  },
  {
   "cell_type": "code",
   "execution_count": null,
   "id": "6a1d1098-9c8c-4130-ae32-421d4ac20655",
   "metadata": {},
   "outputs": [],
   "source": []
  }
 ],
 "metadata": {
  "kernelspec": {
   "display_name": "Python 3 (ipykernel)",
   "language": "python",
   "name": "python3"
  },
  "language_info": {
   "codemirror_mode": {
    "name": "ipython",
    "version": 3
   },
   "file_extension": ".py",
   "mimetype": "text/x-python",
   "name": "python",
   "nbconvert_exporter": "python",
   "pygments_lexer": "ipython3",
   "version": "3.10.8"
  },
  "vscode": {
   "interpreter": {
    "hash": "94f538a246db0fa2df5e0015ac38ebae58f4075808dc245f921dd0fb55023058"
   }
  }
 },
 "nbformat": 4,
 "nbformat_minor": 5
}
