{
 "cells": [
  {
   "cell_type": "markdown",
   "id": "06f10b11-8e8d-4a78-af31-42d3d40bacc8",
   "metadata": {},
   "source": [
    "# Assignment 4 Solution"
   ]
  },
  {
   "cell_type": "markdown",
   "id": "b9ca5ec7-2617-47e1-a3af-73f92fe37038",
   "metadata": {},
   "source": [
    "**SUBMITTED BY: MIHIR KUDALE**"
   ]
  },
  {
   "cell_type": "markdown",
   "id": "45587814-aee6-4a45-8fa2-7148f2ca2c74",
   "metadata": {},
   "source": [
    "**1. What is the concept of cyclical momentum?**\n",
    "\n",
    "**Ans:** Cyclical momentum is a concept in computer vision that refers to the idea of using momentum from a previously successful model to help guide the development of a new model. This can help to ensure that the new model is built on the successes of the past and also makes it easier to quickly iterate on and improve existing models. Cyclical momentum can help to speed up the development process and provide more accurate results."
   ]
  },
  {
   "cell_type": "markdown",
   "id": "d1f8f465-839d-43a2-8cbe-68fcdc0d28c4",
   "metadata": {},
   "source": [
    "**2. What callback keeps track of hyperparameter values (along with other data) during\n",
    "training?**\n",
    "\n",
    "**Ans:** The ModelCheckpoint callback is used to keep track of hyperparameter values (along with other data) during training. This callback is used to save the model's weights and other data at the end of each epoch, allowing the user to track the model's performance over time."
   ]
  },
  {
   "cell_type": "markdown",
   "id": "9979a343-a4d7-421a-9494-b41cea857692",
   "metadata": {},
   "source": [
    "**3. In the color dim plot, what does one column of pixels represent?**"
   ]
  },
  {
   "cell_type": "markdown",
   "id": "d05dd5da-bcfb-4be2-aa52-ed767173e304",
   "metadata": {},
   "source": [
    "**Ans:** One column of pixels in a color dim plot represents the relative values of the three color channels (red, green, and blue) for each pixel in the original image."
   ]
  },
  {
   "cell_type": "markdown",
   "id": "18ab4ff2-b368-4322-8f0d-96abe17f08ae",
   "metadata": {},
   "source": [
    "**4. In color dim, what does &quot;poor teaching&quot; look like? What is the reason for this?**"
   ]
  },
  {
   "cell_type": "markdown",
   "id": "52a89ca3-9552-4d38-bc20-dd1bcd589783",
   "metadata": {},
   "source": [
    "**Ans:** In color dim, poor teaching can look like providing a large amount of data with too little labels or annotation. This can lead to overfitting where the model only learns the data it is provided, and is not able to generalize to new data. This is a common problem in computer vision because of the large, complex datasets that are used to train these models."
   ]
  },
  {
   "cell_type": "markdown",
   "id": "4786cea1-f28c-4807-9cc7-fd278ae216c0",
   "metadata": {},
   "source": [
    "**5. Does a batch normalization layer have any trainable parameters?**"
   ]
  },
  {
   "cell_type": "markdown",
   "id": "e994087f-24b9-45ae-bb03-06efe68122aa",
   "metadata": {},
   "source": [
    "**Ans:** Yes, a batch normalization layer has trainable parameters. These parameters are the mean and variance of the input layer, which are used to calculate the batch normalization parameters. Additionally, the gamma and beta parameters of the batch normalization layer are also trainable."
   ]
  },
  {
   "cell_type": "markdown",
   "id": "a459ab2e-67bd-4e27-ab1d-4d919e46980e",
   "metadata": {},
   "source": [
    "**6. In batch normalization during preparation, what statistics are used to normalize? What\n",
    "about during the validation process?**"
   ]
  },
  {
   "cell_type": "markdown",
   "id": "4e3e9c43-eab1-4ca3-9d3c-895d3e01fef1",
   "metadata": {},
   "source": [
    "**Ans:** During preparation, batch normalization uses the mean and standard deviation of the batch data to normalize. During the validation process, it uses the mean and standard deviation of the entire dataset to normalize."
   ]
  },
  {
   "cell_type": "markdown",
   "id": "8d19552f-9adf-4679-bdb1-084d171a0370",
   "metadata": {},
   "source": [
    "**7. Why do batch normalization layers help models generalize better?**"
   ]
  },
  {
   "cell_type": "markdown",
   "id": "0a22b727-a1c3-4e5a-98f7-6ca06c97ac1c",
   "metadata": {},
   "source": [
    "**Ans:** Batch normalization layers help models generalize better by normalizing the activations of each layer to have a mean of 0 and a standard deviation of 1. This helps to reduce internal covariate shift, which is when the input to each layer changes as the weights of the model are updated. By normalizing the inputs to each layer, the internal covariate shift is reduced and the model is less sensitive to changes in the weights, leading to better generalization."
   ]
  },
  {
   "cell_type": "markdown",
   "id": "734e321e-8e84-4e7c-8bc8-b94dbb83f912",
   "metadata": {},
   "source": [
    "**8. Explain between MAX POOLING and AVERAGE POOLING is number eight.**\n",
    "\n",
    "**Ans:** Max Pooling is a type of pooling operation that takes the maximum value from a certain region of the input image. This operation is useful for finding the most salient features of an image and discarding the less important ones.\n",
    "\n",
    "Average Pooling is a type of pooling operation that takes the average value from a certain region of the input image. This operation is useful for reducing the spatial size of an image while preserving the important features."
   ]
  },
  {
   "cell_type": "markdown",
   "id": "684dba15-3449-4b0a-b61c-3ad78bb9f984",
   "metadata": {},
   "source": [
    "**9. What is the purpose of the POOLING LAYER?**\n",
    "\n",
    "**Ans:** The pooling layer of a convolutional neural network is used to reduce the spatial size of the representation. It is also used to reduce the number of parameters and computation in the network, which makes it efficient. The most common pooling operation is max pooling, which takes the highest value from each region of the layer to the next layer."
   ]
  },
  {
   "cell_type": "markdown",
   "id": "f165ead7-7f5a-4c5b-9a04-0141bd63a150",
   "metadata": {},
   "source": [
    "**10. Why do we end up with Completely CONNECTED LAYERS?**"
   ]
  },
  {
   "cell_type": "markdown",
   "id": "1f0c8161-8df0-47a9-a348-c8ff79ada62e",
   "metadata": {},
   "source": [
    "**Ans:** We end up with completely connected layers because they are the most efficient way to pass information from one layer to the next. Each neuron in one layer is connected to every neuron in the next layer, which allows for the efficient flow of information across the network. This means that each neuron in a layer can pass information to every neuron in the next layer without any missing connections."
   ]
  },
  {
   "cell_type": "markdown",
   "id": "a7b37299-f105-43a9-a7c7-4b9d53506cfe",
   "metadata": {},
   "source": [
    "**11. What do you mean by PARAMETERS?**\n",
    "\n",
    "**Ans:** Parameters are values that are used to configure the behavior of a machine learning model. They are typically adjustable values that can be tweaked to improve the accuracy and performance of a model. Parameters are used to control the complexity of a model, the learning rate, and the regularization strength of the model. They are an important component of any machine learning model and can be used to fine-tune a model to its optimal performance."
   ]
  },
  {
   "cell_type": "markdown",
   "id": "3496db98-37cc-4f70-9154-c1a2f0878487",
   "metadata": {},
   "source": [
    "**12. What formulas are used to measure these PARAMETERS?**\n",
    "\n",
    "**Ans:** The formulas used to measure parameters depend on the type of machine learning model being used. For example, in linear models, the parameters are typically measured using the least-squares algorithm. In neural networks, the parameters are typically measured using the backpropagation algorithm. In decision trees, the parameters are measured using the Gini Index or information gain."
   ]
  },
  {
   "cell_type": "code",
   "execution_count": null,
   "id": "8f8a8367-dbd9-47da-9d77-bf992b3e056c",
   "metadata": {},
   "outputs": [],
   "source": []
  }
 ],
 "metadata": {
  "kernelspec": {
   "display_name": "Python 3 (ipykernel)",
   "language": "python",
   "name": "python3"
  },
  "language_info": {
   "codemirror_mode": {
    "name": "ipython",
    "version": 3
   },
   "file_extension": ".py",
   "mimetype": "text/x-python",
   "name": "python",
   "nbconvert_exporter": "python",
   "pygments_lexer": "ipython3",
   "version": "3.10.8"
  },
  "vscode": {
   "interpreter": {
    "hash": "94f538a246db0fa2df5e0015ac38ebae58f4075808dc245f921dd0fb55023058"
   }
  }
 },
 "nbformat": 4,
 "nbformat_minor": 5
}
