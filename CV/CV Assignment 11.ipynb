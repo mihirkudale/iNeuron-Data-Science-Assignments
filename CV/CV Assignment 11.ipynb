{
 "cells": [
  {
   "cell_type": "markdown",
   "id": "06f10b11-8e8d-4a78-af31-42d3d40bacc8",
   "metadata": {},
   "source": [
    "# Assignment 11 Solution"
   ]
  },
  {
   "cell_type": "markdown",
   "id": "b9ca5ec7-2617-47e1-a3af-73f92fe37038",
   "metadata": {},
   "source": [
    "**SUBMITTED BY: MIHIR KUDALE**"
   ]
  },
  {
   "cell_type": "markdown",
   "id": "6faf5741-f242-4d91-907b-5b90adabfeef",
   "metadata": {},
   "source": [
    "**1. What do REGION PROPOSALS entail?**"
   ]
  },
  {
   "cell_type": "markdown",
   "id": "dfdb43a8-d4ee-40d0-bc25-2327c61edc22",
   "metadata": {},
   "source": [
    "**Ans:** Region Proposals are a type of computer vision algorithm that are used to identify and extract potential regions of interest in an image or video. These regions are then used to segment the image or video into different areas of interest. The regions are generated through a combination of low-level image features, such as edges and color, as well as high-level semantic information. Region Proposals can be used to detect objects, faces, and text in images and videos."
   ]
  },
  {
   "cell_type": "markdown",
   "id": "3b772d37-94b6-4179-944b-4104cd93e90e",
   "metadata": {},
   "source": [
    "**2. What do you mean by NON-MAXIMUM SUPPRESSION? (NMS)**\n",
    "\n",
    "**Ans:** Non-maximum suppression (NMS) is a computer vision technique used to reduce the number of detected objects in an image by removing redundant or overlapping detections. It works by comparing the maximum detection score at each location in the image and discarding any detections with a score below a certain threshold. NMS can help reduce false positives and improve accuracy in object detection tasks."
   ]
  },
  {
   "cell_type": "markdown",
   "id": "d7880b11-22b9-46ef-97d7-b6a765490cb2",
   "metadata": {},
   "source": [
    "**3. What exactly is mAP?**"
   ]
  },
  {
   "cell_type": "markdown",
   "id": "9f8b1702-f691-49f7-af87-68ae14f2530f",
   "metadata": {},
   "source": [
    "**Ans:** mAP stands for mean Average Precision, and it is a metric used to measure the accuracy of object detection algorithms. It is computed by averaging the precision of a model at different recall values, which represents the proportion of objects detected in the image. mAP can also be used to compare different models and determine which one is the most accurate."
   ]
  },
  {
   "cell_type": "markdown",
   "id": "3c635ff5-d22a-4ea9-a67d-bb2faae57efe",
   "metadata": {},
   "source": [
    "**4. What is a frames per second (FPS)?**\n",
    "\n",
    "**Ans:** FPS is a measure of the number of individual frames (or images) that compose a single second of video. It is commonly used to measure the frame rate achieved by a video camera, display, or other device. Computer vision applications often require high frame rates to capture and analyze events as they occur, so FPS is an important metric for measuring the performance of these systems."
   ]
  },
  {
   "cell_type": "markdown",
   "id": "8cba0004-a1e2-4d5c-8c39-59ca5ec02cc9",
   "metadata": {},
   "source": [
    "**5. What is an IOU (INTERSECTION OVER UNION)?**\n",
    "\n",
    "**Ans:** IOU, or Intersection Over Union, is a metric used to evaluate the accuracy of an object detection algorithm. It is the ratio of the area of overlap between the predicted bounding box and the ground truth bounding box to the total area of the two bounding boxes. A higher IOU indicates a better match between the predicted and ground truth bounding boxes. This metric is commonly used in computer vision tasks such as object detection, image segmentation, and image classification."
   ]
  },
  {
   "cell_type": "markdown",
   "id": "2b3b2d04-6a25-42f4-9997-52c40e7f9ec4",
   "metadata": {},
   "source": [
    "**6. Describe the PRECISION-RECALL CURVE (PR CURVE)**\n",
    "\n",
    "**Ans:** The precision-recall curve (PR curve) is a graphical plot used to evaluate the accuracy of a model in a binary classification task. It is a plot of the precision (positive predictive value) against the recall (sensitivity) of the model. The PR curve is used to measure the trade-off between a model’s precision and recall. The higher the precision and recall, the better the model is at accurately predicting the positive class. The PR curve can also be used to compare different models. The model with the higher area under the curve (AUC) is generally considered to be the more accurate model."
   ]
  },
  {
   "cell_type": "markdown",
   "id": "9d4cda75-3fbe-4e8c-ac51-df2a8043f6d6",
   "metadata": {},
   "source": [
    "**7. What is the term \"selective search\"?**\n",
    "\n",
    "**Ans:** Selective search is a method of object detection in computer vision that involves searching an image for objects by iteratively considering a large set of regions. The goal of selective search is to rapidly identify regions in an image that are likely to contain objects, and then to refine these regions to create a set of object proposals."
   ]
  },
  {
   "cell_type": "markdown",
   "id": "191dfd73-5bf4-46e2-af05-b2dd975c114a",
   "metadata": {},
   "source": [
    "**8. Describe the R-CNN model's four components.**\n",
    "\n",
    "**Ans:** 1. Selective Search: This is the process of proposing potential regions in an image that could contain an object of interest.\n",
    "\n",
    "2. Region Proposal Network (RPN): This is a convolutional neural network that takes in the proposed regions from Selective Search and outputs a set of refined proposals.\n",
    "\n",
    "3. Convolutional Neural Network (CNN): This is a deep learning architecture that takes in the refined proposals from the RPN and classifies them into different classes.\n",
    "\n",
    "4. Bounding Box Regression: This is a technique used to adjust the coordinates of the predicted bounding boxes so that they more accurately fit the objects they contain."
   ]
  },
  {
   "cell_type": "markdown",
   "id": "87959f05-c2cc-40db-8236-6d937006535d",
   "metadata": {},
   "source": [
    "**9. What exactly is the Localization Module?**\n",
    "\n",
    "**Ans:** The Localization Module in computer vision is a tool used to locate objects in an image or video. It uses features such as color, shape, and texture to detect objects in an image. It also allows for recognition of objects in different locations in the image. The Localization Module is used in applications such as object tracking, facial recognition, and robotics."
   ]
  },
  {
   "cell_type": "markdown",
   "id": "e0a2e81e-a4a7-4e1b-9fc8-f67e4f3de1a3",
   "metadata": {},
   "source": [
    "**10. What are the R-CNN DISADVANTAGES?**\n",
    "\n",
    "**Ans:** The main disadvantages of R-CNN are:\n",
    "\n",
    "1. It is slow due to the multiple steps involved in the detection process.\n",
    "\n",
    "2. It is computationally expensive.\n",
    "\n",
    "3. There is a lack of scalability, as each region proposal needs to be re-evaluated with each new input image.\n",
    "\n",
    "4. It is relatively challenging to implement, as it requires deep learning expertise to properly tune the network.\n",
    "\n",
    "5. It does not produce satisfactory results in scenarios with large objects or objects with a small number of pixels."
   ]
  },
  {
   "cell_type": "code",
   "execution_count": null,
   "id": "a9d6ed65-e1b7-4034-a8e2-9f513cbab8c7",
   "metadata": {},
   "outputs": [],
   "source": []
  }
 ],
 "metadata": {
  "kernelspec": {
   "display_name": "Python 3 (ipykernel)",
   "language": "python",
   "name": "python3"
  },
  "language_info": {
   "codemirror_mode": {
    "name": "ipython",
    "version": 3
   },
   "file_extension": ".py",
   "mimetype": "text/x-python",
   "name": "python",
   "nbconvert_exporter": "python",
   "pygments_lexer": "ipython3",
   "version": "3.10.8"
  },
  "vscode": {
   "interpreter": {
    "hash": "94f538a246db0fa2df5e0015ac38ebae58f4075808dc245f921dd0fb55023058"
   }
  }
 },
 "nbformat": 4,
 "nbformat_minor": 5
}
