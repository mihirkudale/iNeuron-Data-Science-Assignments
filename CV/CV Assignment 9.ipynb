{
  "cells": [
    {
      "cell_type": "markdown",
      "metadata": {
        "id": "OM_1Z2DcZs-h"
      },
      "source": [
        "# Assignment 9 Solution\n",
        "**SUBMITTED BY: MIHIR KUDALE**"
      ]
    },
    {
      "cell_type": "markdown",
      "metadata": {
        "id": "ri_PP20XaC_1"
      },
      "source": [
        "**1. What are the advantages of a CNN for image classification over a completely linked DNN?**\n",
        "\n",
        "**Ans:** Convolutional Neural Networks (CNNs) are specifically designed for image classification tasks and offer several advantages over fully connected Deep Neural Networks (DNNs), which are more general-purpose models.\n",
        "\n",
        "Here are some advantages of CNNs over DNNs for image classification:\n",
        "\n",
        "Spatial Hierarchies: CNNs can capture spatial hierarchies by learning local patterns in an image and combining them to form higher-level representations. This is achieved through the use of convolutional layers, which apply filters to different parts of the image and learn to recognize specific features.\n",
        "\n",
        "Parameter Efficiency: CNNs are more parameter-efficient than DNNs, as they reuse the same set of weights across different parts of an image. This allows for faster training times and reduces the risk of overfitting.\n",
        "\n",
        "Translation Invariance: CNNs are able to recognize objects in images regardless of their position or orientation, due to their ability to use the same filters across different parts of the image. This makes them more robust to variations in input data.\n",
        "\n",
        "Feature Extraction: CNNs can automatically learn and extract features from raw image data, which is not possible with DNNs. This reduces the need for manual feature engineering, which can be time-consuming and difficult.\n",
        "\n",
        "Overall, CNNs are better suited for image classification tasks due to their ability to capture spatial hierarchies, parameter efficiency, translation invariance, and feature extraction capabilities."
      ]
    },
    {
      "cell_type": "markdown",
      "metadata": {
        "id": "9zIZ3P2MhNUu"
      },
      "source": [
        "**2. Consider a CNN with three convolutional layers, each of which has three kernels, a stride of two, and SAME padding. The bottom layer generates 100 function maps, the middle layer 200, and the top layer 400. RGB images with a size of 200 x 300 pixels are used as input. How many criteria does the CNN have in total? How much RAM would this network need when making a single instance\n",
        "prediction if we&#39;re using 32-bit floats? What if you were to practice on a batch of 50 images?**\n",
        "\n",
        "**Ans:** To calculate the total number of parameters in the CNN, we need to compute the number of parameters in each layer and then add them up.\n",
        "\n",
        "For each convolutional layer, the number of parameters can be calculated as follows:\n",
        "\n",
        "* Number of parameters in each kernel = kernel size * number of input feature maps * number of output feature maps\n",
        "* Number of bias parameters = number of output feature maps\n",
        "The kernel size is not given, so let's assume it to be 3x3.\n",
        "\n",
        "For the bottom layer:\n",
        "\n",
        "* Number of input feature maps = 3 (RGB channels)\n",
        "* Number of output feature maps = 100\n",
        "* Number of parameters in each kernel = 3 * 3 * 3 * 100 = 2700\n",
        "* Number of bias parameters = 100\n",
        "* Total number of parameters in the bottom layer = (2700 + 100) * 3 = 8400\n",
        "\n",
        "For the middle layer:\n",
        "\n",
        "* Number of input feature maps = 100 (output feature maps of the bottom layer)\n",
        "* Number of output feature maps = 200\n",
        "* Number of parameters in each kernel = 3 * 3 * 100 * 200 = 180,000\n",
        "* Number of bias parameters = 200\n",
        "* Total number of parameters in the middle layer = (180000 + 200) * 3 = 540600\n",
        "\n",
        "For the top layer:\n",
        "\n",
        "* Number of input feature maps = 200 (output feature maps of the middle layer)\n",
        "* Number of output feature maps = 400\n",
        "* Number of parameters in each kernel = 3 * 3 * 200 * 400 = 1,440,000\n",
        "* Number of bias parameters = 400\n",
        "* Total number of parameters in the top layer = (1440000 + 400) * 3 = 4,320,400\n",
        "\n",
        "Therefore, the total number of parameters in the CNN is the sum of the number of parameters in each layer, which is:\n",
        "\n",
        "8400 + 540600 + 4320400 = 4,863,400 parameters\n",
        "\n",
        "To calculate the amount of RAM required for one instance prediction, we need to calculate the amount of memory required to store the input and output feature maps and the parameters. Assuming we are using 32-bit floats, the amount of memory required to store one instance prediction is:\n",
        "\n",
        "* Input image: 200 x 300 x 3 x 4 bytes = 720,000 bytes\n",
        "2Output feature maps of bottom layer: 100 x 100 x 150 x 4 bytes = 60,000,000 bytes\n",
        "* Output feature maps of middle layer: 200 x 50 x 75 x 4 bytes = 30,000,000 bytes\n",
        "* Output feature maps of top layer: 400 x 25 x 38 x 4 bytes = 19,200,000 bytes\n",
        "* Parameters: 4,863,400 x 4 bytes = 19,453,600 bytes\n",
        "* Total memory required for one instance prediction: 99,433,600 bytes or approximately 94.8 MB\n",
        "\n",
        "If we were to process a batch of 50 images, the amount of memory required would be:\n",
        "\n",
        "* Input images: 50 x 200 x 300 x 3 x 4 bytes = 180,000,000 bytes\n",
        "* Output feature maps of bottom layer: 50 x 100 x 100 x 150 x 4 bytes = 1,500,000,000 bytes\n",
        "* Output feature maps of middle layer: 50 x 200 x 50 x 75 x 4 bytes = 1,500,000,000 bytes\n",
        "* Output feature maps of top layer: 50 x 400 x 25 x 38 x 4 bytes = 3,840,000,000 bytes\n",
        "* Parameters: 4,863,400 x 4 bytes = 19,453,600 bytes\n",
        "* Total memory required for a batch of 50 image predictions: 6,940,453,600 bytes or approximately 6.94 GB."
      ]
    },
    {
      "cell_type": "markdown",
      "metadata": {
        "id": "S5RSb1IhlUwb"
      },
      "source": [
        "**3. What are five things you might do to fix the problem if your GPU runs out of memory while training a CNN?**\n",
        "\n",
        "**Ans:** If your GPU runs out of memory while training a Convolutional Neural Network (CNN), here are five things you can do to fix the problem:\n",
        "\n",
        "Reduce batch size: You can reduce the batch size to fit the available memory of the GPU. This approach divides the dataset into smaller batches that can fit in the GPU memory.\n",
        "\n",
        "Reduce image size: You can resize the images to a smaller size before training the CNN. This reduces the memory required to store the images and can help fit the model in the GPU memory.\n",
        "\n",
        "Use a smaller model: If your current CNN model is too large, you can use a smaller model architecture that requires less memory to train.\n",
        "\n",
        "Use mixed precision training: You can use mixed precision training, which trains the model using lower precision data types (e.g., half-precision floating-point numbers) to reduce memory usage.\n",
        "\n",
        "Use transfer learning: You can use transfer learning by starting with a pre-trained model and then fine-tuning it on your dataset. This approach can save a lot of training time and memory usage since the pre-trained model is already optimized for the specific task."
      ]
    },
    {
      "cell_type": "markdown",
      "metadata": {
        "id": "7qLmMWDwljZs"
      },
      "source": [
        "**4. Why would you use a max pooling layer instead with a convolutional layer of the same stride?**\n",
        "\n",
        "**Ans:** Max pooling is a type of pooling operation commonly used in convolutional neural networks (CNNs) for image recognition tasks. The purpose of max pooling is to reduce the spatial size of the feature map and to make the model more robust to variations in the input image.\n",
        "\n",
        "Max pooling works by partitioning the input feature map into a set of non-overlapping rectangular regions, and then taking the maximum value of each region. This reduces the dimensionality of the feature map, while preserving the most salient features.\n",
        "\n",
        "One reason to use max pooling instead of a convolutional layer with the same stride is that max pooling can help reduce overfitting. By discarding some of the less important features in the feature map, max pooling forces the network to learn more robust and generalizable features. This can help prevent the network from memorizing the training data and performing poorly on new, unseen data.\n",
        "\n",
        "Another reason to use max pooling is that it can help reduce the computational cost of the network. Max pooling reduces the number of parameters in the network and can help speed up the training process.\n",
        "\n",
        "In summary, max pooling is a useful tool for reducing the spatial size of feature maps in CNNs. It can help reduce overfitting, improve generalization, and reduce computational cost."
      ]
    },
    {
      "cell_type": "markdown",
      "metadata": {
        "id": "0KhVfQvcmC5z"
      },
      "source": [
        "**5. When would a local response normalization layer be useful?**\n",
        "\n",
        "**Ans:** A local response normalization (LRN) layer is a type of normalization layer used in neural networks, particularly in convolutional neural networks (CNNs). LRN layers apply a normalization function to the output of each neuron in a feature map, based on the responses of neighboring neurons within the same feature map.\n",
        "\n",
        "The main purpose of LRN layers is to enhance the ability of the network to discriminate between different features by reducing the response of neurons that are sensitive to high levels of activation. This can help prevent saturation and improve the discriminative power of the network.\n",
        "\n",
        "LRN layers are most commonly used in image recognition tasks, where they can help improve the accuracy of the network by reducing the impact of irrelevant features in the input image. Specifically, LRN layers are useful in situations where the input images contain a lot of noise or where there is significant variation in the lighting or color of the images.\n",
        "\n",
        "LRN layers can also be useful in deep networks with many layers, where the output of each layer can become highly correlated and lead to overfitting. By normalizing the output of each neuron based on the responses of neighboring neurons within the same feature map, LRN layers can help reduce the correlation between the output of different neurons and improve the generalization ability of the network.\n",
        "\n",
        "Overall, LRN layers can be useful in a wide range of image recognition tasks, particularly in situations where the input images contain a lot of noise or where the network has many layers and is at risk of overfitting."
      ]
    },
    {
      "cell_type": "markdown",
      "metadata": {
        "id": "HZMWeqAdmPK_"
      },
      "source": [
        "**6. In comparison to LeNet-5, what are the main innovations in AlexNet? What about GoogLeNet and ResNet's core innovations?**\n",
        "\n",
        "**Ans:** LeNet-5, proposed by Yann LeCun et al. in 1998, was one of the first successful convolutional neural networks for image recognition. It consisted of a series of convolutional and pooling layers, followed by fully connected layers.\n",
        "\n",
        "AlexNet, proposed by Alex Krizhevsky et al. in 2012, built upon the ideas of LeNet-5 but introduced several key innovations that helped to significantly improve the performance of convolutional neural networks. Some of the main innovations in AlexNet include:\n",
        "\n",
        "1. Larger network: AlexNet was a much larger network than LeNet-5, with more layers and more parameters.\n",
        "\n",
        "2. Rectified linear units (ReLU): AlexNet used ReLU activation functions, which helped to reduce the problem of vanishing gradients and improve the training speed.\n",
        "\n",
        "3. Local response normalization (LRN): AlexNet used LRN layers, which helped to reduce overfitting and improve the generalization ability of the network.\n",
        "\n",
        "4. Dropout: AlexNet also used dropout, which helped to further reduce overfitting by randomly dropping out some of the neurons during training.\n",
        "\n",
        "GoogLeNet, proposed by Szegedy et al. in 2014, was a highly innovative network that introduced several new ideas for improving the performance of convolutional neural networks. Some of the main innovations in GoogLeNet include:\n",
        "\n",
        "1. Inception modules: GoogLeNet used inception modules, which allowed the network to learn features at different scales and improve the representational capacity of the network.\n",
        "\n",
        "2. 1x1 convolutions: GoogLeNet also used 1x1 convolutions, which helped to reduce the number of parameters in the network and improve the computational efficiency.\n",
        "\n",
        "3. Global average pooling: GoogLeNet used global average pooling, which helped to reduce overfitting and improve the generalization ability of the network.\n",
        "\n",
        "ResNet, proposed by He et al. in 2015, introduced a new architecture for very deep convolutional neural networks that allowed them to be trained much more effectively than previous networks. The main innovation in ResNet was the use of residual connections, which allowed the network to learn residual functions instead of directly learning the desired mapping. This helped to address the problem of vanishing gradients and made it possible to train much deeper networks than was previously possible.\n",
        "\n",
        "Overall, the core innovations in these networks reflect a continuous effort to improve the performance of convolutional neural networks. While LeNet-5 was a breakthrough in its time, subsequent networks such as AlexNet, GoogLeNet, and ResNet have continued to push the boundaries of what is possible in image recognition and other applications of deep learning."
      ]
    },
    {
      "cell_type": "markdown",
      "metadata": {
        "id": "QNVNHrBDmdmr"
      },
      "source": [
        "**7. On MNIST, build your own CNN and strive to achieve the best possible accuracy.**\n",
        "\n",
        "**Ans:**"
      ]
    },
    {
      "cell_type": "code",
      "execution_count": 1,
      "metadata": {
        "id": "qGQnDgL_H6wc"
      },
      "outputs": [],
      "source": [
        "import numpy as np\n",
        "from tensorflow import keras"
      ]
    },
    {
      "cell_type": "code",
      "execution_count": 2,
      "metadata": {
        "id": "c9Dq-lqYJ3GH"
      },
      "outputs": [],
      "source": [
        "# Load the MNIST dataset\n",
        "(x_train, y_train), (x_test, y_test) = keras.datasets.mnist.load_data()"
      ]
    },
    {
      "cell_type": "code",
      "execution_count": 3,
      "metadata": {
        "id": "oynDJ6TfJ6Y-"
      },
      "outputs": [],
      "source": [
        "# Preprocess the data\n",
        "x_train = x_train.astype('float32') / 255.0\n",
        "x_test = x_test.astype('float32') / 255.0\n",
        "y_train = keras.utils.to_categorical(y_train)\n",
        "y_test = keras.utils.to_categorical(y_test)"
      ]
    },
    {
      "cell_type": "code",
      "execution_count": 4,
      "metadata": {
        "id": "hskPNlsiJ9KR"
      },
      "outputs": [],
      "source": [
        "# Define the CNN architecture\n",
        "model = keras.Sequential([\n",
        "    keras.layers.Conv2D(32, (3, 3), activation='relu', input_shape=(28, 28, 1)),\n",
        "    keras.layers.MaxPooling2D((2, 2)),\n",
        "    keras.layers.Conv2D(64, (3, 3), activation='relu'),\n",
        "    keras.layers.MaxPooling2D((2, 2)),\n",
        "    keras.layers.Flatten(),\n",
        "    keras.layers.Dense(128, activation='relu'),\n",
        "    keras.layers.Dense(10, activation='softmax')\n",
        "])\n"
      ]
    },
    {
      "cell_type": "code",
      "execution_count": 5,
      "metadata": {
        "id": "GazAvpEzKB3E"
      },
      "outputs": [],
      "source": [
        "# Compile the model\n",
        "model.compile(optimizer='adam', loss='categorical_crossentropy', metrics=['accuracy'])"
      ]
    },
    {
      "cell_type": "code",
      "execution_count": 6,
      "metadata": {
        "colab": {
          "base_uri": "https://localhost:8080/"
        },
        "id": "QM6lq-CeKFFL",
        "outputId": "1775b378-a70f-4353-9d2c-7c830d9bde5f"
      },
      "outputs": [
        {
          "name": "stdout",
          "output_type": "stream",
          "text": [
            "Epoch 1/10\n",
            "1875/1875 [==============================] - 18s 7ms/step - loss: 0.1271 - accuracy: 0.9618 - val_loss: 0.0507 - val_accuracy: 0.9835\n",
            "Epoch 2/10\n",
            "1875/1875 [==============================] - 8s 4ms/step - loss: 0.0441 - accuracy: 0.9865 - val_loss: 0.0374 - val_accuracy: 0.9874\n",
            "Epoch 3/10\n",
            "1875/1875 [==============================] - 8s 4ms/step - loss: 0.0290 - accuracy: 0.9907 - val_loss: 0.0435 - val_accuracy: 0.9860\n",
            "Epoch 4/10\n",
            "1875/1875 [==============================] - 8s 4ms/step - loss: 0.0210 - accuracy: 0.9936 - val_loss: 0.0305 - val_accuracy: 0.9907\n",
            "Epoch 5/10\n",
            "1875/1875 [==============================] - 7s 4ms/step - loss: 0.0159 - accuracy: 0.9946 - val_loss: 0.0335 - val_accuracy: 0.9899\n",
            "Epoch 6/10\n",
            "1875/1875 [==============================] - 9s 5ms/step - loss: 0.0122 - accuracy: 0.9963 - val_loss: 0.0327 - val_accuracy: 0.9904\n",
            "Epoch 7/10\n",
            "1875/1875 [==============================] - 9s 5ms/step - loss: 0.0101 - accuracy: 0.9968 - val_loss: 0.0369 - val_accuracy: 0.9904\n",
            "Epoch 8/10\n",
            "1875/1875 [==============================] - 8s 4ms/step - loss: 0.0076 - accuracy: 0.9976 - val_loss: 0.0396 - val_accuracy: 0.9898\n",
            "Epoch 9/10\n",
            "1875/1875 [==============================] - 9s 5ms/step - loss: 0.0069 - accuracy: 0.9975 - val_loss: 0.0338 - val_accuracy: 0.9909\n",
            "Epoch 10/10\n",
            "1875/1875 [==============================] - 8s 4ms/step - loss: 0.0067 - accuracy: 0.9977 - val_loss: 0.0348 - val_accuracy: 0.9913\n"
          ]
        },
        {
          "data": {
            "text/plain": [
              "<keras.callbacks.History at 0x7f1f88165dc0>"
            ]
          },
          "execution_count": 6,
          "metadata": {},
          "output_type": "execute_result"
        }
      ],
      "source": [
        "# Train the model\n",
        "model.fit(x_train.reshape(-1, 28, 28, 1), y_train, epochs=10, validation_data=(x_test.reshape(-1, 28, 28, 1), y_test))"
      ]
    },
    {
      "cell_type": "code",
      "execution_count": 7,
      "metadata": {
        "colab": {
          "base_uri": "https://localhost:8080/"
        },
        "id": "E15XIAbjKIEX",
        "outputId": "fdd7f03f-6e35-44c7-d9d4-cac7d132fbd0"
      },
      "outputs": [
        {
          "name": "stdout",
          "output_type": "stream",
          "text": [
            "313/313 [==============================] - 1s 4ms/step - loss: 0.0348 - accuracy: 0.9913\n",
            "Test accuracy: 0.9912999868392944\n"
          ]
        }
      ],
      "source": [
        "# Evaluate the model\n",
        "test_loss, test_acc = model.evaluate(x_test.reshape(-1, 28, 28, 1), y_test)\n",
        "print('Test accuracy:', test_acc)"
      ]
    },
    {
      "cell_type": "markdown",
      "metadata": {
        "id": "homIzbmvI80M"
      },
      "source": [
        "**8. Using Inception v3 to classify broad images. a. Images of different animals can be downloaded. Load them in Python using the matplotlib.image.mpimg.imread() or scipy.misc.imread() functions, for example. Resize and/or crop them to 299 x 299 pixels, and make sure they only have three channels (RGB) and no transparency.The photos used to train the Inception model were preprocessed to have values ranging from -1.0 to 1.0, so make sure yours do as well.**\n",
        "\n",
        "**Ans:**"
      ]
    },
    {
      "cell_type": "code",
      "execution_count": null,
      "metadata": {},
      "outputs": [],
      "source": [
        "from PIL import Image\n",
        "import numpy as np\n",
        "import tensorflow as tf\n",
        "from tensorflow.keras.applications.inception_v3 import InceptionV3, preprocess_input, decode_predictions\n",
        "from tensorflow.keras.preprocessing import image\n",
        "import matplotlib.pyplot as plt\n",
        "\n",
        "# Load the Inception v3 model\n",
        "model = InceptionV3(weights='imagenet')\n",
        "\n",
        "# Load image file\n",
        "img_path = \"/content/image.jpg\"\n",
        "img = Image.open(img_path)\n",
        "\n",
        "# Check image channels\n",
        "if img.mode != \"RGB\":\n",
        "    img = img.convert(\"RGB\")\n",
        "if len(img.getbands()) != 3:\n",
        "    raise ValueError(\"Image does not have 3 channels\")\n",
        "\n",
        "# Resize/crop image to 299x299 pixels\n",
        "img = img.resize((299, 299))\n",
        "\n",
        "# Convert image to array\n",
        "img_array = np.array(img)\n",
        "\n",
        "# Preprocess the image to have values ranging from -1.0 to 1.0\n",
        "img_array = preprocess_input(img_array)\n",
        "\n",
        "# Add an extra dimension to represent the batch size (required by the model)\n",
        "img_array = np.expand_dims(img_array, axis=0)\n",
        "\n",
        "# Classify the image using the Inception v3 model\n",
        "preds = model.predict(img_array)\n",
        "\n",
        "# Decode the predictions and display the top 5 predicted classes\n",
        "top_preds = decode_predictions(preds, top=5)[0]\n",
        "for pred in top_preds:\n",
        "    print(f\"{pred[1]}: {pred[2]*100:.2f}%\")\n",
        "\n",
        "# Display the image\n",
        "plt.imshow(img_array[0])\n",
        "plt.show()"
      ]
    },
    {
      "cell_type": "markdown",
      "metadata": {
        "id": "o5RvDtZlWchl"
      },
      "source": [
        "**9. Large-scale image recognition using transfer learning.**\n",
        "\n",
        "**a. Make a training set of at least 100 images for each class. You might, for example, identify your own photos based on their position (beach, mountain, area, etc.) or use an existing dataset, such as the flowers dataset or MIT's places dataset (requires registration, and it is huge).**\n",
        "\n",
        "**b. Create a preprocessing phase that resizes and crops the image to 299 x 299 pixels while also adding some randomness for data augmentation.**\n",
        "\n",
        "**c. Using the previously trained Inception v3 model, freeze all layers up to the bottleneck layer (the last layer before output layer) and replace output layer with appropriate number of outputs for your new classification task (e.g., the flowers dataset has five mutually exclusive classes so the output layer must have five neurons and use softmax activation function).**\n",
        "\n",
        "**d. Separate the data into two sets: a training and a test set. The training set is used to train the model, and the test set is used to evaluate it.**"
      ]
    },
    {
      "cell_type": "code",
      "execution_count": null,
      "metadata": {
        "id": "RxsbAXmhW44F"
      },
      "outputs": [],
      "source": [
        "import os\n",
        "import shutil\n",
        "\n",
        "# Define the classes\n",
        "classes = ['beach', 'mountain', 'city', 'forest']\n",
        "\n",
        "# Define the source directory where your images are stored\n",
        "src_dir = 'path/to/source/folder'\n",
        "\n",
        "# Define the destination directory where your organized images will be stored\n",
        "dst_dir = 'path/to/destination/folder'\n",
        "\n",
        "# Loop over each class and create a folder for it in the destination directory\n",
        "for class_name in classes:\n",
        "    class_dir = os.path.join(dst_dir, class_name)\n",
        "    os.makedirs(class_dir, exist_ok=True)\n",
        "\n",
        "# Loop over each file in the source directory and move it to the appropriate folder\n",
        "for filename in os.listdir(src_dir):\n",
        "    class_name = determine_class(filename) # define a function that returns the class name based on the filename\n",
        "    src_path = os.path.join(src_dir, filename)\n",
        "    dst_path = os.path.join(dst_dir, class_name, filename)\n",
        "    shutil.copyfile(src_path, dst_path)"
      ]
    },
    {
      "cell_type": "code",
      "execution_count": null,
      "metadata": {
        "id": "vrsDmqKSW-7A"
      },
      "outputs": [],
      "source": [
        "import tensorflow as tf\n",
        "import numpy as np\n",
        "\n",
        "# Define the size of the input images\n",
        "image_size = 299\n",
        "\n",
        "# Define the preprocessing function\n",
        "def preprocess_image(image):\n",
        "    # Resize the image\n",
        "    image = tf.image.resize(image, (image_size, image_size))\n",
        "    \n",
        "    # Randomly crop the image\n",
        "    image = tf.image.random_crop(image, (image_size, image_size, 3))\n",
        "    \n",
        "    # Normalize the image\n",
        "    image = (image / 127.5) - 1.0\n",
        "    \n",
        "    return image\n",
        "\n",
        "# Define the data augmentation function\n",
        "def augment_image(image):\n",
        "    # Randomly flip the image horizontally\n",
        "    image = tf.image.random_flip_left_right(image)\n",
        "    \n",
        "    # Randomly adjust the brightness of the image\n",
        "    image = tf.image.random_brightness(image, max_delta=0.5)\n",
        "    \n",
        "    return image"
      ]
    },
    {
      "cell_type": "code",
      "execution_count": null,
      "metadata": {
        "id": "F3260wbvXIbE"
      },
      "outputs": [],
      "source": [
        "from tensorflow.keras.applications import InceptionV3\n",
        "from tensorflow.keras.layers import Dense, Dropout\n",
        "from tensorflow.keras.models import Model\n",
        "\n",
        "# Define the number of classes\n",
        "num_classes = len(classes)\n",
        "\n",
        "# Load the Inception v3 model, excluding the top layer\n",
        "base_model = InceptionV3(include_top=False, weights='imagenet')\n",
        "\n",
        "# Freeze all layers in the base model\n",
        "for layer in base_model.layers:\n",
        "    layer.trainable = False\n",
        "\n",
        "# Add a new top layer for classification\n",
        "x = base_model.output\n",
        "x = Dropout(0.5)(x)\n",
        "x = Dense(1024, activation='relu')(x)\n",
        "x = Dense(512, activation='relu')(x)\n",
        "predictions = Dense(num_classes, activation='softmax')(x)\n",
        "\n",
        "# Define the new model\n",
        "model = Model(inputs=base_model.input, outputs=predictions)"
      ]
    },
    {
      "cell_type": "code",
      "execution_count": null,
      "metadata": {
        "id": "XzEEJioPXJlZ"
      },
      "outputs": [],
      "source": [
        "import os\n",
        "import random\n",
        "import shutil\n",
        "\n",
        "# Define the source directory where your organized images are stored\n",
        "src_dir = 'path/to/organized/images'\n",
        "\n",
        "# Define the destination directories where your training and test sets will be stored\n",
        "train_dir = 'path/to/training/set'\n",
        "test_dir = 'path/to/test/set'\n",
        "\n",
        "# Define the split ratio (e.g. 0.8 means 80% of images for training and 20% for testing)\n",
        "split_ratio = 0.8\n",
        "\n",
        "# Loop over each class and split the images into training and test sets\n",
        "for class_name in os.listdir(src_dir):\n",
        "    class_dir = os.path.join(src_dir, class_name)\n",
        "    train_class_dir = os.path.join(train_dir, class_name)\n",
        "    test_class_dir = os.path.join(test_dir, class_name)\n",
        "    \n",
        "    os.makedirs(train_class_dir, exist_ok=True)\n",
        "    os.makedirs(test_class_dir, exist_ok=True)\n",
        "    \n",
        "    filenames = os.listdir(class_dir)\n",
        "    random.shuffle(filenames)\n",
        "    \n",
        "    split_index = int(len(filenames) * split_ratio)\n",
        "    train_filenames = filenames[:split_index]\n",
        "    test_filenames = filenames[split_index:]\n",
        "    \n",
        "    for filename in train_filenames:\n",
        "        src_path = os.path.join(class_dir, filename)\n",
        "        dst_path = os.path.join(train_class_dir, filename)\n",
        "        shutil.copyfile(src_path, dst_path)\n",
        "        \n",
        "    for filename in test_filenames:\n",
        "        src_path = os.path.join(class_dir, filename)\n",
        "        dst_path = os.path.join(test_class_dir, filename)\n",
        "        shutil.copyfile(src_path, dst_path)"
      ]
    }
  ],
  "metadata": {
    "accelerator": "GPU",
    "colab": {
      "provenance": []
    },
    "gpuClass": "standard",
    "kernelspec": {
      "display_name": "Python 3 (ipykernel)",
      "language": "python",
      "name": "python3"
    },
    "language_info": {
      "codemirror_mode": {
        "name": "ipython",
        "version": 3
      },
      "file_extension": ".py",
      "mimetype": "text/x-python",
      "name": "python",
      "nbconvert_exporter": "python",
      "pygments_lexer": "ipython3",
      "version": "3.8.0"
    }
  },
  "nbformat": 4,
  "nbformat_minor": 0
}
