{
 "cells": [
  {
   "cell_type": "markdown",
   "id": "06f10b11-8e8d-4a78-af31-42d3d40bacc8",
   "metadata": {},
   "source": [
    "# Assignment 1 Solution"
   ]
  },
  {
   "cell_type": "markdown",
   "id": "b9ca5ec7-2617-47e1-a3af-73f92fe37038",
   "metadata": {},
   "source": [
    "**SUBMITTED BY: MIHIR KUDALE**"
   ]
  },
  {
   "cell_type": "markdown",
   "id": "3938f0dc-95ce-4355-9e81-9a8355f02c6f",
   "metadata": {},
   "source": [
    "**1. What exactly is a feature?**"
   ]
  },
  {
   "cell_type": "markdown",
   "id": "d365ebb2-67b9-49e5-b31c-5916de9b2728",
   "metadata": {},
   "source": [
    "**Ans:** A feature is a characteristic or property of a product, service, or system that can be used to distinguish it from other similar products, services, or systems. Features can be functional, aesthetic, or both, and usually provide a benefit to the user. "
   ]
  },
  {
   "cell_type": "markdown",
   "id": "ed73582f-4a68-4025-b073-abc8c32ce74b",
   "metadata": {},
   "source": [
    "**2. For a top edge detector, write out the convolutional kernel matrix.**"
   ]
  },
  {
   "cell_type": "markdown",
   "id": "09778521-bf8d-4f53-9fc1-fdd1b338b51c",
   "metadata": {},
   "source": [
    "**Ans:** The convolutional kernel matrix for a top edge detector would look like the following: \n",
    "\n",
    "[[-1,-1,-1],\n",
    "\n",
    " [-1, 8,-1],\n",
    " \n",
    " [-1,-1,-1]]\n",
    " \n",
    " Calculation:\n",
    "The convolutional kernel matrix for a top edge detector is calculated by using the Sobel filter which calculates the gradient of the image. The Sobel filter uses two 3x3 kernels which are convolved with the original image to calculate the horizontal and vertical gradients. The top edge detector is calculated by subtracting the vertical gradient from the horizontal gradient. The resulting kernel matrix for this calculation is [-1, -1, -1, -1, 8, -1, -1, -1, -1]."
   ]
  },
  {
   "cell_type": "markdown",
   "id": "310a639e-8681-48d1-966c-dcdbd4868cb9",
   "metadata": {},
   "source": [
    "**3. Describe the mathematical operation that a 3x3 kernel performs on a single pixel in an image.**"
   ]
  },
  {
   "cell_type": "markdown",
   "id": "03e42b4b-02e6-4408-9d87-5836caa8c8a5",
   "metadata": {},
   "source": [
    "**Ans:** A 3x3 kernel performs a convolution operation on a single pixel in an image. In this operation, the kernel moves across the image in a sliding window, multiplying the elements of the kernel with the corresponding pixels in the image. The result of this multiplication is then added together and stored as a new value for the center pixel in the window. This process is repeated for each pixel in the image. The resulting new image is a filtered version of the original image."
   ]
  },
  {
   "cell_type": "markdown",
   "id": "5d044a9f-db06-4d80-9a6e-08335394385d",
   "metadata": {},
   "source": [
    "**4. What is the significance of a convolutional kernel added to a 3x3 matrix of zeroes?**"
   ]
  },
  {
   "cell_type": "markdown",
   "id": "b2f06637-2d7e-4a9b-9ae3-35902703a571",
   "metadata": {},
   "source": [
    "**Ans:** A convolutional kernel added to a 3x3 matrix of zeroes is a way to filter an image, as it will apply a certain transformation to the image so that only certain features stand out. For example, it can be used to detect edges, blurring, sharpening, and other features. The kernel is essentially a set of weights that the system uses to determine which parts of the image should be kept or discarded."
   ]
  },
  {
   "cell_type": "markdown",
   "id": "98b856cc-44e2-4b25-bfa6-4782aad52323",
   "metadata": {},
   "source": [
    "**5. What exactly is padding?**"
   ]
  },
  {
   "cell_type": "markdown",
   "id": "71cbf187-f20d-45f4-8a87-e8137d0ed486",
   "metadata": {},
   "source": [
    "**Ans:** Padding is the process of adding extra data to a message before transmission to help protect the message from being accessed by unauthorized users. Padding is useful for ensuring that the data being transmitted is not tampered with or altered in transit. Padding can also be used to make the message harder to decode, which can help protect the information from being accessed by unauthorized users."
   ]
  },
  {
   "cell_type": "markdown",
   "id": "19aaf08e-019e-4b2b-9d0f-acebed6dfbc1",
   "metadata": {},
   "source": [
    "**6. What is the concept of stride?**"
   ]
  },
  {
   "cell_type": "markdown",
   "id": "d329d6e4-f3a8-43fc-a493-c2d681d0e05e",
   "metadata": {},
   "source": [
    "**Ans:** Stride is a concept used in convolutional neural networks (CNNs) to reduce the number of parameters and computational complexity. It is the number of pixels shifted in the input matrix when performing a convolution operation. Stride can be used to control the size of the output matrix and the degree of overlap between neighbouring patches."
   ]
  },
  {
   "cell_type": "markdown",
   "id": "883252de-9b57-46c7-bdbf-97d171d2ba6f",
   "metadata": {},
   "source": [
    "**7. What are the shapes of PyTorch&#39;s 2D convolution&#39;s input and weight parameters?**"
   ]
  },
  {
   "cell_type": "markdown",
   "id": "72ab072f-673d-41e3-9561-1849fe2b08ae",
   "metadata": {},
   "source": [
    "**Ans:** The input parameters of PyTorch's 2D convolution are typically 4-dimensional tensors of shape (batch_size, in_channels, height, width). The weight parameters are typically 4-dimensional tensors of shape (out_channels, in_channels, kernel_height, kernel_width)."
   ]
  },
  {
   "cell_type": "markdown",
   "id": "675085d5-b7ff-4cd9-a044-3e15a34f6b6c",
   "metadata": {},
   "source": [
    "**8. What exactly is a channel?**"
   ]
  },
  {
   "cell_type": "markdown",
   "id": "f58bc3ce-a980-4a45-8bc2-29cf878301f9",
   "metadata": {},
   "source": [
    "**Ans:** In computer vision, a channel is a matrix of numbers that describes the intensity of a particular feature, such as color or light, in an image. Each channel corresponds to a different feature of the image, such as red, green, blue, hue, saturation, and luminance. A color image typically contains three channels, one for each of the primary colors, while a black-and-white image only has one."
   ]
  },
  {
   "cell_type": "markdown",
   "id": "a623148b-e1a6-4c29-a4bc-ca3f19b82b01",
   "metadata": {},
   "source": [
    "**9. Explain relationship between matrix multiplication and a convolution?**"
   ]
  },
  {
   "cell_type": "markdown",
   "id": "3cb38bfc-1658-4860-9fae-95526115d2ec",
   "metadata": {},
   "source": [
    "**Ans:** Matrix multiplication and convolution are closely related. Matrix multiplication is a way of combining two matrices, while convolution is a way of combining two functions. In both cases, the result of the combination is a new matrix or function. In matrix multiplication, the new matrix is the product of the two matrices. In convolution, the new function is the convolution of the two functions. Therefore, both operations can be seen as combining two elements to form a new, more complex element."
   ]
  },
  {
   "cell_type": "code",
   "execution_count": null,
   "id": "2a291352-6bc0-42d7-9c7e-2a89e0f0025f",
   "metadata": {},
   "outputs": [],
   "source": []
  }
 ],
 "metadata": {
  "kernelspec": {
   "display_name": "Python 3 (ipykernel)",
   "language": "python",
   "name": "python3"
  },
  "language_info": {
   "codemirror_mode": {
    "name": "ipython",
    "version": 3
   },
   "file_extension": ".py",
   "mimetype": "text/x-python",
   "name": "python",
   "nbconvert_exporter": "python",
   "pygments_lexer": "ipython3",
   "version": "3.9.15"
  }
 },
 "nbformat": 4,
 "nbformat_minor": 5
}
