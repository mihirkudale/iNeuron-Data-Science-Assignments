{
 "cells": [
  {
   "cell_type": "markdown",
   "id": "89394763",
   "metadata": {
    "id": "89394763"
   },
   "source": [
    "# Assignment 22 Solutions"
   ]
  },
  {
   "cell_type": "markdown",
   "id": "Ynuz_qydG4GW",
   "metadata": {
    "id": "Ynuz_qydG4GW"
   },
   "source": [
    "**SUBMITTED BY: MIHIR KUDALE**"
   ]
  },
  {
   "cell_type": "markdown",
   "id": "3a654c53",
   "metadata": {
    "id": "3a654c53"
   },
   "source": [
    "#### 1.Create a function that takes three parameters where:\n",
    "`x is the start of the range (inclusive).`    \n",
    "`y is the end of the range (inclusive).`    \n",
    "`n is the divisor to be checked against.`    \n",
    "\n",
    "Return an ordered list with numbers in the range that are divisible by the third parameter n.\n",
    "Return an empty list if there are no numbers that are divisible by n.\n",
    "**Examples:**  \n",
    "`list_operation(1, 10, 3) ➞ [3, 6, 9]`  \n",
    "`list_operation(7, 9, 2) ➞ [8]`  \n",
    "`list_operation(15, 20, 7) ➞ []`  "
   ]
  },
  {
   "cell_type": "code",
   "execution_count": 1,
   "id": "2818230a",
   "metadata": {
    "id": "2818230a",
    "outputId": "564485ff-8350-4e62-c7d7-9f751d87118c"
   },
   "outputs": [
    {
     "name": "stdout",
     "output_type": "stream",
     "text": [
      "Output: ➞ [3, 6, 9]\n",
      "Output: ➞ [8]\n",
      "Output: ➞ []\n"
     ]
    }
   ],
   "source": [
    "def list_operation(start,end,divisor):\n",
    "    out_list = []\n",
    "    for ele in range(start,end+1):\n",
    "        if ele%divisor == 0:\n",
    "            out_list.append(ele)\n",
    "    print(f'Output: ➞ {out_list}')\n",
    "\n",
    "list_operation(1, 10, 3)\n",
    "list_operation(7, 9, 2)\n",
    "list_operation(15, 20, 7)"
   ]
  },
  {
   "cell_type": "markdown",
   "id": "3324d5fa",
   "metadata": {
    "id": "3324d5fa"
   },
   "source": [
    "#### 2.Create a function that takes in two lists and returns True if the second list follows the first list by one element, and False otherwise. In other words, determine if the second list is the first list shifted to the right by 1.\n",
    "**Examples:**   \n",
    "`simon_says([1, 2], [5, 1]) ➞ True`  \n",
    "`simon_says([1, 2], [5, 5]) ➞ False`  \n",
    "`simon_says([1, 2, 3, 4, 5], [0, 1, 2, 3, 4]) ➞ True`  \n",
    "`simon_says([1, 2, 3, 4, 5], [5, 5, 1, 2, 3]) ➞ False`  \n",
    "\n",
    "**Notes:**  \n",
    "    1. Both input lists will be of the same length, and will have a minimum length of 2.  \n",
    "    2. The values of the 0-indexed element in the second list and the n-1th indexed element in the first list do not matter."
   ]
  },
  {
   "cell_type": "code",
   "execution_count": 2,
   "id": "69aeffe4",
   "metadata": {
    "id": "69aeffe4",
    "outputId": "795dab6c-446d-4333-e276-d8402254ec11"
   },
   "outputs": [
    {
     "name": "stdout",
     "output_type": "stream",
     "text": [
      "([1, 2], [5, 1]) ➞ True\n",
      "([1, 2], [5, 5]) ➞ False\n",
      "([1, 2, 3, 4, 5], [0, 1, 2, 3, 4]) ➞ True\n",
      "([1, 2, 3, 4, 5], [5, 5, 1, 2, 3]) ➞ False\n"
     ]
    }
   ],
   "source": [
    "def simon_says(in_list_1,in_list_2):\n",
    "    if len(in_list_1) == len(in_list_1) and len(in_list_1) >=2 and len(in_list_1) >=2:\n",
    "        if(in_list_1[:-1] == in_list_2[1:]):\n",
    "            print(f'{in_list_1,in_list_2} ➞ {True}')\n",
    "        else:\n",
    "            print(f'{in_list_1,in_list_2} ➞ {False}')\n",
    "            \n",
    "simon_says([1, 2], [5, 1])\n",
    "simon_says([1, 2], [5, 5])\n",
    "simon_says([1, 2, 3, 4, 5], [0, 1, 2, 3, 4])\n",
    "simon_says([1, 2, 3, 4, 5], [5, 5, 1, 2, 3])"
   ]
  },
  {
   "cell_type": "markdown",
   "id": "25853c5d",
   "metadata": {
    "id": "25853c5d"
   },
   "source": [
    "#### 3.A group of friends have decided to start a secret society. The name will be the first letter of each of their names, sorted in a alphabetical order ?  Create a function that takes in a list of names and returns the name of the secret society ?\n",
    "**Examples:**  \n",
    "`society_name([\"Adam\", \"Sarah\", \"Malcolm\"]) ➞ \"AMS\"`  \n",
    "`society_name([\"Harry\", \"Newt\", \"Luna\", \"Cho\"]) ➞ \"CHLN\"`  \n",
    "`society_name([\"Phoebe\", \"Chandler\", \"Rachel\", \"Ross\", \"Monica\", \"Joey\"])`"
   ]
  },
  {
   "cell_type": "code",
   "execution_count": 3,
   "id": "91c25bdf",
   "metadata": {
    "id": "91c25bdf",
    "outputId": "c5f5a1ad-3672-442e-9c4f-b46cc815751f"
   },
   "outputs": [
    {
     "name": "stdout",
     "output_type": "stream",
     "text": [
      "['Adam', 'Sarah', 'Malcolm'] ➞ AMS\n",
      "['Harry', 'Newt', 'Luna', 'Cho'] ➞ CHLN\n",
      "['Phoebe', 'Chandler', 'Rachel', 'Ross', 'Monica', 'Joey'] ➞ CJMPRR\n"
     ]
    }
   ],
   "source": [
    "def society_name(in_list):\n",
    "    out_string = []\n",
    "    for ele in in_list:\n",
    "        out_string.append(ele[0])\n",
    "    output = ''.join(sorted(out_string))\n",
    "    print(f'{in_list} ➞ {output}')\n",
    "\n",
    "society_name([\"Adam\", \"Sarah\", \"Malcolm\"])\n",
    "society_name([\"Harry\", \"Newt\", \"Luna\", \"Cho\"])\n",
    "society_name([\"Phoebe\", \"Chandler\", \"Rachel\", \"Ross\", \"Monica\", \"Joey\"])"
   ]
  },
  {
   "cell_type": "markdown",
   "id": "00abaab8",
   "metadata": {
    "id": "00abaab8"
   },
   "source": [
    "#### 4.An isogram is a word that has no duplicate letters. Create a function that takes a string and returns either True or False depending on whether or not it's an \"isogram\".\n",
    "**Examples:**   \n",
    "`is_isogram(\"Algorism\") ➞ True`  \n",
    "`is_isogram(\"PasSword\") ➞ False`  \n",
    "    # Not case sensitive.   \n",
    "`is_isogram(\"Consecutive\") ➞ False`  \n",
    "\n",
    "**Notes:**  \n",
    "Ignore letter case (should not be case sensitive).  \n",
    "All test cases contain valid one word strings.  "
   ]
  },
  {
   "cell_type": "code",
   "execution_count": 4,
   "id": "1f56651f",
   "metadata": {
    "id": "1f56651f",
    "outputId": "a390d6ed-e6cf-4859-e0ae-93a12be0294f"
   },
   "outputs": [
    {
     "name": "stdout",
     "output_type": "stream",
     "text": [
      "Algorism ➞ True\n",
      "PasSword ➞ False\n",
      "Consecutive ➞ False\n"
     ]
    }
   ],
   "source": [
    "def is_isogram(in_string):\n",
    "    lower_in_string = in_string.lower()\n",
    "    if len(lower_in_string) == len(set(lower_in_string)):\n",
    "        print(f'{in_string} ➞ {True}')\n",
    "    else:\n",
    "        print(f'{in_string} ➞ {False}')\n",
    "    \n",
    "is_isogram(\"Algorism\")\n",
    "is_isogram(\"PasSword\")\n",
    "is_isogram(\"Consecutive\")"
   ]
  },
  {
   "cell_type": "markdown",
   "id": "af15cec2",
   "metadata": {
    "id": "af15cec2"
   },
   "source": [
    "#### 5.Create a function that takes a string and returns True or False, depending on whether the characters are in order or not ?\n",
    "**Examples:**  \n",
    "`is_in_order(\"abc\") ➞ True`  \n",
    "`is_in_order(\"edabit\") ➞ False`  \n",
    "`is_in_order(\"123\") ➞ True`  \n",
    "`is_in_order(\"xyzz\") ➞ True`  \n",
    "\n",
    "**Notes:**  \n",
    "You don't have to handle empty strings."
   ]
  },
  {
   "cell_type": "code",
   "execution_count": 5,
   "id": "74c3bccd",
   "metadata": {
    "id": "74c3bccd",
    "outputId": "5da17474-04ef-4d56-9b9c-dc0ca0732c52"
   },
   "outputs": [
    {
     "name": "stdout",
     "output_type": "stream",
     "text": [
      "abc ➞ True\n",
      "edabit ➞ False\n",
      "123 ➞ True\n",
      "xyzz ➞ True\n"
     ]
    }
   ],
   "source": [
    "def is_in_order(in_string):\n",
    "    in_string_sorted = ''.join(sorted(in_string))\n",
    "    if in_string == in_string_sorted:\n",
    "        print(f'{in_string} ➞ {True}')\n",
    "    else:\n",
    "       print(f'{in_string} ➞ {False}')\n",
    "\n",
    "is_in_order(\"abc\")\n",
    "is_in_order(\"edabit\")\n",
    "is_in_order(\"123\")\n",
    "is_in_order(\"xyzz\")"
   ]
  }
 ],
 "metadata": {
  "colab": {
   "name": "Basic_Programming Assignment_22.ipynb",
   "provenance": []
  },
  "kernelspec": {
   "display_name": "Python 3 (ipykernel)",
   "language": "python",
   "name": "python3"
  },
  "language_info": {
   "codemirror_mode": {
    "name": "ipython",
    "version": 3
   },
   "file_extension": ".py",
   "mimetype": "text/x-python",
   "name": "python",
   "nbconvert_exporter": "python",
   "pygments_lexer": "ipython3",
   "version": "3.9.12"
  }
 },
 "nbformat": 4,
 "nbformat_minor": 5
}
