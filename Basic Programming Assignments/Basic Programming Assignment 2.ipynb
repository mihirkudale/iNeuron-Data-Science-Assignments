{
 "cells": [
  {
   "cell_type": "markdown",
   "metadata": {
    "id": "uCnMHO0qNpKQ"
   },
   "source": [
    "# Assignment 2 Solutions"
   ]
  },
  {
   "cell_type": "markdown",
   "metadata": {
    "id": "AX7K1mjrNrOl"
   },
   "source": [
    "**SUBMITTED BY: MIHIR KUDALE**"
   ]
  },
  {
   "cell_type": "markdown",
   "metadata": {
    "id": "deQ4vIUENpKT"
   },
   "source": [
    "#### 1.Write a Python program to convert Kilometers to Miles ?\n",
    "\n",
    "#### Ans:"
   ]
  },
  {
   "cell_type": "code",
   "execution_count": 1,
   "metadata": {
    "colab": {
     "base_uri": "https://localhost:8080/"
    },
    "id": "k7uPb3F9NpKW",
    "outputId": "5d08159d-c613-4e1f-e2aa-d01cacad9fc0"
   },
   "outputs": [
    {
     "name": "stdout",
     "output_type": "stream",
     "text": [
      "Enter no of kilometers : 5\n",
      "5.0 km is Equal to 3.105 miles\n"
     ]
    }
   ],
   "source": [
    "def kmToMiles():\n",
    "    kiloMeters = float(input(\"Enter no of kilometers : \"))\n",
    "    print(\"{} km is Equal to {} miles\".format(kiloMeters,kiloMeters*0.621))\n",
    "\n",
    "kmToMiles()"
   ]
  },
  {
   "cell_type": "markdown",
   "metadata": {
    "id": "0vkBZUUuNpKZ"
   },
   "source": [
    "#### 2.Write a Python program to convert Celsius to Farenheit ?\n",
    "\n",
    "#### Ans:"
   ]
  },
  {
   "cell_type": "code",
   "execution_count": 2,
   "metadata": {
    "colab": {
     "base_uri": "https://localhost:8080/"
    },
    "id": "eR1ZDKbpNpKa",
    "outputId": "9eee227f-d704-4667-f738-d803e773a2fc"
   },
   "outputs": [
    {
     "name": "stdout",
     "output_type": "stream",
     "text": [
      "Enter temperature in celsius : 22\n",
      "22° Celsius is Equal to 71.6° Farenheit\n"
     ]
    }
   ],
   "source": [
    "def celToFarh():\n",
    "    celsius = int(input(\"Enter temperature in celsius : \"))\n",
    "    Farenheit = (celsius*(9/5))+32\n",
    "    print(\"{}° Celsius is Equal to {}° Farenheit\".format(celsius,Farenheit))\n",
    "    \n",
    "celToFarh()"
   ]
  },
  {
   "cell_type": "markdown",
   "metadata": {
    "id": "IKxxPfZRNpKb"
   },
   "source": [
    "#### 3.Write a Python program to display calender ?\n",
    "\n",
    "#### Ans:"
   ]
  },
  {
   "cell_type": "code",
   "execution_count": 3,
   "metadata": {
    "colab": {
     "base_uri": "https://localhost:8080/"
    },
    "id": "VPOf9DDENpKc",
    "outputId": "84fc3288-92c7-4ee6-9fdd-3de1507edbab"
   },
   "outputs": [
    {
     "name": "stdout",
     "output_type": "stream",
     "text": [
      "Enter calender year: 2023\n",
      "                                  2023\n",
      "\n",
      "      January                   February                   March\n",
      "Mo Tu We Th Fr Sa Su      Mo Tu We Th Fr Sa Su      Mo Tu We Th Fr Sa Su\n",
      "                   1             1  2  3  4  5             1  2  3  4  5\n",
      " 2  3  4  5  6  7  8       6  7  8  9 10 11 12       6  7  8  9 10 11 12\n",
      " 9 10 11 12 13 14 15      13 14 15 16 17 18 19      13 14 15 16 17 18 19\n",
      "16 17 18 19 20 21 22      20 21 22 23 24 25 26      20 21 22 23 24 25 26\n",
      "23 24 25 26 27 28 29      27 28                     27 28 29 30 31\n",
      "30 31\n",
      "\n",
      "       April                      May                       June\n",
      "Mo Tu We Th Fr Sa Su      Mo Tu We Th Fr Sa Su      Mo Tu We Th Fr Sa Su\n",
      "                1  2       1  2  3  4  5  6  7                1  2  3  4\n",
      " 3  4  5  6  7  8  9       8  9 10 11 12 13 14       5  6  7  8  9 10 11\n",
      "10 11 12 13 14 15 16      15 16 17 18 19 20 21      12 13 14 15 16 17 18\n",
      "17 18 19 20 21 22 23      22 23 24 25 26 27 28      19 20 21 22 23 24 25\n",
      "24 25 26 27 28 29 30      29 30 31                  26 27 28 29 30\n",
      "\n",
      "        July                     August                  September\n",
      "Mo Tu We Th Fr Sa Su      Mo Tu We Th Fr Sa Su      Mo Tu We Th Fr Sa Su\n",
      "                1  2          1  2  3  4  5  6                   1  2  3\n",
      " 3  4  5  6  7  8  9       7  8  9 10 11 12 13       4  5  6  7  8  9 10\n",
      "10 11 12 13 14 15 16      14 15 16 17 18 19 20      11 12 13 14 15 16 17\n",
      "17 18 19 20 21 22 23      21 22 23 24 25 26 27      18 19 20 21 22 23 24\n",
      "24 25 26 27 28 29 30      28 29 30 31               25 26 27 28 29 30\n",
      "31\n",
      "\n",
      "      October                   November                  December\n",
      "Mo Tu We Th Fr Sa Su      Mo Tu We Th Fr Sa Su      Mo Tu We Th Fr Sa Su\n",
      "                   1             1  2  3  4  5                   1  2  3\n",
      " 2  3  4  5  6  7  8       6  7  8  9 10 11 12       4  5  6  7  8  9 10\n",
      " 9 10 11 12 13 14 15      13 14 15 16 17 18 19      11 12 13 14 15 16 17\n",
      "16 17 18 19 20 21 22      20 21 22 23 24 25 26      18 19 20 21 22 23 24\n",
      "23 24 25 26 27 28 29      27 28 29 30               25 26 27 28 29 30 31\n",
      "30 31\n",
      "\n"
     ]
    }
   ],
   "source": [
    "import calendar\n",
    "\n",
    "def showCalender():\n",
    "    year = int(input(\"Enter calender year: \"))\n",
    "    print(calendar.calendar(year))\n",
    "    \n",
    "showCalender()\n"
   ]
  },
  {
   "cell_type": "markdown",
   "metadata": {
    "id": "XfRclcAMNpKc"
   },
   "source": [
    "#### 4.Write a Python program to solve quadartic equation ?\n",
    "\n",
    "#### Ans:"
   ]
  },
  {
   "cell_type": "code",
   "execution_count": 4,
   "metadata": {
    "colab": {
     "base_uri": "https://localhost:8080/"
    },
    "id": "1MBoeOsINpKc",
    "outputId": "4bd44db3-79ba-4537-92d4-f37647a7a0fb"
   },
   "outputs": [
    {
     "name": "stdout",
     "output_type": "stream",
     "text": [
      "Enter a value: 4\n",
      "Enter b value: 5\n",
      "Enter c value: 6\n",
      "Roots are Imaginary (-0.625-1.0532687216470449j) (-0.625+1.0532687216470449j)\n"
     ]
    }
   ],
   "source": [
    "import cmath\n",
    "import math\n",
    "\n",
    "def quadarticEquationRoots(a,b,c):\n",
    "    \n",
    "    discriminant = b*b-4*a*c\n",
    "    \n",
    "    if discriminant == 0:\n",
    "        r1 = -b/2*a\n",
    "        r2 = -b/2*a\n",
    "        print(\"Roots are Real\",r1,r2)\n",
    "    elif discriminant > 0:\n",
    "        r1 = (-b-math.sqrt(discriminant))/(2 * a)\n",
    "        r2 = (-b+math.sqrt(discriminant))/(2 * a)\n",
    "        print(\"Roots are Real and different\",r1,r2)\n",
    "    else:\n",
    "        r1 = (-b-cmath.sqrt(discriminant))/(2 * a)\n",
    "        r2 = (-b+cmath.sqrt(discriminant))/(2 * a)\n",
    "        print(\"Roots are Imaginary\",r1,r2)\n",
    "\n",
    "\n",
    "a = int(input('Enter a value: '))\n",
    "b = int(input('Enter b value: '))\n",
    "c = int(input('Enter c value: '))\n",
    "\n",
    "quadarticEquationRoots(a,b,c)\n"
   ]
  },
  {
   "cell_type": "markdown",
   "metadata": {
    "id": "z6Qv9uFUNpKd"
   },
   "source": [
    "#### 5.Write a Python program to swap two variables without temp variable ?\n",
    "\n",
    "#### Ans:"
   ]
  },
  {
   "cell_type": "code",
   "execution_count": 5,
   "metadata": {
    "colab": {
     "base_uri": "https://localhost:8080/"
    },
    "id": "0tiv7GSONpKd",
    "outputId": "f7266dd2-3f9a-4bd9-9c30-dc1af48930e3"
   },
   "outputs": [
    {
     "name": "stdout",
     "output_type": "stream",
     "text": [
      "Enter first number: 21\n",
      "Enter second number: 94\n",
      "Before Swapping 21 94\n",
      "before Swapping 94 21\n"
     ]
    }
   ],
   "source": [
    "num_1 = int(input('Enter first number: '))\n",
    "num_2 = int(input('Enter second number: '))\n",
    "\n",
    "\n",
    "def swapNumbers(num_1,num_2):\n",
    "        print('Before Swapping',num_1,num_2)\n",
    "        num_1 = num_1+num_2\n",
    "        num_2 = num_1-num_2\n",
    "        num_1 = num_1-num_2\n",
    "        print('before Swapping',num_1,num_2)\n",
    "\n",
    "swapNumbers(num_1,num_2)"
   ]
  }
 ],
 "metadata": {
  "colab": {
   "collapsed_sections": [],
   "name": "Basic_Programming Assignment_02.ipynb",
   "provenance": []
  },
  "kernelspec": {
   "display_name": "Python 3 (ipykernel)",
   "language": "python",
   "name": "python3"
  },
  "language_info": {
   "codemirror_mode": {
    "name": "ipython",
    "version": 3
   },
   "file_extension": ".py",
   "mimetype": "text/x-python",
   "name": "python",
   "nbconvert_exporter": "python",
   "pygments_lexer": "ipython3",
   "version": "3.9.12"
  }
 },
 "nbformat": 4,
 "nbformat_minor": 1
}
