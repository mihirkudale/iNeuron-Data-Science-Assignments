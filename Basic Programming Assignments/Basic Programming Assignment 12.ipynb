{
 "cells": [
  {
   "cell_type": "markdown",
   "id": "b1d78136",
   "metadata": {
    "id": "b1d78136"
   },
   "source": [
    "# Assignment 12 Solutions"
   ]
  },
  {
   "cell_type": "markdown",
   "id": "hgcPGqPA6JWk",
   "metadata": {
    "id": "hgcPGqPA6JWk"
   },
   "source": [
    "**SUBMITTED BY: MIHIR KUDALE**"
   ]
  },
  {
   "cell_type": "markdown",
   "id": "47588382",
   "metadata": {
    "id": "47588382"
   },
   "source": [
    "#### 1.Write a Python program to Extract Unique values dictionary values?"
   ]
  },
  {
   "cell_type": "code",
   "execution_count": 1,
   "id": "8cfece02",
   "metadata": {
    "colab": {
     "base_uri": "https://localhost:8080/"
    },
    "id": "8cfece02",
    "outputId": "d22e4c08-4f79-42aa-a2e7-8497fded064c"
   },
   "outputs": [
    {
     "name": "stdout",
     "output_type": "stream",
     "text": [
      "dict_values(['Mihir', 'Sudhanshu', 'Krish', 'Mihir', 'Krish', 'shivan', 'shivan'])\n",
      "Unique Values: ['shivan', 'Mihir', 'Sudhanshu', 'Krish']\n"
     ]
    }
   ],
   "source": [
    "in_dict = {1:'Mihir',2:'Sudhanshu',3:'Krish',4:'Mihir',5:'Krish',6:'shivan',7:'shivan'}\n",
    "print(in_dict.values())\n",
    "print(f'Unique Values: {list(set(in_dict.values()))}')"
   ]
  },
  {
   "cell_type": "markdown",
   "id": "3cfcbbc9",
   "metadata": {
    "id": "3cfcbbc9"
   },
   "source": [
    "#### 2.Write a Python program to find the sum of all items in a dictionary?"
   ]
  },
  {
   "cell_type": "code",
   "execution_count": 2,
   "id": "33738c60",
   "metadata": {
    "colab": {
     "base_uri": "https://localhost:8080/"
    },
    "id": "33738c60",
    "outputId": "1bb296d9-d55f-406a-c4e1-610805066539"
   },
   "outputs": [
    {
     "name": "stdout",
     "output_type": "stream",
     "text": [
      "Sum of All items:  2100\n"
     ]
    }
   ],
   "source": [
    "in_dict = {'A':10,'M':20,'B':30,'G':40,'P':2000}\n",
    "print('Sum of All items: ',sum(in_dict.values()))"
   ]
  },
  {
   "cell_type": "markdown",
   "id": "5e26e96b",
   "metadata": {
    "id": "5e26e96b"
   },
   "source": [
    "#### 3.Write a Python program to Merging two Dictionaries?"
   ]
  },
  {
   "cell_type": "code",
   "execution_count": 3,
   "id": "059056dd",
   "metadata": {
    "colab": {
     "base_uri": "https://localhost:8080/"
    },
    "id": "059056dd",
    "outputId": "f16f98d5-1cb5-4e85-9e46-f22af96d392f"
   },
   "outputs": [
    {
     "name": "stdout",
     "output_type": "stream",
     "text": [
      "{'course_name': 'Ineuron', 'course_instructors': ['Sudhanshu', 'Krish']}\n"
     ]
    }
   ],
   "source": [
    "course_details = {\n",
    "    'course_name':'Ineuron'\n",
    "}\n",
    "instructors = {\n",
    "    'course_instructors':['Sudhanshu','Krish']\n",
    "}\n",
    "course_details.update(instructors)\n",
    "print(course_details)"
   ]
  },
  {
   "cell_type": "markdown",
   "id": "ea32cefe",
   "metadata": {
    "id": "ea32cefe"
   },
   "source": [
    "#### 4.Write a Python program to convert key-values list to flat dictionary?"
   ]
  },
  {
   "cell_type": "code",
   "execution_count": 4,
   "id": "55139b2d",
   "metadata": {
    "colab": {
     "base_uri": "https://localhost:8080/"
    },
    "id": "55139b2d",
    "outputId": "b1c8c183-f838-4a3b-dd35-d636b82a9b3d"
   },
   "outputs": [
    {
     "name": "stdout",
     "output_type": "stream",
     "text": [
      "{'A': 10, 'B': 20, 'C': 30, 'D': 40, 'E': 50, 'F': 60, 'G': 70, 'H': 80, 'I': 90, 'J': 100}\n"
     ]
    }
   ],
   "source": [
    "in_list = [('A',10),('B',20),('C',30),('D',40),('E',50),('F',60),('G',70),('H',80),('I',90),('J',100)]\n",
    "\n",
    "# Method #1\n",
    "dict(in_list)\n",
    "\n",
    "# Method #2\n",
    "out_dict = {}\n",
    "for ele in in_list:\n",
    "    out_dict[ele[0]] = ele[1]\n",
    "print(out_dict)"
   ]
  },
  {
   "cell_type": "markdown",
   "id": "e945b1cf",
   "metadata": {
    "id": "e945b1cf"
   },
   "source": [
    "#### 5.Write a Python program to insertion at the beginning in OrderedDict?"
   ]
  },
  {
   "cell_type": "code",
   "execution_count": 5,
   "id": "b28845f5",
   "metadata": {
    "colab": {
     "base_uri": "https://localhost:8080/"
    },
    "id": "b28845f5",
    "outputId": "619c9ec4-fcb5-4bef-e36a-00c9d065d676"
   },
   "outputs": [
    {
     "name": "stdout",
     "output_type": "stream",
     "text": [
      "dict_one OrderedDict([('Apple', 'Iphone'), ('Microsoft', 'Windows'), ('Google', 'chrome')])\n",
      "dict_one OrderedDict([('Apple', 'Iphone'), ('Microsoft', 'Windows'), ('Google', 'chrome'), ('Tesla', 'SpaceX')])\n",
      "dict_one OrderedDict([('Tesla', 'SpaceX'), ('Apple', 'Iphone'), ('Microsoft', 'Windows'), ('Google', 'chrome')])\n"
     ]
    }
   ],
   "source": [
    "from collections import OrderedDict\n",
    "dict_one = OrderedDict({'Apple':'Iphone','Microsoft':'Windows','Google':'chrome'})\n",
    "print('dict_one',dict_one)\n",
    "dict_two = {'Tesla':'SpaceX'}\n",
    "dict_one.update(dict_two)\n",
    "print('dict_one',dict_one)\n",
    "dict_one.move_to_end('Tesla',last=False)\n",
    "print('dict_one',dict_one)"
   ]
  },
  {
   "cell_type": "markdown",
   "id": "a67da729",
   "metadata": {
    "id": "a67da729"
   },
   "source": [
    "#### 6.Write a Python program to check order of character in string using OrderedDict()?"
   ]
  },
  {
   "cell_type": "code",
   "execution_count": 6,
   "id": "cc023a52",
   "metadata": {
    "colab": {
     "base_uri": "https://localhost:8080/"
    },
    "id": "cc023a52",
    "outputId": "f1077e57-3e48-4b5d-96c3-dd5ab5e3bb0b"
   },
   "outputs": [
    {
     "name": "stdout",
     "output_type": "stream",
     "text": [
      "{'a': 1000, 'f': 200, 'd': 300, 'c': 400, 'b': 500, 'e': 600}\n",
      "OrderedDict([('a', 1000), ('b', 500), ('c', 400), ('d', 300), ('e', 600), ('f', 200)])\n"
     ]
    }
   ],
   "source": [
    "from collections import OrderedDict\n",
    "\n",
    "initial_list = {'a': 1000, 'f': 200, 'd': 300, 'c': 400, 'b': 500, 'e': 600}\n",
    "print(initial_list)\n",
    "\n",
    "final_list = OrderedDict(dict(sorted(initial_list.items())))\n",
    "print(final_list)"
   ]
  },
  {
   "cell_type": "markdown",
   "id": "00e77a00",
   "metadata": {
    "id": "00e77a00"
   },
   "source": [
    "#### 7.Write a Python program to sort Python Dictionaries by Key or Value?"
   ]
  },
  {
   "cell_type": "code",
   "execution_count": 7,
   "id": "799ba84a",
   "metadata": {
    "colab": {
     "base_uri": "https://localhost:8080/"
    },
    "id": "799ba84a",
    "outputId": "abc09fee-5ae9-4591-cb71-81dca1215548"
   },
   "outputs": [
    {
     "name": "stdout",
     "output_type": "stream",
     "text": [
      "{'Banana': 60, 'Grape': 13, 'Mango': 100, 'PineApple': 22}\n",
      "{'Grape': 13, 'PineApple': 22, 'Banana': 60, 'Mango': 100}\n"
     ]
    }
   ],
   "source": [
    "d_items = {'Mango':100,'PineApple':22,'Banana':60,'Grape':13}\n",
    "\n",
    "def sort_dict(in_dict,sort_type):\n",
    "    if sort_type == 'key':\n",
    "        print(dict(sorted(in_dict.items(), key=lambda x:x[0], reverse=False)))\n",
    "    else:\n",
    "        print(dict(sorted(in_dict.items(), key=lambda x:x[1], reverse=False)))\n",
    "        \n",
    "sort_dict(d_items,'key')        \n",
    "sort_dict(d_items,'value')"
   ]
  }
 ],
 "metadata": {
  "colab": {
   "collapsed_sections": [],
   "name": "Basic_Programming Assignment_12.ipynb",
   "provenance": []
  },
  "kernelspec": {
   "display_name": "Python 3 (ipykernel)",
   "language": "python",
   "name": "python3"
  },
  "language_info": {
   "codemirror_mode": {
    "name": "ipython",
    "version": 3
   },
   "file_extension": ".py",
   "mimetype": "text/x-python",
   "name": "python",
   "nbconvert_exporter": "python",
   "pygments_lexer": "ipython3",
   "version": "3.9.12"
  }
 },
 "nbformat": 4,
 "nbformat_minor": 5
}
