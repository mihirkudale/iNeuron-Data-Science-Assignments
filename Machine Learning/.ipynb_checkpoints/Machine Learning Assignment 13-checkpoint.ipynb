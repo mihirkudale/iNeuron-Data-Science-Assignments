{
 "cells": [
  {
   "cell_type": "markdown",
   "id": "b2aa57f2",
   "metadata": {},
   "source": [
    "# Assignment 13 Solution"
   ]
  },
  {
   "cell_type": "markdown",
   "id": "28d52649-78b8-44e0-b0bb-efa95cb7cc22",
   "metadata": {},
   "source": [
    "**SUBMITTED BY: MIHIR KUDALE**"
   ]
  },
  {
   "cell_type": "markdown",
   "id": "111120c6",
   "metadata": {},
   "source": [
    "##### 1. Provide an example of the concepts of Prior, Posterior, and Likelihood ?"
   ]
  },
  {
   "cell_type": "markdown",
   "id": "69641920-6a3e-4ab2-be77-bffc51ff5bdc",
   "metadata": {},
   "source": [
    "**Ans:** Prior: Mathematically, Prior Probability can be defined as the Probability of event A occurring. P(A). We can calculate the probability of getting afflicted with Covid-19 without any additional information would put us in a box and we would simply have to calculate the probability using the entire population of the world.\n",
    "\n",
    "Posterior: Mathematically, it can be defined as the Probability of a point x such that it belongs to a certain class label. In above example, with more information like the information regarding the country and state we wish to talk about for Covid-19 infection, we will change or adjust our probability. In this case, probability calculated after getting more information is posterior probability.\n",
    "\n",
    "Likelihood: Mathematically, it can be defined as the Probability of event B (P(B)) given that event A has already occurred. Probability of getting a heads in a toss will be prior probability. But, calculating the conditional probability of the coin giving heads given that the coin was biased will be likelihood."
   ]
  },
  {
   "cell_type": "markdown",
   "id": "4ae857d4",
   "metadata": {},
   "source": [
    "##### 2. What role does Bayes' theorem play in the concept learning principle ?"
   ]
  },
  {
   "cell_type": "markdown",
   "id": "1d78ec63-1068-485f-8b72-1928859a0c9a",
   "metadata": {},
   "source": [
    "**Ans:** Bayes theorem helps us define probabilities of an event A occurring given that another event B has already occurred. Using the calculation of the probabilities from independent variables, categorizing of target values can be done and the larger goal of concept learning can be achieved."
   ]
  },
  {
   "cell_type": "markdown",
   "id": "c981ac1e",
   "metadata": {},
   "source": [
    "##### 3. Offer an example of how the Nave Bayes classifier is used in real life ?"
   ]
  },
  {
   "cell_type": "markdown",
   "id": "6e08a25a-3852-4201-bf92-9c33c233b250",
   "metadata": {},
   "source": [
    "**Ans:** Naive Bayes Classifier is used in sentiment analysis, for classifying a document as a positive or a negative comment. After the Data Preprocessing steps and Data Transformation, Documents can be converted to document term matrix using a Bag Of Words approach. Using this document term matrix, Naive Bayes Classifier is trained by calculating the probabilities of documents while using labelled data."
   ]
  },
  {
   "cell_type": "markdown",
   "id": "07ab2a64",
   "metadata": {},
   "source": [
    "##### 4. Can the Nave Bayes classifier be used on continuous numeric data? If so, how can you go about doing it ?"
   ]
  },
  {
   "cell_type": "markdown",
   "id": "031ac151-a16b-400f-985f-e9bd1b64af2c",
   "metadata": {},
   "source": [
    "**Ans:** Yes, we can use the Naive Bayes classifier on continuous numeric data. Values in the target variable can be put into bins or class intervals so that classes can be created and the Naive Bayes classifier only needs to predict these classes while the continous numeric values would come from a very well defined class interval later predicted by the classifier."
   ]
  },
  {
   "cell_type": "markdown",
   "id": "0be2162e",
   "metadata": {},
   "source": [
    "##### 5. What are Bayesian Belief Networks, and how do they work? What are their applications? Are they capable of resolving a wide range of issues?"
   ]
  },
  {
   "cell_type": "markdown",
   "id": "ebbebba5-29f4-4cc6-869b-ac1906e33a09",
   "metadata": {},
   "source": [
    "**Ans:**  For solving problem statements dealing with uncertainty, probabilistic graphical models can be built for capturing the joint probabilities for a set of independent variables. Such a graphical model is called a Bayesian Belief Network. It works by calculating the posterior probabilities of future events using the past data of a set of independent variables.\n",
    "\n",
    "Main applications of Bayesian Belief Networks is prediction, time series analysis and decision analytics. Yes. They are capable of resolving a wide range of issues that deal with uncertainty."
   ]
  },
  {
   "cell_type": "markdown",
   "id": "a96163dd",
   "metadata": {},
   "source": [
    "##### 6. Passengers are checked in an airport screening system to see if there is an intruder. Let I be the random variable that indicates whether someone is an intruder I = 1) or not I = 0), and A be the variable that indicates alarm I = 0). If an intruder is detected with probability P(A = 1|I = 1) = 0.98 and a non-intruder is detected with probability P(A = 1|I = 0) = 0.001, an alarm will be triggered, implying the error factor. The likelihood of an intruder in the passenger population is P(I = 1) = 0.00001. What are the chances that an alarm would be triggered when an individual is actually an intruder ?"
   ]
  },
  {
   "cell_type": "markdown",
   "id": "2919206f-4038-4f2b-9cc2-b0fe9399e59b",
   "metadata": {},
   "source": [
    "**Ans:**\n",
    "\n",
    "Given\n",
    "\n",
    "P(A = 1|I = 1) = 0.98\n",
    "\n",
    "P(A = 1|I = 0) = 0.001\n",
    "\n",
    "P(I = 1) = 0.00001\n",
    "\n",
    "P(I=1|A=1) = P(A=1|I= 1)P(I=1)/(P(A=1|I=1)P(I=1)+P(A=1|I=0)*P(T=0))\n",
    "\n",
    "Or,\n",
    "\n",
    "0.98000001/(0.98000001+0.001*(1−0.00001))\n",
    "\n",
    "which comes out as 0.0097."
   ]
  },
  {
   "cell_type": "markdown",
   "id": "6b3b649e",
   "metadata": {},
   "source": [
    "##### 7. An antibiotic resistance test (random variable T) has 1% false positives (i.e., 1% of those who are not immune to an antibiotic display a positive result in the test) and 5% false negatives (i.e., 1% of those who are not resistant to an antibiotic show a positive result in the test) (i.e. 5 percent of those actually resistant to an antibiotic test negative). Assume that 2% of those who were screened were antibiotic-resistant. Calculate the likelihood that a person who tests positive is actually immune (random variable D) ?"
   ]
  },
  {
   "cell_type": "markdown",
   "id": "ad8eeacb-5763-43cf-8006-11eea9625f9a",
   "metadata": {},
   "source": [
    "**Ans:** \n",
    "\n",
    "Given,\n",
    "\n",
    "P(Antibiotic resistant) = 0.02\n",
    "\n",
    "P(Not antibiotic resistant) = 0.98\n",
    "\n",
    "P(Test resulted positive| Not Antibiotic resistant) = 0.01\n",
    "\n",
    "P(Test resulted negative| Antibiotic resistant) = 0.05\n",
    "\n",
    "For P(Antibiotic resistant| Test resulted positive)\n",
    "\n",
    "P(Test resulted positive| Antibiotic resistant)P(Antibiotic resistant)/(P(Test resulted positive| Antibiotic resistant)P(Antibiotic resistant)+P(Test resulted positive| Not Antibiotic resistant)P(Not antibiotic resistant))\n",
    "\n",
    "(1-0.05)0.02/((1-0.05)0.02 + 0.01*0.98)\n",
    "\n",
    "which comes out to be 0.6597"
   ]
  },
  {
   "cell_type": "markdown",
   "id": "54020cf8",
   "metadata": {},
   "source": [
    "##### 8. In order to prepare for the test, a student knows that there will be one question in the exam that is either form A, B, or C. The chances of getting an A, B, or C on the exam are 30 percent, 20%, and 50 percent, respectively. During the planning, the student solved 9 of 10 type A problems, 2 of 10 type B problems, and 6 of 10 type C problems.\n",
    "1. What is the likelihood that the student can solve the exam problem?\n",
    "2. Given the student's solution, what is the likelihood that the problem was of form A?"
   ]
  },
  {
   "cell_type": "markdown",
   "id": "3b101f27-cf95-40de-8569-34661d668ca3",
   "metadata": {},
   "source": [
    "**Ans:**\n",
    "\n",
    "1. What is the likelihood that the student can solve the exam problem?\n",
    "\n",
    "Given,\n",
    "\n",
    "P(A) = 0.3\n",
    "\n",
    "P(B) = 0.2\n",
    "\n",
    "P(C) = 0.5\n",
    "\n",
    "P(Student solved| problem A) = 0.9\n",
    "\n",
    "P(Student solved| problem B) = 0.2\n",
    "\n",
    "P(Student solved| problem C) = 0.6\n",
    "\n",
    "For P(Student solved problem),\n",
    "\n",
    "P(Student solved| problem A)P(A)+P(Student solved| problem B)P(B)+P(Student solved| problem C)P(C)\n",
    "\n",
    "0.90.3+0.20.2+0.6*0.5\n",
    "\n",
    "which comes out as 0.61\n",
    "\n",
    "2. Given the student's solution, what is the likelihood that the problem was of form A?\n",
    "\n",
    "For, P(Problem was A| given it was solved)\n",
    "\n",
    "P(Student solved| problem A)P(A)/(P(Student solved problem))\n",
    "\n",
    "0.9*0.3/(0.61)\n",
    "\n",
    "which is 0.427"
   ]
  },
  {
   "cell_type": "markdown",
   "id": "9db681d1",
   "metadata": {},
   "source": [
    "##### 9. A bank installs a CCTV system to track and photograph incoming customers. Despite the constant influx of customers, we divide the timeline into 5 minute bins. There may be a customer coming into the bank with a 5% chance in each 5-minute time period, or there may be no customer (again, for simplicity, we assume that either there is 1 customer or none, not the case of multiple customers). If there is a client, the CCTV will detect them with a 99 percent probability. If there is no customer, the camera can take a false photograph with a 10% chance of detecting movement from other objects.\n",
    "1. How many customers come into the bank on a daily basis (10 hours)?\n",
    "2. On a daily basis, how many fake photographs (photographs taken when there is no customer) and how many missed photographs (photographs taken when there is a customer) are there?\n",
    "3. Explain likelihood that there is a customer if there is a photograph?"
   ]
  },
  {
   "cell_type": "markdown",
   "id": "d72de619-1ca3-421b-909b-cd4f6853f67f",
   "metadata": {},
   "source": [
    "**Ans:**\n",
    "\n",
    "1. How many customers come into the bank on a daily basis (10 hours)?\n",
    "\n",
    "Given,\n",
    "\n",
    "P(Customer coming into the bank in each 5-minute time period) = 0.05\n",
    "Since each hour has 12 5-minute time period, then there will be a total of 10*12 = 120 5-min time periods per day.\n",
    "\n",
    "Therefore, 120*0.05 = 6 customers can come into the bank on a daily basis.\n",
    "\n",
    "2. On a daily basis, how many fake photographs (photographs taken when there is no customer) and how many missed photographs (photographs taken when there is a customer) are there?\n",
    "\n",
    "Given,\n",
    "\n",
    "P(If there is no customer, the camera takes a false photograph) = 0.1\n",
    "\n",
    "P(If there is a client, the CCTV will detect them) = 0.99\n",
    "\n",
    "For fake photographs,\n",
    "\n",
    "(120 - 6)*0.1 = 11.4 or 11 fake photographs.\n",
    "\n",
    "For missed photographs,\n",
    "\n",
    "6*0.1 = 0.6 or 60% of the times.\n",
    "\n",
    "3. Explain likelihood that there is a customer if there is a photograph?\n",
    "\n",
    "Given,\n",
    "\n",
    "P(If there is a client, the CCTV will detect them) = 0.99\n",
    "\n",
    "P(Customer) = 0.05\n",
    "\n",
    "For, P(Customer is there| Photo is taken)\n",
    "\n",
    "0.990.05/((0.990.5)+0.1(1-0.05))\n",
    "\n",
    "which is 0.34"
   ]
  },
  {
   "cell_type": "markdown",
   "id": "5b686929",
   "metadata": {},
   "source": [
    "##### 10. Create the conditional probability table associated with the node Won Toss in the Bayesian Belief network to represent the conditional independence assumptions of the Nave Bayes classifier for the match winning prediction problem in Section 6.4.4."
   ]
  },
  {
   "cell_type": "markdown",
   "id": "dbf64b88-6784-47db-bc8b-7c7f8b3c0a5e",
   "metadata": {},
   "source": [
    "**Ans:**"
   ]
  },
  {
   "cell_type": "code",
   "execution_count": null,
   "id": "0eaba42d-1045-489f-8cb9-f688ae1f7961",
   "metadata": {},
   "outputs": [],
   "source": []
  }
 ],
 "metadata": {
  "kernelspec": {
   "display_name": "Python 3 (ipykernel)",
   "language": "python",
   "name": "python3"
  },
  "language_info": {
   "codemirror_mode": {
    "name": "ipython",
    "version": 3
   },
   "file_extension": ".py",
   "mimetype": "text/x-python",
   "name": "python",
   "nbconvert_exporter": "python",
   "pygments_lexer": "ipython3",
   "version": "3.9.13"
  },
  "vscode": {
   "interpreter": {
    "hash": "26de051ba29f2982a8de78e945f0abaf191376122a1563185a90213a26c5da77"
   }
  }
 },
 "nbformat": 4,
 "nbformat_minor": 5
}
