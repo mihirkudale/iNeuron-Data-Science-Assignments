{
 "cells": [
  {
   "cell_type": "markdown",
   "id": "b2aa57f2",
   "metadata": {},
   "source": [
    "# Assignment 15 Solution"
   ]
  },
  {
   "cell_type": "markdown",
   "id": "16b4084f-5cc7-4c7a-b524-16aa15c4e988",
   "metadata": {},
   "source": [
    "**SUBMITTED BY: MIHIR KUDALE**"
   ]
  },
  {
   "cell_type": "markdown",
   "id": "111120c6",
   "metadata": {},
   "source": [
    "##### 1. Recognize the differences between supervised, semi-supervised, and unsupervised learning ?"
   ]
  },
  {
   "cell_type": "markdown",
   "id": "3e634186",
   "metadata": {},
   "source": [
    "**Ans:** The differences between supervised, semi-supervised, and unsupervised learning are:\n",
    "\n",
    "- **Supervised learning** aims to learn a function that, given a sample of data and desired outputs, approximates a function that maps inputs to outputs.\n",
    "\n",
    "- **Semi-supervised learning** aims to label unlabeled data points using knowledge learned from a small number of labeled data points.\n",
    "\n",
    "- **Unsupervised learning** does not have (or need) any labeled outputs, so its goal is to infer the natural structure present within a set of data points."
   ]
  },
  {
   "cell_type": "markdown",
   "id": "4ae857d4",
   "metadata": {},
   "source": [
    "##### 2. Describe in detail any five examples of classification problems ?"
   ]
  },
  {
   "cell_type": "markdown",
   "id": "5423021a",
   "metadata": {},
   "source": [
    "**Ans:**  5 Examples of Classification Problems : \n",
    "\n",
    "- **Logistic regression:** Logistic regression is a supervised learning classification algorithm used to predict the probability of a target variable. ... It is one of the simplest ML algorithms that can be used for various classification problems such as spam detection, Diabetes prediction, cancer detection etc.\n",
    "\n",
    "- **Decision trees:** Decision Trees are a type of Supervised Machine Learning (that is you explain what the input is and what the corresponding output is in the training data) where the data is continuously split according to a certain parameter. The tree can be explained by two entities, namely decision nodes and leaves.\n",
    "\n",
    "- **Random forest:** Random forest is a Supervised Machine Learning Algorithm that is used widely in Classification and Regression problems. It builds decision trees on different samples and takes their majority vote for classification and average in case of regression. It performs better results for classification problems.\n",
    "\n",
    "- **XGBoost:** XGBoost is an algorithm that has recently been dominating applied machine learning and Kaggle competitions for structured or tabular data. XGBoost is an implementation of gradient boosted decision trees designed for speed and performance.Why XGBoost must be a part of your machine learning toolkit.\n",
    "\n",
    "- **Light GBM:** Light Gradient Boosted Machine, or LightGBM for short, is an open-source library that provides an efficient and effective implementation of the gradient boosting algorithm."
   ]
  },
  {
   "cell_type": "markdown",
   "id": "c981ac1e",
   "metadata": {},
   "source": [
    "##### 3. Describe each phase of the classification process in detail ?"
   ]
  },
  {
   "cell_type": "markdown",
   "id": "2082679e",
   "metadata": {},
   "source": [
    "**Ans:**  Process of classification consists of two phases : \n",
    "1. Construction of the classifier \n",
    "2. Usage of the classifier. \n",
    "\n",
    "A classifier in machine learning is an algorithm that automatically orders or categorizes data into one or more of a set of “classes.” One of the most common examples is an email classifier that scans emails to filter them by class label: Spam or Not Spam.\n",
    "\n",
    "The main goal of the Classification algorithm is to identify the category of a given dataset, and these algorithms are mainly used to predict the output for the categorical data. Multi-class Classifier: If a classification problem has more than two outcomes, then it is called as Multi-class Classifier."
   ]
  },
  {
   "cell_type": "markdown",
   "id": "07ab2a64",
   "metadata": {},
   "source": [
    "##### 4. Go through the SVM model in depth using various scenarios ?"
   ]
  },
  {
   "cell_type": "markdown",
   "id": "dce81a65",
   "metadata": {},
   "source": [
    "**Ans:** **Support Vector Machine (SVM)** is a supervised machine learning algorithm that can be used for both classification or regression challenges. \n",
    "\n",
    "Support Vectors are simply the coordinates of individual observation. The SVM classifier is a  frontier that best segregates the two classes (hyper-plane/ line). \n",
    "\n",
    "SVM or Support Vector Machine is a linear model for classification and regression problems. It can solve linear and non-linear problems and work well for many practical problems. The idea of SVM is simple: The algorithm creates a line or a hyperplane which separates the data into classes."
   ]
  },
  {
   "cell_type": "markdown",
   "id": "0be2162e",
   "metadata": {},
   "source": [
    "##### 5. What are some of the benefits and drawbacks of SVM ?"
   ]
  },
  {
   "cell_type": "markdown",
   "id": "90a86f67",
   "metadata": {},
   "source": [
    "**Ans:** The following are some of the benefits and drawbacks of SVM:\n",
    "- **Benefits:** \n",
    "    - SVM works relatively well when there is a clear margin of separation between classes.\n",
    "    - SVM is more effective in high dimensional spaces.\n",
    "    - SVM is effective in cases where the number of dimensions is greater than the number of samples.\n",
    "    - SVM is relatively memory efficient.\n",
    "- **Drawbacks:** \n",
    "    - SVM algorithm is not suitable for large data sets.\n",
    "    - SVM does not perform very well when the data set has more noise i.e. target classes are overlapping.\n",
    "    - In cases where the number of features for each data point exceeds the number of training data samples,the SVM will underperform."
   ]
  },
  {
   "cell_type": "markdown",
   "id": "a96163dd",
   "metadata": {},
   "source": [
    "##### 6. Go over the kNN model in depth ?"
   ]
  },
  {
   "cell_type": "markdown",
   "id": "adc817a1",
   "metadata": {},
   "source": [
    "**Ans:** kNN is the simplest machine learning algorithm to understand and also to explain. It is a versatile algorithm i.e. useful for both classification and regression. It has one big advantage is that kNN ha no pre assumption about the data. **Let the data speak for itself**. \n",
    "\n",
    "The abbreviation KNN stands for **K-Nearest Neighbour**. It is a supervised machine learning algorithm. The algorithm can  be used to solve both classification and regression problem statements. The number of nearest neighbours to a new unknown variable that has to be predicted or classified is denoted by the symbol 'K'."
   ]
  },
  {
   "cell_type": "markdown",
   "id": "6b3b649e",
   "metadata": {},
   "source": [
    "##### 7. Discuss the kNN algorithm's error rate and validation error ?"
   ]
  },
  {
   "cell_type": "markdown",
   "id": "4351757c",
   "metadata": {},
   "source": [
    "**Ans:**  Training error here is the error you'll have when you input your training set to your KNN as test set.  Since your test sample is in the training dataset, it'll choose itself as the closest and never make mistake. For this reason, the training error will be zero when K = 1, irrespective of the dataset. \n",
    "      \n",
    "kNN produces predictions by looking at the k nearest neighbours of a case x to predict its y, so that's fine. In particular, the kNN model basically consists of its training cases - but that's the cross validation procedure doesn't care about at all."
   ]
  },
  {
   "cell_type": "markdown",
   "id": "54020cf8",
   "metadata": {},
   "source": [
    "##### 8. For kNN, talk about how to measure the difference between the test and training results ?"
   ]
  },
  {
   "cell_type": "markdown",
   "id": "285bd570",
   "metadata": {},
   "source": [
    "**Ans:**  KNN can be used for classification — the output is a class membership (predicts a class — a discrete value). An object is classified by a majority vote of its neighbors, with the object being assigned to the class most common among its k nearest neighbors.\n",
    "      \n",
    "KNN classifier does not have any specialized training phase as it uses all the training samples for classification and simply stores the results in memory. KNN is a non-parametric algorithm because it does not assume anything about the training data. This makes it useful for problems having non-linear data."
   ]
  },
  {
   "cell_type": "markdown",
   "id": "9db681d1",
   "metadata": {},
   "source": [
    "##### 9. Create the kNN algorithm ?"
   ]
  },
  {
   "cell_type": "markdown",
   "id": "e28da89d",
   "metadata": {},
   "source": [
    "**Ans:**  The k-nearest neighbor algorithm is imported from the scikit-learn package.\n",
    "- Create feature and target variables.\n",
    "- Split data into training and test data.\n",
    "- Generate a k-NN model using neighbors value.\n",
    "- Train or fit the data into the model.\n",
    "- Predict the future."
   ]
  },
  {
   "cell_type": "markdown",
   "id": "5b686929",
   "metadata": {},
   "source": [
    "##### 10. What is a decision tree, exactly ? What are the various kinds of nodes? Explain all in depth ?"
   ]
  },
  {
   "cell_type": "markdown",
   "id": "9bd85678",
   "metadata": {},
   "source": [
    "**Ans:** A decision tree is a tree-like model that acts as a decision support tool, visually displaying decisions and their potential outcomes, consequences, and costs. Drawing a decision tree diagram starts from left to right and consists of **burst** nodes that split into different paths.\n",
    "\n",
    "There are three different types of nodes: chance nodes, decision nodes, and end nodes. A chance node, represented by a circle, shows the probabilities of certain results. A decision node, represented by a square, shows a decision to be made, and an end node shows the final outcome of a decision path."
   ]
  },
  {
   "cell_type": "markdown",
   "id": "3e636eaf",
   "metadata": {},
   "source": [
    "##### 11. Describe the different ways to scan a decision tree ?"
   ]
  },
  {
   "cell_type": "markdown",
   "id": "fea71c9e",
   "metadata": {},
   "source": [
    "**Ans:** In a decision tree analysis, the decision-maker has usually to proceed through the following six steps:\n",
    "- Define the problem in structured terms.\n",
    "- Model the decision process.\n",
    "- Apply the appropriate probability values and financial data.\n",
    "- Solve the decision tree.\n",
    "- Perform sensitivity analysis."
   ]
  },
  {
   "cell_type": "markdown",
   "id": "64feb7de",
   "metadata": {},
   "source": [
    "##### 12. Describe in depth the decision tree algorithm ?"
   ]
  },
  {
   "cell_type": "markdown",
   "id": "589aa7fa",
   "metadata": {},
   "source": [
    "**Ans:** Decision Tree algorithm belongs to the family of supervised learning algorithms. The goal of using a Decision Tree is to create a training model that can use to predict the class or value of the target variable by learning simple decision rules inferred from prior data(training data)."
   ]
  },
  {
   "cell_type": "markdown",
   "id": "bcec9c51",
   "metadata": {},
   "source": [
    "##### 13. In a decision tree, what is inductive bias? What would you do to stop overfitting ?"
   ]
  },
  {
   "cell_type": "markdown",
   "id": "ebc39472",
   "metadata": {},
   "source": [
    "**Ans:**  The inductive bias (also known as learning bias) of a learning algorithm is the set of assumptions that the learner uses  to predict outputs of given inputs that it has not encountered. The kind of necessary assumptions about the nature of the target function are subsumed in the phrase inductive bias. \n",
    "\n",
    "Overfitting makes the model relevant to its data set only, and irrelevant to any other data sets. Some of the methods  used to prevent overfitting include ensembling, data augmentation, data simplification, and cross-validation."
   ]
  },
  {
   "cell_type": "markdown",
   "id": "5830b034",
   "metadata": {},
   "source": [
    "##### 14.Explain advantages and disadvantages of using a decision tree ?"
   ]
  },
  {
   "cell_type": "markdown",
   "id": "fcb664f7",
   "metadata": {},
   "source": [
    "**Ans:**  Advantages and Disadvantages of Decision Trees in Machine Learning. Decision Tree is used to solve both classification and regression problems. But the main drawback of Decision Tree is that it generally leads to overfitting of the data."
   ]
  },
  {
   "cell_type": "markdown",
   "id": "2818226b",
   "metadata": {},
   "source": [
    "##### 15. Describe in depth the problems that are suitable for decision tree learning ?"
   ]
  },
  {
   "cell_type": "markdown",
   "id": "1881da3b",
   "metadata": {},
   "source": [
    "**Ans:**  Appropriate Problems for Decision Tree Learning are:\n",
    "Instances are represented by attribute-value pairs.\n",
    "The target function has discrete output values.\n",
    "- Disjunctive descriptions may be required.\n",
    "- The training data may contain errors.\n",
    "- The training data may contain missing attribute values."
   ]
  },
  {
   "cell_type": "markdown",
   "id": "87a0ef47",
   "metadata": {},
   "source": [
    "##### 16. Describe in depth the random forest model. What distinguishes a random forest ?"
   ]
  },
  {
   "cell_type": "markdown",
   "id": "148ebd54",
   "metadata": {},
   "source": [
    "**Ans:**  The random forest is a classification algorithm consisting of many decisions trees. It uses bagging and feature \n",
    "      randomness when building each individual tree to try to create an uncorrelated forest of trees whose prediction by \n",
    "      committee is more accurate than that of any individual tree.\n",
    "      The fundamental difference is that in Random forests, only a subset of features are selected at random out of the\n",
    "      total and the best split feature from the subset is used to split each node in a tree, unlike in bagging where all \n",
    "      features are considered for splitting a node."
   ]
  },
  {
   "cell_type": "markdown",
   "id": "77911f59",
   "metadata": {},
   "source": [
    "##### 17. In a random forest, talk about OOB error and variable value ?"
   ]
  },
  {
   "cell_type": "markdown",
   "id": "a0ee8815",
   "metadata": {},
   "source": [
    "**Ans:**  The out-of-bag (OOB) error is the average error for each calculated using predictions from the trees that do not\n",
    "      contain in their respective bootstrap sample.\n",
    "      There are two measures of importance given for each variable in the random forest. The first measure is based on how\n",
    "      much the accuracy decreases when the variable is excluded.The second measure is based on the decrease of Gini impurity\n",
    "      when a variable is chosen to split a node."
   ]
  }
 ],
 "metadata": {
  "kernelspec": {
   "display_name": "Python 3 (ipykernel)",
   "language": "python",
   "name": "python3"
  },
  "language_info": {
   "codemirror_mode": {
    "name": "ipython",
    "version": 3
   },
   "file_extension": ".py",
   "mimetype": "text/x-python",
   "name": "python",
   "nbconvert_exporter": "python",
   "pygments_lexer": "ipython3",
   "version": "3.9.13"
  },
  "vscode": {
   "interpreter": {
    "hash": "26de051ba29f2982a8de78e945f0abaf191376122a1563185a90213a26c5da77"
   }
  }
 },
 "nbformat": 4,
 "nbformat_minor": 5
}
