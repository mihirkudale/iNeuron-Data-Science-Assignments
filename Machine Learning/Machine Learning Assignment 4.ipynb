{
 "cells": [
  {
   "cell_type": "markdown",
   "id": "b2aa57f2",
   "metadata": {
    "id": "b2aa57f2"
   },
   "source": [
    "# Assignment 4 Solution"
   ]
  },
  {
   "cell_type": "markdown",
   "id": "jLALLtR0QoMm",
   "metadata": {
    "id": "jLALLtR0QoMm"
   },
   "source": [
    "**SUBMITTED BY: MIHIR KUDALE**"
   ]
  },
  {
   "cell_type": "markdown",
   "id": "5f4c3ef3",
   "metadata": {
    "id": "5f4c3ef3"
   },
   "source": [
    "##### 1. What are the key tasks involved in getting ready to work with machine learning modeling ?"
   ]
  },
  {
   "cell_type": "markdown",
   "id": "c359b60e",
   "metadata": {
    "id": "c359b60e"
   },
   "source": [
    "Ans: The Key Tasks involved in getting ready to work with Machine learning Modelling are:\n",
    "1. Data collection: Defining the problem and assembling a dataset.\n",
    "2. Data preparation: Preparing your data.\n",
    "3. Choosing a Model\n",
    "4. Training the Model: Developing a model that does better than a baseline.\n",
    "5. Evaluating the Model: Choosing a measure of success. Deciding on an evaluation protocol.\n",
    "6. Parameter tuning: Scaling up: developing a model that overfits.Regularizing your model and tuning your parameters.\n",
    "7. Prediction or Inference."
   ]
  },
  {
   "cell_type": "markdown",
   "id": "ecd3bbc1",
   "metadata": {
    "id": "ecd3bbc1"
   },
   "source": [
    "![0_V0GyOt3LoDVfY7y5.png](https://miro.medium.com/max/1400/0*V0GyOt3LoDVfY7y5.png)"
   ]
  },
  {
   "cell_type": "markdown",
   "id": "0bdf36f2",
   "metadata": {
    "id": "0bdf36f2"
   },
   "source": [
    "##### 2. What are the different forms of data used in machine learning ? Give a specific example for each of them ?"
   ]
  },
  {
   "cell_type": "markdown",
   "id": "0368a26d",
   "metadata": {
    "id": "0368a26d"
   },
   "source": [
    "**Ans:** Most data can be categorized into 4 basic types from a Machine Learning perspective: **`Numerical Data`**, **`Categorical Data`**, **`Time-Series Data`**, and **`Text data`**. \n",
    "\n",
    "\n",
    "\n",
    "![1_D8B5_HlEfwSQURgQkymoBA.jpg](https://miro.medium.com/max/281/1*D8B5_HlEfwSQURgQkymoBA.jpeg)"
   ]
  },
  {
   "cell_type": "markdown",
   "id": "93a494b9",
   "metadata": {
    "id": "93a494b9"
   },
   "source": [
    "**Numerical Data:**  \n",
    "Numerical data is any data where data points are exact numbers. Statisticians also might call numerical data, quantitative data. This data has meaning as a measurement such as house prices or as a count, such as a number of residential properties in Los Angeles or how many houses sold in the past year.\n",
    "\n",
    "Numerical data can be characterized by continuous or discrete data. Continuous data can assume any value within a range whereas discrete data has distinct values.\n",
    "\n",
    "![1_lheLiN7y4sSD2JKvow-clw.jpg](https://miro.medium.com/max/501/1*lheLiN7y4sSD2JKvow-clw.jpeg)"
   ]
  },
  {
   "cell_type": "markdown",
   "id": "0de7e483",
   "metadata": {
    "id": "0de7e483"
   },
   "source": [
    "**Categorical Data:**   \n",
    "Categorical data represents characteristics, such as a hockey player’s position, team, hometown. Categorical data can take numerical values. For example, maybe we would use 1 for the colour red and 2 for blue. But these numbers don’t have a mathematical meaning. That is, we can’t add them together or take the average.\n",
    "\n",
    "![1_wqUH7IOl8Hky5BI6RvoGtA.png](https://miro.medium.com/max/286/1*wqUH7IOl8Hky5BI6RvoGtA.png)"
   ]
  },
  {
   "cell_type": "markdown",
   "id": "f260ea02",
   "metadata": {
    "id": "f260ea02"
   },
   "source": [
    "**Time Series Data:**        \n",
    "Time series data is a sequence of numbers collected at regular intervals over some period of time. It is very important, especially in particular fields like finance. Time series data has a temporal value attached to it, so this would be something like a date or a timestamp that you can look for trends in time.\n",
    "\n",
    "![1_3H17aiABEWXRY_ZD5MG6fg.png](https://miro.medium.com/max/875/1*3H17aiABEWXRY_ZD5MG6fg.png)"
   ]
  },
  {
   "cell_type": "markdown",
   "id": "aa67fb57",
   "metadata": {
    "id": "aa67fb57"
   },
   "source": [
    "**Text:**  \n",
    "Text data is basically just words. A lot of the time the first thing that you do with text is you turn it into numbers using some interesting functions like the bag of words formulation.\n",
    "\n",
    "![1_E1haIGB9K4K89PsFZgm-pw.jpg](https://miro.medium.com/max/875/1*E1haIGB9K4K89PsFZgm-pw.jpeg)"
   ]
  },
  {
   "cell_type": "markdown",
   "id": "8da3a03a",
   "metadata": {
    "id": "8da3a03a"
   },
   "source": [
    "##### 3. Distinguish between :\n",
    "1. Numeric vs. categorical attributes\n",
    "2. Feature selection vs. dimensionality reduction"
   ]
  },
  {
   "cell_type": "markdown",
   "id": "9a4a0e93",
   "metadata": {
    "id": "9a4a0e93"
   },
   "source": [
    "**Ans:** The following are the differences between:\n",
    "\n",
    "1. **Numeric vs. categorical attributes:**  \n",
    "- Numerical data are values obtained for quantitative variable, and carries a sense of magnitude related to the context of the variable (hence, they are always numbers or symbols carrying a numerical value). \n",
    "- Categorical data are values obtained for a qualitative variable. categorical data numbers do not carry a sense of magnitude.\n",
    "- Numerical data always belong to either ordinal, ratio, or interval type, whereas categorical data belong to nominal  type. - - Methods used to analyse quantitative data are different from the methods used for categorical data, even if the principles are the same at least the application has significant differences.\n",
    "- Numerical data are analysed using  statistical methods in descriptive statistics, regression, time series and many more.For categorical data usually descriptive methods and graphical methods are employed. Some non-parametric tests are also used.\n",
    "\n",
    "\n",
    "2. **Feature selection vs. dimensionality reduction**  \n",
    "- Feature selection you just select a subset of the original feature set, without any manipulation of the data on the other hand.\n",
    "- Dimensionality reduction is typically choosing a new representation within which you can describe most but not all of the variance within your data, thereby retaining the relevant information, while reducing theamount of information necessary to represent it."
   ]
  },
  {
   "cell_type": "markdown",
   "id": "416b863d",
   "metadata": {
    "id": "416b863d"
   },
   "source": [
    "##### 4. Make quick notes on any two of the following ?\n",
    "1. The histogram\n",
    "2. Use a scatter plot\n",
    "3. PCA (Personal Computer Aid)"
   ]
  },
  {
   "cell_type": "markdown",
   "id": "0382f659",
   "metadata": {
    "id": "0382f659"
   },
   "source": [
    "**Ans:** The Quick notes on the following three topics is:\n",
    "\n",
    "**The histogram:** A Histogram is a graphical representation that organizes a group of data points into user-specified\n",
    "ranges. Similar in appearance to a bar graph, the histogram condenses a data series into an easily\n",
    "interpreted visual by taking many data points and grouping them into logical ranges or bins.\n",
    "\n",
    "**Use a scatter plot:** A scatter plot (aka scatter chart, scatter graph) uses dots to represent values for two different numeric variables. The position of each dot on the horizontal and vertical axis indicates values for an individual data point. Scatter plots are used to observe relationships between variables.\n",
    "\n",
    "**PCA (Personal Computer Aid):** Principal Component Analysis or PCA is a widely used technique for dimensionality reduction of the large data set. Reducing the number of components or features costs some accuracy and on the other hand, it makes the large data set simpler, easy to explore and visualize. "
   ]
  },
  {
   "cell_type": "markdown",
   "id": "986de4b3",
   "metadata": {
    "id": "986de4b3"
   },
   "source": [
    "##### 5. Why is it necessary to investigate data? Is there a discrepancy in how qualitative and quantitative data are explored ?"
   ]
  },
  {
   "cell_type": "markdown",
   "id": "8234c6ef",
   "metadata": {
    "id": "8234c6ef"
   },
   "source": [
    "**Ans:** If your data set is messy, building models will not help you to solve your problem. What will happen is `Garbage In, Garbage Out.` In order to build a powerful machine learning algorithm. We need to explore and understand our data set before we define a predictive task and solve it. "
   ]
  },
  {
   "cell_type": "markdown",
   "id": "3d354a55",
   "metadata": {
    "id": "3d354a55"
   },
   "source": [
    "##### 6. What are the various histogram shapes? What exactly are ‘bins' ?"
   ]
  },
  {
   "cell_type": "markdown",
   "id": "32e38cf9",
   "metadata": {
    "id": "32e38cf9"
   },
   "source": [
    "**Ans:** The different types of a Histogram are:\n",
    "\n",
    "1. Uniform Histogram\n",
    "2. Symmetric Histogram\n",
    "3. Bimodal Histogram\n",
    "4. Probability Histogram.  \n",
    "\n",
    "The `bin` in a histogram is the choice of unit and spacing on the X-axis. All the data in a probability distribution represented visually by a histogram is filled into the corresponding bins. The height of each bin is a measurement of  the frequency with which data appears inside the range of that bin in the distribution."
   ]
  },
  {
   "cell_type": "markdown",
   "id": "e4b25fc0",
   "metadata": {
    "id": "e4b25fc0"
   },
   "source": [
    "##### 7. How do we deal with data outliers ?"
   ]
  },
  {
   "cell_type": "markdown",
   "id": "e682d8f5",
   "metadata": {
    "id": "e682d8f5"
   },
   "source": [
    "**Ans:** We can use **`Z-Score`** or any of below methods to deal with data outliers:\n",
    "\n",
    "**Univariate Method:** This method looks for data points with extreme values on one variable.\n",
    "\n",
    "**Multivariate Method:** Here, we look for unusual combinations of all the variables.\n",
    "\n",
    "**Minkowski Error:** This method reduces the contribution of potential outliers in the training process.\n",
    "\n",
    "**Z-Score:** This can be done with just one line code as we have already calculated the Z-score.  \n",
    "`boston_df_o = boston_df_o[(z < 3).all(axis=1)]`\n",
    "\n",
    "**IQR Score:** Calculate IQR score to filter out the outliers by keeping only valid values.  \n",
    "`boston_df_out = boston_df_o1[~((boston_df_o1 < (Q1 - 1.5 * IQR)) |(boston_df_o1 > (Q3 + 1.5 *IQR))).any(axis=1)]`  \n",
    "`boston_df_out.shape`  \n",
    "\n",
    "**Quantile function:** Use `quantile()` to remove amount of data. "
   ]
  },
  {
   "cell_type": "markdown",
   "id": "2a098bf0",
   "metadata": {
    "id": "2a098bf0"
   },
   "source": [
    "##### 8. What are the various central inclination measures? Why does mean vary too much from median in certain data sets ?"
   ]
  },
  {
   "cell_type": "markdown",
   "id": "fb4c2905",
   "metadata": {
    "id": "fb4c2905"
   },
   "source": [
    "**Ans:** `Mean`, `Median` and `Mode` are Central Inclination Measures. Mean varies more than Median due to presence of outliers, as mean is averaging all points while median in like finding a middle number. "
   ]
  },
  {
   "cell_type": "markdown",
   "id": "a8082d30",
   "metadata": {
    "id": "a8082d30"
   },
   "source": [
    "##### 9. Describe how a scatter plot can be used to investigate bivariate relationships. Is it possible to find outliers using a scatter plot ?"
   ]
  },
  {
   "cell_type": "markdown",
   "id": "86e13150",
   "metadata": {
    "id": "86e13150"
   },
   "source": [
    "**Ans:** A `Scatter Plot` (aka scatter chart, scatter graph) uses dots to represent values for two different numeric variables. The position of each dot on the horizontal and vertical axis indicates values for an individual data point. So this visualization gives us the idea of bivariate relationship.\n",
    "\n",
    "Scatter plot can also help finding outliers as outliers can be visualized at farther distance than regular data. "
   ]
  },
  {
   "cell_type": "markdown",
   "id": "bbbf6ea5",
   "metadata": {
    "id": "bbbf6ea5"
   },
   "source": [
    "##### 10. Describe how cross-tabs can be used to figure out how two variables are related ?"
   ]
  },
  {
   "cell_type": "markdown",
   "id": "6ec5c3cd",
   "metadata": {
    "id": "6ec5c3cd"
   },
   "source": [
    "**Ans:** `Cross tabulation` is a method to quantitatively analyze the relationship between multiple variables. Also known as contingency tables or cross tabs, cross tabulation groups variables to understand the correlation between different variables. It also shows how correlations change from one variable grouping to another. "
   ]
  }
 ],
 "metadata": {
  "colab": {
   "collapsed_sections": [],
   "name": "ML_Assignment_04.ipynb",
   "provenance": []
  },
  "kernelspec": {
   "display_name": "Python 3 (ipykernel)",
   "language": "python",
   "name": "python3"
  },
  "language_info": {
   "codemirror_mode": {
    "name": "ipython",
    "version": 3
   },
   "file_extension": ".py",
   "mimetype": "text/x-python",
   "name": "python",
   "nbconvert_exporter": "python",
   "pygments_lexer": "ipython3",
   "version": "3.9.13"
  }
 },
 "nbformat": 4,
 "nbformat_minor": 5
}
