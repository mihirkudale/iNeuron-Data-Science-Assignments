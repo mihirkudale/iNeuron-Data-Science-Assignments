{
 "cells": [
  {
   "cell_type": "markdown",
   "id": "99a5ff38-8799-44f4-b0b6-b25ca92e429e",
   "metadata": {},
   "source": [
    "# Assignment 11 Solution"
   ]
  },
  {
   "attachments": {},
   "cell_type": "markdown",
   "id": "0af0f599-ab11-4330-9c6e-ef7ab9bdfd08",
   "metadata": {},
   "source": [
    "**SUBMITTED BY: MIHIR KUDALE**"
   ]
  },
  {
   "attachments": {},
   "cell_type": "markdown",
   "id": "cb5b5198-a627-4639-9a16-686065c99505",
   "metadata": {},
   "source": [
    "1. Given X be a discrete random variable with the following PMF\n",
    "\n",
    "![Alt text](c:/Users/mihir/Downloads/1.png)\n",
    "\n",
    "1. Find the range RX of the random variable X.\n",
    "\n",
    "2. Find P(X ≤ 0.5)\n",
    "\n",
    "3. Find P(0.25&lt;X&lt;0.75)\n",
    "\n",
    "4. P(X = 0.2|X&lt;0.6)\n",
    "\n",
    "**Ans:** \n"
   ]
  },
  {
   "cell_type": "code",
   "execution_count": null,
   "id": "e0e3bc06",
   "metadata": {},
   "outputs": [],
   "source": []
  }
 ],
 "metadata": {
  "kernelspec": {
   "display_name": "Python 3 (ipykernel)",
   "language": "python",
   "name": "python3"
  },
  "language_info": {
   "codemirror_mode": {
    "name": "ipython",
    "version": 3
   },
   "file_extension": ".py",
   "mimetype": "text/x-python",
   "name": "python",
   "nbconvert_exporter": "python",
   "pygments_lexer": "ipython3",
   "version": "3.10.9"
  }
 },
 "nbformat": 4,
 "nbformat_minor": 5
}
