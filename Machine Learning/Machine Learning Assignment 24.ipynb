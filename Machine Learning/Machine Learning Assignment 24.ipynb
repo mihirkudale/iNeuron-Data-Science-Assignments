{
 "cells": [
  {
   "cell_type": "markdown",
   "id": "b2aa57f2",
   "metadata": {},
   "source": [
    "# Assignment 24 Solution"
   ]
  },
  {
   "cell_type": "markdown",
   "id": "1eb59b4b-1189-451b-b000-e4541eda72e0",
   "metadata": {},
   "source": [
    "**SUBMITTED BY: MIHIR KUDALE**"
   ]
  },
  {
   "cell_type": "markdown",
   "id": "111120c6",
   "metadata": {},
   "source": [
    "##### 1. What is your definition of clustering? What are a few clustering algorithms you might think of ?"
   ]
  },
  {
   "cell_type": "markdown",
   "id": "c7c66c7b",
   "metadata": {},
   "source": [
    "**Ans:** Clustering is the task of dividing the population or data points into a number of groups such that data points in the same groups are more similar to other data points in the same group and dissimilar to the data points in other groups."
   ]
  },
  {
   "cell_type": "markdown",
   "id": "4ae857d4",
   "metadata": {},
   "source": [
    "##### 2. What are some of the most popular clustering algorithm applications ?"
   ]
  },
  {
   "cell_type": "markdown",
   "id": "102a391a",
   "metadata": {},
   "source": [
    "**Ans:** K-means clustering is the most commonly used clustering algorithm. It's a centroid-based algorithm and the simplest unsupervised learning algorithm. This algorithm tries to minimize the variance of data points within a cluster. It's also how most people are introduced to unsupervised machine learning."
   ]
  },
  {
   "cell_type": "markdown",
   "id": "c981ac1e",
   "metadata": {},
   "source": [
    "##### 3. When using K-Means, describe two strategies for selecting the appropriate number of clusters ?"
   ]
  },
  {
   "cell_type": "markdown",
   "id": "35c1c60a",
   "metadata": {},
   "source": [
    "**Ans:** K-means clustering algorithm can be significantly improved by using a better initialization technique, and by repeating (re-starting) the algorithm. When the data has overlapping clusters, k-means can improve the results of the initialization technique."
   ]
  },
  {
   "cell_type": "markdown",
   "id": "07ab2a64",
   "metadata": {},
   "source": [
    "##### 4. What is mark propagation and how does it work? Why would you do it, and how would you do it ?"
   ]
  },
  {
   "cell_type": "markdown",
   "id": "161bda60",
   "metadata": {},
   "source": [
    "**Ans:** Backpropagation (backward propagation) is an important mathematical tool for improving the accuracy of predictions in\n",
    "data mining and machine learning. Essentially, backpropagation is an algorithm used to calculate derivatives quickly.\n",
    "\n",
    "The backpropagation algorithm works by computing the gradient of the loss function with respect to each weight by the  chain rule, computing the gradient one layer at a time, iterating backward from the last layer to avoid redundant calculations of intermediate terms in the chain rule."
   ]
  },
  {
   "cell_type": "markdown",
   "id": "0be2162e",
   "metadata": {},
   "source": [
    "##### 5. Provide two examples of clustering algorithms that can handle large datasets. And two that look for high-density areas ?"
   ]
  },
  {
   "cell_type": "markdown",
   "id": "15308df6",
   "metadata": {},
   "source": [
    "**Ans:** The most commonly used algorithm in clustering are partitioning, hierarchical, grid based, density based, and model based algorithms. A review of clustering and its different techniques in data mining is done considering the criteria's\n",
    "for big data."
   ]
  },
  {
   "cell_type": "markdown",
   "id": "a96163dd",
   "metadata": {},
   "source": [
    "##### 6. Can you think of a scenario in which constructive learning will be advantageous? How can you go about putting it into action ?"
   ]
  },
  {
   "cell_type": "markdown",
   "id": "282fd79a",
   "metadata": {},
   "source": [
    "**Ans:** In Constructivist learning, the traditional classroom learning procedure is flipped. Instead of a teacher informing a child about a subject and constructing a meaning for them, in constructivist learning, children construct their own \n",
    "meanings. Now, this may not be the best approach for every learning environment, but it can be tremendously helpful at home.\n",
    "\n",
    "The home environment is where children primarily develop a sense of self and is the perfect setting for children to practice taking initiative in their learning via a Constructivist approach."
   ]
  },
  {
   "cell_type": "markdown",
   "id": "6b3b649e",
   "metadata": {},
   "source": [
    "##### 7. How do you tell the difference between anomaly and novelty detection?"
   ]
  },
  {
   "cell_type": "markdown",
   "id": "a8387209",
   "metadata": {},
   "source": [
    "**Ans:** In \"novelty detection\", you have a data set that contains only good data, and you're trying to determine whether new observations fit within the existing data set. In \"outlier detection\", the data may contain outliers, which you want to\n",
    "identify."
   ]
  },
  {
   "cell_type": "markdown",
   "id": "54020cf8",
   "metadata": {},
   "source": [
    "##### 8. What is a Gaussian mixture, and how does it work? What are some of the things you can do about it?"
   ]
  },
  {
   "cell_type": "markdown",
   "id": "e13f85d1",
   "metadata": {},
   "source": [
    "**Ans:** A Gaussian Mixture is a function that is comprised of several Gaussians, each identified by k ∈ {1,…, K}, where K is  the number of clusters of our dataset. Each Gaussian k in the mixture is comprised of the following parameters: A mean μ that defines its centre. A covariance Σ that defines its width."
   ]
  },
  {
   "cell_type": "markdown",
   "id": "9db681d1",
   "metadata": {},
   "source": [
    "##### 9. When using a Gaussian mixture model, can you name two techniques for determining the correct number of clusters?"
   ]
  },
  {
   "cell_type": "markdown",
   "id": "5629a3d5",
   "metadata": {},
   "source": [
    "**Ans:** An approach is to find the clusters using soft clustering methods and then see if they are gaussian. If they are then you can apply a GMM model which represents the whole dataset."
   ]
  }
 ],
 "metadata": {
  "kernelspec": {
   "display_name": "Python 3 (ipykernel)",
   "language": "python",
   "name": "python3"
  },
  "language_info": {
   "codemirror_mode": {
    "name": "ipython",
    "version": 3
   },
   "file_extension": ".py",
   "mimetype": "text/x-python",
   "name": "python",
   "nbconvert_exporter": "python",
   "pygments_lexer": "ipython3",
   "version": "3.9.13"
  }
 },
 "nbformat": 4,
 "nbformat_minor": 5
}
