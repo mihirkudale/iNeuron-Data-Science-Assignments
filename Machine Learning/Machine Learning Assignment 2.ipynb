{
 "cells": [
  {
   "cell_type": "markdown",
   "id": "b2aa57f2",
   "metadata": {
    "id": "b2aa57f2"
   },
   "source": [
    "# Assignment 2 Solution"
   ]
  },
  {
   "cell_type": "markdown",
   "id": "BO5YRHtv0snf",
   "metadata": {
    "id": "BO5YRHtv0snf"
   },
   "source": [
    "**SUBMITTED BY: MIHIR KUDALE**"
   ]
  },
  {
   "cell_type": "markdown",
   "id": "5316652a",
   "metadata": {
    "id": "5316652a"
   },
   "source": [
    "##### 1. What is the concept of human learning? Please give two examples ?"
   ]
  },
  {
   "cell_type": "markdown",
   "id": "2a6b160c",
   "metadata": {
    "id": "2a6b160c"
   },
   "source": [
    "**Ans:** Human learning is the form of learning which requires higher order mental processes like thinking, reasoning, intelligence, etc.We learn different concepts from childhood. For example: When we see a dog and attach the term 'dog', we learn that the word dog refers to a particular animal.\n",
    "1. Learning through Association - Classical Conditioning.\n",
    "2. Learning through consequences – Operant Conditioning.\n",
    "3. Learning through observation – Modeling/Observational Learning."
   ]
  },
  {
   "cell_type": "markdown",
   "id": "5471defe",
   "metadata": {
    "id": "5471defe"
   },
   "source": [
    "##### 2. What different forms of human learning are there? Are there any machine learning equivalents ?"
   ]
  },
  {
   "cell_type": "markdown",
   "id": "302b445e",
   "metadata": {
    "id": "302b445e"
   },
   "source": [
    "**Ans:** \n",
    " Human learning is the form of learning which requires higher order mental processes like thinking, reasoning, intelligence, etc.We learn different concepts from childhood. For example: When we see a dog and attach the term 'dog', we learn that the word dog refers to a particular animal.\n",
    "\n",
    "  * Learning through Association - Classical Conditioning.\n",
    "  * Learning through consequences – Operant Conditioning.\n",
    "  * Learning through observation – Modeling/Observational Learning.\n",
    "\n",
    "Different Forms of ML are as follows :\n",
    "- Artificial Intelligence Learning Theories. Machine Learning. Reinforcement Learning. Supervised Learning. Unsupervised Learning.\n",
    "- ML equivalents like Linear regression, decision trees, random forest and support vector machines are some commonly used techniques that are actually examples of supervised learning."
   ]
  },
  {
   "cell_type": "markdown",
   "id": "cdfe77b0",
   "metadata": {
    "id": "cdfe77b0"
   },
   "source": [
    "##### 3. What is machine learning, and how does it work? What are the key responsibilities of machine learning ?"
   ]
  },
  {
   "cell_type": "markdown",
   "id": "bc48fb44",
   "metadata": {
    "id": "bc48fb44"
   },
   "source": [
    "**Ans:** Machine learning is a branch of Artificial intelligence (AI) that teaches computers on how to think in a similar way to how humans do, like by Learning and improving upon past experiences. \n",
    "- It works by exploring data and identifying patterns, and involves minimal human intervention.  \n",
    "\n",
    "Roles and responsibilities of a machine learning engineer are:\n",
    "- Designing ML systems. \n",
    "- Researching and implementing ML algorithms and tools. Selecting appropriate data sets. \n",
    "- Picking appropriate data representation methods. Identifying differences in data distribution that affects model performance. Verifying data quality."
   ]
  },
  {
   "cell_type": "markdown",
   "id": "2ff62812",
   "metadata": {
    "id": "2ff62812"
   },
   "source": [
    "##### 4. Define the terms \"penalty\" and \"reward\" in the context of reinforcement learning ?"
   ]
  },
  {
   "cell_type": "markdown",
   "id": "e2d6b87e",
   "metadata": {
    "id": "e2d6b87e"
   },
   "source": [
    "**Ans:** A Reinforcement Learning Algorithm, which may also be referred to as an agent, learns by interacting with its \n",
    "environment. The agent receives rewards by performing correctly and penalties for performing incorrectly. The agent learns without intervention from a human by maximizing its reward and minimizing its penalty. Example: Suppose there is an AI agent present within a maze environment, and his goal is to find the diamond. The agent interacts with the environment by performing some actions, and based on those actions, the state of the agent gets changed, and it also receives a reward or penalty as feedback."
   ]
  },
  {
   "cell_type": "markdown",
   "id": "14bf9267",
   "metadata": {
    "id": "14bf9267"
   },
   "source": [
    "##### 5. Explain the term \"learning as a search\" ?"
   ]
  },
  {
   "cell_type": "markdown",
   "id": "eba77ea1",
   "metadata": {
    "id": "eba77ea1"
   },
   "source": [
    "**Ans:** Learning can be viewed as a search through the space of all sentences in a concept description language for a sentence that best describes the data. Alternatively, it can be viewed as a search through all hypotheses in a hypothesis space. Concept learning can be viewed as the task of searching through a large space of hypotheses implicitly defined by the hypothesis representation. The goal of this search is to find the hypothesis that best fits the training examples."
   ]
  },
  {
   "cell_type": "markdown",
   "id": "e61102f2",
   "metadata": {
    "id": "e61102f2"
   },
   "source": [
    "##### 6. What are the various goals of machine learning? What is the relationship between these and human learning ?"
   ]
  },
  {
   "cell_type": "markdown",
   "id": "5df337a9",
   "metadata": {
    "id": "5df337a9"
   },
   "source": [
    "**Ans:** The Goal of machine learning, closely coupled with the goal of AI, is to achieve a through understanding about the \n",
    "nature of learning process (both human learning and other forms of learning), about the computational aspects of  learning behaviors, and to implant the learning capability in computer systems. he Goals of Machine Learning.\n",
    "The goal of ML, in simples w ords, is to understand the nature of (human and other forms of) learn-\n",
    "ing, and to build learning capability in computers. To b e more specific, there are three aspects of the goals\n",
    "of ML.\n",
    "(1) T o make the computers smarter , more intelligent. The more direct objecti ve i n this aspect is to\n",
    "develop systems (programs) for specific practical learning tasks in application domains.\n",
    "(2) T o dev elop computational models of human learning process and perform computer simulations.\n",
    "The study in this aspect is also called cognitive modeling.\n",
    "(3) T o explore new learning methods and de velop general learning algorithms independent of applica-\n",
    "tions.\n",
    "\n",
    "Humans have the ability to learn, however with the progress in artificial intelligence, machine learning has become a resource which can augment or even replace human learning. Learning does not happen all at once, but it builds upon and is shaped by previous knowledge. Humans acquire knowledge through experience either directly or shared by others. Machines acquire knowledge through experience shared in the form of past data. We have the terms, Knowledge, Skill, and Memory being used to define intelligence. Just because you have good memory, that does not mean you are intelligent."
   ]
  },
  {
   "cell_type": "markdown",
   "id": "85c79f89",
   "metadata": {
    "id": "85c79f89"
   },
   "source": [
    "##### 7. Illustrate the various elements of machine learning using a real-life illustration ?"
   ]
  },
  {
   "cell_type": "markdown",
   "id": "f9b918f1",
   "metadata": {
    "id": "f9b918f1"
   },
   "source": [
    "**Ans:** The Various elements of the the Machine Learning are: \n",
    "1. Data\n",
    "2. Task\n",
    "3. Model\n",
    "4. Loss Function\n",
    "5. Learning Algorithm\n",
    "6. Evaluation"
   ]
  },
  {
   "cell_type": "markdown",
   "id": "8922845a",
   "metadata": {
    "id": "8922845a"
   },
   "source": [
    "##### 8. Provide an example of the abstraction method ?"
   ]
  },
  {
   "cell_type": "markdown",
   "id": "ce0fde8c",
   "metadata": {
    "id": "ce0fde8c"
   },
   "source": [
    "**Ans:** In Machine Learning, Abstraction is supported primarily at the level of modules. This can be justified in two ways: first, Data abstraction is mostly a question of program interfaces and therefore it arises naturally at the point where we have to consider program composition and modules. Abstraction is defined as dealing with ideas instead of events. In the context of AI, that means worrying more about what the right algorithm is and less about how to implement it. Another way of looking at it, for those technically inclined, is as an API call (abstracted) vs. a self implemented function or series of functions."
   ]
  },
  {
   "cell_type": "markdown",
   "id": "56a1dc6c",
   "metadata": {
    "id": "56a1dc6c"
   },
   "source": [
    "##### 9. What is the concept of generalization? What function does it play in the machine learning process ?"
   ]
  },
  {
   "cell_type": "markdown",
   "id": "6cf59bc0",
   "metadata": {
    "id": "6cf59bc0"
   },
   "source": [
    "**Ans:** Generalization refers to your model's ability to adapt properly to new, previously unseen data, drawn from the same \n",
    "distribution as the one used to create the model.\n",
    "\n",
    "An example is when we train a model to classify between dogs and cats. If the model is provided with dogs images dataset with only two breeds, it may obtain a good performance. But, it possibly gets a low classification score when it is tested by other breeds of dogs as well. This issue can result to classify an actual dog image as a cat from the unseen dataset. Therefore, data diversity is very important factor in order to make a good prediction. In the sample above, the model may obtain 85% performance score when it is tested by only two dog breeds and gains 70% if trained by all breeds. However, the first possibly gets a very low score (e.g. 45%) if it is evaluated by an unseen dataset with all breed dogs. This for the latter can be unchanged given than it has been trained by high data diversity including all possible breeds.\n",
    "\n",
    "It should be taken into account that data diversity is not the only point to care in order to have a generalized model. It can be resulted by nature of a machine learning algorithm, or by poor hyper-parameter configuration. In this post we explain all determinant factors. There are some methods (regularization) to apply during model training to ensure about generalization. But before, we explain bias and variance as well as underfitting and overfitting."
   ]
  },
  {
   "cell_type": "markdown",
   "id": "8a161dc8",
   "metadata": {
    "id": "8a161dc8"
   },
   "source": [
    "##### 10. What is classification, exactly? What are the main distinctions between classification and regression ?"
   ]
  },
  {
   "cell_type": "markdown",
   "id": "726773af",
   "metadata": {
    "id": "726773af"
   },
   "source": [
    "**Ans:** In Machine Learning, Classification refers to a predictive modeling problem where a class label is predicted for a given example of input data.Classification is the task of predicting a discrete class label. Whereas Regression is the task of predicting a continuous quantity.\n",
    "\n",
    "Classification predictive modeling is the task of approximating a mapping function (f) from input variables (X) to discrete output variables (y).\n",
    "\n",
    "The output variables are often called labels or categories. The mapping function predicts the class or category for a given observation.\n",
    "\n",
    "For example, an email of text can be classified as belonging to one of two classes: “spam“ and “not spam“.\n",
    "\n",
    "  * A classification problem requires that examples be classified into one of two or more classes.\n",
    "  * A classification can have real-valued or discrete input variables.\n",
    "  * A problem with two classes is often called a two-class or binary classification problem.\n",
    "  * A problem with more than two classes is often called a multi-class classification problem.\n",
    "  * A problem where an example is assigned multiple classes is called a multi-label classification problem.\n",
    "\n",
    "It is common for classification models to predict a continuous value as the probability of a given example belonging to each output class. The probabilities can be interpreted as the likelihood or confidence of a given example belonging to each class. A predicted probability can be converted into a class value by selecting the class label that has the highest probability.\n",
    "\n",
    "Regression predictive modeling is the task of approximating a mapping function (f) from input variables (X) to a continuous output variable (y).\n",
    "\n",
    "A continuous output variable is a real-value, such as an integer or floating point value. These are often quantities, such as amounts and sizes.\n",
    "\n",
    "For example, a house may be predicted to sell for a specific dollar value, perhaps in the range of\n",
    "\n",
    "200,000.\n",
    "\n",
    "  * A regression problem requires the prediction of a quantity.\n",
    "  * A regression can have real valued or discrete input variables.\n",
    "  * A problem with multiple input variables is often called a multivariate regression problem.\n",
    "  * A regression problem where input variables are ordered by time is called a time series forecasting problem.\n",
    "\n",
    "Because a regression predictive model predicts a quantity, the skill of the model must be reported as an error in those predictions."
   ]
  },
  {
   "cell_type": "markdown",
   "id": "6c0f94f9",
   "metadata": {
    "id": "6c0f94f9"
   },
   "source": [
    "##### 11. What is regression, and how does it work? Give an example of a real-world problem that was solved using regression ?"
   ]
  },
  {
   "cell_type": "markdown",
   "id": "baa64321",
   "metadata": {
    "id": "baa64321"
   },
   "source": [
    "**Ans:** Regression is a Supervised Machine Learning technique which is used to predict continuous values. The ultimate goal of a regression algorithm is to plot a best-fit line or a curve between the data. \n",
    "\n",
    "The three main metrics that are used for evaluating the trained regression model are **Variance**, **Bias** and **Error**.\n",
    "\n",
    "A simple linear regression real life example could mean you finding a relationship between the revenue and temperature, with a sample size for revenue as the dependent variable. In case of multiple variable regression, you can find the relationship between temperature, pricing and number of workers to the revenue."
   ]
  },
  {
   "cell_type": "markdown",
   "id": "a476eabf",
   "metadata": {
    "id": "a476eabf"
   },
   "source": [
    "##### 12. Describe the clustering mechanism in detail ?"
   ]
  },
  {
   "cell_type": "markdown",
   "id": "fbc6e41e",
   "metadata": {
    "id": "fbc6e41e"
   },
   "source": [
    "**Ans:** Clustering is the task of dividing the population or data points into a number of groups such that data points in the same groups are more similar to other data points in the same group than those in other groups. In simple words, the aim is to segregate groups with similar traits and assign them into clusters. Clustering is the process of making a group of abstract objects into classes of similar objects.\n",
    "\n",
    "Important Points are mentioned below:\n",
    "\n",
    "A cluster of data objects can be treated as one group.\n",
    "\n",
    "  * While doing cluster analysis, we first partition the set of data into groups based on data similarity and then assign the labels to the groups.\n",
    "\n",
    "  * The main advantage of clustering over classification is that, it is  adaptable to changes and helps single out useful features that distinguish different groups.\n",
    "\n",
    "Applications of Cluster Analysis\n",
    "\n",
    "Clustering analysis is broadly used in many applications such as market research, pattern recognition, data analysis, and image processing.\n",
    "\n",
    "Clustering can also help marketers discover distinct groups in their customer base. And they can characterize their customer groups based on the purchasing patterns.\n",
    "\n",
    "In the field of biology, it can be used to derive plant and animal taxonomies, categorize genes with similar functionalities and gain insight into structures inherent to populations.\n",
    "\n",
    "Clustering also helps in identification of areas of similar land use in an earth observation database. It also helps in the identification of groups of houses in a city according to house type, value, and geographic location.\n",
    "\n",
    "Clustering also helps in classifying documents on the web for information discovery.\n",
    "\n",
    "Clustering is also used in outlier detection applications such as detection of credit card fraud.\n",
    "\n",
    "As a data mining function, cluster analysis serves as a tool to gain insight into the distribution of data to observe characteristics of each cluster.\n",
    "\n",
    "Clustering methods can be classified into the following categories \n",
    "\n",
    "Partitioning Method\n",
    "\n",
    "Hierarchical Method\n",
    "\n",
    "Density-based Method\n",
    "\n",
    "Grid-Based Method\n",
    "\n",
    "Model-Based Method\n",
    "Constraint-based Method\n",
    "\n"
   ]
  },
  {
   "cell_type": "markdown",
   "id": "511ddebd",
   "metadata": {
    "id": "511ddebd"
   },
   "source": [
    "##### 13. Make brief observations on two of the following topics ?\n",
    "1. Machine learning algorithms are used\n",
    "2. Studying under supervision\n",
    "3. Studying without supervision\n",
    "4. Reinforcement learning is a form of learning based on positive reinforcement."
   ]
  },
  {
   "cell_type": "markdown",
   "id": "2983506f",
   "metadata": {
    "id": "2983506f"
   },
   "source": [
    "**Ans:** The brief observations on the following two topics is:\n",
    "\n",
    "**Machine learning algorithms are used**: At its Most basic, Machine Learning uses programmed algorithms that receive and analyse input data to predict output values within an acceptable range. As new data is fed to these algorithms, they learn and optimise their operations to improve performance, developing intelligence over time.\n",
    "\n",
    "**Studying Under Supervision**: In machine learning, there are two important categories- Supervised and Unsupervised learning.Supervised learning, an algorithm learns from a training dataset. We know the correct answers or desired output, the algorithm makes predictions using the given dataset and is corrected by the “supervisor”."
   ]
  },
  {
   "cell_type": "markdown",
   "id": "1b7880ad",
   "metadata": {},
   "source": []
  }
 ],
 "metadata": {
  "colab": {
   "collapsed_sections": [],
   "name": "ML_Assignment_02.ipynb",
   "provenance": []
  },
  "kernelspec": {
   "display_name": "Python 3.9.13 ('base')",
   "language": "python",
   "name": "python3"
  },
  "language_info": {
   "codemirror_mode": {
    "name": "ipython",
    "version": 3
   },
   "file_extension": ".py",
   "mimetype": "text/x-python",
   "name": "python",
   "nbconvert_exporter": "python",
   "pygments_lexer": "ipython3",
   "version": "3.9.13"
  },
  "vscode": {
   "interpreter": {
    "hash": "47c626452ef4ef3e74376d35c302fcf9bdc1b9327d6e04736eb914a557504e89"
   }
  }
 },
 "nbformat": 4,
 "nbformat_minor": 5
}
