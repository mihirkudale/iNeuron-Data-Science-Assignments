{
 "cells": [
  {
   "cell_type": "markdown",
   "id": "b56da49b-1d38-4447-b0dd-e97b61644599",
   "metadata": {},
   "source": [
    "# Assignment 4 Solution"
   ]
  },
  {
   "cell_type": "markdown",
   "id": "d7dfe814-f292-4db2-966d-d68e1ecf3b29",
   "metadata": {},
   "source": [
    "**SUBMITTED BY: MIHIR KUDALE**"
   ]
  },
  {
   "cell_type": "markdown",
   "id": "b99c6dee-83d9-41be-9540-6ca7c940c37f",
   "metadata": {},
   "source": [
    "**1. Can you think of a few applications for a sequence-to-sequence RNN? What about a\n",
    "sequence-to-vector RNN? And a vector-to-sequence RNN?**"
   ]
  },
  {
   "cell_type": "markdown",
   "id": "729987f6-5606-4887-afcc-228b654a450a",
   "metadata": {},
   "source": [
    "**Ans:** Sequence-to-Sequence RNN:\n",
    "1. Machine Translation \n",
    "2. Image Captioning \n",
    "3. Text Summarization\n",
    "\n",
    "Sequence-to-Vector RNN:\n",
    "1. Speech Recognition\n",
    "2. Document Classification\n",
    "3. Sentiment Analysis\n",
    "\n",
    "Vector-to-Sequence RNN:\n",
    "1. Music Generation\n",
    "2. Text Generation\n",
    "3. Generative Art"
   ]
  },
  {
   "cell_type": "markdown",
   "id": "1b78c6cf-5ed4-452e-b8cb-bdd57cb193ff",
   "metadata": {},
   "source": [
    "**2. Why do people use encoder–decoder RNNs rather than plain sequence-to-sequence RNNs\n",
    "for automatic translation?**"
   ]
  },
  {
   "cell_type": "markdown",
   "id": "e4c3d01d-aa6f-40e6-81f3-e20825749c52",
   "metadata": {},
   "source": [
    "**Ans:** Encoder–decoder RNNs are better suited for automatic translation than plain sequence-to-sequence RNNs because they are able to better capture the context of a sentence. An encoder–decoder RNN uses two separate recurrent neural networks, one to encode the source sentence into a fixed-length vector and the other to decode the fixed-length vector into a target sentence. This allows for more accurate translations because the context of the source sentence is better preserved."
   ]
  },
  {
   "cell_type": "markdown",
   "id": "7071a4c5-ea3e-4be0-93a1-441d967c08a1",
   "metadata": {},
   "source": [
    "**3. How could you combine a convolutional neural network with an RNN to classify videos?**"
   ]
  },
  {
   "cell_type": "markdown",
   "id": "fce796d4-3ce4-4ed6-99e2-db13f376b983",
   "metadata": {},
   "source": [
    "**Ans:** A convolutional neural network combined with an RNN can be used to classify videos by first using the convolutional neural network to extract features from each frame of the video and then using the RNN to analyze the extracted features in order to classify the video as belonging to a certain class. The RNN will be able to look at the extracted features over a period of time and detect patterns that would not be visible if only looking at a single frame. The resulting classification should be more accurate than using either technique alone."
   ]
  },
  {
   "cell_type": "markdown",
   "id": "37729efc-f4de-4575-97d7-bed6a4be0081",
   "metadata": {},
   "source": [
    "**4. What are the advantages of building an RNN using dynamic_rnn() rather than static_rnn()?**"
   ]
  },
  {
   "cell_type": "markdown",
   "id": "a7ba37e4-46f1-48b9-988e-0878b494cd2a",
   "metadata": {},
   "source": [
    "**Ans:** 1. Dynamic_rnn() is more computationally efficient than static_rnn() because it allows for variable-length inputs and does not require the user to specify the input sequence length prior to model training.\n",
    "\n",
    "2. Dynamic_rnn() allows for greater flexibility in constructing the model, as it allows for the creation of more complex recurrent architectures such as bidirectional RNNs and stacked RNNs.\n",
    "\n",
    "3. The dynamic_rnn() function also allows for efficient backpropagation through time, allowing for faster training and better performance on time series data."
   ]
  },
  {
   "cell_type": "markdown",
   "id": "0fb55307-6a79-4ac4-957b-49ccdb68cd48",
   "metadata": {},
   "source": [
    "**5. How can you deal with variable-length input sequences? What about variable-length output\n",
    "sequences?**"
   ]
  },
  {
   "cell_type": "markdown",
   "id": "15457cfe-1143-41d6-8993-dd804234d8b1",
   "metadata": {},
   "source": [
    "**Ans:** For variable-length input sequences, one can use padding or truncation. Padding involves adding an appropriate value (e.g. zeros) to the beginning or end of shorter sequences, so that all inputs have the same length. Truncation involves discarding information from the end of longer sequences, so that all inputs have the same length.\n",
    "\n",
    "For variable-length output sequences, one can use a technique called bucketing. Bucketing involves grouping sequences of similar lengths together, and then training a separate model for each group. This allows the model to learn different patterns for each group and thus produce variable-length output sequences."
   ]
  },
  {
   "cell_type": "markdown",
   "id": "6c74860c-788b-48ee-a566-53a07e5e1dcc",
   "metadata": {},
   "source": [
    "**6. What is a common way to distribute training and execution of a deep RNN across multiple\n",
    "GPUs?**"
   ]
  },
  {
   "cell_type": "markdown",
   "id": "2893628f-1f1f-4ca5-bfd3-354340371163",
   "metadata": {},
   "source": [
    "**Ans:** One common way to distribute training and execution of a deep RNN across multiple GPUs is to use a data-parallel approach. This involves splitting the data across different GPUs, and then training the network on each GPU in parallel. The results from all GPUs are then aggregated together and used to update the model parameters. This approach allows for much faster training and execution of deep RNNs, since the workload is distributed across multiple GPUs."
   ]
  },
  {
   "cell_type": "code",
   "execution_count": null,
   "id": "a51ab566-8eee-45b9-ada9-4b7b174b09d6",
   "metadata": {},
   "outputs": [],
   "source": []
  }
 ],
 "metadata": {
  "kernelspec": {
   "display_name": "Python 3 (ipykernel)",
   "language": "python",
   "name": "python3"
  },
  "language_info": {
   "codemirror_mode": {
    "name": "ipython",
    "version": 3
   },
   "file_extension": ".py",
   "mimetype": "text/x-python",
   "name": "python",
   "nbconvert_exporter": "python",
   "pygments_lexer": "ipython3",
   "version": "3.9.15"
  }
 },
 "nbformat": 4,
 "nbformat_minor": 5
}
